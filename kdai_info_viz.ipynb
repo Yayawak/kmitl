{
 "cells": [
  {
   "cell_type": "code",
   "execution_count": 4,
   "id": "bb3ac28c-4948-4587-9929-2a211460146e",
   "metadata": {},
   "outputs": [],
   "source": [
    "# !pip install datadotworld"
   ]
  },
  {
   "cell_type": "code",
   "execution_count": 6,
   "id": "ee41a01d-4d94-40c2-b086-240acb08cc02",
   "metadata": {},
   "outputs": [],
   "source": [
    "# import datadotworld as dw\n",
    "# results = dw.query(\n",
    "# \t'jonloyens/intermediate-data-world', \n",
    "#     'SELECT * FROM fatal_police_shootings_data')\n",
    "# results_df = results.dataframe\n"
   ]
  },
  {
   "cell_type": "code",
   "execution_count": 8,
   "id": "1893412c-bf3c-480c-9db2-d145d7823c29",
   "metadata": {},
   "outputs": [],
   "source": [
    "import pandas as pd\n",
    "import numpy as np\n",
    "import seaborn as sn\n",
    "import matplotlib.pyplot as plt"
   ]
  },
  {
   "cell_type": "code",
   "execution_count": 9,
   "id": "e131a883-deba-44bd-bece-6eb36a665163",
   "metadata": {},
   "outputs": [
    {
     "name": "stdout",
     "output_type": "stream",
     "text": [
      "Requirement already satisfied: xlrd in /Users/rio/anaconda3/lib/python3.9/site-packages (2.0.1)\n"
     ]
    }
   ],
   "source": [
    "!pip install xlrd"
   ]
  },
  {
   "cell_type": "code",
   "execution_count": 21,
   "id": "effcd0d2-010e-4f72-92b5-c69b7de5ff4f",
   "metadata": {},
   "outputs": [
    {
     "data": {
      "text/html": [
       "<div>\n",
       "<style scoped>\n",
       "    .dataframe tbody tr th:only-of-type {\n",
       "        vertical-align: middle;\n",
       "    }\n",
       "\n",
       "    .dataframe tbody tr th {\n",
       "        vertical-align: top;\n",
       "    }\n",
       "\n",
       "    .dataframe thead th {\n",
       "        text-align: right;\n",
       "    }\n",
       "</style>\n",
       "<table border=\"1\" class=\"dataframe\">\n",
       "  <thead>\n",
       "    <tr style=\"text-align: right;\">\n",
       "      <th></th>\n",
       "      <th>Question</th>\n",
       "      <th>Segment Type</th>\n",
       "      <th>Segment Description</th>\n",
       "      <th>Answer</th>\n",
       "      <th>Count</th>\n",
       "      <th>Percentage</th>\n",
       "    </tr>\n",
       "  </thead>\n",
       "  <tbody>\n",
       "    <tr>\n",
       "      <th>0</th>\n",
       "      <td>Have you ever met up with someone off tinder?</td>\n",
       "      <td>Mobile</td>\n",
       "      <td>Mobile respondents</td>\n",
       "      <td>Yes</td>\n",
       "      <td>797</td>\n",
       "      <td>0.207</td>\n",
       "    </tr>\n",
       "    <tr>\n",
       "      <th>1</th>\n",
       "      <td>Have you ever met up with someone off tinder?</td>\n",
       "      <td>Mobile</td>\n",
       "      <td>Mobile respondents</td>\n",
       "      <td>No</td>\n",
       "      <td>1969</td>\n",
       "      <td>0.511</td>\n",
       "    </tr>\n",
       "    <tr>\n",
       "      <th>2</th>\n",
       "      <td>Have you ever met up with someone off tinder?</td>\n",
       "      <td>Mobile</td>\n",
       "      <td>Mobile respondents</td>\n",
       "      <td>I don't use Tinder</td>\n",
       "      <td>1090</td>\n",
       "      <td>0.283</td>\n",
       "    </tr>\n",
       "    <tr>\n",
       "      <th>3</th>\n",
       "      <td>Have you ever met up with someone off tinder?</td>\n",
       "      <td>Web</td>\n",
       "      <td>Web-based respondents</td>\n",
       "      <td>Yes</td>\n",
       "      <td>0</td>\n",
       "      <td>0.000</td>\n",
       "    </tr>\n",
       "    <tr>\n",
       "      <th>4</th>\n",
       "      <td>Have you ever met up with someone off tinder?</td>\n",
       "      <td>Web</td>\n",
       "      <td>Web-based respondents</td>\n",
       "      <td>No</td>\n",
       "      <td>0</td>\n",
       "      <td>0.000</td>\n",
       "    </tr>\n",
       "  </tbody>\n",
       "</table>\n",
       "</div>"
      ],
      "text/plain": [
       "                                        Question Segment Type  \\\n",
       "0  Have you ever met up with someone off tinder?       Mobile   \n",
       "1  Have you ever met up with someone off tinder?       Mobile   \n",
       "2  Have you ever met up with someone off tinder?       Mobile   \n",
       "3  Have you ever met up with someone off tinder?          Web   \n",
       "4  Have you ever met up with someone off tinder?          Web   \n",
       "\n",
       "     Segment Description              Answer  Count  Percentage  \n",
       "0     Mobile respondents                 Yes    797       0.207  \n",
       "1     Mobile respondents                  No   1969       0.511  \n",
       "2     Mobile respondents  I don't use Tinder   1090       0.283  \n",
       "3  Web-based respondents                 Yes      0       0.000  \n",
       "4  Web-based respondents                  No      0       0.000  "
      ]
     },
     "execution_count": 21,
     "metadata": {},
     "output_type": "execute_result"
    }
   ],
   "source": [
    "df = pd.read_csv(\"../Documents/excel_documents/Tinder Millennial Match Rate Dataset.csv\")\n",
    "# print(df)\n",
    "df.head(5)\n",
    "# df"
   ]
  },
  {
   "cell_type": "code",
   "execution_count": 17,
   "id": "751466ce-e5c5-4a3a-ba1f-63ad6c551270",
   "metadata": {},
   "outputs": [
    {
     "data": {
      "text/plain": [
       "<seaborn.axisgrid.PairGrid at 0x7f82415c8670>"
      ]
     },
     "execution_count": 17,
     "metadata": {},
     "output_type": "execute_result"
    },
    {
     "data": {
      "image/png": "[encoded data removed]",
      "text/plain": [
       "<Figure size 360x360 with 6 Axes>"
      ]
     },
     "metadata": {
      "needs_background": "light"
     },
     "output_type": "display_data"
    }
   ],
   "source": [
    "# sn.histplot(data=df, y=\"Count\")\n",
    "sn.pairplot(data=df)"
   ]
  },
  {
   "cell_type": "code",
   "execution_count": 18,
   "id": "b1ec7e9e-f3fe-4ab3-a50e-263dad8df44c",
   "metadata": {},
   "outputs": [
    {
     "data": {
      "text/plain": [
       "array(['Have you ever met up with someone off tinder?'], dtype=object)"
      ]
     },
     "execution_count": 18,
     "metadata": {},
     "output_type": "execute_result"
    }
   ],
   "source": [
    "pd.unique(df[\"Question\"])"
   ]
  },
  {
   "cell_type": "code",
   "execution_count": 22,
   "id": "2d9e61b2-18c3-4d11-b6d3-da35808dff3f",
   "metadata": {},
   "outputs": [
    {
     "data": {
      "text/plain": [
       "array(['Yes', 'No', \"I don't use Tinder\"], dtype=object)"
      ]
     },
     "execution_count": 22,
     "metadata": {},
     "output_type": "execute_result"
    }
   ],
   "source": [
    "pd.unique(df[\"Answer\"])"
   ]
  },
  {
   "cell_type": "code",
   "execution_count": 26,
   "id": "c8431000-d28a-4216-ac79-c890be38c79f",
   "metadata": {},
   "outputs": [
    {
     "data": {
      "text/plain": [
       "Index(['Question', 'Segment Type', 'Segment Description', 'Answer', 'Count',\n",
       "       'Percentage'],\n",
       "      dtype='object')"
      ]
     },
     "execution_count": 26,
     "metadata": {},
     "output_type": "execute_result"
    }
   ],
   "source": [
    "df.columns\n",
    "# plt.plot(df, df[\"Count\"])"
   ]
  },
  {
   "cell_type": "code",
   "execution_count": 29,
   "id": "d341c14c-fa59-4822-8c03-be97fecb1099",
   "metadata": {},
   "outputs": [
    {
     "data": {
      "text/plain": [
       "<pandas.core.groupby.generic.DataFrameGroupBy object at 0x7f8216363d00>"
      ]
     },
     "execution_count": 29,
     "metadata": {},
     "output_type": "execute_result"
    }
   ],
   "source": [
    "df.groupby(\"Answer\")"
   ]
  },
  {
   "cell_type": "code",
   "execution_count": 33,
   "id": "3d8895c1-0ee1-4daa-bbed-ee092ea1b5ad",
   "metadata": {},
   "outputs": [
    {
     "name": "stdout",
     "output_type": "stream",
     "text": [
      "['Have you ever met up with someone off tinder?']\n"
     ]
    },
    {
     "data": {
      "text/html": [
       "<div>\n",
       "<style scoped>\n",
       "    .dataframe tbody tr th:only-of-type {\n",
       "        vertical-align: middle;\n",
       "    }\n",
       "\n",
       "    .dataframe tbody tr th {\n",
       "        vertical-align: top;\n",
       "    }\n",
       "\n",
       "    .dataframe thead th {\n",
       "        text-align: right;\n",
       "    }\n",
       "</style>\n",
       "<table border=\"1\" class=\"dataframe\">\n",
       "  <thead>\n",
       "    <tr style=\"text-align: right;\">\n",
       "      <th></th>\n",
       "      <th>Count</th>\n",
       "      <th>Percentage</th>\n",
       "    </tr>\n",
       "    <tr>\n",
       "      <th>Answer</th>\n",
       "      <th></th>\n",
       "      <th></th>\n",
       "    </tr>\n",
       "  </thead>\n",
       "  <tbody>\n",
       "    <tr>\n",
       "      <th>I don't use Tinder</th>\n",
       "      <td>18.410596</td>\n",
       "      <td>0.228305</td>\n",
       "    </tr>\n",
       "    <tr>\n",
       "      <th>No</th>\n",
       "      <td>34.615894</td>\n",
       "      <td>0.517305</td>\n",
       "    </tr>\n",
       "    <tr>\n",
       "      <th>Yes</th>\n",
       "      <td>14.092715</td>\n",
       "      <td>0.247815</td>\n",
       "    </tr>\n",
       "  </tbody>\n",
       "</table>\n",
       "</div>"
      ],
      "text/plain": [
       "                        Count  Percentage\n",
       "Answer                                   \n",
       "I don't use Tinder  18.410596    0.228305\n",
       "No                  34.615894    0.517305\n",
       "Yes                 14.092715    0.247815"
      ]
     },
     "execution_count": 33,
     "metadata": {},
     "output_type": "execute_result"
    }
   ],
   "source": [
    "print(pd.unique(df[\"Question\"]))\n",
    "pvt = df.pivot_table(index=[\"Answer\"])\n",
    "pvt"
   ]
  },
  {
   "cell_type": "code",
   "execution_count": 34,
   "id": "0659bd7b-a3a2-402c-8b2a-4f4c8ced2956",
   "metadata": {},
   "outputs": [
    {
     "data": {
      "text/html": [
       "<div>\n",
       "<style scoped>\n",
       "    .dataframe tbody tr th:only-of-type {\n",
       "        vertical-align: middle;\n",
       "    }\n",
       "\n",
       "    .dataframe tbody tr th {\n",
       "        vertical-align: top;\n",
       "    }\n",
       "\n",
       "    .dataframe thead th {\n",
       "        text-align: right;\n",
       "    }\n",
       "</style>\n",
       "<table border=\"1\" class=\"dataframe\">\n",
       "  <thead>\n",
       "    <tr style=\"text-align: right;\">\n",
       "      <th></th>\n",
       "      <th>Question</th>\n",
       "      <th>Segment Type</th>\n",
       "      <th>Segment Description</th>\n",
       "      <th>Answer</th>\n",
       "      <th>Count</th>\n",
       "      <th>Percentage</th>\n",
       "    </tr>\n",
       "  </thead>\n",
       "  <tbody>\n",
       "    <tr>\n",
       "      <th>0</th>\n",
       "      <td>Have you ever met up with someone off tinder?</td>\n",
       "      <td>Mobile</td>\n",
       "      <td>Mobile respondents</td>\n",
       "      <td>Yes</td>\n",
       "      <td>797</td>\n",
       "      <td>0.207</td>\n",
       "    </tr>\n",
       "    <tr>\n",
       "      <th>1</th>\n",
       "      <td>Have you ever met up with someone off tinder?</td>\n",
       "      <td>Mobile</td>\n",
       "      <td>Mobile respondents</td>\n",
       "      <td>No</td>\n",
       "      <td>1969</td>\n",
       "      <td>0.511</td>\n",
       "    </tr>\n",
       "  </tbody>\n",
       "</table>\n",
       "</div>"
      ],
      "text/plain": [
       "                                        Question Segment Type  \\\n",
       "0  Have you ever met up with someone off tinder?       Mobile   \n",
       "1  Have you ever met up with someone off tinder?       Mobile   \n",
       "\n",
       "  Segment Description Answer  Count  Percentage  \n",
       "0  Mobile respondents    Yes    797       0.207  \n",
       "1  Mobile respondents     No   1969       0.511  "
      ]
     },
     "execution_count": 34,
     "metadata": {},
     "output_type": "execute_result"
    }
   ],
   "source": [
    "df.head(2)"
   ]
  },
  {
   "cell_type": "code",
   "execution_count": 71,
   "id": "9a53b9c9-a889-44af-9597-517f950b53d7",
   "metadata": {},
   "outputs": [
    {
     "data": {
      "text/html": [
       "<div>\n",
       "<style scoped>\n",
       "    .dataframe tbody tr th:only-of-type {\n",
       "        vertical-align: middle;\n",
       "    }\n",
       "\n",
       "    .dataframe tbody tr th {\n",
       "        vertical-align: top;\n",
       "    }\n",
       "\n",
       "    .dataframe thead th {\n",
       "        text-align: right;\n",
       "    }\n",
       "</style>\n",
       "<table border=\"1\" class=\"dataframe\">\n",
       "  <thead>\n",
       "    <tr style=\"text-align: right;\">\n",
       "      <th></th>\n",
       "      <th></th>\n",
       "      <th></th>\n",
       "      <th>Count</th>\n",
       "    </tr>\n",
       "    <tr>\n",
       "      <th>Question</th>\n",
       "      <th>Segment Type</th>\n",
       "      <th>Answer</th>\n",
       "      <th></th>\n",
       "    </tr>\n",
       "  </thead>\n",
       "  <tbody>\n",
       "    <tr>\n",
       "      <th rowspan=\"12\" valign=\"top\">Have you ever met up with someone off tinder?</th>\n",
       "      <th rowspan=\"3\" valign=\"top\">Gender</th>\n",
       "      <th>I don't use Tinder</th>\n",
       "      <td>1090</td>\n",
       "    </tr>\n",
       "    <tr>\n",
       "      <th>No</th>\n",
       "      <td>1969</td>\n",
       "    </tr>\n",
       "    <tr>\n",
       "      <th>Yes</th>\n",
       "      <td>797</td>\n",
       "    </tr>\n",
       "    <tr>\n",
       "      <th rowspan=\"3\" valign=\"top\">Mobile</th>\n",
       "      <th>I don't use Tinder</th>\n",
       "      <td>1090</td>\n",
       "    </tr>\n",
       "    <tr>\n",
       "      <th>No</th>\n",
       "      <td>1969</td>\n",
       "    </tr>\n",
       "    <tr>\n",
       "      <th>Yes</th>\n",
       "      <td>797</td>\n",
       "    </tr>\n",
       "    <tr>\n",
       "      <th rowspan=\"3\" valign=\"top\">University</th>\n",
       "      <th>I don't use Tinder</th>\n",
       "      <td>600</td>\n",
       "    </tr>\n",
       "    <tr>\n",
       "      <th>No</th>\n",
       "      <td>1289</td>\n",
       "    </tr>\n",
       "    <tr>\n",
       "      <th>Yes</th>\n",
       "      <td>534</td>\n",
       "    </tr>\n",
       "    <tr>\n",
       "      <th rowspan=\"3\" valign=\"top\">Web</th>\n",
       "      <th>I don't use Tinder</th>\n",
       "      <td>0</td>\n",
       "    </tr>\n",
       "    <tr>\n",
       "      <th>No</th>\n",
       "      <td>0</td>\n",
       "    </tr>\n",
       "    <tr>\n",
       "      <th>Yes</th>\n",
       "      <td>0</td>\n",
       "    </tr>\n",
       "  </tbody>\n",
       "</table>\n",
       "</div>"
      ],
      "text/plain": [
       "                                                                               Count\n",
       "Question                                      Segment Type Answer                   \n",
       "Have you ever met up with someone off tinder? Gender       I don't use Tinder   1090\n",
       "                                                           No                   1969\n",
       "                                                           Yes                   797\n",
       "                                              Mobile       I don't use Tinder   1090\n",
       "                                                           No                   1969\n",
       "                                                           Yes                   797\n",
       "                                              University   I don't use Tinder    600\n",
       "                                                           No                   1289\n",
       "                                                           Yes                   534\n",
       "                                              Web          I don't use Tinder      0\n",
       "                                                           No                      0\n",
       "                                                           Yes                     0"
      ]
     },
     "execution_count": 71,
     "metadata": {},
     "output_type": "execute_result"
    }
   ],
   "source": [
    "df.pivot_table(index=[\"Question\", \"Segment Type\", \"Answer\"]\n",
    "              ,values=[\"Count\"],\n",
    "              aggfunc=\"sum\"\n",
    "              # aggfunc=[\"count\", \"sum\"]\n",
    "               # aggfunc=\"count\"\n",
    "              )"
   ]
  },
  {
   "cell_type": "code",
   "execution_count": 74,
   "id": "a518b4c9-8ce0-4cd4-bd55-85edffd40c94",
   "metadata": {},
   "outputs": [
    {
     "data": {
      "text/html": [
       "<div>\n",
       "<style scoped>\n",
       "    .dataframe tbody tr th:only-of-type {\n",
       "        vertical-align: middle;\n",
       "    }\n",
       "\n",
       "    .dataframe tbody tr th {\n",
       "        vertical-align: top;\n",
       "    }\n",
       "\n",
       "    .dataframe thead th {\n",
       "        text-align: right;\n",
       "    }\n",
       "</style>\n",
       "<table border=\"1\" class=\"dataframe\">\n",
       "  <thead>\n",
       "    <tr style=\"text-align: right;\">\n",
       "      <th></th>\n",
       "      <th></th>\n",
       "      <th>Count</th>\n",
       "    </tr>\n",
       "    <tr>\n",
       "      <th>Segment Type</th>\n",
       "      <th>Answer</th>\n",
       "      <th></th>\n",
       "    </tr>\n",
       "  </thead>\n",
       "  <tbody>\n",
       "    <tr>\n",
       "      <th rowspan=\"3\" valign=\"top\">Gender</th>\n",
       "      <th>I don't use Tinder</th>\n",
       "      <td>1090</td>\n",
       "    </tr>\n",
       "    <tr>\n",
       "      <th>No</th>\n",
       "      <td>1969</td>\n",
       "    </tr>\n",
       "    <tr>\n",
       "      <th>Yes</th>\n",
       "      <td>797</td>\n",
       "    </tr>\n",
       "    <tr>\n",
       "      <th rowspan=\"3\" valign=\"top\">Mobile</th>\n",
       "      <th>I don't use Tinder</th>\n",
       "      <td>1090</td>\n",
       "    </tr>\n",
       "    <tr>\n",
       "      <th>No</th>\n",
       "      <td>1969</td>\n",
       "    </tr>\n",
       "    <tr>\n",
       "      <th>Yes</th>\n",
       "      <td>797</td>\n",
       "    </tr>\n",
       "    <tr>\n",
       "      <th rowspan=\"3\" valign=\"top\">University</th>\n",
       "      <th>I don't use Tinder</th>\n",
       "      <td>600</td>\n",
       "    </tr>\n",
       "    <tr>\n",
       "      <th>No</th>\n",
       "      <td>1289</td>\n",
       "    </tr>\n",
       "    <tr>\n",
       "      <th>Yes</th>\n",
       "      <td>534</td>\n",
       "    </tr>\n",
       "    <tr>\n",
       "      <th rowspan=\"3\" valign=\"top\">Web</th>\n",
       "      <th>I don't use Tinder</th>\n",
       "      <td>0</td>\n",
       "    </tr>\n",
       "    <tr>\n",
       "      <th>No</th>\n",
       "      <td>0</td>\n",
       "    </tr>\n",
       "    <tr>\n",
       "      <th>Yes</th>\n",
       "      <td>0</td>\n",
       "    </tr>\n",
       "  </tbody>\n",
       "</table>\n",
       "</div>"
      ],
      "text/plain": [
       "                                 Count\n",
       "Segment Type Answer                   \n",
       "Gender       I don't use Tinder   1090\n",
       "             No                   1969\n",
       "             Yes                   797\n",
       "Mobile       I don't use Tinder   1090\n",
       "             No                   1969\n",
       "             Yes                   797\n",
       "University   I don't use Tinder    600\n",
       "             No                   1289\n",
       "             Yes                   534\n",
       "Web          I don't use Tinder      0\n",
       "             No                      0\n",
       "             Yes                     0"
      ]
     },
     "execution_count": 74,
     "metadata": {},
     "output_type": "execute_result"
    }
   ],
   "source": [
    "df_segment_ans = df.pivot_table(index=[\"Segment Type\", \"Answer\"],\n",
    "              values=\"Count\",\n",
    "                aggfunc=\"sum\"\n",
    "                               )\n",
    "df_segment_ans"
   ]
  },
  {
   "cell_type": "code",
   "execution_count": 75,
   "id": "eb738ca0-5146-4be5-b0a5-08d55b809ffc",
   "metadata": {},
   "outputs": [],
   "source": [
    "# df_segment_as\n",
    "# sn.lineplot(data=df_segment_ans)\n",
    "# plt.plot(df_segment_ans)"
   ]
  },
  {
   "cell_type": "code",
   "execution_count": 76,
   "id": "1e2e1b91-8a80-4f92-b960-7ebe876c5524",
   "metadata": {},
   "outputs": [
    {
     "data": {
      "text/plain": [
       "<AxesSubplot:>"
      ]
     },
     "execution_count": 76,
     "metadata": {},
     "output_type": "execute_result"
    },
    {
     "data": {
      "image/png": "[encoded data removed]",
      "text/plain": [
       "<Figure size 432x288 with 1 Axes>"
      ]
     },
     "metadata": {
      "needs_background": "light"
     },
     "output_type": "display_data"
    }
   ],
   "source": [
    "df['Count'].plot()"
   ]
  },
  {
   "cell_type": "code",
   "execution_count": 77,
   "id": "23beadbc-8649-4c36-85ec-0a18aee2d1b8",
   "metadata": {},
   "outputs": [
    {
     "data": {
      "text/plain": [
       "array([[<AxesSubplot:title={'center':'Count'}>]], dtype=object)"
      ]
     },
     "execution_count": 77,
     "metadata": {},
     "output_type": "execute_result"
    },
    {
     "data": {
      "image/png": "[encoded data removed]",
      "text/plain": [
       "<Figure size 432x288 with 1 Axes>"
      ]
     },
     "metadata": {
      "needs_background": "light"
     },
     "output_type": "display_data"
    }
   ],
   "source": [
    "df_segment_ans.hist()"
   ]
  },
  {
   "cell_type": "code",
   "execution_count": 78,
   "id": "e8362aaa-68ca-4e27-aeb9-0a271a8edee9",
   "metadata": {},
   "outputs": [
    {
     "data": {
      "image/png": "[encoded data removed]",
      "text/plain": [
       "<Figure size 432x288 with 1 Axes>"
      ]
     },
     "metadata": {
      "needs_background": "light"
     },
     "output_type": "display_data"
    }
   ],
   "source": [
    "df_segment_ans.plot.bar()\n",
    "# plt.xticks(rotation=90)\n",
    "plt.show()"
   ]
  },
  {
   "cell_type": "code",
   "execution_count": null,
   "id": "a4d8840d-b820-44fa-b30f-8a57bb3ffe90",
   "metadata": {},
   "outputs": [],
   "source": []
  },
  {
   "cell_type": "code",
   "execution_count": null,
   "id": "a789b4d9-7566-41f7-b7a1-33892d2b874b",
   "metadata": {},
   "outputs": [],
   "source": []
  }
 ],
 "metadata": {
  "kernelspec": {
   "display_name": "Python 3 (ipykernel)",
   "language": "python",
   "name": "python3"
  },
  "language_info": {
   "codemirror_mode": {
    "name": "ipython",
    "version": 3
   },
   "file_extension": ".py",
   "mimetype": "text/x-python",
   "name": "python",
   "nbconvert_exporter": "python",
   "pygments_lexer": "ipython3",
   "version": "3.9.12"
  }
 },
 "nbformat": 4,
 "nbformat_minor": 5
}
