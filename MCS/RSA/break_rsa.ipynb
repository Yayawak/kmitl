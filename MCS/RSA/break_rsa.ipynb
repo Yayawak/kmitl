{
 "cells": [
  {
   "cell_type": "code",
   "execution_count": 1,
   "id": "6b5d3ab3-afb9-46ec-8b45-53f9e874bae0",
   "metadata": {},
   "outputs": [],
   "source": [
    "n = 173939"
   ]
  },
  {
   "cell_type": "code",
   "execution_count": 2,
   "id": "cb2205d4-225a-46b9-ba9a-0cc58bcd5ad6",
   "metadata": {},
   "outputs": [],
   "source": [
    "E = 419"
   ]
  },
  {
   "cell_type": "code",
   "execution_count": 3,
   "id": "88033706-31e5-4763-857f-bdb026a85466",
   "metadata": {},
   "outputs": [],
   "source": [
    "def is_prime(n):\n",
    "    if (n == 2): return True\n",
    "    if (n % 2 == 0): return False\n",
    "    for i in range(3, n, 2):\n",
    "        if (n % i == 0): return False\n",
    "    return True"
   ]
  },
  {
   "cell_type": "code",
   "execution_count": 4,
   "id": "aedb433a-c4e1-4fc7-904c-9502147b77dc",
   "metadata": {},
   "outputs": [
    {
     "name": "stdout",
     "output_type": "stream",
     "text": [
      "1 is prime\n",
      "2 is prime\n",
      "3 is prime\n",
      "5 is prime\n",
      "7 is prime\n",
      "11 is prime\n",
      "13 is prime\n",
      "17 is prime\n",
      "19 is prime\n",
      "23 is prime\n",
      "29 is prime\n"
     ]
    }
   ],
   "source": [
    "for i in range(30):\n",
    "    if is_prime(i):\n",
    "        print(f\"{i} is prime\")"
   ]
  },
  {
   "cell_type": "code",
   "execution_count": 5,
   "id": "b56f9966-9e25-4658-8582-6c421be52b67",
   "metadata": {},
   "outputs": [
    {
     "data": {
      "text/plain": [
       "'65'"
      ]
     },
     "execution_count": 5,
     "metadata": {},
     "output_type": "execute_result"
    }
   ],
   "source": [
    "ascii(65)"
   ]
  },
  {
   "cell_type": "code",
   "execution_count": 6,
   "id": "84f32e7f-de9d-4bdf-9324-87e5ed17d942",
   "metadata": {},
   "outputs": [
    {
     "data": {
      "text/plain": [
       "'65'"
      ]
     },
     "execution_count": 6,
     "metadata": {},
     "output_type": "execute_result"
    }
   ],
   "source": [
    "ascii(65)"
   ]
  },
  {
   "cell_type": "code",
   "execution_count": 7,
   "id": "69fd7c1c-2577-47ce-9142-b5be7cff89e7",
   "metadata": {},
   "outputs": [
    {
     "data": {
      "text/plain": [
       "\"'a'\""
      ]
     },
     "execution_count": 7,
     "metadata": {},
     "output_type": "execute_result"
    }
   ],
   "source": [
    "repr('a')"
   ]
  },
  {
   "cell_type": "code",
   "execution_count": 17,
   "id": "cd0d8f4e-6940-43ec-8d17-06e31072cd84",
   "metadata": {},
   "outputs": [],
   "source": [
    "def find_factor_special(n):\n",
    "        for i in range(2, n):\n",
    "            # if (n % i == 0 and is_prime(i) and is_prime(int(n / i))):\n",
    "            if (n % i == 0 and is_prime(i) and is_prime(n // i)):\n",
    "                return i"
   ]
  },
  {
   "cell_type": "code",
   "execution_count": 18,
   "id": "648e66cb-607e-41e5-89dc-890c28a37267",
   "metadata": {},
   "outputs": [
    {
     "name": "stdout",
     "output_type": "stream",
     "text": [
      "281\n"
     ]
    }
   ],
   "source": [
    "print(find_factor_special(n))"
   ]
  },
  {
   "cell_type": "code",
   "execution_count": 19,
   "id": "e34a88f8-225c-4fd2-a445-7868e791f0c6",
   "metadata": {},
   "outputs": [
    {
     "data": {
      "text/plain": [
       "281"
      ]
     },
     "execution_count": 19,
     "metadata": {},
     "output_type": "execute_result"
    }
   ],
   "source": [
    "p = find_factor_special(n)\n",
    "p"
   ]
  },
  {
   "cell_type": "code",
   "execution_count": 21,
   "id": "2ee2a94a-921c-493d-b514-9a81764edb52",
   "metadata": {},
   "outputs": [
    {
     "data": {
      "text/plain": [
       "619"
      ]
     },
     "execution_count": 21,
     "metadata": {},
     "output_type": "execute_result"
    }
   ],
   "source": [
    "n // p"
   ]
  },
  {
   "cell_type": "code",
   "execution_count": 22,
   "id": "c4a45f10-5ceb-4428-83b6-c93926c4f5a8",
   "metadata": {},
   "outputs": [
    {
     "data": {
      "text/plain": [
       "619"
      ]
     },
     "execution_count": 22,
     "metadata": {},
     "output_type": "execute_result"
    }
   ],
   "source": [
    "q = int(n / p)\n",
    "q"
   ]
  },
  {
   "cell_type": "code",
   "execution_count": 23,
   "id": "4a0495c2-fe90-4b9c-8805-8030d8390bed",
   "metadata": {},
   "outputs": [
    {
     "data": {
      "text/plain": [
       "173939"
      ]
     },
     "execution_count": 23,
     "metadata": {},
     "output_type": "execute_result"
    }
   ],
   "source": [
    "p * q"
   ]
  },
  {
   "cell_type": "code",
   "execution_count": 24,
   "id": "29f93e00-cab2-4d7b-8ac0-c4d809bb3e5c",
   "metadata": {},
   "outputs": [
    {
     "data": {
      "text/plain": [
       "173040"
      ]
     },
     "execution_count": 24,
     "metadata": {},
     "output_type": "execute_result"
    }
   ],
   "source": [
    "phi = (p - 1) * (q - 1)\n",
    "phi"
   ]
  },
  {
   "cell_type": "code",
   "execution_count": 28,
   "id": "1f21e980-a038-460a-8187-1fe9053abb37",
   "metadata": {},
   "outputs": [
    {
     "name": "stdout",
     "output_type": "stream",
     "text": [
      "Factor of 1 is None\n",
      "Factor of 2 is None\n",
      "Factor of 3 is None\n",
      "Factor of 5 is None\n",
      "Factor of 7 is None\n",
      "Factor of 11 is None\n",
      "Factor of 13 is None\n",
      "Factor of 17 is None\n",
      "Factor of 19 is None\n"
     ]
    }
   ],
   "source": [
    "for i in range(20):\n",
    "    if is_prime(i):\n",
    "        f = find_factor_special(i)\n",
    "        print(f\"Factor of {i} is {f}\")"
   ]
  },
  {
   "cell_type": "code",
   "execution_count": 29,
   "id": "8ea5de48-199d-435b-832d-3553ed73d259",
   "metadata": {},
   "outputs": [
    {
     "data": {
      "text/plain": [
       "(173040, 419)"
      ]
     },
     "execution_count": 29,
     "metadata": {},
     "output_type": "execute_result"
    }
   ],
   "source": [
    "phi, E"
   ]
  },
  {
   "cell_type": "code",
   "execution_count": 30,
   "id": "80705e46-84f3-4dcb-a5c9-b64faf049a6a",
   "metadata": {},
   "outputs": [],
   "source": [
    "def find_D(phi, E):\n",
    "    for i in range(1, phi):\n",
    "        # if (((i * E) - 1) % phi == 0):\n",
    "        if (((i * E)) % phi == 1):\n",
    "            return i"
   ]
  },
  {
   "cell_type": "code",
   "execution_count": 31,
   "id": "89da29d0-0fb7-4377-9677-851f0e79a409",
   "metadata": {},
   "outputs": [
    {
     "data": {
      "text/plain": [
       "24779"
      ]
     },
     "execution_count": 31,
     "metadata": {},
     "output_type": "execute_result"
    }
   ],
   "source": [
    "D = find_D(phi, E)\n",
    "D"
   ]
  },
  {
   "cell_type": "code",
   "execution_count": 34,
   "id": "dd00d548-01d7-4ecf-a558-12b5c05dcc68",
   "metadata": {},
   "outputs": [],
   "source": [
    "# gcd"
   ]
  },
  {
   "cell_type": "code",
   "execution_count": 40,
   "id": "2e257f0a-e6f9-4c21-a36b-72a1702bb8c6",
   "metadata": {},
   "outputs": [],
   "source": [
    "Cipher_string_number = [22015, 79396, 72281, 44319, 63140, 96864, 25396, 73635, 148871, 62908, 168859, 44319, 15713, 96864, 70703, 44319, 172672, 72281, 25396, 151324, 72281, 168793, 70703, 7670, 44319, 65711, 43567, 70703, 44319, 109499, 70703, 62908, 168859, 44319, 70703, 79396, 72281, 25396, 72281, 44319, 151324, 96864, 25396, 44319, 43567, 168859, 44319, 70703, 25396, 154341, 109499, 15713, 145588, 44319, 70703, 79396, 72281, 44319, 65711, 72281, 168859, 70703, 44319, 109499, 70703, 44319, 168793, 65557, 15713, 87617, 44319, 22015, 79396, 65557, 70703, 62908, 168859, 44319, 63140, 79396, 65557, 70703, 44319, 135326, 65557, 52568, 72281, 168859, 44319, 109499, 70703, 44319, 168859, 96864, 44319, 148871, 65557, 135326, 15713, 44319, 65711, 72281, 65557, 43567, 70703, 109499, 151324, 43567, 73635, 87617] #Ciphea_string_number"
   ]
  },
  {
   "cell_type": "code",
   "execution_count": null,
   "id": "66bb9909-2396-4b7c-a7d3-32de550f1464",
   "metadata": {},
   "outputs": [],
   "source": []
  },
  {
   "cell_type": "code",
   "execution_count": 41,
   "id": "7efe52cb-2087-40a5-a188-473c7dcbac24",
   "metadata": {},
   "outputs": [
    {
     "data": {
      "text/plain": [
       "(173939, 419)"
      ]
     },
     "execution_count": 41,
     "metadata": {},
     "output_type": "execute_result"
    }
   ],
   "source": [
    "n, E"
   ]
  },
  {
   "cell_type": "code",
   "execution_count": 42,
   "id": "6e40248b-ff0e-448e-bf01-8dc2dd60ef33",
   "metadata": {},
   "outputs": [
    {
     "data": {
      "text/plain": [
       "(24779, 281, 619)"
      ]
     },
     "execution_count": 42,
     "metadata": {},
     "output_type": "execute_result"
    }
   ],
   "source": [
    "D, p, q"
   ]
  },
  {
   "cell_type": "code",
   "execution_count": 43,
   "id": "41063444-4c65-4b3a-b9ee-b17bb29200e4",
   "metadata": {},
   "outputs": [
    {
     "data": {
      "text/plain": [
       "[22015, 79396, 72281, 44319, 63140]"
      ]
     },
     "execution_count": 43,
     "metadata": {},
     "output_type": "execute_result"
    }
   ],
   "source": [
    "# Message \n",
    "Cipher_string_number[:5]"
   ]
  },
  {
   "cell_type": "code",
   "execution_count": 44,
   "id": "1f5d156f-0b85-42e7-b41f-e4bdc5652493",
   "metadata": {},
   "outputs": [],
   "source": [
    "# this code is invalid (should pass real message string and convert to C_i)\n",
    "# for i, char_num in enumerate(Cipher_string_number[:10]):\n",
    " #   print((char_num ** E) % n)"
   ]
  },
  {
   "cell_type": "markdown",
   "id": "2d58a9a2-038c-4b0b-853f-c22e26c8f835",
   "metadata": {},
   "source": [
    "# Decrypt"
   ]
  },
  {
   "cell_type": "code",
   "execution_count": 45,
   "id": "98bcea96-4893-4d4f-8441-4fb36ec679a7",
   "metadata": {},
   "outputs": [
    {
     "data": {
      "text/plain": [
       "b'c'"
      ]
     },
     "execution_count": 45,
     "metadata": {},
     "output_type": "execute_result"
    }
   ],
   "source": [
    "'c'.encode()"
   ]
  },
  {
   "cell_type": "code",
   "execution_count": 46,
   "id": "b7b33a6f-7671-4ddd-be3d-23c37dd638c5",
   "metadata": {},
   "outputs": [
    {
     "data": {
      "text/plain": [
       "True"
      ]
     },
     "execution_count": 46,
     "metadata": {},
     "output_type": "execute_result"
    }
   ],
   "source": [
    "'c'.isascii()"
   ]
  },
  {
   "cell_type": "code",
   "execution_count": null,
   "id": "6b07e126-5d5a-4545-824a-57755b27fbe8",
   "metadata": {},
   "outputs": [],
   "source": []
  },
  {
   "cell_type": "code",
   "execution_count": 50,
   "id": "e5994e3c-4391-44a1-a74f-9bb559d349df",
   "metadata": {},
   "outputs": [
    {
     "data": {
      "text/plain": [
       "84"
      ]
     },
     "execution_count": 50,
     "metadata": {},
     "output_type": "execute_result"
    }
   ],
   "source": [
    "(Cipher_string_number[0] ** D) % n"
   ]
  },
  {
   "cell_type": "code",
   "execution_count": 51,
   "id": "fb22472a-a313-4bb0-980f-cdde9b96b351",
   "metadata": {},
   "outputs": [
    {
     "data": {
      "text/plain": [
       "22015"
      ]
     },
     "execution_count": 51,
     "metadata": {},
     "output_type": "execute_result"
    }
   ],
   "source": [
    "Cipher_string_number[0]"
   ]
  },
  {
   "cell_type": "code",
   "execution_count": 52,
   "id": "cbe2db04-752d-4a72-b10e-edf80137e94f",
   "metadata": {},
   "outputs": [],
   "source": [
    "Message_from_decrypt = []"
   ]
  },
  {
   "cell_type": "code",
   "execution_count": 53,
   "id": "a2854893-1a9f-406e-bc5c-c6904276839a",
   "metadata": {},
   "outputs": [
    {
     "data": {
      "text/plain": [
       "'A'"
      ]
     },
     "execution_count": 53,
     "metadata": {},
     "output_type": "execute_result"
    }
   ],
   "source": [
    "chr(65)\n",
    "# chr('A')"
   ]
  },
  {
   "cell_type": "code",
   "execution_count": 54,
   "id": "f2e4fd85-132d-4c49-9509-76552d2a9ae4",
   "metadata": {},
   "outputs": [],
   "source": [
    "def get_number_decrypt(C_arr):\n",
    "    Message_from_decrypt = []\n",
    "    for i, c in enumerate(Cipher_string_number):\n",
    "        Message_from_decrypt.append((c ** D) % n) \n",
    "    return Message_from_decrypt"
   ]
  },
  {
   "cell_type": "code",
   "execution_count": 55,
   "id": "510aef5f-7b8c-4a9b-89af-46d520b16c37",
   "metadata": {},
   "outputs": [],
   "source": [
    "# get_number_decrypt(Cipher_string_number)"
   ]
  },
  {
   "cell_type": "code",
   "execution_count": 56,
   "id": "0ca2bdf5-4524-4333-859e-2296415ac078",
   "metadata": {},
   "outputs": [],
   "source": [
    "# Message_from_decrypt"
   ]
  },
  {
   "cell_type": "code",
   "execution_count": 57,
   "id": "80fd39b3-5bce-4f9b-bff4-48a54ddd04f8",
   "metadata": {},
   "outputs": [],
   "source": [
    "def get_decrypted_print_msg():\n",
    "    real_msg = \"\"\n",
    "    for i, ascii_char in enumerate(get_number_decrypt(Cipher_string_number)):\n",
    "        # print(chr(ascii_char))\n",
    "        real_msg += chr(ascii_char)\n",
    "    return real_msg\n",
    "        \n",
    "        # print(ascii_char)\n",
    "        "
   ]
  },
  {
   "cell_type": "code",
   "execution_count": 58,
   "id": "d13abf35-a5ae-4b6b-b5da-1d07e3b3852e",
   "metadata": {},
   "outputs": [],
   "source": [
    "# decrypt_print_msg()"
   ]
  },
  {
   "cell_type": "code",
   "execution_count": 59,
   "id": "b8d2f1e6-177c-4b05-854a-6abb722b637f",
   "metadata": {},
   "outputs": [],
   "source": [
    "# get_number_decrypt(Cipher_string_number)"
   ]
  },
  {
   "cell_type": "code",
   "execution_count": 60,
   "id": "8b68f2b5-9247-4312-8d12-db2d2bdab593",
   "metadata": {},
   "outputs": [],
   "source": [
    "# for i, ascii_char in enumerate(get_number_decrypt(Cipher_string_number)):\n",
    "#     print(chr(ascii_char))\n",
    "    # print(ascii_char)"
   ]
  },
  {
   "cell_type": "code",
   "execution_count": 61,
   "id": "f4d582c3-d01b-4017-9e86-0f349d947c7f",
   "metadata": {},
   "outputs": [
    {
     "data": {
      "text/plain": [
       "\"The world's not perfect, but it's there for us trying the best it can. That's what makes it so damn beautiful.\""
      ]
     },
     "execution_count": 61,
     "metadata": {},
     "output_type": "execute_result"
    }
   ],
   "source": [
    "get_decrypted_print_msg()"
   ]
  },
  {
   "cell_type": "code",
   "execution_count": 63,
   "id": "4ce78f50-fb73-4a79-b121-4a3736da5723",
   "metadata": {},
   "outputs": [
    {
     "data": {
      "text/plain": [
       "\"The world's not perfect, but it's there for us trying the best it can. That's what makes it so damn beautiful.\""
      ]
     },
     "execution_count": 63,
     "metadata": {},
     "output_type": "execute_result"
    }
   ],
   "source": [
    "n = 173939\n",
    "E = 419\n",
    "\n",
    "def is_prime(n):\n",
    "    if (n == 2): return True\n",
    "    if (n % 2 == 0): return False\n",
    "    for i in range(3, n, 2):\n",
    "        if (n % i == 0): return False\n",
    "    return True\n",
    "\n",
    "def find_factor_special(n):\n",
    "        for i in range(2, n):\n",
    "            if (n % i == 0 and is_prime(i) and is_prime(n // i)):\n",
    "                return i\n",
    "            \n",
    "\n",
    "def find_D(phi, E):\n",
    "    for i in range(1, phi):\n",
    "        # if (((i * E) - 1) % phi == 0):\n",
    "        if (((i * E)) % phi == 1):\n",
    "            return i\n",
    "p = find_factor_special(n)\n",
    "q = n // p\n",
    "phi = (p - 1) * (q - 1)\n",
    "D = find_D(phi, E)\n",
    "\n",
    "# Message (encrypted as basic int)\n",
    "Cipher_string_number = [22015, 79396, 72281, 44319, 63140, 96864, 25396, 73635, 148871, 62908, 168859, 44319, 15713, 96864, 70703, 44319, 172672, 72281, 25396, 151324, 72281, 168793, 70703, 7670, 44319, 65711, 43567, 70703, 44319, 109499, 70703, 62908, 168859, 44319, 70703, 79396, 72281, 25396, 72281, 44319, 151324, 96864, 25396, 44319, 43567, 168859, 44319, 70703, 25396, 154341, 109499, 15713, 145588, 44319, 70703, 79396, 72281, 44319, 65711, 72281, 168859, 70703, 44319, 109499, 70703, 44319, 168793, 65557, 15713, 87617, 44319, 22015, 79396, 65557, 70703, 62908, 168859, 44319, 63140, 79396, 65557, 70703, 44319, 135326, 65557, 52568, 72281, 168859, 44319, 109499, 70703, 44319, 168859, 96864, 44319, 148871, 65557, 135326, 15713, 44319, 65711, 72281, 65557, 43567, 70703, 109499, 151324, 43567, 73635, 87617]\n",
    "# public\n",
    "# n, E\n",
    "# private\n",
    "# D, p, q\n",
    "\n",
    "\n",
    "\n",
    "# Decrypt\n",
    "\n",
    "def get_number_decrypt(C_arr):\n",
    "    Message_from_decrypt = []\n",
    "    for i, c in enumerate(Cipher_string_number):\n",
    "        Message_from_decrypt.append((c ** D) % n) \n",
    "    return Message_from_decrypt\n",
    "\n",
    "def get_decrypted_print_msg():\n",
    "    real_msg = \"\"\n",
    "    for i, ascii_char in enumerate(get_number_decrypt(Cipher_string_number)):\n",
    "        real_msg += chr(ascii_char)\n",
    "    return real_msg\n",
    "\n",
    "get_decrypted_print_msg()\n",
    "\n"
   ]
  },
  {
   "cell_type": "markdown",
   "id": "64316de7-beb7-4e28-ac3b-210ed39a08bc",
   "metadata": {},
   "source": [
    "# Real code"
   ]
  },
  {
   "cell_type": "code",
   "execution_count": 189,
   "id": "0c41e5ff-67c5-468c-aec6-ad19fa533814",
   "metadata": {},
   "outputs": [],
   "source": [
    "# ABSTRACTION\n",
    "def is_prime(n):\n",
    "    if (n == 2): return True\n",
    "    if (n % 2 == 0): return False\n",
    "    for i in range(3, n, 2):\n",
    "        if (n % i == 0): return False\n",
    "    return True\n",
    "\n",
    "def find_factor_special(n):\n",
    "        for i in range(2, n):\n",
    "            if (n % i == 0 and is_prime(i) and is_prime(n // i)):\n",
    "                return i\n",
    "            \n",
    "\n",
    "def find_D(phi, E):\n",
    "    for i in range(1, phi):\n",
    "        if (((i * E) - 1) % phi == 0):\n",
    "        # if (((i * E)) % phi == 1):\n",
    "            return i\n",
    "\n",
    "# Decrypt\n",
    "def get_number_decrypt(C_arr, D, n):\n",
    "    Message_from_decrypt = []\n",
    "    for i, c in enumerate(C_arr):\n",
    "        Message_from_decrypt.append((c ** D) % n) \n",
    "    return Message_from_decrypt\n",
    "\n",
    "def get_decrypted_print_msg(msg_num):\n",
    "    real_msg = \"\"\n",
    "    for i, ascii_char in enumerate(msg_num):\n",
    "        real_msg += chr(ascii_char)\n",
    "    return real_msg\n",
    "\n",
    "\n",
    "\n",
    "# IMPLEMENTATION\n",
    "def decode_rsa(n, E, cypher):\n",
    "    p = find_factor_special(n)\n",
    "    q = n // p\n",
    "    phi = (p - 1) * (q - 1)\n",
    "    D = find_D(phi, E)\n",
    "    print(\"p is \", p)\n",
    "    print(\"q is \", q)\n",
    "    print(\"phi is \", phi)\n",
    "    print(\"D is \", D)\n",
    "    msg_num = get_number_decrypt(cypher, D, n)\n",
    "    msg = get_decrypted_print_msg(msg_num)\n",
    "    # print(msg_num)\n",
    "    print(msg)\n",
    "    \n",
    "# if __name__ == '__main__':\n",
    "#     print(\"Enter n\")\n",
    "#     n = int(input())\n",
    "#     print(\"Enter E\")\n",
    "#     E = int(input())\n",
    "#     print(\"Enter cypher list\")\n",
    "#     cypher = list(input())\n",
    "#     decode_rsa(n, E, cypher)\n"
   ]
  },
  {
   "cell_type": "code",
   "execution_count": 190,
   "id": "3da9b229-2eeb-4705-97b2-0650fe83ecf6",
   "metadata": {},
   "outputs": [
    {
     "data": {
      "text/plain": [
       "[22015, 79396, 72281]"
      ]
     },
     "execution_count": 190,
     "metadata": {},
     "output_type": "execute_result"
    }
   ],
   "source": [
    "cypher[:3]"
   ]
  },
  {
   "cell_type": "code",
   "execution_count": 191,
   "id": "a5a85a1a-608b-44de-83a0-e04c0dedc62d",
   "metadata": {},
   "outputs": [
    {
     "data": {
      "text/plain": [
       "[50, 21, 1]"
      ]
     },
     "execution_count": 191,
     "metadata": {},
     "output_type": "execute_result"
    }
   ],
   "source": [
    "get_number_decrypt(cypher, D, n)[:3]"
   ]
  },
  {
   "cell_type": "code",
   "execution_count": 204,
   "id": "22abf48c-c537-4689-ae8a-d245cebcab8f",
   "metadata": {},
   "outputs": [
    {
     "name": "stdout",
     "output_type": "stream",
     "text": [
      "0\n",
      "\u0002\n",
      "\u0012\n"
     ]
    }
   ],
   "source": [
    "for c_ascii in get_number_decrypt(cypher, D, n)[:3]:\n",
    "    print(chr(c_ascii))"
   ]
  },
  {
   "cell_type": "code",
   "execution_count": 203,
   "id": "aa8a613e-2b4b-48dd-8805-70681ecefa4d",
   "metadata": {},
   "outputs": [],
   "source": [
    "# chr()"
   ]
  },
  {
   "cell_type": "code",
   "execution_count": 194,
   "id": "b960e4d3-e561-42a6-ad24-55cae88868a4",
   "metadata": {},
   "outputs": [
    {
     "data": {
      "text/plain": [
       "'A'"
      ]
     },
     "execution_count": 194,
     "metadata": {},
     "output_type": "execute_result"
    }
   ],
   "source": [
    "chr(65)"
   ]
  },
  {
   "cell_type": "code",
   "execution_count": 195,
   "id": "8863fe65-825e-4451-b95b-5d9e87a139fb",
   "metadata": {},
   "outputs": [
    {
     "name": "stdout",
     "output_type": "stream",
     "text": [
      "p is  547\n",
      "q is  641\n",
      "phi is  349440\n",
      "D is  112607\n",
      "If you don't take risks, you can't create a future!\n"
     ]
    }
   ],
   "source": [
    "# Secrete Quote 0\n",
    "n = 350627\n",
    "E = 189983\n",
    "cypher = [290137,115668,206422,231298,70986,124596,206422,54735,70986,145791,246571,303979,206422,303979,66717,293299,274570,206422,151451,255202,142621,293299,142621,259674,206422,231298,70986,124596,206422,272374,66717,145791,246571,303979,206422,272374,151451,274570,66717,303979,274570,206422,66717,206422,115668,124596,303979,124596,151451,274570,281015]\n",
    "decode_rsa(n, E, cypher)"
   ]
  },
  {
   "cell_type": "code",
   "execution_count": 81,
   "id": "8b828069-9ffb-458b-9660-d56b5803c071",
   "metadata": {},
   "outputs": [
    {
     "name": "stdout",
     "output_type": "stream",
     "text": [
      "p is  401\n",
      "q is  631\n",
      "phi is  252000\n",
      "D is  249791\n",
      "When you give up, that's when the game ends.\n"
     ]
    }
   ],
   "source": [
    "# Secrete Quote 1\n",
    "n = 253031\n",
    "E = 33311\n",
    "cypher = [192718, 44207, 92345, 198194, 209885, 145673, 158195, 162891, 209885, 197432, 251143, 174163, 92345, 209885, 162891, 154788, 179792, 209885, 120588, 44207, 98836, 120588, 132369, 114740, 209885, 105496, 44207, 92345, 198194, 209885, 120588, 44207, 92345, 209885, 197432, 98836, 157424, 92345, 209885, 92345, 198194, 43326, 114740, 205085]\n",
    "decode_rsa(n, E, cypher)"
   ]
  },
  {
   "cell_type": "code",
   "execution_count": 217,
   "id": "1e60589c-a3c6-4984-8a73-b4ae088be5e2",
   "metadata": {},
   "outputs": [
    {
     "name": "stdout",
     "output_type": "stream",
     "text": [
      "p is  547\n",
      "q is  809\n",
      "phi is  441168\n",
      "D is  422587\n",
      "I'll leave tomorrow's problems to tomorrow's me.\n"
     ]
    }
   ],
   "source": [
    "# Secrete Quote 2\n",
    "n = 442523\n",
    "E = 319699\n",
    "cypher = [224476, 294163, 367725, 367725, 216835, 367725, 135507, 254755, 303589, 135507, 216835, 218849, 416081, 406146, 416081, 90895, 90895, 416081, 299359, 294163, 39364, 216835, 180334, 90895, 416081, 410593, 367725, 135507, 406146, 39364, 216835, 218849, 416081, 216835, 218849, 416081, 406146, 416081, 90895, 90895, 416081, 299359, 294163, 39364, 216835, 406146, 135507, 431006]\n",
    "decode_rsa(n, E, cypher)"
   ]
  },
  {
   "cell_type": "code",
   "execution_count": 82,
   "id": "f3b1778d-9c47-4445-b3ec-5fa846d71783",
   "metadata": {},
   "outputs": [
    {
     "name": "stdout",
     "output_type": "stream",
     "text": [
      "p is  277\n",
      "q is  431\n",
      "phi is  118680\n",
      "D is  100117\n",
      "People, who can't throw something important away, can never hope to change anything.\n"
     ]
    }
   ],
   "source": [
    "# Secrete Quote 3\n",
    "n = 119387\n",
    "E = 101533\n",
    "cypher = [86359, 81019, 114792, 116312, 34966, 81019, 92384, 57020, 73822, 15671, 114792, 57020, 110149, 57446, 116159, 72045, 96789, 57020, 96789, 15671, 84595, 114792, 73822, 57020, 86867, 114792, 33756, 81019, 96789, 15671, 83707, 116159, 23742, 57020, 83707, 33756, 116312, 114792, 84595, 96789, 57446, 116159, 96789, 57020, 57446, 73822, 57446, 59751, 92384, 57020, 110149, 57446, 116159, 57020, 116159, 81019, 31823, 81019, 84595, 57020, 15671, 114792, 116312, 81019, 57020, 96789, 114792, 57020, 110149, 15671, 57446, 116159, 23742, 81019, 57020, 57446, 116159, 59751, 96789, 15671, 83707, 116159, 23742, 57719, ]\n",
    "decode_rsa(n, E, cypher)"
   ]
  },
  {
   "cell_type": "code",
   "execution_count": 212,
   "id": "7330ed82-03c0-4c0e-a669-3cff46761aa4",
   "metadata": {},
   "outputs": [
    {
     "name": "stdout",
     "output_type": "stream",
     "text": [
      "p is  11\n",
      "q is  103\n",
      "phi is  1020\n",
      "D is  817\n",
      "Thinking you're no-good and worthless is the worst thing you can do.\n"
     ]
    }
   ],
   "source": [
    "# Secrete Quote 4\n",
    "n = 1133\n",
    "E = 613\n",
    "cypher = [805, 928, 414, 110, 622, 414, 110, 515, 32, 121, 111, 838, 348,526, 822, 32, 110, 111, 45, 515, 111, 111, 100, 32, 509, 110, 100, 32, 531, 111, 526, 425, 928, 520, 822, 939, 939, 32, 414, 939, 32, 425, 928, 822, 32, 531, 111, 526, 939, 425, 32, 425, 928, 414, 110, 515, 32, 121, 111, 838, 32, 99, 509, 110, 32, 100, 111, 767]\n",
    "decode_rsa(n, E, cypher)"
   ]
  },
  {
   "cell_type": "code",
   "execution_count": 216,
   "id": "f47c2f90-c663-4cfc-891f-b193e0c8cc10",
   "metadata": {},
   "outputs": [
    {
     "name": "stdout",
     "output_type": "stream",
     "text": [
      "p is  281\n",
      "q is  619\n",
      "phi is  173040\n",
      "D is  24779\n",
      "The world's not perfect, but it's there for us trying the best it can. That's what makes it so damn beautiful.\n"
     ]
    }
   ],
   "source": [
    "# Secrete Quote 5\n",
    "n = 173939\n",
    "E = 419\n",
    "cypher = [22015, 79396, 72281, 44319, 63140, 96864, 25396, 73635, 148871, 62908, 168859, 44319, 15713, 96864, 70703, 44319, 172672, 72281, 25396, 151324, 72281, 168793, 70703, 7670, 44319, 65711, 43567, 70703, 44319, 109499, 70703, 62908, 168859, 44319, 70703, 79396, 72281, 25396, 72281, 44319, 151324, 96864, 25396, 44319, 43567, 168859, 44319, 70703, 25396, 154341, 109499, 15713, 145588, 44319, 70703, 79396, 72281, 44319, 65711, 72281, 168859, 70703, 44319, 109499, 70703, 44319, 168793, 65557, 15713, 87617, 44319, 22015, 79396, 65557, 70703, 62908, 168859, 44319, 63140, 79396, 65557, 70703, 44319, 135326, 65557, 52568, 72281, 168859, 44319, 109499, 70703, 44319, 168859, 96864, 44319, 148871, 65557, 135326, 15713, 44319, 65711, 72281, 65557, 43567, 70703, 109499, 151324, 43567, 73635, 87617]\n",
    "decode_rsa(n, E, cypher)"
   ]
  },
  {
   "cell_type": "code",
   "execution_count": 215,
   "id": "84a745e7-93a9-46b8-ae0d-ccdc5c37c44f",
   "metadata": {},
   "outputs": [
    {
     "data": {
      "text/plain": [
       "'嗿\\U00013624𑩙괟\\uf6a4𗩠挴\\U00011fa3𤖇\\uf5bc𩎛괟㵡𗩠𑐯괟𪊀𑩙挴𤼜𑩙𩍙𑐯᷶괟𐂯ꨯ𑐯괟\\U0001abbb𑐯\\uf5bc𩎛괟𑐯\\U00013624𑩙挴𑩙괟𤼜𗩠挴괟ꨯ𩎛괟𑐯挴𥫥\\U0001abbb㵡𣢴괟𑐯\\U00013624𑩙괟𐂯𑩙𩎛𑐯괟\\U0001abbb𑐯괟𩍙𐀕㵡\\U00015641괟嗿\\U00013624𐀕𑐯\\uf5bc𩎛괟\\uf6a4\\U00013624𐀕𑐯괟𡂞𐀕쵘𑩙𩎛괟\\U0001abbb𑐯괟𩎛𗩠괟𤖇𐀕𡂞㵡괟𐂯𑩙𐀕ꨯ𑐯\\U0001abbb𤼜ꨯ\\U00011fa3\\U00015641'"
      ]
     },
     "execution_count": 215,
     "metadata": {},
     "output_type": "execute_result"
    }
   ],
   "source": [
    "n = 173939\n",
    "E = 419\n",
    "p = find_factor_special(n)\n",
    "q = n // p\n",
    "# phi = (p - 1) * (q - 1)\n",
    "# D = find_D(phi, E)\n",
    "Cipher_string_number = [22015, 79396, 72281, 44319, 63140, 96864, 25396, 73635, 148871, 62908, 168859, 44319, 15713, 96864, 70703, 44319, 172672, 72281, 25396, 151324, 72281, 168793, 70703, 7670, 44319, 65711, 43567, 70703, 44319, 109499, 70703, 62908, 168859, 44319, 70703, 79396, 72281, 25396, 72281, 44319, 151324, 96864, 25396, 44319, 43567, 168859, 44319, 70703, 25396, 154341, 109499, 15713, 145588, 44319, 70703, 79396, 72281, 44319, 65711, 72281, 168859, 70703, 44319, 109499, 70703, 44319, 168793, 65557, 15713, 87617, 44319, 22015, 79396, 65557, 70703, 62908, 168859, 44319, 63140, 79396, 65557, 70703, 44319, 135326, 65557, 52568, 72281, 168859, 44319, 109499, 70703, 44319, 168859, 96864, 44319, 148871, 65557, 135326, 15713, 44319, 65711, 72281, 65557, 43567, 70703, 109499, 151324, 43567, 73635, 87617]\n",
    "\n",
    "get_decrypted_print_msg(Cipher_string_number)"
   ]
  },
  {
   "cell_type": "markdown",
   "id": "ba04a5bc-20cb-44a3-ac9d-e692e62795e2",
   "metadata": {},
   "source": [
    "# Encryption\n",
    "# $$\n",
    "C \\equiv M^{E}(mod \\: n)\n",
    "$$"
   ]
  },
  {
   "cell_type": "code",
   "execution_count": 206,
   "id": "6021eaf6-d2c1-4f75-a914-cc551753d2b2",
   "metadata": {},
   "outputs": [
    {
     "name": "stdout",
     "output_type": "stream",
     "text": [
      "num ascii 115 of s\n",
      "c_i 45\n",
      "num ascii 116 of t\n",
      "c_i 51\n",
      "num ascii 111 of o\n",
      "c_i 41\n",
      "num ascii 112 of p\n",
      "c_i 18\n"
     ]
    },
    {
     "data": {
      "text/plain": [
       "[45, 51, 41, 18]"
      ]
     },
     "execution_count": 206,
     "metadata": {},
     "output_type": "execute_result"
    }
   ],
   "source": [
    "# public keys from teacher's lecture (Ceasar Rsa 10th lec)\n",
    "E = 11\n",
    "n = 65\n",
    "def get_encrypted_msg(msg, E, n):\n",
    "    C = []\n",
    "    for char in msg:\n",
    "        num_ascii = ord(char)\n",
    "        # num_ascii = ord(char) - 65\n",
    "        # num_ascii = ord(char) - ord('a')\n",
    "        print(f\"num ascii {num_ascii} of {char}\")\n",
    "        c_i = (num_ascii ** E) % n \n",
    "        print(\"c_i {}\".format(c_i))\n",
    "        C += [c_i]\n",
    "    return C\n",
    "        \n",
    "# msg_to_encrypt = \"Winter is coming...\"\n",
    "msg_to_encrypt = \"stop\"\n",
    "encrypted_rsa = get_encrypted_msg(msg_to_encrypt, E, n)\n",
    "encrypted_rsa"
   ]
  },
  {
   "cell_type": "code",
   "execution_count": 207,
   "id": "35522bd3-4060-49a9-9f23-77b3d31b5799",
   "metadata": {},
   "outputs": [
    {
     "data": {
      "text/plain": [
       "(11, 65)"
      ]
     },
     "execution_count": 207,
     "metadata": {},
     "output_type": "execute_result"
    }
   ],
   "source": [
    "E, n"
   ]
  },
  {
   "cell_type": "code",
   "execution_count": 208,
   "id": "1a9cb6b9-e2a2-402d-84c3-f4350c9d6cb0",
   "metadata": {},
   "outputs": [
    {
     "name": "stdout",
     "output_type": "stream",
     "text": [
      "['s', 18]\n",
      "['t', 19]\n",
      "['o', 14]\n",
      "['p', 15]\n"
     ]
    }
   ],
   "source": [
    "for c in ['s', 't', 'o', 'p']:\n",
    "    print([c, ord(c) - ord('a')])"
   ]
  },
  {
   "cell_type": "code",
   "execution_count": 209,
   "id": "21570ede-fa63-47da-985c-2161714491f3",
   "metadata": {},
   "outputs": [
    {
     "name": "stdout",
     "output_type": "stream",
     "text": [
      "p is  5\n",
      "q is  13\n",
      "phi is  48\n",
      "D is  11\n",
      "23./\n"
     ]
    }
   ],
   "source": [
    "p = find_factor_special(n)\n",
    "q = n // p\n",
    "phi = (p - 1) * (q - 1)\n",
    "D = find_D(phi, E)\n",
    "decode_rsa(n, D, encrypted_rsa)"
   ]
  },
  {
   "cell_type": "code",
   "execution_count": 210,
   "id": "79dc497e-77f7-4af8-b673-ebfe824e9cfc",
   "metadata": {},
   "outputs": [
    {
     "data": {
      "text/plain": [
       "[50, 51, 46, 47]"
      ]
     },
     "execution_count": 210,
     "metadata": {},
     "output_type": "execute_result"
    }
   ],
   "source": [
    "decrypted_num = get_number_decrypt(encrypted_rsa, D, n)\n",
    "decrypted_num"
   ]
  },
  {
   "cell_type": "code",
   "execution_count": 211,
   "id": "1294535a-8db1-4b2c-9d8b-ca441e8bc0b5",
   "metadata": {},
   "outputs": [
    {
     "data": {
      "text/plain": [
       "'23./'"
      ]
     },
     "execution_count": 211,
     "metadata": {},
     "output_type": "execute_result"
    }
   ],
   "source": [
    "get_decrypted_print_msg(decrypted_num)"
   ]
  },
  {
   "cell_type": "code",
   "execution_count": 114,
   "id": "5b297426-d0f2-49b9-a42a-37658ee63867",
   "metadata": {},
   "outputs": [
    {
     "data": {
      "text/plain": [
       "'A'"
      ]
     },
     "execution_count": 114,
     "metadata": {},
     "output_type": "execute_result"
    }
   ],
   "source": [
    "chr(65)"
   ]
  },
  {
   "cell_type": "code",
   "execution_count": 118,
   "id": "1184100f-348a-4dea-bee0-bb836be6a00f",
   "metadata": {},
   "outputs": [
    {
     "data": {
      "text/plain": [
       "65"
      ]
     },
     "execution_count": 118,
     "metadata": {},
     "output_type": "execute_result"
    }
   ],
   "source": [
    "ord('A') "
   ]
  },
  {
   "cell_type": "code",
   "execution_count": 119,
   "id": "a5492005-7c3b-4c72-a1c3-82459cd068e3",
   "metadata": {},
   "outputs": [
    {
     "data": {
      "text/plain": [
       "0"
      ]
     },
     "execution_count": 119,
     "metadata": {},
     "output_type": "execute_result"
    }
   ],
   "source": [
    "ord('A') - 65"
   ]
  },
  {
   "cell_type": "code",
   "execution_count": 98,
   "id": "3229eb1f-ffa8-460a-9a57-61f6009c86bf",
   "metadata": {},
   "outputs": [
    {
     "data": {
      "text/plain": [
       "'A'"
      ]
     },
     "execution_count": 98,
     "metadata": {},
     "output_type": "execute_result"
    }
   ],
   "source": [
    "chr(ord('A'))"
   ]
  },
  {
   "cell_type": "code",
   "execution_count": null,
   "id": "89eebef9-0c1f-4df2-85ab-e39a5278cfa8",
   "metadata": {},
   "outputs": [],
   "source": []
  },
  {
   "cell_type": "code",
   "execution_count": null,
   "id": "60271ab9-89e3-4d46-b5f0-86ae30197558",
   "metadata": {},
   "outputs": [],
   "source": [
    "import string\n",
    "string.ascii_lowercase"
   ]
  },
  {
   "cell_type": "code",
   "execution_count": null,
   "id": "9b39cb32-7569-43be-80d1-5f4658722de3",
   "metadata": {},
   "outputs": [],
   "source": [
    "# for i, s in enumerate(string.ascii_lowercase):\n",
    "# for i, s in enumerate(string.ascii_lowercase, string.ascii_uppercase):\n",
    "# for i, s in enumerate(map(string.ascii_lowercase, string.ascii_uppercase)):\n",
    "#     print([i, s])\n",
    "    "
   ]
  },
  {
   "cell_type": "code",
   "execution_count": null,
   "id": "0b2d9c9c-f315-4f4c-8dd8-47a921b14328",
   "metadata": {},
   "outputs": [],
   "source": [
    "# list(map(string.ascii_lowercase, string.ascii_uppercase))"
   ]
  },
  {
   "cell_type": "code",
   "execution_count": null,
   "id": "882f96ab-93cb-4973-83cf-e5d643d17567",
   "metadata": {},
   "outputs": [],
   "source": []
  },
  {
   "cell_type": "code",
   "execution_count": 189,
   "id": "8d8549b2-8113-4ba8-aa5f-08365968fb99",
   "metadata": {},
   "outputs": [],
   "source": [
    "# ABSTRACTION\n",
    "def is_prime(n):\n",
    "    if (n == 2): return True\n",
    "    if (n % 2 == 0): return False\n",
    "    for i in range(3, n, 2):\n",
    "        if (n % i == 0): return False\n",
    "    return True\n",
    "\n",
    "def find_factor_special(n):\n",
    "        for i in range(2, n):\n",
    "            if (n % i == 0 and is_prime(i) and is_prime(n // i)):\n",
    "                return i\n",
    "            \n",
    "\n",
    "def find_D(phi, E):\n",
    "    for i in range(1, phi):\n",
    "        if (((i * E) - 1) % phi == 0):\n",
    "        # if (((i * E)) % phi == 1):\n",
    "            return i\n",
    "\n",
    "# Decrypt\n",
    "def get_number_decrypt(C_arr, D, n):\n",
    "    Message_from_decrypt = []\n",
    "    for i, c in enumerate(C_arr):\n",
    "        Message_from_decrypt.append((c ** D) % n) \n",
    "    return Message_from_decrypt\n",
    "\n",
    "def get_decrypted_print_msg(msg_num):\n",
    "    real_msg = \"\"\n",
    "    for i, ascii_char in enumerate(msg_num):\n",
    "        real_msg += chr(ascii_char)\n",
    "    return real_msg\n",
    "\n",
    "\n",
    "\n",
    "# IMPLEMENTATION\n",
    "def decode_rsa(n, E, cypher):\n",
    "    p = find_factor_special(n)\n",
    "    q = n // p\n",
    "    phi = (p - 1) * (q - 1)\n",
    "    D = find_D(phi, E)\n",
    "    print(\"p is \", p)\n",
    "    print(\"q is \", q)\n",
    "    print(\"phi is \", phi)\n",
    "    print(\"D is \", D)\n",
    "    msg_num = get_number_decrypt(cypher, D, n)\n",
    "    msg = get_decrypted_print_msg(msg_num)\n",
    "    # print(msg_num)\n",
    "    print(msg)\n",
    "    \n",
    "# if __name__ == '__main__':\n",
    "#     print(\"Enter n\")\n",
    "#     n = int(input())\n",
    "#     print(\"Enter E\")\n",
    "#     E = int(input())\n",
    "#     print(\"Enter cypher list\")\n",
    "#     cypher = list(input())\n",
    "#     decode_rsa(n, E, cypher)\n"
   ]
  },
  {
   "cell_type": "code",
   "execution_count": 190,
   "id": "f2c625bf-d423-4db8-945c-a84e8cd11921",
   "metadata": {},
   "outputs": [
    {
     "data": {
      "text/plain": [
       "[22015, 79396, 72281]"
      ]
     },
     "execution_count": 190,
     "metadata": {},
     "output_type": "execute_result"
    }
   ],
   "source": [
    "cypher[:3]"
   ]
  },
  {
   "cell_type": "code",
   "execution_count": 191,
   "id": "ed5e8e84-0905-421f-b50f-a37c42653713",
   "metadata": {},
   "outputs": [
    {
     "data": {
      "text/plain": [
       "[50, 21, 1]"
      ]
     },
     "execution_count": 191,
     "metadata": {},
     "output_type": "execute_result"
    }
   ],
   "source": [
    "get_number_decrypt(cypher, D, n)[:3]"
   ]
  },
  {
   "cell_type": "code",
   "execution_count": 204,
   "id": "7c66ad25-5ba5-4055-bcc1-c786e138444b",
   "metadata": {},
   "outputs": [
    {
     "name": "stdout",
     "output_type": "stream",
     "text": [
      "0\n",
      "\u0002\n",
      "\u0012\n"
     ]
    }
   ],
   "source": [
    "for c_ascii in get_number_decrypt(cypher, D, n)[:3]:\n",
    "    print(chr(c_ascii))"
   ]
  },
  {
   "cell_type": "code",
   "execution_count": 203,
   "id": "b49fd589-4d60-415a-89bc-7d1c43e3b4f1",
   "metadata": {},
   "outputs": [],
   "source": [
    "# chr()"
   ]
  },
  {
   "cell_type": "code",
   "execution_count": 194,
   "id": "8afb01b8-420f-4f19-8312-6cb3f23ef433",
   "metadata": {},
   "outputs": [
    {
     "data": {
      "text/plain": [
       "'A'"
      ]
     },
     "execution_count": 194,
     "metadata": {},
     "output_type": "execute_result"
    }
   ],
   "source": [
    "chr(65)"
   ]
  },
  {
   "cell_type": "code",
   "execution_count": 195,
   "id": "1a6ce86d-58aa-49db-ac48-b166897486cf",
   "metadata": {},
   "outputs": [
    {
     "name": "stdout",
     "output_type": "stream",
     "text": [
      "p is  547\n",
      "q is  641\n",
      "phi is  349440\n",
      "D is  112607\n",
      "If you don't take risks, you can't create a future!\n"
     ]
    }
   ],
   "source": [
    "# Secrete Quote 0\n",
    "n = 350627\n",
    "E = 189983\n",
    "cypher = [290137,115668,206422,231298,70986,124596,206422,54735,70986,145791,246571,303979,206422,303979,66717,293299,274570,206422,151451,255202,142621,293299,142621,259674,206422,231298,70986,124596,206422,272374,66717,145791,246571,303979,206422,272374,151451,274570,66717,303979,274570,206422,66717,206422,115668,124596,303979,124596,151451,274570,281015]\n",
    "decode_rsa(n, E, cypher)"
   ]
  },
  {
   "cell_type": "code",
   "execution_count": 81,
   "id": "09f91910-d8cf-438c-87ba-32d8dfc6e199",
   "metadata": {},
   "outputs": [
    {
     "name": "stdout",
     "output_type": "stream",
     "text": [
      "p is  401\n",
      "q is  631\n",
      "phi is  252000\n",
      "D is  249791\n",
      "When you give up, that's when the game ends.\n"
     ]
    }
   ],
   "source": [
    "# Secrete Quote 1\n",
    "n = 253031\n",
    "E = 33311\n",
    "cypher = [192718, 44207, 92345, 198194, 209885, 145673, 158195, 162891, 209885, 197432, 251143, 174163, 92345, 209885, 162891, 154788, 179792, 209885, 120588, 44207, 98836, 120588, 132369, 114740, 209885, 105496, 44207, 92345, 198194, 209885, 120588, 44207, 92345, 209885, 197432, 98836, 157424, 92345, 209885, 92345, 198194, 43326, 114740, 205085]\n",
    "decode_rsa(n, E, cypher)"
   ]
  },
  {
   "cell_type": "code",
   "execution_count": 217,
   "id": "89045f2f-8397-4baa-9c76-1099604e4f97",
   "metadata": {},
   "outputs": [
    {
     "name": "stdout",
     "output_type": "stream",
     "text": [
      "p is  547\n",
      "q is  809\n",
      "phi is  441168\n",
      "D is  422587\n",
      "I'll leave tomorrow's problems to tomorrow's me.\n"
     ]
    }
   ],
   "source": [
    "# Secrete Quote 2\n",
    "n = 442523\n",
    "E = 319699\n",
    "cypher = [224476, 294163, 367725, 367725, 216835, 367725, 135507, 254755, 303589, 135507, 216835, 218849, 416081, 406146, 416081, 90895, 90895, 416081, 299359, 294163, 39364, 216835, 180334, 90895, 416081, 410593, 367725, 135507, 406146, 39364, 216835, 218849, 416081, 216835, 218849, 416081, 406146, 416081, 90895, 90895, 416081, 299359, 294163, 39364, 216835, 406146, 135507, 431006]\n",
    "decode_rsa(n, E, cypher)"
   ]
  },
  {
   "cell_type": "code",
   "execution_count": 82,
   "id": "514ff0ad-838e-4224-a643-107fd2c772ce",
   "metadata": {},
   "outputs": [
    {
     "name": "stdout",
     "output_type": "stream",
     "text": [
      "p is  277\n",
      "q is  431\n",
      "phi is  118680\n",
      "D is  100117\n",
      "People, who can't throw something important away, can never hope to change anything.\n"
     ]
    }
   ],
   "source": [
    "# Secrete Quote 3\n",
    "n = 119387\n",
    "E = 101533\n",
    "cypher = [86359, 81019, 114792, 116312, 34966, 81019, 92384, 57020, 73822, 15671, 114792, 57020, 110149, 57446, 116159, 72045, 96789, 57020, 96789, 15671, 84595, 114792, 73822, 57020, 86867, 114792, 33756, 81019, 96789, 15671, 83707, 116159, 23742, 57020, 83707, 33756, 116312, 114792, 84595, 96789, 57446, 116159, 96789, 57020, 57446, 73822, 57446, 59751, 92384, 57020, 110149, 57446, 116159, 57020, 116159, 81019, 31823, 81019, 84595, 57020, 15671, 114792, 116312, 81019, 57020, 96789, 114792, 57020, 110149, 15671, 57446, 116159, 23742, 81019, 57020, 57446, 116159, 59751, 96789, 15671, 83707, 116159, 23742, 57719, ]\n",
    "decode_rsa(n, E, cypher)"
   ]
  },
  {
   "cell_type": "code",
   "execution_count": 212,
   "id": "860e72c0-e257-4b66-a883-d530cea11c38",
   "metadata": {},
   "outputs": [
    {
     "name": "stdout",
     "output_type": "stream",
     "text": [
      "p is  11\n",
      "q is  103\n",
      "phi is  1020\n",
      "D is  817\n",
      "Thinking you're no-good and worthless is the worst thing you can do.\n"
     ]
    }
   ],
   "source": [
    "# Secrete Quote 4\n",
    "n = 1133\n",
    "E = 613\n",
    "cypher = [805, 928, 414, 110, 622, 414, 110, 515, 32, 121, 111, 838, 348,526, 822, 32, 110, 111, 45, 515, 111, 111, 100, 32, 509, 110, 100, 32, 531, 111, 526, 425, 928, 520, 822, 939, 939, 32, 414, 939, 32, 425, 928, 822, 32, 531, 111, 526, 939, 425, 32, 425, 928, 414, 110, 515, 32, 121, 111, 838, 32, 99, 509, 110, 32, 100, 111, 767]\n",
    "decode_rsa(n, E, cypher)"
   ]
  },
  {
   "cell_type": "code",
   "execution_count": 216,
   "id": "a8a8b3a9-8073-4eb9-b2a7-8e2082dc4b4a",
   "metadata": {},
   "outputs": [
    {
     "name": "stdout",
     "output_type": "stream",
     "text": [
      "p is  281\n",
      "q is  619\n",
      "phi is  173040\n",
      "D is  24779\n",
      "The world's not perfect, but it's there for us trying the best it can. That's what makes it so damn beautiful.\n"
     ]
    }
   ],
   "source": [
    "# Secrete Quote 5\n",
    "n = 173939\n",
    "E = 419\n",
    "cypher = [22015, 79396, 72281, 44319, 63140, 96864, 25396, 73635, 148871, 62908, 168859, 44319, 15713, 96864, 70703, 44319, 172672, 72281, 25396, 151324, 72281, 168793, 70703, 7670, 44319, 65711, 43567, 70703, 44319, 109499, 70703, 62908, 168859, 44319, 70703, 79396, 72281, 25396, 72281, 44319, 151324, 96864, 25396, 44319, 43567, 168859, 44319, 70703, 25396, 154341, 109499, 15713, 145588, 44319, 70703, 79396, 72281, 44319, 65711, 72281, 168859, 70703, 44319, 109499, 70703, 44319, 168793, 65557, 15713, 87617, 44319, 22015, 79396, 65557, 70703, 62908, 168859, 44319, 63140, 79396, 65557, 70703, 44319, 135326, 65557, 52568, 72281, 168859, 44319, 109499, 70703, 44319, 168859, 96864, 44319, 148871, 65557, 135326, 15713, 44319, 65711, 72281, 65557, 43567, 70703, 109499, 151324, 43567, 73635, 87617]\n",
    "decode_rsa(n, E, cypher)"
   ]
  },
  {
   "cell_type": "code",
   "execution_count": 189,
   "id": "0cf7ce68-db55-4f3d-9d65-2b86246b1904",
   "metadata": {},
   "outputs": [],
   "source": [
    "# ABSTRACTION\n",
    "def is_prime(n):\n",
    "    if (n == 2): return True\n",
    "    if (n % 2 == 0): return False\n",
    "    for i in range(3, n, 2):\n",
    "        if (n % i == 0): return False\n",
    "    return True\n",
    "\n",
    "def find_factor_special(n):\n",
    "        for i in range(2, n):\n",
    "            if (n % i == 0 and is_prime(i) and is_prime(n // i)):\n",
    "                return i\n",
    "            \n",
    "\n",
    "def find_D(phi, E):\n",
    "    for i in range(1, phi):\n",
    "        if (((i * E) - 1) % phi == 0):\n",
    "        # if (((i * E)) % phi == 1):\n",
    "            return i\n",
    "\n",
    "# Decrypt\n",
    "def get_number_decrypt(C_arr, D, n):\n",
    "    Message_from_decrypt = []\n",
    "    for i, c in enumerate(C_arr):\n",
    "        Message_from_decrypt.append((c ** D) % n) \n",
    "    return Message_from_decrypt\n",
    "\n",
    "def get_decrypted_print_msg(msg_num):\n",
    "    real_msg = \"\"\n",
    "    for i, ascii_char in enumerate(msg_num):\n",
    "        real_msg += chr(ascii_char)\n",
    "    return real_msg\n",
    "\n",
    "\n",
    "\n",
    "# IMPLEMENTATION\n",
    "def decode_rsa(n, E, cypher):\n",
    "    p = find_factor_special(n)\n",
    "    q = n // p\n",
    "    phi = (p - 1) * (q - 1)\n",
    "    D = find_D(phi, E)\n",
    "    print(\"p is \", p)\n",
    "    print(\"q is \", q)\n",
    "    print(\"phi is \", phi)\n",
    "    print(\"D is \", D)\n",
    "    msg_num = get_number_decrypt(cypher, D, n)\n",
    "    msg = get_decrypted_print_msg(msg_num)\n",
    "    # print(msg_num)\n",
    "    print(msg)\n",
    "\n",
    "# Secrete Quote 0\n",
    "n = 350627\n",
    "E = 189983\n",
    "cypher = [290137,115668,206422,231298,70986,124596,206422,54735,70986,145791,246571,303979,206422,303979,66717,293299,274570,206422,151451,255202,142621,293299,142621,259674,206422,231298,70986,124596,206422,272374,66717,145791,246571,303979,206422,272374,151451,274570,66717,303979,274570,206422,66717,206422,115668,124596,303979,124596,151451,274570,281015]\n",
    "decode_rsa(n, E, cypher)\n",
    "\n",
    "# Secrete Quote 1\n",
    "n = 253031\n",
    "E = 33311\n",
    "cypher = [192718, 44207, 92345, 198194, 209885, 145673, 158195, 162891, 209885, 197432, 251143, 174163, 92345, 209885, 162891, 154788, 179792, 209885, 120588, 44207, 98836, 120588, 132369, 114740, 209885, 105496, 44207, 92345, 198194, 209885, 120588, 44207, 92345, 209885, 197432, 98836, 157424, 92345, 209885, 92345, 198194, 43326, 114740, 205085]\n",
    "decode_rsa(n, E, cypher)\n",
    "\n",
    "# Secrete Quote 2\n",
    "n = 442523\n",
    "E = 319699\n",
    "cypher = [224476, 294163, 367725, 367725, 216835, 367725, 135507, 254755, 303589, 135507, 216835, 218849, 416081, 406146, 416081, 90895, 90895, 416081, 299359, 294163, 39364, 216835, 180334, 90895, 416081, 410593, 367725, 135507, 406146, 39364, 216835, 218849, 416081, 216835, 218849, 416081, 406146, 416081, 90895, 90895, 416081, 299359, 294163, 39364, 216835, 406146, 135507, 431006]\n",
    "decode_rsa(n, E, cypher)\n",
    "\n",
    "# Secrete Quote 3\n",
    "n = 119387\n",
    "E = 101533\n",
    "cypher = [86359, 81019, 114792, 116312, 34966, 81019, 92384, 57020, 73822, 15671, 114792, 57020, 110149, 57446, 116159, 72045, 96789, 57020, 96789, 15671, 84595, 114792, 73822, 57020, 86867, 114792, 33756, 81019, 96789, 15671, 83707, 116159, 23742, 57020, 83707, 33756, 116312, 114792, 84595, 96789, 57446, 116159, 96789, 57020, 57446, 73822, 57446, 59751, 92384, 57020, 110149, 57446, 116159, 57020, 116159, 81019, 31823, 81019, 84595, 57020, 15671, 114792, 116312, 81019, 57020, 96789, 114792, 57020, 110149, 15671, 57446, 116159, 23742, 81019, 57020, 57446, 116159, 59751, 96789, 15671, 83707, 116159, 23742, 57719, ]\n",
    "decode_rsa(n, E, cypher)\n",
    "\n",
    "# Secrete Quote 4\n",
    "n = 1133\n",
    "E = 613\n",
    "cypher = [805, 928, 414, 110, 622, 414, 110, 515, 32, 121, 111, 838, 348,526, 822, 32, 110, 111, 45, 515, 111, 111, 100, 32, 509, 110, 100, 32, 531, 111, 526, 425, 928, 520, 822, 939, 939, 32, 414, 939, 32, 425, 928, 822, 32, 531, 111, 526, 939, 425, 32, 425, 928, 414, 110, 515, 32, 121, 111, 838, 32, 99, 509, 110, 32, 100, 111, 767]\n",
    "decode_rsa(n, E, cypher)\n",
    "\n",
    "# Secrete Quote 5\n",
    "n = 173939\n",
    "E = 419\n",
    "cypher = [22015, 79396, 72281, 44319, 63140, 96864, 25396, 73635, 148871, 62908, 168859, 44319, 15713, 96864, 70703, 44319, 172672, 72281, 25396, 151324, 72281, 168793, 70703, 7670, 44319, 65711, 43567, 70703, 44319, 109499, 70703, 62908, 168859, 44319, 70703, 79396, 72281, 25396, 72281, 44319, 151324, 96864, 25396, 44319, 43567, 168859, 44319, 70703, 25396, 154341, 109499, 15713, 145588, 44319, 70703, 79396, 72281, 44319, 65711, 72281, 168859, 70703, 44319, 109499, 70703, 44319, 168793, 65557, 15713, 87617, 44319, 22015, 79396, 65557, 70703, 62908, 168859, 44319, 63140, 79396, 65557, 70703, 44319, 135326, 65557, 52568, 72281, 168859, 44319, 109499, 70703, 44319, 168859, 96864, 44319, 148871, 65557, 135326, 15713, 44319, 65711, 72281, 65557, 43567, 70703, 109499, 151324, 43567, 73635, 87617]\n",
    "decode_rsa(n, E, cypher)"
   ]
  }
 ],
 "metadata": {
  "kernelspec": {
   "display_name": "Python 3 (ipykernel)",
   "language": "python",
   "name": "python3"
  },
  "language_info": {
   "codemirror_mode": {
    "name": "ipython",
    "version": 3
   },
   "file_extension": ".py",
   "mimetype": "text/x-python",
   "name": "python",
   "nbconvert_exporter": "python",
   "pygments_lexer": "ipython3",
   "version": "3.9.12"
  }
 },
 "nbformat": 4,
 "nbformat_minor": 5
}
