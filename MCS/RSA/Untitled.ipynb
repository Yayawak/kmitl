{
 "cells": [
  {
   "cell_type": "code",
   "execution_count": 1,
   "id": "4b7ce8c1-2487-4eee-a40d-dd07bf398276",
   "metadata": {},
   "outputs": [
    {
     "data": {
      "text/plain": [
       "10"
      ]
     },
     "execution_count": 1,
     "metadata": {},
     "output_type": "execute_result"
    }
   ],
   "source": [
    "9^3\n"
   ]
  },
  {
   "cell_type": "code",
   "execution_count": 2,
   "id": "18081776-18fa-48d0-82e1-4d8206a5c514",
   "metadata": {},
   "outputs": [
    {
     "data": {
      "text/plain": [
       "729"
      ]
     },
     "execution_count": 2,
     "metadata": {},
     "output_type": "execute_result"
    }
   ],
   "source": [
    "9**3"
   ]
  },
  {
   "cell_type": "code",
   "execution_count": 3,
   "id": "6cbf5876-e39c-4d37-b777-3e5cb15fdd56",
   "metadata": {},
   "outputs": [
    {
     "data": {
      "text/plain": [
       "243"
      ]
     },
     "execution_count": 3,
     "metadata": {},
     "output_type": "execute_result"
    }
   ],
   "source": [
    "27 * 9"
   ]
  },
  {
   "cell_type": "code",
   "execution_count": 6,
   "id": "8a3daca7-b8d5-4a90-b1e5-6770a6452f0a",
   "metadata": {},
   "outputs": [
    {
     "data": {
      "text/plain": [
       "1"
      ]
     },
     "execution_count": 6,
     "metadata": {},
     "output_type": "execute_result"
    }
   ],
   "source": [
    "x = 2**242 \n",
    "x % 3"
   ]
  },
  {
   "cell_type": "code",
   "execution_count": 8,
   "id": "bb2c967c-532a-40e7-bf30-f1c7d365263c",
   "metadata": {},
   "outputs": [
    {
     "data": {
      "text/plain": [
       "3"
      ]
     },
     "execution_count": 8,
     "metadata": {},
     "output_type": "execute_result"
    }
   ],
   "source": [
    "x = 3**245\n",
    "x % 5"
   ]
  },
  {
   "cell_type": "code",
   "execution_count": 10,
   "id": "787bf837-3f94-48c7-b9dd-cee500c2a7ac",
   "metadata": {},
   "outputs": [
    {
     "data": {
      "text/plain": [
       "119643398733024"
      ]
     },
     "execution_count": 10,
     "metadata": {},
     "output_type": "execute_result"
    }
   ],
   "source": [
    "x = 654**5\n",
    "x"
   ]
  },
  {
   "cell_type": "code",
   "execution_count": 11,
   "id": "48bc4ace-15df-4353-a34a-82e034bc823a",
   "metadata": {},
   "outputs": [
    {
     "data": {
      "text/plain": [
       "0"
      ]
     },
     "execution_count": 11,
     "metadata": {},
     "output_type": "execute_result"
    }
   ],
   "source": [
    "x % 12"
   ]
  }
 ],
 "metadata": {
  "kernelspec": {
   "display_name": "Python 3 (ipykernel)",
   "language": "python",
   "name": "python3"
  },
  "language_info": {
   "codemirror_mode": {
    "name": "ipython",
    "version": 3
   },
   "file_extension": ".py",
   "mimetype": "text/x-python",
   "name": "python",
   "nbconvert_exporter": "python",
   "pygments_lexer": "ipython3",
   "version": "3.9.13"
  }
 },
 "nbformat": 4,
 "nbformat_minor": 5
}
