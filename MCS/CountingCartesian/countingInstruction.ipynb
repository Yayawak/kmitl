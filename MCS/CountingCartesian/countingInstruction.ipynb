{
 "cells": [
  {
   "cell_type": "code",
   "execution_count": 2,
   "id": "08b7e2a3-fbae-4a8d-a7be-36b6b27dcdc0",
   "metadata": {},
   "outputs": [
    {
     "data": {
      "text/plain": [
       "3"
      ]
     },
     "execution_count": 2,
     "metadata": {},
     "output_type": "execute_result"
    }
   ],
   "source": [
    "k = 1\n",
    "\n",
    "n = 2*k + 1\n",
    "p = [0]*n\n",
    "# p\n",
    "n"
   ]
  },
  {
   "cell_type": "code",
   "execution_count": 3,
   "id": "3e901560-e7ca-4c71-af90-ee8af8dc5a49",
   "metadata": {},
   "outputs": [
    {
     "data": {
      "text/plain": [
       "[99, 99, 99]"
      ]
     },
     "execution_count": 3,
     "metadata": {},
     "output_type": "execute_result"
    }
   ],
   "source": [
    "[99] * 3"
   ]
  },
  {
   "cell_type": "code",
   "execution_count": 4,
   "id": "d405a1d1-f51c-421e-91a0-2c9755085c3e",
   "metadata": {},
   "outputs": [
    {
     "data": {
      "text/plain": [
       "[1, 5, 3, 1, 5, 3, 1, 5, 3]"
      ]
     },
     "execution_count": 4,
     "metadata": {},
     "output_type": "execute_result"
    }
   ],
   "source": [
    "[1, 5, 3] * 3"
   ]
  },
  {
   "cell_type": "code",
   "execution_count": 5,
   "id": "ee051057-ec4e-47fe-b638-9029cce96ecb",
   "metadata": {},
   "outputs": [
    {
     "data": {
      "text/plain": [
       "[0, 0, 0]"
      ]
     },
     "execution_count": 5,
     "metadata": {},
     "output_type": "execute_result"
    }
   ],
   "source": [
    "p"
   ]
  },
  {
   "cell_type": "code",
   "execution_count": 6,
   "id": "f733a1b1-5018-45c0-a8b9-5b7bc048b0af",
   "metadata": {},
   "outputs": [
    {
     "data": {
      "text/plain": [
       "array([297,   3,   9,  15])"
      ]
     },
     "execution_count": 6,
     "metadata": {},
     "output_type": "execute_result"
    }
   ],
   "source": [
    "import numpy as np\n",
    "np.array([99, 1, 3, 5]) * 3"
   ]
  },
  {
   "cell_type": "code",
   "execution_count": 94,
   "id": "bc05969e-aa8b-4e22-8a69-81322d9642ca",
   "metadata": {},
   "outputs": [
    {
     "name": "stdout",
     "output_type": "stream",
     "text": [
      "unsorted = [0, 0, 0], sorted = [0, 0, 0], mean =   0\n",
      "unsorted = [1, 0, 0], sorted = [0, 0, 1], mean =   0\n",
      "unsorted = [2, 0, 0], sorted = [0, 0, 2], mean =   0\n",
      "\n",
      "unsorted = [0, 1, 0], sorted = [0, 0, 1], mean =   0\n",
      "unsorted = [1, 1, 0], sorted = [0, 1, 1], mean =   1\n",
      "unsorted = [2, 1, 0], sorted = [0, 1, 2], mean =   1\n",
      "\n",
      "unsorted = [0, 2, 0], sorted = [0, 0, 2], mean =   0\n",
      "unsorted = [1, 2, 0], sorted = [0, 1, 2], mean =   1\n",
      "unsorted = [2, 2, 0], sorted = [0, 2, 2], mean =   2\n",
      "\n",
      "unsorted = [0, 0, 1], sorted = [0, 0, 1], mean =   0\n",
      "unsorted = [1, 0, 1], sorted = [0, 1, 1], mean =   1\n",
      "unsorted = [2, 0, 1], sorted = [0, 1, 2], mean =   1\n",
      "\n",
      "unsorted = [0, 1, 1], sorted = [0, 1, 1], mean =   1\n",
      "unsorted = [1, 1, 1], sorted = [1, 1, 1], mean =   1\n",
      "unsorted = [2, 1, 1], sorted = [1, 1, 2], mean =   1\n",
      "\n",
      "unsorted = [0, 2, 1], sorted = [0, 1, 2], mean =   1\n",
      "unsorted = [1, 2, 1], sorted = [1, 1, 2], mean =   1\n",
      "unsorted = [2, 2, 1], sorted = [1, 2, 2], mean =   2\n",
      "\n",
      "unsorted = [0, 0, 2], sorted = [0, 0, 2], mean =   0\n",
      "unsorted = [1, 0, 2], sorted = [0, 1, 2], mean =   1\n",
      "unsorted = [2, 0, 2], sorted = [0, 2, 2], mean =   2\n",
      "\n",
      "unsorted = [0, 1, 2], sorted = [0, 1, 2], mean =   1\n",
      "unsorted = [1, 1, 2], sorted = [1, 1, 2], mean =   1\n",
      "unsorted = [2, 1, 2], sorted = [1, 2, 2], mean =   2\n",
      "\n",
      "unsorted = [0, 2, 2], sorted = [0, 2, 2], mean =   2\n",
      "unsorted = [1, 2, 2], sorted = [1, 2, 2], mean =   2\n",
      "unsorted = [2, 2, 2], sorted = [2, 2, 2], mean =   2\n",
      "\n"
     ]
    }
   ],
   "source": [
    "k = 1\n",
    "n = 2*k + 1\n",
    "p = [0]*n\n",
    "\n",
    "# brute force \n",
    "# permutation\n",
    "for i in range(3**n):\n",
    "    print(f\"unsorted = {p}, sorted = {sorted(p)}, mean =   {sorted(p)[1]}\")\n",
    "    # print(p)\n",
    "    \n",
    "    # find middle of p // just normal sort\n",
    "    # by make a copy of p and sorted and pick the kth value\n",
    "    p[0] += 1\n",
    "    if p[0] == 3:\n",
    "        p[0] = 0\n",
    "        p[1] += 1\n",
    "    if p[1] == 3:\n",
    "        p[1] = 0\n",
    "        p[2] += 1\n",
    "    if (i+1) % 3 == 0:\n",
    "        print()\n",
    "    \n",
    "    \n",
    "# p"
   ]
  },
  {
   "cell_type": "raw",
   "id": "bad9db32-9902-4827-b63d-14967c6320c3",
   "metadata": {},
   "source": [
    "การจัดเรียงแบบ quick sort (จะได้เรียนในวิชาโครงสร้างข้อมูลและขั้นตอนวิธี) เป็นการจัดเรียงแบบ divide and conquer ในแต่ละขั้นของการจัดเรียงแบบนี้ จะทาการเลือกข้อมูล 1 ค่า มาเป็นค่าอ้างอิง (pivot) และทาการแบ่งข้อมูลออกเป็น 2 ชุด ได้แก่ชุดข้อมูลที่มีค่าน้อยกว่าหรือเท่ากับค่าอ้างอิง แล่ชุดข้อมูลที่มีค่ามากกว่าค่าอ้างอิง แล้วจึงส่งข้อมูลทั้งสองชุดที่ได้ไปจัดเรียงต่อ ทั้งนี้ ประสิทธิภาพของการจัดเรียงของ quick sort ขึ้นอยู่กับการเลือกค่าอ้างอิง ในกรณีที่ดีที่สุด ค่าอ้างอิงสามารถใช้แบ่งข้อมูลออกเป็นสองส่วนเท่าๆ กัน quick sort ก็จะทางานทั้งหมด log2n รอบ โดย n เป็นจานวนข้อมูล แต่ถ้าโชคร้าย ค่าอ้างอิงเป็นค่าต่าสุดหรือสูงสุด จานวนรอบในการทางานก็จะเป็น n รอบ ซึ่งทั้งสองค่าดังกล่าวต่างกันมาก เช่น หากเราต้องจัดเรียงข้อมูล 1 ล้านข้อมูล จานวนรอบการทางานจะเป็นประมาณ 20 รอบ กับ 1 ล้านรอบเลยทีเดียว\n",
    "ค่าอ้างอิงที่ดีที่สุดในที่นี้คือค่ามัธยฐาน แต่การหาค่ามัธยฐานใช้เวลาประมาณ n รอบเมื่อเที่ยบกับจานวนข้อมูล จึงไม่ทาให้ประหยัดเวลา\n",
    "สมมติว่าเราแบ่งค่าในชุดข้อมูลของเราเป็น 3 ช่วง หากเราเลือกค่าอ้างอิงจากชุดข้อมูลโดยการสุ่ม โอกาสที่เราจะได้ค่าอ้างอิงที่มาจากช่วงกลาง ซึ่งเป็นช่วงที่ดีที่สุดในการใช้เป็นค่าอ้างอิง จะเป็น 1 ใน 3\n",
    "หนึ่งในวิธีที่นิยมใช้กันคือ เลือกข้อมูลทั้งหมด 3 ข้อมูล แล้วใช้ค่าที่อยู่ตรงกลางของทั้ง 3 ข้อมูล เป็นค่าอ้างอิง ด้วยวิธีนี้ โอกาสที่จะได้ค่าอ้างอิงที่มาจากช่วงกลาง จะเป็น 13/27 (อธิบายในคลาส)\n",
    "\n",
    "งานชิ้นที่ 1 เขียนโปรแกรมภาษาไพธอน เพื่อนับจานวนกรณี และคานวณความน่าจะเป็นของโอกาสที่จะได้ค่าอ้างอิงที่มาจากช่วงกลาง จากการสุ่มเลือกค่า 2k+1 ค่า แล้วใช้ค่าที่อยู่ตรงกลางเป็นค่าอ้างอิง\n",
    "งานชิ้นที่ 2 แสดงคานวณหาความน่าจะเป็นของกรณีเลือกค่ากลางจากค่าสุ่ม 3 ค่าด้วยมือ"
   ]
  },
  {
   "cell_type": "code",
   "execution_count": 11,
   "id": "b0d71270-af5c-446e-8961-beb1598a2b1b",
   "metadata": {},
   "outputs": [],
   "source": [
    "def perm(lst):\n",
    "    if len(lst) == 0: return []\n",
    "    if len(lst) == 1: return [lst]\n",
    "    \n",
    "#   $1 : re-empty list when recurse back to here\n",
    "    l = []\n",
    "    for i in range(len(lst)):\n",
    "        # big list before recursive then $1\n",
    "        m = lst[i]\n",
    "        \n",
    "        remLst = lst[:i] + lst[i+1:]\n",
    "        # remLst = lst[:i] + lst[i:]\n",
    "        \n",
    "        for p in perm(remLst):\n",
    "            l.append([m] + p)\n",
    "    return l"
   ]
  },
  {
   "cell_type": "code",
   "execution_count": 43,
   "id": "930ad715-2e60-4fde-ab6d-b38fb9a958cc",
   "metadata": {},
   "outputs": [
    {
     "data": {
      "text/plain": [
       "[['1', '2', '3'],\n",
       " ['1', '3', '2'],\n",
       " ['2', '1', '3'],\n",
       " ['2', '3', '1'],\n",
       " ['3', '1', '2'],\n",
       " ['3', '2', '1']]"
      ]
     },
     "execution_count": 43,
     "metadata": {},
     "output_type": "execute_result"
    }
   ],
   "source": [
    "# perm([1, 2, 3])\n",
    "import numpy as np\n",
    "# perm('123')\n",
    "perm(list('123'))"
   ]
  },
  {
   "cell_type": "code",
   "execution_count": 71,
   "id": "c9e6867a-bf8b-476e-92f3-a295adefbddc",
   "metadata": {},
   "outputs": [
    {
     "data": {
      "text/plain": [
       "array([37, 12, 72,  9, 75,  5, 79, 64, 16,  1])"
      ]
     },
     "execution_count": 71,
     "metadata": {},
     "output_type": "execute_result"
    }
   ],
   "source": [
    "k = 1\n",
    "n = 2*k + 1\n",
    "\n",
    "np.random.seed(1)\n",
    "np.random.randint(0, 100, size=[10])"
   ]
  },
  {
   "cell_type": "code",
   "execution_count": 72,
   "id": "6a3ca7af-2575-4eb3-81d6-a3f6fc061923",
   "metadata": {},
   "outputs": [
    {
     "data": {
      "text/plain": [
       "3"
      ]
     },
     "execution_count": 72,
     "metadata": {},
     "output_type": "execute_result"
    }
   ],
   "source": [
    "n"
   ]
  },
  {
   "cell_type": "code",
   "execution_count": 84,
   "id": "692d39bc-82a9-4c34-9268-ddf330aace00",
   "metadata": {},
   "outputs": [
    {
     "data": {
      "text/plain": [
       "array([37, 12, 72])"
      ]
     },
     "execution_count": 84,
     "metadata": {},
     "output_type": "execute_result"
    }
   ],
   "source": [
    "np.random.seed(1)\n",
    "random_selected = np.random.randint(0, 100, size=[n])\n",
    "random_selected"
   ]
  },
  {
   "cell_type": "code",
   "execution_count": 87,
   "id": "c0b35bd7-91b5-4b73-a7d7-f418c3ad06ed",
   "metadata": {},
   "outputs": [],
   "source": [
    "# perm(random_selected.tolist())"
   ]
  },
  {
   "cell_type": "code",
   "execution_count": 88,
   "id": "1ef1cf50-67e8-4faa-a1b3-eedfd75afc31",
   "metadata": {},
   "outputs": [],
   "source": [
    "from itertools import permutations"
   ]
  },
  {
   "cell_type": "code",
   "execution_count": 89,
   "id": "ca764ba6-da96-412b-94ab-4df6fcc3be71",
   "metadata": {},
   "outputs": [
    {
     "name": "stdout",
     "output_type": "stream",
     "text": [
      "[37, 12, 72]\n",
      "[37, 72, 12]\n",
      "[12, 37, 72]\n",
      "[12, 72, 37]\n",
      "[72, 37, 12]\n",
      "[72, 12, 37]\n"
     ]
    }
   ],
   "source": [
    "for p in perm(random_selected.tolist()):\n",
    "    sorted_p = sorted(p)\n",
    "    # print(p, sorted_p)\n",
    "    print(p)\n",
    "    # print(sorted_p)"
   ]
  },
  {
   "cell_type": "code",
   "execution_count": 92,
   "id": "8f11caaf-973f-4056-83eb-8d014392fda5",
   "metadata": {},
   "outputs": [
    {
     "name": "stdout",
     "output_type": "stream",
     "text": [
      "(37, 12, 72)\n",
      "(37, 72, 12)\n",
      "(12, 37, 72)\n",
      "(12, 72, 37)\n",
      "(72, 37, 12)\n",
      "(72, 12, 37)\n"
     ]
    }
   ],
   "source": [
    "for p in permutations(random_selected):\n",
    "    print(p)"
   ]
  },
  {
   "cell_type": "code",
   "execution_count": 49,
   "id": "309074c0-f666-4438-8ee3-4d6ff16026d7",
   "metadata": {},
   "outputs": [
    {
     "data": {
      "text/plain": [
       "[[76, 71, 6], [76, 6, 71], [71, 76, 6], [71, 6, 76], [6, 76, 71], [6, 71, 76]]"
      ]
     },
     "execution_count": 49,
     "metadata": {},
     "output_type": "execute_result"
    }
   ],
   "source": [
    "list('123')\n",
    "perm(random_selected.tolist())"
   ]
  },
  {
   "cell_type": "code",
   "execution_count": 50,
   "id": "6db5a599-213c-4710-9dfd-d7570da5088d",
   "metadata": {},
   "outputs": [
    {
     "data": {
      "text/plain": [
       "[[4, 5, 6], [4, 6, 5], [5, 4, 6], [5, 6, 4], [6, 4, 5], [6, 5, 4]]"
      ]
     },
     "execution_count": 50,
     "metadata": {},
     "output_type": "execute_result"
    }
   ],
   "source": [
    "perm([4, 5, 6])"
   ]
  },
  {
   "cell_type": "code",
   "execution_count": null,
   "id": "cd92f036-b0bd-4e1f-ba48-b98ad86095e6",
   "metadata": {},
   "outputs": [],
   "source": []
  },
  {
   "cell_type": "code",
   "execution_count": 95,
   "id": "738eb8f9-f08c-4e8a-b0cd-a3ff626710dc",
   "metadata": {},
   "outputs": [
    {
     "ename": "SyntaxError",
     "evalue": "invalid syntax (461907052.py, line 1)",
     "output_type": "error",
     "traceback": [
      "\u001b[0;36m  Input \u001b[0;32mIn [95]\u001b[0;36m\u001b[0m\n\u001b[0;31m    0 0 0\u001b[0m\n\u001b[0m      ^\u001b[0m\n\u001b[0;31mSyntaxError\u001b[0m\u001b[0;31m:\u001b[0m invalid syntax\n"
     ]
    }
   ],
   "source": [
    "0 0 0"
   ]
  },
  {
   "cell_type": "code",
   "execution_count": 96,
   "id": "28bbe880-422a-4703-b49c-dcfa67c29d43",
   "metadata": {},
   "outputs": [
    {
     "data": {
      "text/plain": [
       "array([0, 1, 2])"
      ]
     },
     "execution_count": 96,
     "metadata": {},
     "output_type": "execute_result"
    }
   ],
   "source": [
    "h_arr = np.array([0, 1, 2])\n",
    "h_arr"
   ]
  },
  {
   "cell_type": "code",
   "execution_count": 97,
   "id": "b631a06b-1407-4bcc-acbd-e954e9679a81",
   "metadata": {},
   "outputs": [
    {
     "data": {
      "text/plain": [
       "9"
      ]
     },
     "execution_count": 97,
     "metadata": {},
     "output_type": "execute_result"
    }
   ],
   "source": [
    "3*3"
   ]
  },
  {
   "cell_type": "code",
   "execution_count": 100,
   "id": "78018bc7-b52a-4ae9-b477-9c7f51a9d1ee",
   "metadata": {},
   "outputs": [
    {
     "data": {
      "text/plain": [
       "array([0, 1, 2])"
      ]
     },
     "execution_count": 100,
     "metadata": {},
     "output_type": "execute_result"
    }
   ],
   "source": [
    "h_arr.T"
   ]
  },
  {
   "cell_type": "code",
   "execution_count": 102,
   "id": "1071291f-a8e0-4f46-8b3a-4f8f6c9b56ee",
   "metadata": {},
   "outputs": [
    {
     "data": {
      "text/plain": [
       "array([0, 1])"
      ]
     },
     "execution_count": 102,
     "metadata": {},
     "output_type": "execute_result"
    }
   ],
   "source": [
    "v_arr = np.array([0,1])\n",
    "v_arr"
   ]
  },
  {
   "cell_type": "code",
   "execution_count": null,
   "id": "717e52f8-702d-4590-a872-f6fdf01e57a4",
   "metadata": {},
   "outputs": [],
   "source": []
  }
 ],
 "metadata": {
  "kernelspec": {
   "display_name": "Python 3 (ipykernel)",
   "language": "python",
   "name": "python3"
  },
  "language_info": {
   "codemirror_mode": {
    "name": "ipython",
    "version": 3
   },
   "file_extension": ".py",
   "mimetype": "text/x-python",
   "name": "python",
   "nbconvert_exporter": "python",
   "pygments_lexer": "ipython3",
   "version": "3.9.12"
  }
 },
 "nbformat": 4,
 "nbformat_minor": 5
}
