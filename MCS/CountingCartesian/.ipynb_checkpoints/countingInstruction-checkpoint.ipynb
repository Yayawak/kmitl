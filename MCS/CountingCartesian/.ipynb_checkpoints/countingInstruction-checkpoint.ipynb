{
 "cells": [
  {
   "cell_type": "code",
   "execution_count": 2,
   "id": "08b7e2a3-fbae-4a8d-a7be-36b6b27dcdc0",
   "metadata": {},
   "outputs": [
    {
     "data": {
      "text/plain": [
       "3"
      ]
     },
     "execution_count": 2,
     "metadata": {},
     "output_type": "execute_result"
    }
   ],
   "source": [
    "k = 1\n",
    "\n",
    "n = 2*k + 1\n",
    "p = [0]*n\n",
    "# p\n",
    "n"
   ]
  },
  {
   "cell_type": "code",
   "execution_count": 3,
   "id": "3e901560-e7ca-4c71-af90-ee8af8dc5a49",
   "metadata": {},
   "outputs": [
    {
     "data": {
      "text/plain": [
       "[99, 99, 99]"
      ]
     },
     "execution_count": 3,
     "metadata": {},
     "output_type": "execute_result"
    }
   ],
   "source": [
    "[99] * 3"
   ]
  },
  {
   "cell_type": "code",
   "execution_count": 4,
   "id": "d405a1d1-f51c-421e-91a0-2c9755085c3e",
   "metadata": {},
   "outputs": [
    {
     "data": {
      "text/plain": [
       "[1, 5, 3, 1, 5, 3, 1, 5, 3]"
      ]
     },
     "execution_count": 4,
     "metadata": {},
     "output_type": "execute_result"
    }
   ],
   "source": [
    "[1, 5, 3] * 3"
   ]
  },
  {
   "cell_type": "code",
   "execution_count": 5,
   "id": "ee051057-ec4e-47fe-b638-9029cce96ecb",
   "metadata": {},
   "outputs": [
    {
     "data": {
      "text/plain": [
       "[0, 0, 0]"
      ]
     },
     "execution_count": 5,
     "metadata": {},
     "output_type": "execute_result"
    }
   ],
   "source": [
    "p"
   ]
  },
  {
   "cell_type": "code",
   "execution_count": 6,
   "id": "f733a1b1-5018-45c0-a8b9-5b7bc048b0af",
   "metadata": {},
   "outputs": [
    {
     "data": {
      "text/plain": [
       "array([297,   3,   9,  15])"
      ]
     },
     "execution_count": 6,
     "metadata": {},
     "output_type": "execute_result"
    }
   ],
   "source": [
    "import numpy as np\n",
    "np.array([99, 1, 3, 5]) * 3"
   ]
  },
  {
   "cell_type": "code",
   "execution_count": 7,
   "id": "bc05969e-aa8b-4e22-8a69-81322d9642ca",
   "metadata": {},
   "outputs": [
    {
     "name": "stdout",
     "output_type": "stream",
     "text": [
      "unsorted = [0, 0, 0] [0, 0, 0]  mean =   0\n",
      "unsorted = [1, 0, 0] [0, 0, 1]  mean =   0\n",
      "unsorted = [2, 0, 0] [0, 0, 2]  mean =   0\n",
      "\n",
      "unsorted = [0, 1, 0] [0, 0, 1]  mean =   0\n",
      "unsorted = [1, 1, 0] [0, 1, 1]  mean =   1\n",
      "unsorted = [2, 1, 0] [0, 1, 2]  mean =   1\n",
      "\n",
      "unsorted = [0, 2, 0] [0, 0, 2]  mean =   0\n",
      "unsorted = [1, 2, 0] [0, 1, 2]  mean =   1\n",
      "unsorted = [2, 2, 0] [0, 2, 2]  mean =   2\n",
      "\n",
      "unsorted = [0, 0, 1] [0, 0, 1]  mean =   0\n",
      "unsorted = [1, 0, 1] [0, 1, 1]  mean =   1\n",
      "unsorted = [2, 0, 1] [0, 1, 2]  mean =   1\n",
      "\n",
      "unsorted = [0, 1, 1] [0, 1, 1]  mean =   1\n",
      "unsorted = [1, 1, 1] [1, 1, 1]  mean =   1\n",
      "unsorted = [2, 1, 1] [1, 1, 2]  mean =   1\n",
      "\n",
      "unsorted = [0, 2, 1] [0, 1, 2]  mean =   1\n",
      "unsorted = [1, 2, 1] [1, 1, 2]  mean =   1\n",
      "unsorted = [2, 2, 1] [1, 2, 2]  mean =   2\n",
      "\n",
      "unsorted = [0, 0, 2] [0, 0, 2]  mean =   0\n",
      "unsorted = [1, 0, 2] [0, 1, 2]  mean =   1\n",
      "unsorted = [2, 0, 2] [0, 2, 2]  mean =   2\n",
      "\n",
      "unsorted = [0, 1, 2] [0, 1, 2]  mean =   1\n",
      "unsorted = [1, 1, 2] [1, 1, 2]  mean =   1\n",
      "unsorted = [2, 1, 2] [1, 2, 2]  mean =   2\n",
      "\n",
      "unsorted = [0, 2, 2] [0, 2, 2]  mean =   2\n",
      "unsorted = [1, 2, 2] [1, 2, 2]  mean =   2\n",
      "unsorted = [2, 2, 2] [2, 2, 2]  mean =   2\n",
      "\n"
     ]
    }
   ],
   "source": [
    "k = 1\n",
    "n = 2*k + 1\n",
    "p = [0]*n\n",
    "\n",
    "# brute force permutation\n",
    "for i in range(3**n):\n",
    "    print(f\"unsorted = {p} {sorted(p)}  mean =   {sorted(p)[1]}\")\n",
    "    # print(p)\n",
    "    \n",
    "    # find middle of p // just normal sort\n",
    "    # by make a copy of p and sorted and pick the kth value\n",
    "    p[0] += 1\n",
    "    if p[0] == 3:\n",
    "        p[0] = 0\n",
    "        p[1] += 1\n",
    "    if p[1] == 3:\n",
    "        p[1] = 0\n",
    "        p[2] += 1\n",
    "    if (i+1) % 3 == 0:\n",
    "        print()\n",
    "    \n",
    "    \n",
    "# p"
   ]
  },
  {
   "cell_type": "raw",
   "id": "bad9db32-9902-4827-b63d-14967c6320c3",
   "metadata": {},
   "source": [
    "การจัดเรียงแบบ quick sort (จะได้เรียนในวิชาโครงสร้างข้อมูลและขั้นตอนวิธี) เป็นการจัดเรียงแบบ divide and conquer ในแต่ละขั้นของการจัดเรียงแบบนี้ จะทาการเลือกข้อมูล 1 ค่า มาเป็นค่าอ้างอิง (pivot) และทาการแบ่งข้อมูลออกเป็น 2 ชุด ได้แก่ชุดข้อมูลที่มีค่าน้อยกว่าหรือเท่ากับค่าอ้างอิง แล่ชุดข้อมูลที่มีค่ามากกว่าค่าอ้างอิง แล้วจึงส่งข้อมูลทั้งสองชุดที่ได้ไปจัดเรียงต่อ ทั้งนี้ ประสิทธิภาพของการจัดเรียงของ quick sort ขึ้นอยู่กับการเลือกค่าอ้างอิง ในกรณีที่ดีที่สุด ค่าอ้างอิงสามารถใช้แบ่งข้อมูลออกเป็นสองส่วนเท่าๆ กัน quick sort ก็จะทางานทั้งหมด log2n รอบ โดย n เป็นจานวนข้อมูล แต่ถ้าโชคร้าย ค่าอ้างอิงเป็นค่าต่าสุดหรือสูงสุด จานวนรอบในการทางานก็จะเป็น n รอบ ซึ่งทั้งสองค่าดังกล่าวต่างกันมาก เช่น หากเราต้องจัดเรียงข้อมูล 1 ล้านข้อมูล จานวนรอบการทางานจะเป็นประมาณ 20 รอบ กับ 1 ล้านรอบเลยทีเดียว\n",
    "ค่าอ้างอิงที่ดีที่สุดในที่นี้คือค่ามัธยฐาน แต่การหาค่ามัธยฐานใช้เวลาประมาณ n รอบเมื่อเที่ยบกับจานวนข้อมูล จึงไม่ทาให้ประหยัดเวลา\n",
    "สมมติว่าเราแบ่งค่าในชุดข้อมูลของเราเป็น 3 ช่วง หากเราเลือกค่าอ้างอิงจากชุดข้อมูลโดยการสุ่ม โอกาสที่เราจะได้ค่าอ้างอิงที่มาจากช่วงกลาง ซึ่งเป็นช่วงที่ดีที่สุดในการใช้เป็นค่าอ้างอิง จะเป็น 1 ใน 3\n",
    "หนึ่งในวิธีที่นิยมใช้กันคือ เลือกข้อมูลทั้งหมด 3 ข้อมูล แล้วใช้ค่าที่อยู่ตรงกลางของทั้ง 3 ข้อมูล เป็นค่าอ้างอิง ด้วยวิธีนี้ โอกาสที่จะได้ค่าอ้างอิงที่มาจากช่วงกลาง จะเป็น 13/27 (อธิบายในคลาส)\n",
    "งานชิ้นที่ 1 เขียนโปรแกรมภาษาไพธอน เพื่อนับจานวนกรณี และคานวณความน่าจะเป็นของโอกาสที่จะได้ค่าอ้างอิงที่มาจากช่วงกลาง จากการสุ่มเลือกค่า 2k+1 ค่า แล้วใช้ค่าที่อยู่ตรงกลางเป็นค่าอ้างอิง\n",
    "งานชิ้นที่ 2 แสดงคานวณหาความน่าจะเป็นของกรณีเลือกค่ากลางจากค่าสุ่ม 3 ค่าด้วยมือ"
   ]
  },
  {
   "cell_type": "code",
   "execution_count": 8,
   "id": "b0d71270-af5c-446e-8961-beb1598a2b1b",
   "metadata": {},
   "outputs": [],
   "source": [
    "def perm(lst):\n",
    "    if len(lst) == 0: return []\n",
    "    if len(lst) == 1: return [lst]\n",
    "    \n",
    "#   $1 : re-empty list when recurse back to here\n",
    "    l = []\n",
    "    for i in range(len(lst)):\n",
    "        # big list before recursive then $1\n",
    "        m = lst[i]\n",
    "        \n",
    "        remLst = lst[:i] + lst[i+1:]\n",
    "        # remLst = lst[:i] + lst[i:]\n",
    "        \n",
    "        for p in perm(remLst):\n",
    "            l.append([m] + p)\n",
    "    return l"
   ]
  },
  {
   "cell_type": "code",
   "execution_count": 10,
   "id": "930ad715-2e60-4fde-ab6d-b38fb9a958cc",
   "metadata": {},
   "outputs": [
    {
     "ename": "RecursionError",
     "evalue": "maximum recursion depth exceeded while calling a Python object",
     "output_type": "error",
     "traceback": [
      "\u001b[0;31m---------------------------------------------------------------------------\u001b[0m",
      "\u001b[0;31mRecursionError\u001b[0m                            Traceback (most recent call last)",
      "Input \u001b[0;32mIn [10]\u001b[0m, in \u001b[0;36m<cell line: 2>\u001b[0;34m()\u001b[0m\n\u001b[1;32m      1\u001b[0m \u001b[38;5;66;03m# perm([1, 2, 3])\u001b[39;00m\n\u001b[0;32m----> 2\u001b[0m \u001b[43mperm\u001b[49m\u001b[43m(\u001b[49m\u001b[38;5;124;43m'\u001b[39;49m\u001b[38;5;124;43m123\u001b[39;49m\u001b[38;5;124;43m'\u001b[39;49m\u001b[43m)\u001b[49m\n",
      "Input \u001b[0;32mIn [8]\u001b[0m, in \u001b[0;36mperm\u001b[0;34m(lst)\u001b[0m\n\u001b[1;32m     11\u001b[0m     \u001b[38;5;66;03m# remLst = lst[:i] + lst[i+1:]\u001b[39;00m\n\u001b[1;32m     12\u001b[0m     remLst \u001b[38;5;241m=\u001b[39m lst[:i] \u001b[38;5;241m+\u001b[39m lst[i:]\n\u001b[0;32m---> 14\u001b[0m     \u001b[38;5;28;01mfor\u001b[39;00m p \u001b[38;5;129;01min\u001b[39;00m \u001b[43mperm\u001b[49m\u001b[43m(\u001b[49m\u001b[43mremLst\u001b[49m\u001b[43m)\u001b[49m:\n\u001b[1;32m     15\u001b[0m         l\u001b[38;5;241m.\u001b[39mappend([m] \u001b[38;5;241m+\u001b[39m p)\n\u001b[1;32m     16\u001b[0m \u001b[38;5;28;01mreturn\u001b[39;00m l\n",
      "Input \u001b[0;32mIn [8]\u001b[0m, in \u001b[0;36mperm\u001b[0;34m(lst)\u001b[0m\n\u001b[1;32m     11\u001b[0m     \u001b[38;5;66;03m# remLst = lst[:i] + lst[i+1:]\u001b[39;00m\n\u001b[1;32m     12\u001b[0m     remLst \u001b[38;5;241m=\u001b[39m lst[:i] \u001b[38;5;241m+\u001b[39m lst[i:]\n\u001b[0;32m---> 14\u001b[0m     \u001b[38;5;28;01mfor\u001b[39;00m p \u001b[38;5;129;01min\u001b[39;00m \u001b[43mperm\u001b[49m\u001b[43m(\u001b[49m\u001b[43mremLst\u001b[49m\u001b[43m)\u001b[49m:\n\u001b[1;32m     15\u001b[0m         l\u001b[38;5;241m.\u001b[39mappend([m] \u001b[38;5;241m+\u001b[39m p)\n\u001b[1;32m     16\u001b[0m \u001b[38;5;28;01mreturn\u001b[39;00m l\n",
      "    \u001b[0;31m[... skipping similar frames: perm at line 14 (2969 times)]\u001b[0m\n",
      "Input \u001b[0;32mIn [8]\u001b[0m, in \u001b[0;36mperm\u001b[0;34m(lst)\u001b[0m\n\u001b[1;32m     11\u001b[0m     \u001b[38;5;66;03m# remLst = lst[:i] + lst[i+1:]\u001b[39;00m\n\u001b[1;32m     12\u001b[0m     remLst \u001b[38;5;241m=\u001b[39m lst[:i] \u001b[38;5;241m+\u001b[39m lst[i:]\n\u001b[0;32m---> 14\u001b[0m     \u001b[38;5;28;01mfor\u001b[39;00m p \u001b[38;5;129;01min\u001b[39;00m \u001b[43mperm\u001b[49m\u001b[43m(\u001b[49m\u001b[43mremLst\u001b[49m\u001b[43m)\u001b[49m:\n\u001b[1;32m     15\u001b[0m         l\u001b[38;5;241m.\u001b[39mappend([m] \u001b[38;5;241m+\u001b[39m p)\n\u001b[1;32m     16\u001b[0m \u001b[38;5;28;01mreturn\u001b[39;00m l\n",
      "Input \u001b[0;32mIn [8]\u001b[0m, in \u001b[0;36mperm\u001b[0;34m(lst)\u001b[0m\n\u001b[1;32m      1\u001b[0m \u001b[38;5;28;01mdef\u001b[39;00m \u001b[38;5;21mperm\u001b[39m(lst):\n\u001b[0;32m----> 2\u001b[0m     \u001b[38;5;28;01mif\u001b[39;00m \u001b[38;5;28;43mlen\u001b[39;49m\u001b[43m(\u001b[49m\u001b[43mlst\u001b[49m\u001b[43m)\u001b[49m \u001b[38;5;241m==\u001b[39m \u001b[38;5;241m0\u001b[39m: \u001b[38;5;28;01mreturn\u001b[39;00m []\n\u001b[1;32m      3\u001b[0m     \u001b[38;5;28;01mif\u001b[39;00m \u001b[38;5;28mlen\u001b[39m(lst) \u001b[38;5;241m==\u001b[39m \u001b[38;5;241m1\u001b[39m: \u001b[38;5;28;01mreturn\u001b[39;00m [lst]\n\u001b[1;32m      5\u001b[0m \u001b[38;5;66;03m#   $1 : re-empty list when recurse back to here\u001b[39;00m\n",
      "\u001b[0;31mRecursionError\u001b[0m: maximum recursion depth exceeded while calling a Python object"
     ]
    }
   ],
   "source": [
    "# perm([1, 2, 3])\n",
    "perm('123')"
   ]
  },
  {
   "cell_type": "code",
   "execution_count": null,
   "id": "6db5a599-213c-4710-9dfd-d7570da5088d",
   "metadata": {},
   "outputs": [],
   "source": []
  }
 ],
 "metadata": {
  "kernelspec": {
   "display_name": "Python 3 (ipykernel)",
   "language": "python",
   "name": "python3"
  },
  "language_info": {
   "codemirror_mode": {
    "name": "ipython",
    "version": 3
   },
   "file_extension": ".py",
   "mimetype": "text/x-python",
   "name": "python",
   "nbconvert_exporter": "python",
   "pygments_lexer": "ipython3",
   "version": "3.9.12"
  }
 },
 "nbformat": 4,
 "nbformat_minor": 5
}
