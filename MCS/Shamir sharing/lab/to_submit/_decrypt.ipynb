{
 "cells": [
  {
   "cell_type": "code",
   "execution_count": 2,
   "id": "e985c785-6584-47c1-96d9-1e3d6f714bd8",
   "metadata": {},
   "outputs": [],
   "source": [
    "def _extended_gcd(a, b):\n",
    "    \"\"\"\n",
    "    Division in integers modulus p means finding the inverse of the\n",
    "    denominator modulo p and then multiplying the numerator by this\n",
    "    inverse (Note: inverse of A is B such that A*B % p == 1). This can\n",
    "    be computed via the extended Euclidean algorithm\n",
    "    http://en.wikipedia.org/wiki/Modular_multiplicative_inverse#Computation\n",
    "    \"\"\"\n",
    "    x = 0\n",
    "    last_x = 1\n",
    "    y = 1\n",
    "    last_y = 0\n",
    "    while b != 0:\n",
    "        quot = a // b\n",
    "        a, b = b, a % b\n",
    "        x, last_x = last_x - quot * x, x\n",
    "        y, last_y = last_y - quot * y, y\n",
    "    return last_x, last_y\n",
    "\n",
    "def _divmod(num, den, p):\n",
    "    \"\"\"Compute num / den modulo prime p\n",
    "\n",
    "    To explain this, the result will be such that: \n",
    "    den * _divmod(num, den, p) % p == num\n",
    "    \"\"\"\n",
    "    inv, _ = _extended_gcd(den, p)\n",
    "    return num * inv\n",
    "\n",
    "def _lagrange_interpolate(x, x_s, y_s, p):\n",
    "    \"\"\"\n",
    "    Find the y-value for the given x, given n (x, y) points;\n",
    "    k points will define a polynomial of up to kth order.\n",
    "    \"\"\"\n",
    "    k = len(x_s)\n",
    "    assert k == len(set(x_s)), \"points must be distinct\"\n",
    "    def PI(vals):  # upper-case PI -- product of inputs\n",
    "        accum = 1\n",
    "        for v in vals:\n",
    "            accum *= v\n",
    "        return accum\n",
    "    nums = []  # avoid inexact division\n",
    "    dens = []\n",
    "    for i in range(k):\n",
    "        others = list(x_s)\n",
    "        cur = others.pop(i)\n",
    "        nums.append(PI(x - o for o in others))\n",
    "        dens.append(PI(cur - o for o in others))\n",
    "    den = PI(dens)\n",
    "    num = sum([_divmod(nums[i] * den * y_s[i] % p, dens[i], p)\n",
    "               for i in range(k)])\n",
    "    return (_divmod(num, den, p) + p) % p\n",
    "\n",
    "# def recover_secret(shares, prime=_PRIME):\n",
    "def recover_secret(shares, prime):\n",
    "    \"\"\"\n",
    "    Recover the secret from share points\n",
    "    (points (x,y) on the polynomial).\n",
    "    \"\"\"\n",
    "    if len(shares) < 3:\n",
    "        raise ValueError(\"need at least three shares\")\n",
    "    x_s, y_s = zip(*shares)\n",
    "    return _lagrange_interpolate(0, x_s, y_s, prime)\n",
    "\n"
   ]
  },
  {
   "cell_type": "code",
   "execution_count": 3,
   "id": "fb30a088-7c87-4ba5-aaf3-ef0682db7dc6",
   "metadata": {},
   "outputs": [
    {
     "ename": "TypeError",
     "evalue": "recover_secret() missing 2 required positional arguments: 'shares' and 'prime'",
     "output_type": "error",
     "traceback": [
      "\u001b[0;31m---------------------------------------------------------------------------\u001b[0m",
      "\u001b[0;31mTypeError\u001b[0m                                 Traceback (most recent call last)",
      "\u001b[0;32m/var/folders/tq/1dn18qvs46z75s3216p47sbm0000gn/T/ipykernel_20919/1410139006.py\u001b[0m in \u001b[0;36m<module>\u001b[0;34m\u001b[0m\n\u001b[0;32m----> 1\u001b[0;31m \u001b[0mrecover_secret\u001b[0m\u001b[0;34m(\u001b[0m\u001b[0;34m)\u001b[0m\u001b[0;34m\u001b[0m\u001b[0;34m\u001b[0m\u001b[0m\n\u001b[0m",
      "\u001b[0;31mTypeError\u001b[0m: recover_secret() missing 2 required positional arguments: 'shares' and 'prime'"
     ]
    }
   ],
   "source": [
    "recover_secret()"
   ]
  },
  {
   "cell_type": "code",
   "execution_count": null,
   "id": "f6ba3bde-cbc6-481e-b7fe-17732b1b00b1",
   "metadata": {},
   "outputs": [],
   "source": []
  }
 ],
 "metadata": {
  "kernelspec": {
   "display_name": "Python 3 (ipykernel)",
   "language": "python",
   "name": "python3"
  },
  "language_info": {
   "codemirror_mode": {
    "name": "ipython",
    "version": 3
   },
   "file_extension": ".py",
   "mimetype": "text/x-python",
   "name": "python",
   "nbconvert_exporter": "python",
   "pygments_lexer": "ipython3",
   "version": "3.9.13"
  }
 },
 "nbformat": 4,
 "nbformat_minor": 5
}
