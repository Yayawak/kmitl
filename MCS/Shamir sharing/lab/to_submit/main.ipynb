{
 "cells": [
  {
   "cell_type": "code",
   "execution_count": 93,
   "id": "984ec303-e4a5-4dc4-948d-10788f60315d",
   "metadata": {},
   "outputs": [
    {
     "data": {
      "text/plain": [
       "8191"
      ]
     },
     "execution_count": 93,
     "metadata": {},
     "output_type": "execute_result"
    }
   ],
   "source": [
    "2 ** 13 - 1\n"
   ]
  },
  {
   "cell_type": "code",
   "execution_count": null,
   "id": "8acc13bb-3873-45b6-ba80-455a1b68b00d",
   "metadata": {},
   "outputs": [],
   "source": [
    "\n",
    "\n",
    "\n",
    "\n",
    "\n"
   ]
  },
  {
   "cell_type": "code",
   "execution_count": null,
   "id": "b530a5b8-6e13-4e11-bd05-4ee8608d442c",
   "metadata": {},
   "outputs": [],
   "source": [
    "\n",
    "\n",
    "\n"
   ]
  },
  {
   "cell_type": "code",
   "execution_count": 70,
   "id": "59dd46ff-5a0c-400d-8668-b6f654b91f40",
   "metadata": {},
   "outputs": [],
   "source": [
    "from encrypt import make_random_shares\n",
    "from decrypt import *"
   ]
  },
  {
   "cell_type": "code",
   "execution_count": 71,
   "id": "2f126e99-0361-40b3-9715-5695a30fc2ba",
   "metadata": {},
   "outputs": [
    {
     "data": {
      "text/plain": [
       "([(1, 578), (2, 1111), (3, 2833), (4, 1649), (5, 1654), (6, 2848)],\n",
       " [1234, 797, 2642])"
      ]
     },
     "execution_count": 71,
     "metadata": {},
     "output_type": "execute_result"
    }
   ],
   "source": [
    "make_random_shares(1234, minimum=3, shares=6, prime=2**12-1)"
   ]
  },
  {
   "cell_type": "code",
   "execution_count": 72,
   "id": "cb3491d4-e536-4c7f-8f97-4865594f284b",
   "metadata": {},
   "outputs": [
    {
     "name": "stdout",
     "output_type": "stream",
     "text": [
      "Shares\n",
      "   (1, 440)\n",
      "   (2, 2281)\n",
      "   (3, 1311)\n",
      "   (4, 253)\n",
      "   (5, 1830)\n",
      "   (6, 596)\n"
     ]
    },
    {
     "ename": "TypeError",
     "evalue": "recover_secret() missing 1 required positional argument: 'minimum'",
     "output_type": "error",
     "traceback": [
      "\u001b[0;31m---------------------------------------------------------------------------\u001b[0m",
      "\u001b[0;31mTypeError\u001b[0m                                 Traceback (most recent call last)",
      "\u001b[0;32m/var/folders/tq/1dn18qvs46z75s3216p47sbm0000gn/T/ipykernel_4736/1197326808.py\u001b[0m in \u001b[0;36m<module>\u001b[0;34m\u001b[0m\n\u001b[1;32m     18\u001b[0m \u001b[0;34m\u001b[0m\u001b[0m\n\u001b[1;32m     19\u001b[0m \u001b[0;32mif\u001b[0m \u001b[0m__name__\u001b[0m \u001b[0;34m==\u001b[0m \u001b[0;34m'__main__'\u001b[0m\u001b[0;34m:\u001b[0m\u001b[0;34m\u001b[0m\u001b[0;34m\u001b[0m\u001b[0m\n\u001b[0;32m---> 20\u001b[0;31m     \u001b[0mmain\u001b[0m\u001b[0;34m(\u001b[0m\u001b[0;34m)\u001b[0m\u001b[0;34m\u001b[0m\u001b[0;34m\u001b[0m\u001b[0m\n\u001b[0m",
      "\u001b[0;32m/var/folders/tq/1dn18qvs46z75s3216p47sbm0000gn/T/ipykernel_4736/1197326808.py\u001b[0m in \u001b[0;36mmain\u001b[0;34m()\u001b[0m\n\u001b[1;32m     13\u001b[0m \u001b[0;34m\u001b[0m\u001b[0m\n\u001b[1;32m     14\u001b[0m     print('Secret recovered from minimum subset of shares:             ',\n\u001b[0;32m---> 15\u001b[0;31m           recover_secret(shares[:3], p))\n\u001b[0m\u001b[1;32m     16\u001b[0m     \u001b[0;31m# print('Secret recovered from a different minimum subset of shares: ',\u001b[0m\u001b[0;34m\u001b[0m\u001b[0;34m\u001b[0m\u001b[0m\n\u001b[1;32m     17\u001b[0m           \u001b[0;31m# recover_secret(shares[-3:]))\u001b[0m\u001b[0;34m\u001b[0m\u001b[0;34m\u001b[0m\u001b[0m\n",
      "\u001b[0;31mTypeError\u001b[0m: recover_secret() missing 1 required positional argument: 'minimum'"
     ]
    }
   ],
   "source": [
    "\n",
    "\n",
    "def main():\n",
    "    \"\"\"Main function\"\"\"\n",
    "    secret = 1234\n",
    "    p = 2723\n",
    "\n",
    "    # receive_secret()\n",
    "    \n",
    "    shares, _ = make_random_shares(1234, minimum=3, shares=6, prime=p)\n",
    "    print(\"Shares\")\n",
    "    if shares:\n",
    "        for share in shares:\n",
    "            print('  ', share)\n",
    "\n",
    "    print('Secret recovered from minimum subset of shares:             ',\n",
    "          recover_secret(shares[:3], p))\n",
    "    # print('Secret recovered from a different minimum subset of shares: ',\n",
    "          # recover_secret(shares[-3:]))\n",
    "\n",
    "if __name__ == '__main__':\n",
    "    main()"
   ]
  },
  {
   "cell_type": "code",
   "execution_count": 73,
   "id": "ddcae79e-d0f4-4450-96fc-fb638c19a359",
   "metadata": {},
   "outputs": [],
   "source": [
    "# ENCODER\n",
    "import os\n",
    "\n",
    "def receive_secret():\n",
    "    S = int(input(\"Enter you secret\"))\n",
    "    # p = int(input(\"Enter you prime\"))\n",
    "    p = 1723\n",
    "    shares, poly = make_random_shares(S, minimum=3,\n",
    "                                shares=6,\n",
    "                               prime=p)\n",
    "    path = \"Output/EncoderOutput.txt\"\n",
    "    if not os.path.exists(\"Output\"):\n",
    "        os.makedirs(\"Output\")\n",
    "    with open(path, 'w', encoding='utf-8') as f:\n",
    "        f.write(\"Secret is : \" + str(S) + \"\\n\")\n",
    "        f.write(\"Shares from encryption are : \\t\")\n",
    "        f.write(\" \".join([str(elem) for elem in shares]) + \"\\n\")\n",
    "        f.write(\"polynomial is : \\t\")\n",
    "        f.write(\" \".join([str(elem) for elem in poly]) + \"\\n\")\n",
    "        f.write(\"\\n\\n\")\n",
    "\n",
    "\n",
    "    # print('Secret:', secret)\n",
    "    print('Shares from encryption :', shares)"
   ]
  },
  {
   "cell_type": "code",
   "execution_count": null,
   "id": "15632a56-db59-4cc8-953b-30b0616b19f2",
   "metadata": {},
   "outputs": [],
   "source": []
  },
  {
   "cell_type": "code",
   "execution_count": 74,
   "id": "79dbac39-8fab-45ea-a98e-9f940661e15f",
   "metadata": {},
   "outputs": [],
   "source": [
    "# DECODER\n",
    "from scipy.interpolate import lagrange\n",
    "from numpy.polynomial.polynomial import Polynomial\n",
    "import numpy as np\n",
    "\n",
    "\n",
    "shares = []\n",
    "def recieve_shares_from_keyboard():\n",
    "    x = []\n",
    "    y = []\n",
    "    minimum = int(input(\"Enter threshold to unlock secret : \"))\n",
    "    for i in range(minimum):\n",
    "        share = input(\"Enter you coordination : \").split()\n",
    "        share = [int(share[0]), (share[1])] # x, y => int\n",
    "        shares.append(share)\n",
    "        \n",
    "        x.append(int(share[0]))\n",
    "        y.append(int(share[1]))\n",
    "    print(\"polynomial coefficients is : \", poly(x, y))\n",
    "    recover_secret(shares[:minimum])\n",
    "        \n",
    "    print(shares)\n",
    "def poly(x,y):\n",
    "    x_1 = np.array(x)\n",
    "    y_1 = np.array(y)\n",
    "    poly = lagrange(x_1, y_1)\n",
    "    P_coeff = np.array(Polynomial(poly).coef)\n",
    "    reverse_P_coeff = P_coeff[::-1]\n",
    "    P = Polynomial(reverse_P_coeff)\n",
    "    return P\n",
    "\n",
    "\n"
   ]
  },
  {
   "cell_type": "code",
   "execution_count": 75,
   "id": "97215d50-08d9-41b0-a3da-ea263818c7dd",
   "metadata": {},
   "outputs": [],
   "source": [
    "from scipy.interpolate import lagrange\n",
    "from numpy.polynomial.polynomial import Polynomial"
   ]
  },
  {
   "cell_type": "code",
   "execution_count": 76,
   "id": "48c06017-1985-4288-b4e9-710857d18a39",
   "metadata": {},
   "outputs": [
    {
     "data": {
      "text/plain": [
       "[]"
      ]
     },
     "execution_count": 76,
     "metadata": {},
     "output_type": "execute_result"
    }
   ],
   "source": [
    "shares"
   ]
  },
  {
   "cell_type": "code",
   "execution_count": 77,
   "id": "fcda3735-0d69-4952-8414-15670396c992",
   "metadata": {},
   "outputs": [
    {
     "name": "stdout",
     "output_type": "stream",
     "text": [
      "Secret recoverd from minimum subset of shares :\t 15\n"
     ]
    }
   ],
   "source": [
    "minimum = 2\n",
    "p = 1723\n",
    "shares = [[1, 9], [2, 3]]\n",
    "S = recover_secret(shares[:minimum], p, minimum)\n",
    "print(\"Secret recoverd from minimum subset of shares :\\t\", S)"
   ]
  },
  {
   "cell_type": "code",
   "execution_count": 78,
   "id": "c85f23be-672b-4b7a-a880-2113a26a2303",
   "metadata": {},
   "outputs": [
    {
     "data": {
      "text/plain": [
       "poly1d([-125.,  525., -350.])"
      ]
     },
     "execution_count": 78,
     "metadata": {},
     "output_type": "execute_result"
    }
   ],
   "source": [
    "# Polynomial([1, 2, 3], [50, 200, 100])\n",
    "x = [1, 2, 3]\n",
    "y = [50, 200, 100]\n",
    "poly = lagrange(x, y)\n",
    "poly"
   ]
  },
  {
   "cell_type": "code",
   "execution_count": 79,
   "id": "9261aaea-b75b-4017-ae7e-84985009aa4f",
   "metadata": {},
   "outputs": [
    {
     "data": {
      "text/latex": [
       "$x \\mapsto \\text{-125.0} + \\text{525.0}\\,x - \\text{350.0}\\,x^{2}$"
      ],
      "text/plain": [
       "Polynomial([-125.,  525., -350.], domain=[-1,  1], window=[-1,  1])"
      ]
     },
     "execution_count": 79,
     "metadata": {},
     "output_type": "execute_result"
    }
   ],
   "source": [
    "Polynomial(poly)"
   ]
  },
  {
   "cell_type": "code",
   "execution_count": 80,
   "id": "ce81020e-73a2-4430-a0f8-0318feffff08",
   "metadata": {},
   "outputs": [
    {
     "data": {
      "text/plain": [
       "array([-125.,  525., -350.])"
      ]
     },
     "execution_count": 80,
     "metadata": {},
     "output_type": "execute_result"
    }
   ],
   "source": [
    "P_coeff = Polynomial(poly).coef\n",
    "P_coeff"
   ]
  },
  {
   "cell_type": "code",
   "execution_count": 81,
   "id": "cc7eca6a-8ec7-45c5-b665-f81b75a3ac8d",
   "metadata": {},
   "outputs": [
    {
     "data": {
      "text/plain": [
       "array([-350.,  525., -125.])"
      ]
     },
     "execution_count": 81,
     "metadata": {},
     "output_type": "execute_result"
    }
   ],
   "source": [
    "reverse_P_coeff = P_coeff[::-1]\n",
    "reverse_P_coeff"
   ]
  },
  {
   "cell_type": "code",
   "execution_count": 82,
   "id": "8ffebaf1-3860-4c8a-8f5c-b6eb043bc267",
   "metadata": {},
   "outputs": [
    {
     "data": {
      "text/latex": [
       "$x \\mapsto \\text{-350.0} + \\text{525.0}\\,x - \\text{125.0}\\,x^{2}$"
      ],
      "text/plain": [
       "Polynomial([-350.,  525., -125.], domain=[-1,  1], window=[-1,  1])"
      ]
     },
     "execution_count": 82,
     "metadata": {},
     "output_type": "execute_result"
    }
   ],
   "source": [
    "P = Polynomial(reverse_P_coeff)\n",
    "P"
   ]
  },
  {
   "cell_type": "code",
   "execution_count": null,
   "id": "a4c8b860-5d82-4ef2-ae35-35da0dfee652",
   "metadata": {},
   "outputs": [],
   "source": []
  },
  {
   "cell_type": "code",
   "execution_count": 83,
   "id": "b9fb7a06-d611-4556-93f8-6f6a2a11c7c0",
   "metadata": {},
   "outputs": [
    {
     "ename": "SyntaxError",
     "evalue": "invalid syntax (2995852601.py, line 1)",
     "output_type": "error",
     "traceback": [
      "\u001b[0;36m  File \u001b[0;32m\"/var/folders/tq/1dn18qvs46z75s3216p47sbm0000gn/T/ipykernel_4736/2995852601.py\"\u001b[0;36m, line \u001b[0;32m1\u001b[0m\n\u001b[0;31m    P.\" \".join([str(elem) for elem in l])\u001b[0m\n\u001b[0m      ^\u001b[0m\n\u001b[0;31mSyntaxError\u001b[0m\u001b[0;31m:\u001b[0m invalid syntax\n"
     ]
    }
   ],
   "source": [
    "P.\" \".join([str(elem) for elem in l])"
   ]
  },
  {
   "cell_type": "code",
   "execution_count": 84,
   "id": "18991165-8254-4e74-94e7-e7d4a65181d2",
   "metadata": {},
   "outputs": [
    {
     "ename": "NameError",
     "evalue": "name 'l' is not defined",
     "output_type": "error",
     "traceback": [
      "\u001b[0;31m---------------------------------------------------------------------------\u001b[0m",
      "\u001b[0;31mNameError\u001b[0m                                 Traceback (most recent call last)",
      "\u001b[0;32m/var/folders/tq/1dn18qvs46z75s3216p47sbm0000gn/T/ipykernel_4736/3909411467.py\u001b[0m in \u001b[0;36m<module>\u001b[0;34m\u001b[0m\n\u001b[1;32m      1\u001b[0m \u001b[0mx_s\u001b[0m \u001b[0;34m=\u001b[0m \u001b[0;34m[\u001b[0m\u001b[0;34m]\u001b[0m\u001b[0;34m\u001b[0m\u001b[0;34m\u001b[0m\u001b[0m\n\u001b[0;32m----> 2\u001b[0;31m \u001b[0;32mfor\u001b[0m \u001b[0ml_i\u001b[0m \u001b[0;32min\u001b[0m \u001b[0ml\u001b[0m\u001b[0;34m:\u001b[0m\u001b[0;34m\u001b[0m\u001b[0;34m\u001b[0m\u001b[0m\n\u001b[0m\u001b[1;32m      3\u001b[0m     \u001b[0mx_s\u001b[0m\u001b[0;34m.\u001b[0m\u001b[0mappend\u001b[0m\u001b[0;34m(\u001b[0m\u001b[0ml_i\u001b[0m\u001b[0;34m[\u001b[0m\u001b[0;36m0\u001b[0m\u001b[0;34m]\u001b[0m\u001b[0;34m)\u001b[0m\u001b[0;34m\u001b[0m\u001b[0;34m\u001b[0m\u001b[0m\n\u001b[1;32m      4\u001b[0m \u001b[0mx_s\u001b[0m\u001b[0;34m\u001b[0m\u001b[0;34m\u001b[0m\u001b[0m\n",
      "\u001b[0;31mNameError\u001b[0m: name 'l' is not defined"
     ]
    }
   ],
   "source": [
    "x_s = []\n",
    "for l_i in l:\n",
    "    x_s.append(l_i[0])\n",
    "x_s"
   ]
  },
  {
   "cell_type": "code",
   "execution_count": 85,
   "id": "f337aedf-b03a-4771-b75f-fae8ac8381d8",
   "metadata": {},
   "outputs": [
    {
     "ename": "SyntaxError",
     "evalue": "invalid syntax (2385975819.py, line 1)",
     "output_type": "error",
     "traceback": [
      "\u001b[0;36m  File \u001b[0;32m\"/var/folders/tq/1dn18qvs46z75s3216p47sbm0000gn/T/ipykernel_4736/2385975819.py\"\u001b[0;36m, line \u001b[0;32m1\u001b[0m\n\u001b[0;31m    P..\u001b[0m\n\u001b[0m      ^\u001b[0m\n\u001b[0;31mSyntaxError\u001b[0m\u001b[0;31m:\u001b[0m invalid syntax\n"
     ]
    }
   ],
   "source": [
    "P.."
   ]
  },
  {
   "cell_type": "code",
   "execution_count": 86,
   "id": "d2ee22f2-4bea-48dc-93a8-6ba6a3f965f9",
   "metadata": {},
   "outputs": [
    {
     "ename": "NameError",
     "evalue": "name 'l' is not defined",
     "output_type": "error",
     "traceback": [
      "\u001b[0;31m---------------------------------------------------------------------------\u001b[0m",
      "\u001b[0;31mNameError\u001b[0m                                 Traceback (most recent call last)",
      "\u001b[0;32m/var/folders/tq/1dn18qvs46z75s3216p47sbm0000gn/T/ipykernel_4736/3960953120.py\u001b[0m in \u001b[0;36m<module>\u001b[0;34m\u001b[0m\n\u001b[0;32m----> 1\u001b[0;31m \u001b[0;34m[\u001b[0m\u001b[0ml_i\u001b[0m\u001b[0;34m[\u001b[0m\u001b[0;36m1\u001b[0m\u001b[0;34m]\u001b[0m \u001b[0;32mfor\u001b[0m \u001b[0ml_i\u001b[0m \u001b[0;32min\u001b[0m \u001b[0ml\u001b[0m\u001b[0;34m]\u001b[0m\u001b[0;34m\u001b[0m\u001b[0;34m\u001b[0m\u001b[0m\n\u001b[0m",
      "\u001b[0;31mNameError\u001b[0m: name 'l' is not defined"
     ]
    }
   ],
   "source": [
    "[l_i[1] for l_i in l]"
   ]
  },
  {
   "cell_type": "code",
   "execution_count": 87,
   "id": "6c1da8e6-3aef-4305-ad19-993ef6e41721",
   "metadata": {},
   "outputs": [
    {
     "ename": "NameError",
     "evalue": "name 'l' is not defined",
     "output_type": "error",
     "traceback": [
      "\u001b[0;31m---------------------------------------------------------------------------\u001b[0m",
      "\u001b[0;31mNameError\u001b[0m                                 Traceback (most recent call last)",
      "\u001b[0;32m/var/folders/tq/1dn18qvs46z75s3216p47sbm0000gn/T/ipykernel_4736/1051289629.py\u001b[0m in \u001b[0;36m<module>\u001b[0;34m\u001b[0m\n\u001b[0;32m----> 1\u001b[0;31m \u001b[0mx_s\u001b[0m \u001b[0;34m=\u001b[0m \u001b[0mlist\u001b[0m\u001b[0;34m(\u001b[0m\u001b[0mmap\u001b[0m\u001b[0;34m(\u001b[0m\u001b[0;32mlambda\u001b[0m \u001b[0ml_i\u001b[0m\u001b[0;34m:\u001b[0m \u001b[0ml_i\u001b[0m\u001b[0;34m[\u001b[0m\u001b[0;36m0\u001b[0m\u001b[0;34m]\u001b[0m\u001b[0;34m,\u001b[0m \u001b[0ml\u001b[0m\u001b[0;34m)\u001b[0m\u001b[0;34m)\u001b[0m\u001b[0;34m\u001b[0m\u001b[0;34m\u001b[0m\u001b[0m\n\u001b[0m\u001b[1;32m      2\u001b[0m \u001b[0my_s\u001b[0m \u001b[0;34m=\u001b[0m \u001b[0mlist\u001b[0m\u001b[0;34m(\u001b[0m\u001b[0mmap\u001b[0m\u001b[0;34m(\u001b[0m\u001b[0;32mlambda\u001b[0m \u001b[0ml_i\u001b[0m\u001b[0;34m:\u001b[0m \u001b[0ml_i\u001b[0m\u001b[0;34m[\u001b[0m\u001b[0;36m1\u001b[0m\u001b[0;34m]\u001b[0m\u001b[0;34m,\u001b[0m \u001b[0ml\u001b[0m\u001b[0;34m)\u001b[0m\u001b[0;34m)\u001b[0m\u001b[0;34m\u001b[0m\u001b[0;34m\u001b[0m\u001b[0m\n\u001b[1;32m      3\u001b[0m \u001b[0mprint\u001b[0m\u001b[0;34m(\u001b[0m\u001b[0mx_s\u001b[0m\u001b[0;34m)\u001b[0m\u001b[0;34m\u001b[0m\u001b[0;34m\u001b[0m\u001b[0m\n\u001b[1;32m      4\u001b[0m \u001b[0mprint\u001b[0m\u001b[0;34m(\u001b[0m\u001b[0my_s\u001b[0m\u001b[0;34m)\u001b[0m\u001b[0;34m\u001b[0m\u001b[0;34m\u001b[0m\u001b[0m\n",
      "\u001b[0;31mNameError\u001b[0m: name 'l' is not defined"
     ]
    }
   ],
   "source": [
    "x_s = list(map(lambda l_i: l_i[0], l))\n",
    "y_s = list(map(lambda l_i: l_i[1], l))\n",
    "print(x_s)\n",
    "print(y_s)"
   ]
  },
  {
   "cell_type": "code",
   "execution_count": 88,
   "id": "c61fee20-5c71-4326-bf2e-8338976b1a34",
   "metadata": {},
   "outputs": [
    {
     "ename": "NameError",
     "evalue": "name 'l' is not defined",
     "output_type": "error",
     "traceback": [
      "\u001b[0;31m---------------------------------------------------------------------------\u001b[0m",
      "\u001b[0;31mNameError\u001b[0m                                 Traceback (most recent call last)",
      "\u001b[0;32m/var/folders/tq/1dn18qvs46z75s3216p47sbm0000gn/T/ipykernel_4736/299740192.py\u001b[0m in \u001b[0;36m<module>\u001b[0;34m\u001b[0m\n\u001b[1;32m      2\u001b[0m     \u001b[0mprint\u001b[0m\u001b[0;34m(\u001b[0m\u001b[0ml_i\u001b[0m\u001b[0;34m[\u001b[0m\u001b[0;36m0\u001b[0m\u001b[0;34m]\u001b[0m\u001b[0;34m,\u001b[0m \u001b[0ml_i\u001b[0m\u001b[0;34m[\u001b[0m\u001b[0;36m1\u001b[0m\u001b[0;34m]\u001b[0m\u001b[0;34m)\u001b[0m\u001b[0;34m\u001b[0m\u001b[0;34m\u001b[0m\u001b[0m\n\u001b[1;32m      3\u001b[0m     \u001b[0;32mreturn\u001b[0m \u001b[0;34m(\u001b[0m\u001b[0ml_i\u001b[0m\u001b[0;34m[\u001b[0m\u001b[0;36m1\u001b[0m\u001b[0;34m]\u001b[0m\u001b[0;34m)\u001b[0m\u001b[0;34m\u001b[0m\u001b[0;34m\u001b[0m\u001b[0m\n\u001b[0;32m----> 4\u001b[0;31m \u001b[0mlist\u001b[0m\u001b[0;34m(\u001b[0m\u001b[0mmap\u001b[0m\u001b[0;34m(\u001b[0m\u001b[0mfunc\u001b[0m\u001b[0;34m,\u001b[0m \u001b[0ml\u001b[0m\u001b[0;34m)\u001b[0m\u001b[0;34m)\u001b[0m\u001b[0;34m\u001b[0m\u001b[0;34m\u001b[0m\u001b[0m\n\u001b[0m",
      "\u001b[0;31mNameError\u001b[0m: name 'l' is not defined"
     ]
    }
   ],
   "source": [
    "def func(l_i):\n",
    "    print(l_i[0], l_i[1])\n",
    "    return (l_i[1])\n",
    "list(map(func, l))"
   ]
  },
  {
   "cell_type": "code",
   "execution_count": 90,
   "id": "894c98bd-f067-4fdd-95a8-e7f052bb477e",
   "metadata": {},
   "outputs": [
    {
     "ename": "SyntaxError",
     "evalue": "invalid syntax (2574401288.py, line 2)",
     "output_type": "error",
     "traceback": [
      "\u001b[0;36m  File \u001b[0;32m\"/var/folders/tq/1dn18qvs46z75s3216p47sbm0000gn/T/ipykernel_4736/2574401288.py\"\u001b[0;36m, line \u001b[0;32m2\u001b[0m\n\u001b[0;31m    pPPP{d}\u001b[0m\n\u001b[0m        ^\u001b[0m\n\u001b[0;31mSyntaxError\u001b[0m\u001b[0;31m:\u001b[0m invalid syntax\n"
     ]
    }
   ],
   "source": [
    "\n",
    "\n",
    "Ppii\n",
    "pPPP{d}"
   ]
  },
  {
   "cell_type": "code",
   "execution_count": 91,
   "id": "b95005a4-370a-477c-a94b-d8653e15dac7",
   "metadata": {},
   "outputs": [
    {
     "ename": "SyntaxError",
     "evalue": "invalid syntax (2031101423.py, line 1)",
     "output_type": "error",
     "traceback": [
      "\u001b[0;36m  File \u001b[0;32m\"/var/folders/tq/1dn18qvs46z75s3216p47sbm0000gn/T/ipykernel_4736/2031101423.py\"\u001b[0;36m, line \u001b[0;32m1\u001b[0m\n\u001b[0;31m    .ipynb_checkpoints/\u001b[0m\n\u001b[0m    ^\u001b[0m\n\u001b[0;31mSyntaxError\u001b[0m\u001b[0;31m:\u001b[0m invalid syntax\n"
     ]
    }
   ],
   "source": [
    ".ipynb_checkpoints/\n"
   ]
  },
  {
   "cell_type": "code",
   "execution_count": null,
   "id": "c719ffeb-5752-46e8-b958-7f1ffd5679d5",
   "metadata": {},
   "outputs": [],
   "source": []
  },
  {
   "cell_type": "code",
   "execution_count": null,
   "id": "6887667c-1892-4ed2-b149-1303ad795e58",
   "metadata": {},
   "outputs": [],
   "source": []
  }
 ],
 "metadata": {
  "kernelspec": {
   "display_name": "Python 3 (ipykernel)",
   "language": "python",
   "name": "python3"
  },
  "language_info": {
   "codemirror_mode": {
    "name": "ipython",
    "version": 3
   },
   "file_extension": ".py",
   "mimetype": "text/x-python",
   "name": "python",
   "nbconvert_exporter": "python",
   "pygments_lexer": "ipython3",
   "version": "3.9.13"
  }
 },
 "nbformat": 4,
 "nbformat_minor": 5
}
