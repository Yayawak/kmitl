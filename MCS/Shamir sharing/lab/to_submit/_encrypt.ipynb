{
 "cells": [
  {
   "cell_type": "code",
   "execution_count": 2,
   "id": "d6955a9f-6054-499d-ad08-f9a7ca971fc4",
   "metadata": {},
   "outputs": [],
   "source": [
    "import random\n",
    "import functools\n",
    "\n",
    "# 12th Mersenne Prime\n",
    "# (for this application we want a known prime number as close as\n",
    "# possible to our security level; e.g.  desired security level of 128\n",
    "# bits -- too large and all the ciphertext is large; too small and\n",
    "# security is compromised)\n",
    "_PRIME = 2 ** 127 - 1\n",
    "# The 13th Mersenne Prime is 2**521 - 1\n",
    "\n",
    "_RINT = functools.partial(random.SystemRandom().randint, 0)\n",
    "\n",
    "def _eval_at(poly, x, prime):\n",
    "    \"\"\"Evaluates polynomial (coefficient tuple) at x, used to generate a\n",
    "    shamir pool in make_random_shares below.\n",
    "    \"\"\"\n",
    "    accum = 0\n",
    "    for coeff in reversed(poly):\n",
    "        accum *= x\n",
    "        accum += coeff\n",
    "        accum %= prime\n",
    "    return accum\n",
    "\n",
    "def make_random_shares(secret, minimum, shares, prime=_PRIME):\n",
    "    \"\"\"\n",
    "    Generates a random shamir pool for a given secret, returns share points.\n",
    "    \"\"\"\n",
    "    if minimum > shares:\n",
    "        raise ValueError(\"Pool secret would be irrecoverable.\")\n",
    "    poly = [secret] + [_RINT(prime - 1) for i in range(minimum - 1)]\n",
    "    points = [(i, _eval_at(poly, i, prime))\n",
    "              for i in range(1, shares + 1)]\n",
    "    return points"
   ]
  },
  {
   "cell_type": "code",
   "execution_count": null,
   "id": "393b6669-5339-4047-9c0a-8e42cae82eca",
   "metadata": {},
   "outputs": [],
   "source": []
  }
 ],
 "metadata": {
  "kernelspec": {
   "display_name": "Python 3 (ipykernel)",
   "language": "python",
   "name": "python3"
  },
  "language_info": {
   "codemirror_mode": {
    "name": "ipython",
    "version": 3
   },
   "file_extension": ".py",
   "mimetype": "text/x-python",
   "name": "python",
   "nbconvert_exporter": "python",
   "pygments_lexer": "ipython3",
   "version": "3.9.13"
  }
 },
 "nbformat": 4,
 "nbformat_minor": 5
}
