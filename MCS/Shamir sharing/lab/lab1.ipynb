{
 "cells": [
  {
   "cell_type": "code",
   "execution_count": 1,
   "id": "c083d349-9f0d-456e-81ac-9db8aed661f5",
   "metadata": {},
   "outputs": [],
   "source": [
    "from __future__ import division"
   ]
  },
  {
   "cell_type": "code",
   "execution_count": 2,
   "id": "9b7117cd-4136-40e6-b88e-e4f6eb7949fd",
   "metadata": {},
   "outputs": [
    {
     "data": {
      "text/plain": [
       "_Feature((2, 2, 0, 'alpha', 2), (3, 0, 0, 'alpha', 0), 131072)"
      ]
     },
     "execution_count": 2,
     "metadata": {},
     "output_type": "execute_result"
    }
   ],
   "source": [
    "division"
   ]
  },
  {
   "cell_type": "code",
   "execution_count": 4,
   "id": "7c3e374f-8392-4ae9-93df-8c38013b4ef7",
   "metadata": {},
   "outputs": [
    {
     "name": "stdout",
     "output_type": "stream",
     "text": [
      "A\n"
     ]
    }
   ],
   "source": [
    "if __name__ == \"__main__\":\n",
    "    print('A')\n",
    "else:\n",
    "    print('B')"
   ]
  },
  {
   "cell_type": "code",
   "execution_count": 8,
   "id": "f0a22e84-7626-4b16-b36d-e1aaced25fac",
   "metadata": {},
   "outputs": [],
   "source": [
    "import __future__ as ft"
   ]
  },
  {
   "cell_type": "code",
   "execution_count": 9,
   "id": "3b484672-72cb-4da2-903a-c23d0ff234b0",
   "metadata": {},
   "outputs": [
    {
     "data": {
      "text/plain": [
       "['nested_scopes',\n",
       " 'generators',\n",
       " 'division',\n",
       " 'absolute_import',\n",
       " 'with_statement',\n",
       " 'print_function',\n",
       " 'unicode_literals',\n",
       " 'barry_as_FLUFL',\n",
       " 'generator_stop',\n",
       " 'annotations']"
      ]
     },
     "execution_count": 9,
     "metadata": {},
     "output_type": "execute_result"
    }
   ],
   "source": [
    "ft.all_feature_names"
   ]
  },
  {
   "cell_type": "code",
   "execution_count": 13,
   "id": "9d9ff517-39e2-4fe0-8d20-0e716d026fa8",
   "metadata": {},
   "outputs": [
    {
     "data": {
      "text/plain": [
       "_Feature((2, 6, 0, 'alpha', 2), (3, 0, 0, 'alpha', 0), 1048576)"
      ]
     },
     "execution_count": 13,
     "metadata": {},
     "output_type": "execute_result"
    }
   ],
   "source": [
    "ft.print_function"
   ]
  },
  {
   "cell_type": "code",
   "execution_count": 16,
   "id": "ce48944b-7fa2-4603-a1cc-3379129f3940",
   "metadata": {},
   "outputs": [
    {
     "data": {
      "text/plain": [
       "_Feature((2, 2, 0, 'alpha', 1), (2, 3, 0, 'final', 0), 0)"
      ]
     },
     "execution_count": 16,
     "metadata": {},
     "output_type": "execute_result"
    }
   ],
   "source": [
    "ft.generators"
   ]
  },
  {
   "cell_type": "code",
   "execution_count": 17,
   "id": "c8f4e704-1b15-49f2-a5e3-6b7dc9eaabd7",
   "metadata": {},
   "outputs": [],
   "source": [
    "from __future__ import print_function"
   ]
  },
  {
   "cell_type": "code",
   "execution_count": 21,
   "id": "14c3219a-6abb-4158-ba05-a61fc99f7ac3",
   "metadata": {},
   "outputs": [
    {
     "data": {
      "text/plain": [
       "1048576"
      ]
     },
     "execution_count": 21,
     "metadata": {},
     "output_type": "execute_result"
    }
   ],
   "source": [
    "print_function.compiler_flag"
   ]
  },
  {
   "cell_type": "code",
   "execution_count": 22,
   "id": "8079d6c6-b088-4e93-8db9-92103ee2491e",
   "metadata": {},
   "outputs": [],
   "source": [
    "import random\n",
    "import functools"
   ]
  },
  {
   "cell_type": "code",
   "execution_count": 157,
   "id": "1ee44bf8-23a7-4bb3-8a66-e16e947c32fc",
   "metadata": {},
   "outputs": [
    {
     "data": {
      "text/plain": [
       "2047"
      ]
     },
     "execution_count": 157,
     "metadata": {},
     "output_type": "execute_result"
    }
   ],
   "source": [
    "_prime = 2 ** 11 - 1\n",
    "_prime"
   ]
  },
  {
   "cell_type": "code",
   "execution_count": 158,
   "id": "b8dfba7a-edff-487d-8a20-c6af64ddad02",
   "metadata": {},
   "outputs": [
    {
     "data": {
      "text/plain": [
       "<bound method Random.randint of <random.SystemRandom object at 0x7fc03681d810>>"
      ]
     },
     "execution_count": 158,
     "metadata": {},
     "output_type": "execute_result"
    }
   ],
   "source": [
    "random.SystemRandom().randint"
   ]
  },
  {
   "cell_type": "code",
   "execution_count": 159,
   "id": "cd8bdc54-a33b-421c-a1ad-f08fd855c4c6",
   "metadata": {},
   "outputs": [
    {
     "data": {
      "text/plain": [
       "10"
      ]
     },
     "execution_count": 159,
     "metadata": {},
     "output_type": "execute_result"
    }
   ],
   "source": [
    "random.randint(0, 10)"
   ]
  },
  {
   "cell_type": "code",
   "execution_count": 160,
   "id": "d6f5c842-ed93-45c7-aac8-f922077a7ce2",
   "metadata": {},
   "outputs": [
    {
     "data": {
      "text/plain": [
       "[0, 1, 2, 3, 4, 5, 6, 7, 8, 9, 10, 11, 12, 13, 14, 15, 16, 17, 18, 19]"
      ]
     },
     "execution_count": 160,
     "metadata": {},
     "output_type": "execute_result"
    }
   ],
   "source": [
    "list(range(0,10)) + list(range(10, 20))"
   ]
  },
  {
   "cell_type": "code",
   "execution_count": 161,
   "id": "3c42c92f-f99b-4c01-9daa-e900edcf8169",
   "metadata": {},
   "outputs": [
    {
     "data": {
      "text/plain": [
       "functools.partial(<bound method Random.randint of <random.SystemRandom object at 0x7fc0358f9810>>, 0)"
      ]
     },
     "execution_count": 161,
     "metadata": {},
     "output_type": "execute_result"
    }
   ],
   "source": [
    "functools.partial(random.SystemRandom().randint, 0)"
   ]
  },
  {
   "cell_type": "code",
   "execution_count": 162,
   "id": "782ac303-4bd3-43e0-9ccf-3e8beb918320",
   "metadata": {},
   "outputs": [
    {
     "data": {
      "text/plain": [
       "functools.partial(<bound method Random.randint of <random.SystemRandom object at 0x7fc055844e10>>, 0)"
      ]
     },
     "execution_count": 162,
     "metadata": {},
     "output_type": "execute_result"
    }
   ],
   "source": [
    "rint = functools.partial(random.SystemRandom().randint, 0)\n",
    "rint"
   ]
  },
  {
   "cell_type": "code",
   "execution_count": 163,
   "id": "2a2c9365-407e-4eb9-9cff-0501bd2d7aea",
   "metadata": {},
   "outputs": [
    {
     "data": {
      "text/plain": [
       "3"
      ]
     },
     "execution_count": 163,
     "metadata": {},
     "output_type": "execute_result"
    }
   ],
   "source": [
    "rint(5)"
   ]
  },
  {
   "cell_type": "code",
   "execution_count": 164,
   "id": "9140ec00-a8e7-4ef2-95d3-f2ea2d2e867e",
   "metadata": {},
   "outputs": [
    {
     "ename": "SyntaxError",
     "evalue": "invalid syntax (262341044.py, line 1)",
     "output_type": "error",
     "traceback": [
      "\u001b[0;36m  Input \u001b[0;32mIn [164]\u001b[0;36m\u001b[0m\n\u001b[0;31m    random.SystemRandom().\u001b[0m\n\u001b[0m                          ^\u001b[0m\n\u001b[0;31mSyntaxError\u001b[0m\u001b[0;31m:\u001b[0m invalid syntax\n"
     ]
    }
   ],
   "source": [
    "random.SystemRandom()."
   ]
  },
  {
   "cell_type": "code",
   "execution_count": 165,
   "id": "42dfcc5b-2d98-42c2-aca1-f13735b3fd4d",
   "metadata": {},
   "outputs": [],
   "source": [
    "def g(f):\n",
    "    return f()\n",
    "def f(x):\n",
    "    return x**2"
   ]
  },
  {
   "cell_type": "code",
   "execution_count": 166,
   "id": "9f58e27a-3922-4e39-a5f5-de4992d5335a",
   "metadata": {},
   "outputs": [
    {
     "ename": "TypeError",
     "evalue": "'int' object is not callable",
     "output_type": "error",
     "traceback": [
      "\u001b[0;31m---------------------------------------------------------------------------\u001b[0m",
      "\u001b[0;31mTypeError\u001b[0m                                 Traceback (most recent call last)",
      "Input \u001b[0;32mIn [166]\u001b[0m, in \u001b[0;36m<cell line: 1>\u001b[0;34m()\u001b[0m\n\u001b[0;32m----> 1\u001b[0m \u001b[43mg\u001b[49m\u001b[43m(\u001b[49m\u001b[43mf\u001b[49m\u001b[43m(\u001b[49m\u001b[38;5;241;43m5\u001b[39;49m\u001b[43m)\u001b[49m\u001b[43m)\u001b[49m\n",
      "Input \u001b[0;32mIn [165]\u001b[0m, in \u001b[0;36mg\u001b[0;34m(f)\u001b[0m\n\u001b[1;32m      1\u001b[0m \u001b[38;5;28;01mdef\u001b[39;00m \u001b[38;5;21mg\u001b[39m(f):\n\u001b[0;32m----> 2\u001b[0m     \u001b[38;5;28;01mreturn\u001b[39;00m \u001b[43mf\u001b[49m\u001b[43m(\u001b[49m\u001b[43m)\u001b[49m\n",
      "\u001b[0;31mTypeError\u001b[0m: 'int' object is not callable"
     ]
    }
   ],
   "source": [
    "g(f(5))"
   ]
  },
  {
   "cell_type": "code",
   "execution_count": null,
   "id": "c92d50ef-4a55-493f-9eb7-74b00bb95a7c",
   "metadata": {},
   "outputs": [],
   "source": [
    "    "
   ]
  },
  {
   "cell_type": "code",
   "execution_count": 167,
   "id": "503b1ad5-77af-43b0-b532-60c0610e0381",
   "metadata": {},
   "outputs": [
    {
     "data": {
      "text/plain": [
       "44"
      ]
     },
     "execution_count": 167,
     "metadata": {},
     "output_type": "execute_result"
    }
   ],
   "source": [
    "random.randint(0, 100)"
   ]
  },
  {
   "cell_type": "code",
   "execution_count": 181,
   "id": "0c33df3c-50b0-432c-8041-0150b41f3376",
   "metadata": {},
   "outputs": [
    {
     "data": {
      "text/plain": [
       "2047"
      ]
     },
     "execution_count": 181,
     "metadata": {},
     "output_type": "execute_result"
    }
   ],
   "source": [
    "_prime"
   ]
  },
  {
   "cell_type": "code",
   "execution_count": 234,
   "id": "11f6d9c2-aece-4b4b-bb14-976c04f3e7e0",
   "metadata": {},
   "outputs": [],
   "source": [
    "import matplotlib.pyplot as plt\n",
    "# x = [1, 2, 3, 4, 5, 6]\n",
    "def _eval_at(poly, x, prime):\n",
    "    accum = 0\n",
    "    \n",
    "    for coeff in reversed(poly):\n",
    "        accum *= x\n",
    "        # print(\"After *x\\t\", accum)\n",
    "        accum += coeff\n",
    "        # print(\"After +x\\t\", accum)\n",
    "        # print(accum)\n",
    "        # print(\"After %p\\t\", accum)\n",
    "        accum %= prime\n",
    "        # print(\"Result\\t\", accum)\n",
    "        # print(\"xxxxxxxxxxx\")\n",
    "    # plt.plot(accum)\n",
    "    return accum"
   ]
  },
  {
   "cell_type": "code",
   "execution_count": 186,
   "id": "3f52e873-8283-46aa-8693-614df4315943",
   "metadata": {},
   "outputs": [
    {
     "data": {
      "text/plain": [
       "443"
      ]
     },
     "execution_count": 186,
     "metadata": {},
     "output_type": "execute_result"
    }
   ],
   "source": [
    "list_x = [1234, 1998, 1305]\n",
    "_eval_at(list_x, 1, _prime)"
   ]
  },
  {
   "cell_type": "code",
   "execution_count": 187,
   "id": "1aed91a5-b213-4488-acac-acc497a9d72b",
   "metadata": {},
   "outputs": [
    {
     "data": {
      "text/plain": [
       "443"
      ]
     },
     "execution_count": 187,
     "metadata": {},
     "output_type": "execute_result"
    }
   ],
   "source": [
    "_eval_at(list_x, 1, _prime)"
   ]
  },
  {
   "cell_type": "code",
   "execution_count": 247,
   "id": "2860747b-821d-483b-8d7a-f31a68281edb",
   "metadata": {},
   "outputs": [],
   "source": [
    "def make_random_shares(secret, minimum, shares, prime=_prime):\n",
    "    if minimum > shares:\n",
    "        raise ValueError(\"Pool secret woldb be irrecoverable\")\n",
    "    poly = [secret] + [rint(prime - 1) for _ in range(minimum - 1)]\n",
    "    # print(\"(a0) + (a1)x + (a2)(x^2)\")\n",
    "    points= [(x, _eval_at(poly, x, prime)) for x in range(1, shares + 1)]\n",
    "    \n",
    "    return points\n",
    "    # print(poly)"
   ]
  },
  {
   "cell_type": "code",
   "execution_count": 248,
   "id": "67d5ad33-99ed-470f-bb29-e1330993a802",
   "metadata": {},
   "outputs": [
    {
     "data": {
      "text/plain": [
       "1024"
      ]
     },
     "execution_count": 248,
     "metadata": {},
     "output_type": "execute_result"
    }
   ],
   "source": [
    "rint(1423)"
   ]
  },
  {
   "cell_type": "code",
   "execution_count": 249,
   "id": "f750c3bf-f232-43f9-b125-962042ba6b88",
   "metadata": {},
   "outputs": [
    {
     "data": {
      "text/plain": [
       "251"
      ]
     },
     "execution_count": 249,
     "metadata": {},
     "output_type": "execute_result"
    }
   ],
   "source": [
    "rint(1423)"
   ]
  },
  {
   "cell_type": "code",
   "execution_count": null,
   "id": "0379cb93-8097-4357-ad1e-60cf466e42a0",
   "metadata": {},
   "outputs": [],
   "source": []
  },
  {
   "cell_type": "code",
   "execution_count": 352,
   "id": "ec2688a1-743c-44f9-bd96-94f56f994b08",
   "metadata": {},
   "outputs": [],
   "source": [
    "def recover_secret(shares, prime=_prime):\n",
    "    if len(shares) < 3:\n",
    "        raise ValueError(\"need at least three shares\")\n",
    "    x_s, y_s = zip(*shares)\n",
    "    # print(\"X s\", x_s)\n",
    "    # print(\"Y s\", y_s)\n",
    "    return _lagrange_interp(0, x_s, y_s, prime)"
   ]
  },
  {
   "cell_type": "code",
   "execution_count": 353,
   "id": "cb88374a-97b8-4322-95e4-f9ba3325396d",
   "metadata": {},
   "outputs": [],
   "source": [
    "zz = \"Hello\"\n",
    "# assert(zz == \"Hello\", \"should be Hello\")"
   ]
  },
  {
   "cell_type": "code",
   "execution_count": 354,
   "id": "e662c57f-980e-445a-9467-05264660cd74",
   "metadata": {},
   "outputs": [],
   "source": [
    "# (5, 2)\n",
    "def _extended_gcd(a, b):\n",
    "    x = 0\n",
    "    last_x = 1\n",
    "    y = 1\n",
    "    last_y = 0\n",
    "    # 2 != 0\n",
    "    while b != 0:\n",
    "        # q = 5 // 2 == 2\n",
    "        # q = 2\n",
    "        quot = a // b\n",
    "        a, b = b, (a % b)\n",
    "        # a = 2, b = 1\n",
    "        # print(\"a\", a)\n",
    "        # print(\"b\", b)\n",
    "        # x = (1 - ())\n",
    "        x, last_x = (last_x - quot * x), x\n",
    "        y, last_y = (last_y - quot * y), y\n",
    "        # print(\"q\", quot)\n",
    "        # print(\"x\", x)\n",
    "        # print(\"y\", y)\n",
    "        # print(\"last x\", last_x)\n",
    "        # print(\"last y\", last_y)\n",
    "        # print(\"--------------\")\n",
    "    return last_x, last_y\n",
    "        "
   ]
  },
  {
   "cell_type": "code",
   "execution_count": null,
   "id": "f5e4e9a3-64e7-431b-8263-6fdbb729c976",
   "metadata": {},
   "outputs": [],
   "source": []
  },
  {
   "cell_type": "code",
   "execution_count": 355,
   "id": "b8165147-05fb-4fe2-ae05-c7ce145b2519",
   "metadata": {},
   "outputs": [
    {
     "data": {
      "text/plain": [
       "(1, -2)"
      ]
     },
     "execution_count": 355,
     "metadata": {},
     "output_type": "execute_result"
    }
   ],
   "source": [
    "_extended_gcd(5, 2)"
   ]
  },
  {
   "cell_type": "code",
   "execution_count": 356,
   "id": "f92044d1-3ab5-4468-bc3f-58d416ac6591",
   "metadata": {},
   "outputs": [
    {
     "data": {
      "text/plain": [
       "(0, 1)"
      ]
     },
     "execution_count": 356,
     "metadata": {},
     "output_type": "execute_result"
    }
   ],
   "source": [
    "_extended_gcd(4, 2)"
   ]
  },
  {
   "cell_type": "code",
   "execution_count": 357,
   "id": "f46aeb7d-ec28-4b9f-a4f1-14b2036edaa7",
   "metadata": {},
   "outputs": [
    {
     "data": {
      "text/plain": [
       "(-1, 2)"
      ]
     },
     "execution_count": 357,
     "metadata": {},
     "output_type": "execute_result"
    }
   ],
   "source": [
    "_extended_gcd(13, 7)"
   ]
  },
  {
   "cell_type": "code",
   "execution_count": 358,
   "id": "0625e7da-6153-4f1b-aa33-c6e3b2ada8f5",
   "metadata": {},
   "outputs": [
    {
     "data": {
      "text/plain": [
       "9"
      ]
     },
     "execution_count": 358,
     "metadata": {},
     "output_type": "execute_result"
    }
   ],
   "source": [
    "-1 % 10"
   ]
  },
  {
   "cell_type": "code",
   "execution_count": 359,
   "id": "14a3fefa-9bd7-4c70-88f3-2bcf4a915c8b",
   "metadata": {},
   "outputs": [
    {
     "data": {
      "text/plain": [
       "(-1, 1)"
      ]
     },
     "execution_count": 359,
     "metadata": {},
     "output_type": "execute_result"
    }
   ],
   "source": [
    "_extended_gcd(3, 4)"
   ]
  },
  {
   "cell_type": "code",
   "execution_count": 360,
   "id": "1af907e0-16c0-4af3-8662-53148e739cfc",
   "metadata": {},
   "outputs": [
    {
     "data": {
      "text/plain": [
       "(1, 0)"
      ]
     },
     "execution_count": 360,
     "metadata": {},
     "output_type": "execute_result"
    }
   ],
   "source": [
    "_extended_gcd(3, 9)"
   ]
  },
  {
   "cell_type": "code",
   "execution_count": 361,
   "id": "f2b87baa-7394-4fa8-803e-68e54aa708c5",
   "metadata": {},
   "outputs": [
    {
     "data": {
      "text/plain": [
       "6"
      ]
     },
     "execution_count": 361,
     "metadata": {},
     "output_type": "execute_result"
    }
   ],
   "source": [
    "13 % 7"
   ]
  },
  {
   "cell_type": "code",
   "execution_count": 362,
   "id": "fe7fb6cc-9e28-451d-bfbc-5dea1dfe52ab",
   "metadata": {},
   "outputs": [
    {
     "data": {
      "text/plain": [
       "6"
      ]
     },
     "execution_count": 362,
     "metadata": {},
     "output_type": "execute_result"
    }
   ],
   "source": [
    "-1 % 7"
   ]
  },
  {
   "cell_type": "code",
   "execution_count": 363,
   "id": "1fb2b948-f390-4178-af92-adbb9dd34ba5",
   "metadata": {},
   "outputs": [],
   "source": [
    "def f(x):\n",
    "    return 1234 + 166*(x) + 94*(x**2)"
   ]
  },
  {
   "cell_type": "code",
   "execution_count": 364,
   "id": "ed282faf-20aa-44ee-974c-9e345f9cf25b",
   "metadata": {},
   "outputs": [
    {
     "data": {
      "text/plain": [
       "1"
      ]
     },
     "execution_count": 364,
     "metadata": {},
     "output_type": "execute_result"
    }
   ],
   "source": [
    "0**0"
   ]
  },
  {
   "cell_type": "code",
   "execution_count": 365,
   "id": "1fbb7589-de30-4456-a513-b7e7f1fbc5b7",
   "metadata": {},
   "outputs": [
    {
     "name": "stdout",
     "output_type": "stream",
     "text": [
      "(0, 1234)\n",
      "(1, 1494)\n",
      "(2, 1942)\n",
      "(3, 2578)\n",
      "(4, 3402)\n",
      "(5, 4414)\n"
     ]
    }
   ],
   "source": [
    "for x in range(6):\n",
    "    print((x, f(x)))"
   ]
  },
  {
   "cell_type": "code",
   "execution_count": 366,
   "id": "d789111a-a974-4522-b27f-8ede45ba68af",
   "metadata": {},
   "outputs": [
    {
     "name": "stdout",
     "output_type": "stream",
     "text": [
      "(1, 1494)\n",
      "(2, 1942)\n",
      "(3, 2578)\n",
      "(4, 3402)\n",
      "(5, 4414)\n",
      "(6, 5614)\n"
     ]
    }
   ],
   "source": [
    "for x in range(1, 6 + 1):\n",
    "    print((x, f(x)))"
   ]
  },
  {
   "cell_type": "code",
   "execution_count": 367,
   "id": "2981cdf0-a253-478c-b929-975b848faa70",
   "metadata": {},
   "outputs": [
    {
     "data": {
      "text/plain": [
       "1234"
      ]
     },
     "execution_count": 367,
     "metadata": {},
     "output_type": "execute_result"
    }
   ],
   "source": [
    "f(0)"
   ]
  },
  {
   "cell_type": "code",
   "execution_count": 368,
   "id": "7fc171c8-e564-4675-9708-9ae5a5b1c453",
   "metadata": {},
   "outputs": [],
   "source": [
    "def _divmod(num, den, p):\n",
    "    inv, _ = _extended_gcd(den, p)\n",
    "    print(\"Inv \", inv)\n",
    "    print(\"num \", num)\n",
    "    print(\"den \", den)\n",
    "    print('p.  ', p)\n",
    "    return num * inv"
   ]
  },
  {
   "cell_type": "code",
   "execution_count": 369,
   "id": "82dce92a-c15a-4ded-8b81-d535f1669bf2",
   "metadata": {},
   "outputs": [
    {
     "name": "stdout",
     "output_type": "stream",
     "text": [
      "Inv  3\n",
      "num  2\n",
      "den  5\n",
      "p.   7\n"
     ]
    },
    {
     "data": {
      "text/plain": [
       "6"
      ]
     },
     "execution_count": 369,
     "metadata": {},
     "output_type": "execute_result"
    }
   ],
   "source": [
    "_divmod(2, 5, 7)"
   ]
  },
  {
   "cell_type": "code",
   "execution_count": 386,
   "id": "17ac7923-9d18-4396-b3de-42c1ec02fef4",
   "metadata": {},
   "outputs": [
    {
     "name": "stdout",
     "output_type": "stream",
     "text": [
      "[(1, 1145), (2, 1388), (3, 1963), (4, 823), (5, 15), (6, 1586)]\n",
      "Secret : 1234\n",
      "SHAIRS [(1, 1145), (2, 1388), (3, 1963), (4, 823), (5, 15), (6, 1586)]\n",
      "x_s.   \t (1, 3, 5)\n",
      "others \t [3, 5]\n",
      "cur.   \t 1\n",
      "x_s.   \t (1, 3, 5)\n",
      "others \t [1, 5]\n",
      "cur.   \t 3\n",
      "x_s.   \t (1, 3, 5)\n",
      "others \t [1, 3]\n",
      "cur.   \t 5\n",
      "NUMS\t [15, 5, 3]\n",
      "DENS\t [8, -4, 8]\n",
      "DEN\t -256\n",
      "Inv  256\n",
      "num  156\n",
      "den  8\n",
      "p.   2047\n",
      "Inv  -512\n",
      "num  1076\n",
      "den  -4\n",
      "p.   2047\n",
      "Inv  256\n",
      "num  762\n",
      "den  8\n",
      "p.   2047\n",
      "Inv  -8\n",
      "num  -315904\n",
      "den  -256\n",
      "p.   2047\n",
      "Secret recovered from minimum subset of shares:              1234\n"
     ]
    }
   ],
   "source": [
    "def _lagrange_interp(x, x_s, y_s, p):\n",
    "    k = len(x_s) # k = 3\n",
    "    assert k == len(set(x_s)), \"points must be distinct\"\n",
    "    \n",
    "    # [2, 4, -2] = (2)*(4)*(-2) = - 16\n",
    "    def PI(vals):\n",
    "        accum = 1\n",
    "        for v in vals:\n",
    "            accum *= v\n",
    "        return accum\n",
    "    nums = []\n",
    "    dens = []\n",
    "    # [0, 1, 2]\n",
    "    for i in range(k):\n",
    "        print(\"x_s.   \\t\", x_s)\n",
    "        others = list(x_s)\n",
    "        cur = others.pop(i)\n",
    "        print(\"others \\t\", others)\n",
    "        print(\"cur.   \\t\", cur)\n",
    "        nums.append(PI(x - o for o in others))\n",
    "        dens.append(PI(cur - o for o in others))\n",
    "    # plt.scatter(dens)\n",
    "    # plt.plot(nums)\n",
    "    print(\"NUMS\\t\", nums)\n",
    "    print(\"DENS\\t\", dens)\n",
    "    den = PI(dens)\n",
    "    print(\"DEN\\t\", den)\n",
    "    k = [\n",
    "        _divmod(\n",
    "                (nums[i] * den * y_s[i] % p),\n",
    "                dens[i],\n",
    "                p\n",
    "        )\n",
    "           for i in range(k)\n",
    "    ]\n",
    "    # plt.plot(k)\n",
    "    num = sum(k)\n",
    "    S = (_divmod(num, den, p) + p) % p\n",
    "    return S\n",
    "    print(\"NUM\", num)\n",
    "main()"
   ]
  },
  {
   "cell_type": "code",
   "execution_count": null,
   "id": "c39328df-5922-4552-b72d-64198a82cba1",
   "metadata": {},
   "outputs": [],
   "source": []
  },
  {
   "cell_type": "code",
   "execution_count": 254,
   "id": "db8a760f-d7e5-4fc0-958e-6920b68503c3",
   "metadata": {},
   "outputs": [
    {
     "data": {
      "text/plain": [
       "[(1, 'a'), (2, 'b')]"
      ]
     },
     "execution_count": 254,
     "metadata": {},
     "output_type": "execute_result"
    }
   ],
   "source": [
    "l1 = [1, 2]\n",
    "l2 = ['a', 'b']\n",
    "list(zip(l1, l2))"
   ]
  },
  {
   "cell_type": "code",
   "execution_count": 379,
   "id": "016e34a0-b391-4f76-bcab-a48c1b5ca1a7",
   "metadata": {},
   "outputs": [
    {
     "name": "stdout",
     "output_type": "stream",
     "text": [
      "[(1, 244), (2, 39), (3, 619), (4, 1984), (5, 40), (6, 928)]\n",
      "Secret : 1234\n",
      "SHAIRS [(1, 244), (2, 39), (3, 619), (4, 1984), (5, 40), (6, 928)]\n",
      "x_s.   \t (1, 3, 5)\n",
      "others \t [3, 5]\n",
      "cur.   \t 1\n",
      "x_s.   \t (1, 3, 5)\n",
      "others \t [1, 5]\n",
      "cur.   \t 3\n",
      "x_s.   \t (1, 3, 5)\n",
      "others \t [1, 3]\n",
      "cur.   \t 5\n",
      "NUMS\t [15, 5, 3]\n",
      "DENS\t [8, -4, 8]\n",
      "DEN\t -256\n",
      "Inv  256\n",
      "num  566\n",
      "den  8\n",
      "p.   2047\n",
      "Inv  -512\n",
      "num  1916\n",
      "den  -4\n",
      "p.   2047\n",
      "Inv  256\n",
      "num  2032\n",
      "den  8\n",
      "p.   2047\n",
      "Inv  -8\n",
      "num  -315904\n",
      "den  -256\n",
      "p.   2047\n",
      "Secret recovered from minimum subset of shares:              1234\n"
     ]
    }
   ],
   "source": [
    "def main():\n",
    "    secret = 1234\n",
    "    shares = make_random_shares(secret, minimum=3, shares=6)\n",
    "    #shares = make_random_shares(secret, minimum=30, shares=6)\n",
    "    print(shares)\n",
    "    print(f\"Secret : {secret}\")\n",
    "    # print(f\"Shares:\")\n",
    "    print(\"SHAIRS\", shares)\n",
    "    if shares:\n",
    "        for s in shares:\n",
    "            # print(\"  \", s)\n",
    "            ...\n",
    "    print('Secret recovered from minimum subset of shares:             ',\n",
    "          recover_secret(shares[::2]))\n",
    "          # recover_secret(shares[0] + shares[3] + shares[5]))\n",
    "    # print('Secret recovered from others left minimum subset of shares:             ',\n",
    "    #       recover_secret(shares[-3:]))\n",
    "    \n",
    "main()"
   ]
  },
  {
   "cell_type": "code",
   "execution_count": 211,
   "id": "f9abb9b6-70ca-4b95-be22-fc973d4cc497",
   "metadata": {},
   "outputs": [
    {
     "data": {
      "text/plain": [
       "['A', 'A']"
      ]
     },
     "execution_count": 211,
     "metadata": {},
     "output_type": "execute_result"
    }
   ],
   "source": [
    "['A' for i in range(2)]"
   ]
  },
  {
   "cell_type": "code",
   "execution_count": null,
   "id": "4b5ee888-e381-4ee9-a7c6-cb18153cff49",
   "metadata": {},
   "outputs": [],
   "source": []
  },
  {
   "cell_type": "code",
   "execution_count": null,
   "id": "f31dd00e-e185-4a0d-bb5e-82d6fd7385da",
   "metadata": {},
   "outputs": [],
   "source": []
  }
 ],
 "metadata": {
  "kernelspec": {
   "display_name": "Python 3 (ipykernel)",
   "language": "python",
   "name": "python3"
  },
  "language_info": {
   "codemirror_mode": {
    "name": "ipython",
    "version": 3
   },
   "file_extension": ".py",
   "mimetype": "text/x-python",
   "name": "python",
   "nbconvert_exporter": "python",
   "pygments_lexer": "ipython3",
   "version": "3.9.13"
  }
 },
 "nbformat": 4,
 "nbformat_minor": 5
}
