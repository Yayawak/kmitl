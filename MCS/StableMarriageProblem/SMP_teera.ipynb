{
 "cells": [
  {
   "cell_type": "raw",
   "id": "10961235-37d4-47f6-96f7-0fb76ae68a9d",
   "metadata": {},
   "source": [
    "2\n",
    "4\n",
    "1 4 3 1 2\n",
    "2 2 1 3 4\n",
    "3 1 3 4 2\n",
    "4 4 3 1 2\n",
    "1 3 2 4 1\n",
    "2 2 3 1 4\n",
    "3 3 1 2 4\n",
    "4 3 2 4 1"
   ]
  },
  {
   "cell_type": "raw",
   "id": "f7646d49-c533-4702-a772-3a87e3863a60",
   "metadata": {},
   "source": [
    "7\n",
    "1 3 4 2 1 6 7 5\n",
    "2 6 4 2 3 5 1 7\n",
    "3 6 3 5 7 2 4 1\n",
    "4 1 6 3 2 4 7 5\n",
    "5 1 6 5 3 4 7 2\n",
    "6 1 7 3 4 5 6 2\n",
    "7 5 6 2 4 3 7 1\n",
    "1 4 5 3 7 2 6 1\n",
    "2 5 6 4 7 3 2 1\n",
    "3 1 6 5 4 3 7 2\n",
    "4 3 5 6 7 2 4 1\n",
    "5 1 7 6 4 3 5 2\n",
    "6 6 3 7 5 2 4 1\n",
    "7 1 7 4 2 6 5 3"
   ]
  },
  {
   "cell_type": "code",
   "execution_count": 25,
   "id": "68063536-6e8d-478a-998b-f09828d963f9",
   "metadata": {},
   "outputs": [
    {
     "data": {
      "text/plain": [
       "[array([1, 4, 3, 1, 2]),\n",
       " array([2, 2, 1, 3, 4]),\n",
       " array([3, 1, 3, 4, 2]),\n",
       " array([4, 4, 3, 1, 2])]"
      ]
     },
     "execution_count": 25,
     "metadata": {},
     "output_type": "execute_result"
    }
   ],
   "source": [
    "import numpy as np\n",
    "k = \"\"\"1 4 3 1 2\n",
    "2 2 1 3 4\n",
    "3 1 3 4 2\n",
    "4 4 3 1 2\"\"\".split()\n",
    "k = np.array([int(k) for k in k])\n",
    "k.reshape(4,-1)\n",
    "\n",
    "lll = []\n",
    "# [g for g in k]\n",
    "[g for g in k.reshape(4,-1)]\n",
    "# np.argmax(k)\n"
   ]
  },
  {
   "cell_type": "code",
   "execution_count": 28,
   "id": "02dca967-6471-43f0-b3f9-7b83f25da35b",
   "metadata": {},
   "outputs": [
    {
     "data": {
      "text/plain": [
       "[[1, 4, 3, 1, 2], [2, 2, 1, 3, 4], [3, 1, 3, 4, 2], [4, 4, 3, 1, 2]]"
      ]
     },
     "execution_count": 28,
     "metadata": {},
     "output_type": "execute_result"
    }
   ],
   "source": [
    "[list(g) for g in k.reshape(4,-1)]"
   ]
  },
  {
   "cell_type": "code",
   "execution_count": 33,
   "id": "4862399f-9755-451a-b0a8-fb5acafe4354",
   "metadata": {},
   "outputs": [],
   "source": [
    "t = 2\n",
    "for i in range(t):\n",
    "    women = []\n",
    "    men = []\n",
    "    n = 4\n",
    "    for j in range(n):\n",
    "        k = \"\"\"1 4 3 1 2\n",
    "        2 2 1 3 4\n",
    "        3 1 3 4 2\n",
    "        4 4 3 1 2\"\"\".split()\n",
    "        k = np.array([int(ki) for ki in k])\n",
    "        # men.append(k.reshape(4,-1)[i])\n",
    "        o = k.reshape(4,-1)[i]\n",
    "        men.append(list(o))\n",
    "\n",
    "    for j in range(n):\n",
    "        k = \"\"\"1 3 2 4 1\n",
    "        2 2 3 1 4\n",
    "        3 3 1 2 4\n",
    "        4 3 2 4 1\"\"\".split()\n",
    "        k = np.array([int(ki) for ki in k])\n",
    "        o = k.reshape(4,-1)[i]\n",
    "        women.append(list(o))"
   ]
  },
  {
   "cell_type": "code",
   "execution_count": 41,
   "id": "c6c67b60-6a40-44b3-8d9a-735d7b30f97f",
   "metadata": {},
   "outputs": [
    {
     "data": {
      "text/plain": [
       "[[2, 2, 3, 1, 4], [2, 2, 3, 1, 4], [2, 2, 3, 1, 4], [2, 2, 3, 1, 4]]"
      ]
     },
     "execution_count": 41,
     "metadata": {},
     "output_type": "execute_result"
    }
   ],
   "source": [
    "women"
   ]
  },
  {
   "cell_type": "code",
   "execution_count": 42,
   "id": "3a9720fc-8fa0-470c-b543-435d62a13ee7",
   "metadata": {},
   "outputs": [
    {
     "data": {
      "text/plain": [
       "[2, 2, 3, 1, 4]"
      ]
     },
     "execution_count": 42,
     "metadata": {},
     "output_type": "execute_result"
    }
   ],
   "source": [
    "women[0]"
   ]
  },
  {
   "cell_type": "code",
   "execution_count": 40,
   "id": "de4dc716-bcbd-4919-a6c9-7592179aa2eb",
   "metadata": {},
   "outputs": [
    {
     "data": {
      "text/plain": [
       "3"
      ]
     },
     "execution_count": 40,
     "metadata": {},
     "output_type": "execute_result"
    }
   ],
   "source": [
    "women[0].index(1)"
   ]
  },
  {
   "cell_type": "code",
   "execution_count": 36,
   "id": "0d4f3f53-2678-4300-ab6b-30763ca26999",
   "metadata": {},
   "outputs": [
    {
     "data": {
      "text/plain": [
       "[[2, 2, 1, 3, 4], [2, 2, 1, 3, 4], [2, 2, 1, 3, 4], [2, 2, 1, 3, 4]]"
      ]
     },
     "execution_count": 36,
     "metadata": {},
     "output_type": "execute_result"
    }
   ],
   "source": [
    "men"
   ]
  },
  {
   "cell_type": "code",
   "execution_count": 156,
   "id": "448d7b4a-1eea-4577-b54d-486b1e6b357b",
   "metadata": {},
   "outputs": [
    {
     "name": "stdout",
     "output_type": "stream",
     "text": [
      "1 3\n",
      "2 2\n",
      "3 1\n",
      "4 4\n"
     ]
    }
   ],
   "source": [
    "import numpy as np\n",
    "def SMP_v2():\n",
    "    t = 2\n",
    "\n",
    "\n",
    "    for i in range(t):\n",
    "        women = []\n",
    "        men = []\n",
    "        n = 4\n",
    "        for j in range(n):\n",
    "            k = \"\"\"1 4 3 1 2\n",
    "            2 2 1 3 4\n",
    "            3 1 3 4 2\n",
    "            4 4 3 1 2\"\"\".split()\n",
    "            k = np.array([int(ki) for ki in k])\n",
    "            # men.append(k.reshape(4,-1)[i])\n",
    "            o = k.reshape(4,-1)[i]\n",
    "            # men.append(list(o))\n",
    "            women.append(list(o))\n",
    "            \n",
    "        for j in range(n):\n",
    "            k = \"\"\"1 3 2 4 1\n",
    "            2 2 3 1 4\n",
    "            3 3 1 2 4\n",
    "            4 3 2 4 1\"\"\".split()\n",
    "            k = np.array([int(ki) for ki in k])\n",
    "            o = k.reshape(4,-1)[i]\n",
    "            men.append(list(o))\n",
    "            # women.append(list(o))\n",
    "\n",
    "    wi = [-1]*n\n",
    "    mi = [1]*n\n",
    "    while -1 in wi:\n",
    "        for m0 in range(n):\n",
    "            # print(men[m0][mi[m0]])\n",
    "            w0 = men[m0][mi[m0]] - 1\n",
    "            if(wi[w0] < 0):\n",
    "                wi[w0] = m0\n",
    "            else:\n",
    "                p0 = women[w0][1:].index(wi[w0]+1)\n",
    "                p1 = women[w0][1:].index(m0+1)\n",
    "\n",
    "                if p1<p0: # new men\n",
    "                    # kick old guy\n",
    "                    mi[wi[w0]] = mi[wi[w0]] + 1\n",
    "                    wi[w0] = m0\n",
    "                elif p0<p1: # same man\n",
    "                    mi[m0] = mi[m0] + 1\n",
    "        \n",
    "    for w in range(n):\n",
    "        print(w+1, wi[w]+1)\n",
    "\n",
    "    # print()\n",
    "    # print(women)\n",
    "    # print(men)\n",
    "SMP_v2()"
   ]
  },
  {
   "cell_type": "code",
   "execution_count": 109,
   "id": "9f2d7f03-182f-46aa-b265-efcb7164b5f0",
   "metadata": {},
   "outputs": [],
   "source": [
    "# 7 women, 7 men\n",
    "womenOrd_with_preference = \\\n",
    "    \"\"\"1 3 4 2 1 6 7 5\n",
    "    2 6 4 2 3 5 1 7\n",
    "    3 6 3 5 7 2 4 1\n",
    "    4 1 6 3 2 4 7 5\n",
    "    5 1 6 5 3 4 7 2\n",
    "    6 1 7 3 4 5 6 2\n",
    "    7 5 6 2 4 3 7 1\"\"\"\n",
    "v = womenOrd_with_preference.split()\n",
    "womenOrd_with_preference = [int(wi) \n",
    "                           for wi in v]\n",
    "# womenOrd_with_preference\n",
    "wo_p = womenOrd_with_preference\n",
    "# [[every4w] for every4w in wo_p]\n",
    "# for forth in range()\n",
    "# list(range(16)) % 4\n",
    "# \"0 1 2 3 \" * 2\n",
    "indexes = list(range(len(wo_p)))\n",
    "is_multiple_of5 = [(idx+1)%5==0 for idx in indexes]\n",
    "# idx_every5\n",
    "big_list = []\n",
    "# for boolean, val in map(is_multiple_of5, wo_p):\n",
    "#     # if boolean == True:\n",
    "#     #     li = val\n",
    "#     #     big_list += [val]\n",
    "    # print(boolean, val)\n",
    "\n",
    "        \n",
    "    \n",
    "# wo_p[idx_every5]\n",
    "    \n",
    "# wo_p.index(3)\n",
    "# [x for x in wo_p[]]"
   ]
  },
  {
   "cell_type": "code",
   "execution_count": 98,
   "id": "f88d9a21-e250-411a-b208-afca21a5a873",
   "metadata": {},
   "outputs": [
    {
     "data": {
      "text/plain": [
       "(56, 56)"
      ]
     },
     "execution_count": 98,
     "metadata": {},
     "output_type": "execute_result"
    }
   ],
   "source": [
    "len(wo_p), len(is_multiple_of5)"
   ]
  },
  {
   "cell_type": "code",
   "execution_count": 102,
   "id": "57630336-57c1-4129-b062-f627bf62bfe0",
   "metadata": {},
   "outputs": [],
   "source": [
    "# enumerate(is_multiple_of5, wo_p)"
   ]
  },
  {
   "cell_type": "code",
   "execution_count": 107,
   "id": "b69967f3-7349-4c2c-84f5-8bb91de17a5b",
   "metadata": {},
   "outputs": [
    {
     "data": {
      "text/plain": [
       "<map at 0x7fe7b236d9d0>"
      ]
     },
     "execution_count": 107,
     "metadata": {},
     "output_type": "execute_result"
    }
   ],
   "source": []
  },
  {
   "cell_type": "code",
   "execution_count": 126,
   "id": "347bc01e-a413-4add-bc4e-1bddbeb76c2d",
   "metadata": {},
   "outputs": [
    {
     "data": {
      "text/plain": [
       "[[1, 3, 4, 2, 1, 6, 7, 5],\n",
       " [2, 6, 4, 2, 3, 5, 1, 7],\n",
       " [3, 6, 3, 5, 7, 2, 4, 1],\n",
       " [4, 1, 6, 3, 2, 4, 7, 5],\n",
       " [5, 1, 6, 5, 3, 4, 7, 2],\n",
       " [6, 1, 7, 3, 4, 5, 6, 2],\n",
       " [7, 5, 6, 2, 4, 3, 7, 1]]"
      ]
     },
     "execution_count": 126,
     "metadata": {},
     "output_type": "execute_result"
    }
   ],
   "source": [
    "# womenOrd_with_preference\n",
    "womenOrd_with_preference_str = \\\n",
    "\"\"\"1 3 4 2 1 6 7 5\n",
    "2 6 4 2 3 5 1 7\n",
    "3 6 3 5 7 2 4 1\n",
    "4 1 6 3 2 4 7 5\n",
    "5 1 6 5 3 4 7 2\n",
    "6 1 7 3 4 5 6 2\n",
    "7 5 6 2 4 3 7 1\"\"\"\n",
    "def cleaner(ord_with_pref=\"\", n_row=0):\n",
    "    k = ord_with_pref.split()\n",
    "    k = np.array([int(ki) for ki in k])\n",
    "    women_ord_pref = k.reshape(n_row,-1)\n",
    "    women_ord_pref = [\n",
    "        list(row) for row in women_ord_pref\n",
    "    ]\n",
    "    return women_ord_pref\n",
    "cleaner(womenOrd_with_preference_str, 7)"
   ]
  },
  {
   "cell_type": "code",
   "execution_count": 165,
   "id": "e1240d7d-a4cd-474d-90a7-f3f64f141a72",
   "metadata": {},
   "outputs": [
    {
     "data": {
      "text/plain": [
       "[[1, 3, 4, 2, 1, 6, 7, 5],\n",
       " [2, 6, 4, 2, 3, 5, 1, 7],\n",
       " [3, 6, 3, 5, 7, 2, 4, 1],\n",
       " [4, 1, 6, 3, 2, 4, 7, 5],\n",
       " [5, 1, 6, 5, 3, 4, 7, 2],\n",
       " [6, 1, 7, 3, 4, 5, 6, 2],\n",
       " [7, 5, 6, 2, 4, 3, 7, 1]]"
      ]
     },
     "execution_count": 165,
     "metadata": {},
     "output_type": "execute_result"
    }
   ],
   "source": [
    "list(cleaner(womenOrd_with_preference_str, 7))"
   ]
  },
  {
   "cell_type": "code",
   "execution_count": 166,
   "id": "e159d8ce-6b9d-402f-9511-4c2f94be6834",
   "metadata": {},
   "outputs": [
    {
     "data": {
      "text/plain": [
       "[[1, 3, 4, 2, 1, 6, 7, 5],\n",
       " [2, 6, 4, 2, 3, 5, 1, 7],\n",
       " [3, 6, 3, 5, 7, 2, 4, 1],\n",
       " [4, 1, 6, 3, 2, 4, 7, 5],\n",
       " [5, 1, 6, 5, 3, 4, 7, 2],\n",
       " [6, 1, 7, 3, 4, 5, 6, 2],\n",
       " [7, 5, 6, 2, 4, 3, 7, 1]]"
      ]
     },
     "execution_count": 166,
     "metadata": {},
     "output_type": "execute_result"
    }
   ],
   "source": [
    "cleaner(womenOrd_with_preference_str, 7)"
   ]
  },
  {
   "cell_type": "code",
   "execution_count": 167,
   "id": "8eb3b871-0c5b-4c91-941d-4fb038c7f573",
   "metadata": {},
   "outputs": [],
   "source": [
    "import numpy as np\n",
    "\n",
    "\n",
    "def cleaner(ord_with_pref=\"\", n_row=0):\n",
    "    k = ord_with_pref.split()\n",
    "    k = np.array([int(ki) for ki in k])\n",
    "    ord_with_pref = k.reshape(n_row,-1)\n",
    "    ord_with_pref = [\n",
    "        list(row) for row in ord_with_pref\n",
    "    ]\n",
    "    return ord_with_pref\n",
    "\n",
    "def SMP_v3(womenOrder_with_herPreference_str,\n",
    "          menOrder_with_hisPreference_str, n=0):\n",
    "    t = 1\n",
    "\n",
    "\n",
    "    for i in range(t):\n",
    "        women = []\n",
    "        men = []\n",
    "        women = cleaner(womenOrder_with_herPreference_str\n",
    "                       ,n)\n",
    "        men = cleaner(menOrder_with_hisPreference_str,\n",
    "                     n)\n",
    "        \n",
    "\n",
    "    wi = [-1]*n\n",
    "    mi = [1]*n\n",
    "    while -1 in wi:\n",
    "        for m0 in range(n):\n",
    "            # print(men[m0][mi[m0]])\n",
    "            w0 = men[m0][mi[m0]] - 1\n",
    "            if(wi[w0] < 0):\n",
    "                wi[w0] = m0\n",
    "            else:\n",
    "                p0 = women[w0][1:].index(wi[w0]+1)\n",
    "                p1 = women[w0][1:].index(m0+1)\n",
    "\n",
    "                if p1<p0: # new men\n",
    "                    # kick old guy\n",
    "                    mi[wi[w0]] = mi[wi[w0]] + 1\n",
    "                    wi[w0] = m0\n",
    "                elif p0<p1: # same man\n",
    "                    mi[m0] = mi[m0] + 1\n",
    "        \n",
    "    for w in range(n):\n",
    "        print(w+1, wi[w]+1)\n",
    "\n",
    "    # print()\n",
    "    # print(women)\n",
    "    # print(men)"
   ]
  },
  {
   "cell_type": "code",
   "execution_count": 177,
   "id": "fa19a367-724d-49da-9684-df50eaa0dbaf",
   "metadata": {},
   "outputs": [
    {
     "name": "stdout",
     "output_type": "stream",
     "text": [
      "1 3\n",
      "2 7\n",
      "3 4\n",
      "4 1\n",
      "5 2\n",
      "6 6\n",
      "7 5\n"
     ]
    }
   ],
   "source": [
    "womenOrd_with_preference = \\\n",
    "\"\"\"1 3 4 2 1 6 7 5\n",
    "2 6 4 2 3 5 1 7\n",
    "3 6 3 5 7 2 4 1\n",
    "4 1 6 3 2 4 7 5\n",
    "5 1 6 5 3 4 7 2\n",
    "6 1 7 3 4 5 6 2\n",
    "7 5 6 2 4 3 7 1\"\"\"\n",
    "\n",
    "menOrd_with_preference = \\\n",
    "\"\"\"1 4 5 3 7 2 6 1\n",
    "2 5 6 4 7 3 2 1\n",
    "3 1 6 5 4 3 7 2\n",
    "4 3 5 6 7 2 4 1\n",
    "5 1 7 6 4 3 5 2\n",
    "6 6 3 7 5 2 4 1\n",
    "7 1 7 4 2 6 5 3\"\"\"\n",
    "SMP_v3(womenOrd_with_preference, \n",
    "      menOrd_with_preference, n=7)"
   ]
  },
  {
   "cell_type": "code",
   "execution_count": null,
   "id": "7df7e97b-4354-41ad-b073-2a75c2a5d4bb",
   "metadata": {},
   "outputs": [],
   "source": [
    "    "
   ]
  },
  {
   "cell_type": "code",
   "execution_count": 174,
   "id": "3823068d-8d61-4752-a069-aa69b63ceada",
   "metadata": {},
   "outputs": [],
   "source": [
    "def SMP_v1():\n",
    "    t = int(input())\n",
    "    # t = 2\n",
    "\n",
    "    for i in range(t):\n",
    "        women = []\n",
    "        men = []\n",
    "        n = int(input())\n",
    "        for j in range(n):\n",
    "            l = input().split()\n",
    "            men.append([int(i) for i in l])\n",
    "        for j in range(n):\n",
    "            l = input().split()\n",
    "            women.append([int(i) for i in l])\n",
    "\n",
    "    wi = [-1]*n\n",
    "    mi = [1]*n\n",
    "    while -1 in wi:\n",
    "        for m0 in range(n):\n",
    "            # print(men[m0][mi[m0]])\n",
    "            w0 = men[m0][mi[m0]] - 1\n",
    "            if(wi[w0] < 0):\n",
    "                wi[w0] = m0\n",
    "            else:\n",
    "                p0 = women[w0][1:].index(wi[w0]+1)\n",
    "                p1 = women[w0][1:].index(m0+1)\n",
    "\n",
    "                if p1<p0: # new men\n",
    "                    # kick old guy\n",
    "                    mi[wi[w0]] = mi[wi[w0]] + 1\n",
    "                    wi[w0] = m0\n",
    "                elif p0<p1: # same man\n",
    "                    mi[m0] = mi[m0] + 1\n",
    "        for w in range(n):\n",
    "            print(w+1, wi[w]+1)\n",
    "\n",
    "    print()\n",
    "    print(women)\n",
    "    print(men)\n"
   ]
  },
  {
   "cell_type": "code",
   "execution_count": 175,
   "id": "3ad0c388-d760-4ae2-aaa4-17a25ceb6f4a",
   "metadata": {},
   "outputs": [
    {
     "name": "stdin",
     "output_type": "stream",
     "text": [
      " 1\n",
      " 4\n",
      " 1 3 3 1 2\n",
      " 2 2 1 3 4\n",
      " 3 1 3 4 2\n",
      " 4 4 3 1 2\n",
      " 1 3 2 4 1 \n",
      " 2 2 3 1 4\n",
      " 3 3 1 2 4\n",
      " 4 3 2 4 1\n"
     ]
    },
    {
     "name": "stdout",
     "output_type": "stream",
     "text": [
      "1 3\n",
      "2 2\n",
      "3 1\n",
      "4 4\n",
      "\n",
      "[[1, 3, 2, 4, 1], [2, 2, 3, 1, 4], [3, 3, 1, 2, 4], [4, 3, 2, 4, 1]]\n",
      "[[1, 3, 3, 1, 2], [2, 2, 1, 3, 4], [3, 1, 3, 4, 2], [4, 4, 3, 1, 2]]\n"
     ]
    }
   ],
   "source": [
    "SMP_v1()"
   ]
  },
  {
   "cell_type": "code",
   "execution_count": 176,
   "id": "22efb7c1-c4ca-466e-86ee-57e75d8f3abf",
   "metadata": {},
   "outputs": [
    {
     "data": {
      "text/plain": [
       "[-1, -1, -1, -1, -1]"
      ]
     },
     "execution_count": 176,
     "metadata": {},
     "output_type": "execute_result"
    }
   ],
   "source": [
    "[-1]*5"
   ]
  },
  {
   "cell_type": "code",
   "execution_count": null,
   "id": "f81c1559-a6d5-4402-963a-469a4e25bd2e",
   "metadata": {},
   "outputs": [],
   "source": [
    "t = int(input())\n",
    "for i in range(t):\n",
    "    women = []\n",
    "    men = []\n",
    "    n = int(input())\n",
    "    for j in range(n):\n",
    "        l = input().split()\n",
    "        men.append([int(i) for i in l])\n",
    "    for j in range(n):\n",
    "        l = input().split()\n",
    "        women.append([int(i) for i in l])\n",
    "wi = [-1]*n\n",
    "mi = [1]*n\n",
    "while -1 in wi:\n",
    "    for m0 in range(n):\n",
    "        # print(men[m0][mi[m0]])\n",
    "        w0 = men[m0][mi[m0]] - 1\n",
    "        if(wi[w0] < 0):\n",
    "            wi[w0] = m0\n",
    "        else:\n",
    "            p0 = women[w0][1:].index(wi[w0]+1)\n",
    "            p1 = women[w0][1:].index(m0+1)\n",
    "\n",
    "            if p1<p0: # new men\n",
    "                # kick old guy\n",
    "                mi[wi[w0]] = mi[wi[w0]] + 1\n",
    "                wi[w0] = m0\n",
    "            elif p0<p1: # same man\n",
    "                mi[m0] = mi[m0] + 1\n",
    "    for w in range(n):\n",
    "        print(w+1, wi[w]+1)\n",
    "\n",
    "# print()\n",
    "# print(women)\n",
    "# print(men)"
   ]
  },
  {
   "cell_type": "code",
   "execution_count": null,
   "id": "67a0ba50-bfe2-45e6-af48-4f6c07ccebcd",
   "metadata": {},
   "outputs": [],
   "source": []
  }
 ],
 "metadata": {
  "kernelspec": {
   "display_name": "Python 3 (ipykernel)",
   "language": "python",
   "name": "python3"
  },
  "language_info": {
   "codemirror_mode": {
    "name": "ipython",
    "version": 3
   },
   "file_extension": ".py",
   "mimetype": "text/x-python",
   "name": "python",
   "nbconvert_exporter": "python",
   "pygments_lexer": "ipython3",
   "version": "3.9.12"
  }
 },
 "nbformat": 4,
 "nbformat_minor": 5
}
