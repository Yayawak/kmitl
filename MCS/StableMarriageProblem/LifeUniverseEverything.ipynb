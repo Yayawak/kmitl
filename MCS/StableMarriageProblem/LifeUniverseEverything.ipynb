{
 "cells": [
  {
   "cell_type": "code",
   "execution_count": 1,
   "id": "bc6fb0f9-37a5-4dbc-941b-81782652df60",
   "metadata": {},
   "outputs": [
    {
     "name": "stdout",
     "output_type": "stream",
     "text": [
      "Input:\n"
     ]
    },
    {
     "name": "stdin",
     "output_type": "stream",
     "text": [
      " 8\n",
      " 8\n",
      " 8\n",
      " 8\n",
      " 42\n",
      " 99\n",
      " 99\n"
     ]
    },
    {
     "name": "stdout",
     "output_type": "stream",
     "text": [
      "Output\n",
      "8\n",
      "8\n",
      "8\n",
      "8\n",
      "42\n"
     ]
    }
   ],
   "source": [
    "arr = []\n",
    "xNum = 0\n",
    "print(\"Input:\")\n",
    "while xNum != 42:\n",
    "    xStr = input()\n",
    "    xNum = int(xStr)\n",
    "    if xNum>=0 and len(xStr)<3:\n",
    "        arr.append(xNum) # print(arr)\n",
    "        \n",
    "\n",
    "arr.append(int(input()))\n",
    "        \n",
    "print(\"Output\")\n",
    "for elem in arr[:-2]: print(elem)\n",
    "    "
   ]
  },
  {
   "cell_type": "code",
   "execution_count": null,
   "id": "57916ea3-17a1-4e9a-9e3f-a68c1d50fbd9",
   "metadata": {},
   "outputs": [],
   "source": []
  }
 ],
 "metadata": {
  "kernelspec": {
   "display_name": "Python 3 (ipykernel)",
   "language": "python",
   "name": "python3"
  },
  "language_info": {
   "codemirror_mode": {
    "name": "ipython",
    "version": 3
   },
   "file_extension": ".py",
   "mimetype": "text/x-python",
   "name": "python",
   "nbconvert_exporter": "python",
   "pygments_lexer": "ipython3",
   "version": "3.9.12"
  }
 },
 "nbformat": 4,
 "nbformat_minor": 5
}
