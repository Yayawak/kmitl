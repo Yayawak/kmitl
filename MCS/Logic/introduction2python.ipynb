{
 "cells": [
  {
   "cell_type": "code",
   "execution_count": 3,
   "id": "dcfa10c9-a557-4d81-9792-28fc4507d4c3",
   "metadata": {},
   "outputs": [],
   "source": [
    "# Lab 1: Logical Equivalent\n",
    "\n",
    "# ให้นักศึกษาเพิ่มเติมโค้ดด้านล่าง\n",
    "# ชื่อ-สกุล: อภิสิทธิ์ ทวีบุญ\n",
    "# รหัสนักศึกษา: 65050988\n",
    "\n",
    "######## ห้ามแก้ไขโค้ดส่วนนี้ ########\n",
    "# ********** เริ่มต้น **************\n",
    "\n",
    "import numpy as np\n",
    "from functools import partial\n",
    "import re\n",
    "\n",
    "class Infix(object):\n",
    "    def __init__(self, func):\n",
    "        self.func = func\n",
    "    def __or__(self, other):\n",
    "        return self.func(other)\n",
    "    def __ror__(self, other):\n",
    "        return Infix(partial(self.func, other))\n",
    "    def __call__(self, v1, v2):\n",
    "        return self.func(v1, v2)\n",
    "\n",
    "@Infix\n",
    "def implies(p, q) :\n",
    "    return not p or q\n",
    "\n",
    "@Infix\n",
    "def iff(p, q) :\n",
    "    return (p |implies| q) and (q |implies| p)\n",
    "\n",
    "# ********** สิ้นสุด **********\n",
    "\n",
    "\n",
    "############# เขียนฟังก์ชันต่อไปนี้  ##############\n",
    "###### ห้ามแก้ไข function definitions #########\n",
    "\n",
    "\n",
    "# ฟังชั่นก์สร้างตาราง Truth Table\n",
    "# input: expression\n",
    "# output: truth table as a list of lists\n",
    "# หมายเหตุ ตัวแปรในประพจน์มีเพียง a และ b เท่านั้น\n",
    "\n",
    "\n",
    "\n",
    "def truth_table(exp):\n",
    "    tt = [[], [], [], []]\n",
    "    for i, [a,b] in enumerate([[0,0], [0,1], [1,0], [1,1]]):\n",
    "        tt[i] = [a, b, eval(exp)]\n",
    "        \n",
    "    tt.insert(0, [\"a\", \"b\", \"eval(expression)\"])\n",
    "    return np.array(tt, dtype=object)\n",
    "\n",
    "truth_table(\"not a and b\")\n",
    "\n",
    "def areEquivalent(expr1, expr2):\n",
    "    tt1 = truth_table(expr1)\n",
    "    tt2 = truth_table(expr2)\n",
    "    return np.all(tt1==tt2)\n",
    "\n",
    "def main():\n",
    "    # test equivalency\n",
    "    print(\"first exprssion : \")\n",
    "    expr1 = input()\n",
    "    \n",
    "    print(\"second exprssion : \")\n",
    "    expr2 = input()\n",
    "    \n",
    "    \n",
    "    # expr1 = 'not a or b'\n",
    "    # expr2 = 'a | implies | b'\n",
    "    # print(type(expr2))\n",
    "    equivalent = areEquivalent(expr1, expr2)\n",
    "    if equivalent:\n",
    "        print(f\"\\nThe expressions \\n\\t\\'{expr1}\\'\\n &\\n\\t \\'{expr2}\\'\\n are equivalent!\")\n",
    "    else:\n",
    "        print(f\"\\nThe expressions \\n\\t\\'{expr1}\\'\\n &\\n\\t \\'{expr2}\\'\\n are NOT equivalent!\")\n",
    "\n"
   ]
  },
  {
   "cell_type": "code",
   "execution_count": 6,
   "id": "bd6d91a2-f18c-47ee-9f4f-e03b0bd41e2c",
   "metadata": {},
   "outputs": [
    {
     "name": "stdout",
     "output_type": "stream",
     "text": [
      "first exprssion : \n"
     ]
    },
    {
     "name": "stdin",
     "output_type": "stream",
     "text": [
      " a |iff|b\n"
     ]
    },
    {
     "name": "stdout",
     "output_type": "stream",
     "text": [
      "second exprssion : \n"
     ]
    },
    {
     "name": "stdin",
     "output_type": "stream",
     "text": [
      " (a and b) or ((not a) and (not b))\n"
     ]
    },
    {
     "name": "stdout",
     "output_type": "stream",
     "text": [
      "\n",
      "The expressions \n",
      "\t'a |iff|b'\n",
      " &\n",
      "\t '(a and b) or ((not a) and (not b))'\n",
      " are equivalent!\n"
     ]
    }
   ],
   "source": [
    "# ลองเปิด de morgan's laws แล้วทำตามดูนะ\n",
    "if __name__ == '__main__':\n",
    "    main()"
   ]
  },
  {
   "cell_type": "code",
   "execution_count": null,
   "id": "860f3de7-9c0e-43e8-9712-290e24987c3f",
   "metadata": {},
   "outputs": [],
   "source": []
  },
  {
   "cell_type": "code",
   "execution_count": 10,
   "id": "818d5bfa-eba3-4b19-870e-11653a05fb85",
   "metadata": {},
   "outputs": [
    {
     "data": {
      "text/plain": [
       "True"
      ]
     },
     "execution_count": 10,
     "metadata": {},
     "output_type": "execute_result"
    }
   ],
   "source": [
    "True"
   ]
  },
  {
   "cell_type": "code",
   "execution_count": null,
   "id": "e003453f-ebf7-4cb9-85ef-cab7d4cfe413",
   "metadata": {},
   "outputs": [],
   "source": []
  }
 ],
 "metadata": {
  "kernelspec": {
   "display_name": "Python 3 (ipykernel)",
   "language": "python",
   "name": "python3"
  },
  "language_info": {
   "codemirror_mode": {
    "name": "ipython",
    "version": 3
   },
   "file_extension": ".py",
   "mimetype": "text/x-python",
   "name": "python",
   "nbconvert_exporter": "python",
   "pygments_lexer": "ipython3",
   "version": "3.9.12"
  }
 },
 "nbformat": 4,
 "nbformat_minor": 5
}
