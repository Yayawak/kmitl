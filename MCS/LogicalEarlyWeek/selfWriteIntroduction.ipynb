{
 "cells": [
  {
   "cell_type": "code",
   "execution_count": 21,
   "id": "769bd096-4af6-484d-89fb-d19a4a744ed4",
   "metadata": {},
   "outputs": [],
   "source": [
    "from functools import partial\n",
    "# partial()\n"
   ]
  },
  {
   "cell_type": "code",
   "execution_count": 2,
   "id": "8574f46f-de37-4cdd-9f78-258a98128e48",
   "metadata": {},
   "outputs": [],
   "source": [
    "# partial(5) # ??"
   ]
  },
  {
   "cell_type": "code",
   "execution_count": 3,
   "id": "50e6c622-be2e-4cfa-9e9e-ee64e0c66efd",
   "metadata": {},
   "outputs": [],
   "source": [
    "import re"
   ]
  },
  {
   "cell_type": "code",
   "execution_count": 4,
   "id": "c48521bf-47fa-4bc0-b1e4-de456e2418f2",
   "metadata": {},
   "outputs": [],
   "source": [
    "s = \"1123 This is number with string\"\n",
    "# re.findall(r\"\\D(\\d{2})\\D\", s)"
   ]
  },
  {
   "cell_type": "code",
   "execution_count": 5,
   "id": "e4322d9e-be4b-44e8-bbfd-f2122caa95d0",
   "metadata": {},
   "outputs": [],
   "source": [
    "exec(\"a=True\")"
   ]
  },
  {
   "cell_type": "code",
   "execution_count": 13,
   "id": "fba08087-f10c-46a2-80e6-0186e4f39e3d",
   "metadata": {},
   "outputs": [],
   "source": [
    "import numpy as np\n",
    "\n",
    "def truth_table(exp):\n",
    "    tt = [[], [], [], []]\n",
    "    for i, [a,b] in enumerate([[0,0], [0,1], [1,0], [1,1]]):\n",
    "        tt[i] = [a, b, eval(exp)]\n",
    "        \n",
    "    tt.insert(0, [\"a\", \"b\", \"eval(expression)\"])\n",
    "    # tt.insert(0, [\"a\", \"b\", exp])\n",
    "    return np.array(tt, dtype=object)\n"
   ]
  },
  {
   "cell_type": "code",
   "execution_count": 14,
   "id": "8f663e5b-e3a5-467b-ba0a-746939a43c45",
   "metadata": {},
   "outputs": [
    {
     "data": {
      "text/plain": [
       "array([['a', 'b', 'eval(expression)'],\n",
       "       [0, 0, 0],\n",
       "       [0, 1, 0],\n",
       "       [1, 0, 0],\n",
       "       [1, 1, 1]], dtype=object)"
      ]
     },
     "execution_count": 14,
     "metadata": {},
     "output_type": "execute_result"
    }
   ],
   "source": [
    "truth_table(\"a and b\")"
   ]
  },
  {
   "cell_type": "markdown",
   "id": "6203a638-4e1e-4000-b019-84bb68ee6a84",
   "metadata": {},
   "source": [
    "# Defining Structure function"
   ]
  },
  {
   "cell_type": "code",
   "execution_count": 15,
   "id": "80e59705-9a56-443d-9876-423a3c9699d9",
   "metadata": {},
   "outputs": [],
   "source": [
    "class Infix:\n",
    "    def __init__(self, func):\n",
    "        self.func = func\n",
    "    def __or__(self, other):\n",
    "        return self.func(other)\n",
    "    def __ror__(self, other):\n",
    "        return Infix(partial(self.func, other))\n",
    "    def __call__(self, v1, v2):\n",
    "        return self.func(v1, v2)"
   ]
  },
  {
   "cell_type": "code",
   "execution_count": 22,
   "id": "f84bdb9d-ecb9-4cba-bf06-f4cc299254b3",
   "metadata": {},
   "outputs": [],
   "source": [
    "@Infix\n",
    "def implies(p, q):\n",
    "    return not p or q\n",
    "def iff(p, q):\n",
    "    return (p | implies | q) and (q | implies | p)"
   ]
  },
  {
   "cell_type": "code",
   "execution_count": 23,
   "id": "939809b8-2a04-4cea-9a96-7a88c40489a4",
   "metadata": {},
   "outputs": [
    {
     "data": {
      "text/plain": [
       "array([0, 1, 2, 3, 4, 5, 6, 7, 8, 9])"
      ]
     },
     "execution_count": 23,
     "metadata": {},
     "output_type": "execute_result"
    }
   ],
   "source": [
    "np.arange(0, 10)"
   ]
  },
  {
   "cell_type": "code",
   "execution_count": 206,
   "id": "cc4966cb-4e8a-42a7-a1f6-27e200794687",
   "metadata": {},
   "outputs": [
    {
     "data": {
      "text/plain": [
       "array([['a', 'b', 'eval(expression)'],\n",
       "       [0, 0, True],\n",
       "       [0, 1, True],\n",
       "       [1, 0, 0],\n",
       "       [1, 1, 1]], dtype=object)"
      ]
     },
     "execution_count": 206,
     "metadata": {},
     "output_type": "execute_result"
    }
   ],
   "source": [
    "truth_table(\"a | implies | b\")"
   ]
  },
  {
   "cell_type": "code",
   "execution_count": 207,
   "id": "53dc05ec-fd1d-46a6-82f8-86a4003bfeb2",
   "metadata": {},
   "outputs": [
    {
     "data": {
      "text/plain": [
       "array([['a', 'b', 'eval(expression)'],\n",
       "       [0, 0, 0],\n",
       "       [0, 1, 0],\n",
       "       [1, 0, 0],\n",
       "       [1, 1, 1]], dtype=object)"
      ]
     },
     "execution_count": 207,
     "metadata": {},
     "output_type": "execute_result"
    }
   ],
   "source": [
    "truth_table(\"a and b\")"
   ]
  },
  {
   "cell_type": "code",
   "execution_count": 208,
   "id": "c2d24311-1fc4-4f0f-a45a-d1f542f3e69e",
   "metadata": {},
   "outputs": [
    {
     "data": {
      "text/plain": [
       "array([['a', 'b', 'eval(expression)'],\n",
       "       [0, 0, True],\n",
       "       [0, 1, True],\n",
       "       [1, 0, False],\n",
       "       [1, 1, False]], dtype=object)"
      ]
     },
     "execution_count": 208,
     "metadata": {},
     "output_type": "execute_result"
    }
   ],
   "source": [
    "\n",
    "truth_table(\"not a\")"
   ]
  },
  {
   "cell_type": "code",
   "execution_count": 209,
   "id": "78f373a1-f35f-4869-b158-fe00d91254b2",
   "metadata": {},
   "outputs": [
    {
     "data": {
      "text/plain": [
       "array([['a', 'b', 'eval(expression)'],\n",
       "       [0, 0, 0],\n",
       "       [0, 1, 1],\n",
       "       [1, 0, 0],\n",
       "       [1, 1, 1]], dtype=object)"
      ]
     },
     "execution_count": 209,
     "metadata": {},
     "output_type": "execute_result"
    }
   ],
   "source": [
    "truth_table(\"b\")"
   ]
  },
  {
   "cell_type": "code",
   "execution_count": 210,
   "id": "9d59feee-156f-4f6a-b547-c83efa1013af",
   "metadata": {},
   "outputs": [
    {
     "data": {
      "text/plain": [
       "array([['a', 'b', 'eval(expression)'],\n",
       "       [0, 0, 0],\n",
       "       [0, 1, 0],\n",
       "       [1, 0, 0],\n",
       "       [1, 1, 1]], dtype=object)"
      ]
     },
     "execution_count": 210,
     "metadata": {},
     "output_type": "execute_result"
    }
   ],
   "source": [
    "truth_table(\"b and a\")"
   ]
  },
  {
   "cell_type": "code",
   "execution_count": 211,
   "id": "42b0b2df-8dc8-4dae-94ed-3db72bfe1b81",
   "metadata": {},
   "outputs": [
    {
     "data": {
      "text/plain": [
       "array([['a', 'b', 'eval(expression)'],\n",
       "       [0, 0, True],\n",
       "       [0, 1, False],\n",
       "       [1, 0, False],\n",
       "       [1, 1, False]], dtype=object)"
      ]
     },
     "execution_count": 211,
     "metadata": {},
     "output_type": "execute_result"
    }
   ],
   "source": [
    "truth_table(\"not a and not b\")"
   ]
  },
  {
   "cell_type": "markdown",
   "id": "7836749a-fd7d-4365-a660-eef33ba1de42",
   "metadata": {},
   "source": [
    "# Helper function"
   ]
  },
  {
   "cell_type": "code",
   "execution_count": 17,
   "id": "b2330b96-434f-40ee-b12d-e3fa0fd9ba90",
   "metadata": {},
   "outputs": [],
   "source": [
    "def areEquivalent(expr1, expr2):\n",
    "    tt1 = truth_table(expr1)\n",
    "    # print(\"tt1\", tt1)\n",
    "    tt2 = truth_table(expr2)\n",
    "    # print(\"tt2\", tt2)\n",
    "    # print(\"\\n\")\n",
    "    # return np.all(tt1, tt2)\n",
    "    # return tt1 == tt2\n",
    "    \n",
    "    \n",
    "    # print(\"Equivalent table ? \\n\")\n",
    "    # print(tt1==tt2)\n",
    "    return np.all(tt1==tt2) # return np.alltrue(tt1, tt2)"
   ]
  },
  {
   "cell_type": "code",
   "execution_count": 216,
   "id": "b673c953-3e81-43b2-8133-d9817f734cd3",
   "metadata": {},
   "outputs": [
    {
     "data": {
      "text/plain": [
       "True"
      ]
     },
     "execution_count": 216,
     "metadata": {},
     "output_type": "execute_result"
    }
   ],
   "source": [
    "areEquivalent(\"a or b\", \"b or a\")"
   ]
  },
  {
   "cell_type": "code",
   "execution_count": 217,
   "id": "a7086f3f-28bd-48be-bd71-1401255b2b0b",
   "metadata": {},
   "outputs": [
    {
     "data": {
      "text/plain": [
       "True"
      ]
     },
     "execution_count": 217,
     "metadata": {},
     "output_type": "execute_result"
    }
   ],
   "source": [
    "areEquivalent(\"not a or b\", \"a | implies | b\")"
   ]
  },
  {
   "cell_type": "code",
   "execution_count": 218,
   "id": "cec8525b-9985-46ce-aa16-b47b19353fb9",
   "metadata": {},
   "outputs": [
    {
     "data": {
      "text/plain": [
       "False"
      ]
     },
     "execution_count": 218,
     "metadata": {},
     "output_type": "execute_result"
    }
   ],
   "source": [
    "areEquivalent(\"not a or b\", \"a | implies | a\")"
   ]
  },
  {
   "cell_type": "markdown",
   "id": "52eb60b6-0b69-4d80-94b1-c1acf520ee93",
   "metadata": {},
   "source": [
    "# $$ a \\rightarrow b \n",
    "\\equiv \n",
    "\\: \\sim a \\lor b\n",
    "$$"
   ]
  },
  {
   "cell_type": "code",
   "execution_count": 18,
   "id": "35055c24-4322-4fb9-8a10-6e2a29e2c561",
   "metadata": {},
   "outputs": [],
   "source": [
    "def main():\n",
    "    # test equivalency\n",
    "    print(\"first exprssion : \")\n",
    "    expr1 = input()\n",
    "    \n",
    "    print(\"second exprssion : \")\n",
    "    expr2 = input()\n",
    "    \n",
    "    \n",
    "    # expr1 = 'not a or b'\n",
    "    # expr2 = 'a | implies | b'\n",
    "    # print(type(expr2))\n",
    "    equivalent = areEquivalent(expr1, expr2)\n",
    "    if equivalent:\n",
    "        print(f\"\\nThe expressions \\n\\t\\'{expr1}\\'\\n &\\n\\t \\'{expr2}\\'\\n are equivalent!\")\n",
    "    else:\n",
    "        print(f\"\\nThe expressions \\n\\t\\'{expr1}\\'\\n &\\n\\t \\'{expr2}\\'\\n are NOT equivalent!\")"
   ]
  },
  {
   "cell_type": "markdown",
   "id": "798cff19-26d6-4c5e-ace4-1228f005b996",
   "metadata": {},
   "source": [
    "# Permutation function"
   ]
  },
  {
   "cell_type": "code",
   "execution_count": 245,
   "id": "f749bef0-b78a-4671-934c-fa9c2c510b6e",
   "metadata": {},
   "outputs": [
    {
     "data": {
      "text/plain": [
       "[(1, 2, 3), (1, 3, 2), (2, 1, 3), (2, 3, 1), (3, 1, 2), (3, 2, 1)]"
      ]
     },
     "execution_count": 245,
     "metadata": {},
     "output_type": "execute_result"
    }
   ],
   "source": [
    "from itertools import permutations\n",
    "list(permutations([1,2,3]))"
   ]
  },
  {
   "cell_type": "code",
   "execution_count": 249,
   "id": "03136513-6094-44fd-9e4f-70015e5a5235",
   "metadata": {},
   "outputs": [],
   "source": [
    "operations = [\"or\", \"and\", \" | implies | \", \"| iff |\"]\n",
    "not_op = \"not\"\n",
    "variables = [\"a\", \"b\"]\n",
    "# we want something like ..., a and b, (not like) and a b, \n"
   ]
  },
  {
   "cell_type": "code",
   "execution_count": 252,
   "id": "8d7c34a9-1dee-4eca-af74-af14abe843f2",
   "metadata": {},
   "outputs": [
    {
     "data": {
      "text/plain": [
       "[('or', 'and'), ('and', 'or')]"
      ]
     },
     "execution_count": 252,
     "metadata": {},
     "output_type": "execute_result"
    }
   ],
   "source": [
    "# list(permutations(variables))\n",
    "list(permutations(operations[:2]))"
   ]
  },
  {
   "cell_type": "code",
   "execution_count": 256,
   "id": "1ad478fa-43a5-44e9-a9a8-e27f2eea2f30",
   "metadata": {},
   "outputs": [
    {
     "data": {
      "text/plain": [
       "[('a', 'b'), ('b', 'a')]"
      ]
     },
     "execution_count": 256,
     "metadata": {},
     "output_type": "execute_result"
    }
   ],
   "source": [
    "# list(permutations(operations[:3]))\n",
    "list(permutations(variables))"
   ]
  },
  {
   "cell_type": "code",
   "execution_count": 309,
   "id": "2cb93006-3c97-49dd-adc1-c8c09f66abab",
   "metadata": {},
   "outputs": [
    {
     "name": "stdout",
     "output_type": "stream",
     "text": [
      "a or b\n",
      "a and b\n",
      "a  | implies |  b\n",
      "a | iff | b\n",
      "============\n",
      "b or a\n",
      "b and a\n",
      "b  | implies |  a\n",
      "b | iff | a\n",
      "============\n"
     ]
    }
   ],
   "source": [
    "for v in permutations(variables):\n",
    "    v = list(v)\n",
    "    for op in operations:\n",
    "        # list(v).insert(1, op)\n",
    "        print(f\"{v[0]} {op} {v[1]}\")\n",
    "        # print(v)\n",
    "    print(\"============\")\n",
    "\n",
    "        # print()"
   ]
  },
  {
   "cell_type": "code",
   "execution_count": 305,
   "id": "70c0aaef-5742-40b4-9ce5-efc8933abe12",
   "metadata": {},
   "outputs": [],
   "source": [
    "k = ['b', 'g']\n",
    "k.insert(2, 'k')"
   ]
  },
  {
   "cell_type": "code",
   "execution_count": null,
   "id": "0a6b82e8-fff2-4726-aecb-5be0cb5b35a7",
   "metadata": {},
   "outputs": [],
   "source": []
  },
  {
   "cell_type": "code",
   "execution_count": 19,
   "id": "62fa0faa-8666-4aca-bad5-f2d97af7f43a",
   "metadata": {},
   "outputs": [
    {
     "name": "stdout",
     "output_type": "stream",
     "text": [
      "first exprssion : \n"
     ]
    },
    {
     "name": "stdin",
     "output_type": "stream",
     "text": [
      " a and b\n"
     ]
    },
    {
     "name": "stdout",
     "output_type": "stream",
     "text": [
      "second exprssion : \n"
     ]
    },
    {
     "name": "stdin",
     "output_type": "stream",
     "text": [
      " b and a\n"
     ]
    },
    {
     "name": "stdout",
     "output_type": "stream",
     "text": [
      "\n",
      "The expressions \n",
      "\t'a and b'\n",
      " &\n",
      "\t 'b and a'\n",
      " are equivalent!\n"
     ]
    }
   ],
   "source": [
    "if __name__ == \"__main__\":\n",
    "    main()"
   ]
  },
  {
   "cell_type": "code",
   "execution_count": null,
   "id": "0fe862b4-17d9-47d1-8934-b0a3d37a9a7d",
   "metadata": {},
   "outputs": [],
   "source": []
  },
  {
   "cell_type": "code",
   "execution_count": null,
   "id": "56a27603-63ca-410b-ac67-7ac19c314275",
   "metadata": {},
   "outputs": [],
   "source": []
  }
 ],
 "metadata": {
  "kernelspec": {
   "display_name": "Python 3 (ipykernel)",
   "language": "python",
   "name": "python3"
  },
  "language_info": {
   "codemirror_mode": {
    "name": "ipython",
    "version": 3
   },
   "file_extension": ".py",
   "mimetype": "text/x-python",
   "name": "python",
   "nbconvert_exporter": "python",
   "pygments_lexer": "ipython3",
   "version": "3.9.12"
  }
 },
 "nbformat": 4,
 "nbformat_minor": 5
}
