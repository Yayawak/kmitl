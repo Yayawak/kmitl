{
 "cells": [
  {
   "cell_type": "code",
   "execution_count": 3,
   "id": "0cf39651-ed3e-4777-b4b4-b125423abaa3",
   "metadata": {},
   "outputs": [
    {
     "name": "stdout",
     "output_type": "stream",
     "text": [
      "[[True, True, True], [True, False, True], [False, True, False], [False, False, False]]\n",
      "tt1 [[True, True, False], [True, False, False], [False, True, True], [False, False, False]]\n",
      "tt2 [[True, True, True], [True, False, False], [False, True, True], [False, False, True]]\n",
      "\n",
      "The expressions 'not a and b' & 'a |implies| b' are NOT equivalent!\n",
      "\n",
      "tt1 [[True, True, True], [True, False, False], [False, True, True], [False, False, True]]\n",
      "tt2 [[True, True, True], [True, False, False], [False, True, True], [False, False, True]]\n",
      "\n",
      "The expressions 'not a or b' & 'a |implies| b' are equivalent!\n",
      "\n"
     ]
    }
   ],
   "source": [
    "\n",
    "# Lab 1: Logical Equivalent\n",
    "\n",
    "# ให้นักศึกษาเพิ่มเติมโค้ดด้านล่าง\n",
    "# ชื่อ-สกุล: นางสาว บุณยเณจน์ แสนสุข\n",
    "# รหัสนักศึกษา: 65050497\n",
    "\n",
    "\n",
    "######## ห้ามแก้ไขโค้ดส่วนนี้ ########\n",
    "# ********** เริ่มต้น **************\n",
    "\n",
    "from functools import partial\n",
    "\n",
    "class Infix(object):\n",
    "    def __init__(self, func):\n",
    "        self.func = func\n",
    "    def __or__(self, other):\n",
    "        return self.func(other)\n",
    "    def __ror__(self, other):\n",
    "        return Infix(partial(self.func, other))\n",
    "    def __call__(self, v1, v2):\n",
    "        return self.func(v1, v2)\n",
    "\n",
    "@Infix\n",
    "def implies(p, q) :\n",
    "    return not p or q\n",
    "\n",
    "@Infix\n",
    "def iff(p, q) :\n",
    "    return (p |implies| q) and (q |implies| p)\n",
    "\n",
    "# ********** สิ้นสุด **********\n",
    "\n",
    "\n",
    "############# เขียนฟังก์ชันต่อไปนี้  ##############\n",
    "###### ห้ามแก้ไข function definitions #########\n",
    "\n",
    "\n",
    "# ฟังชั่นก์สร้างตาราง Truth Table\n",
    "# input: expression\n",
    "# output: truth table as a list of lists\n",
    "# หมายเหตุ ตัวแปรในประพจน์มีเพียง a และ b เท่านั้น\n",
    "# คืนค่่า True ถ้า expr1 สมมูลกับ expr2 และ False ถ้าไม่ใช่\n",
    "# input: expr1, expr2 \n",
    "# output: bool\n",
    "\n",
    "# สามารถทดสอบโค้ดที่เขียนได้ด้วยฟังก์ชั่น main() นี้\n"
   ]
  },
  {
   "cell_type": "code",
   "execution_count": 4,
   "id": "97fdf16e-f6f8-4a6e-bac5-6ea9b5809931",
   "metadata": {},
   "outputs": [],
   "source": [
    "def are_equivalent(expr1, expr2):\n",
    "    tt1 = truth_table(expr1)\n",
    "    print(\"tt1\",tt1)\n",
    "    tt2 = truth_table(expr2)\n",
    "    print(\"tt2\",tt2)\n",
    "    return tt1==tt2 \n",
    "# Teera Ace Siriteerakul"
   ]
  },
  {
   "cell_type": "code",
   "execution_count": 7,
   "id": "4c425977-a4de-4868-b808-032ddf7f2c37",
   "metadata": {},
   "outputs": [],
   "source": [
    "def truth_table(expression):\n",
    "    tt = [[],[],[],[]]\n",
    "    a = True\n",
    "    b = True\n",
    "    tt[0] = [a,b,eval(expression)]\n",
    "    a = True\n",
    "    b = False\n",
    "    tt[1] = [a,b,eval(expression)]\n",
    "    a = False\n",
    "    b = True\n",
    "    tt[2] = [a,b,eval(expression)]\n",
    "    a = False\n",
    "    b = False\n",
    "    tt[3] = [a,b,eval(expression)]\n",
    "    return tt\n"
   ]
  },
  {
   "cell_type": "code",
   "execution_count": 9,
   "id": "d9bdf2ed-638e-4e3e-9e7c-315094cf2b04",
   "metadata": {},
   "outputs": [
    {
     "data": {
      "text/plain": [
       "[[True, True, True],\n",
       " [True, False, False],\n",
       " [False, True, False],\n",
       " [False, False, False]]"
      ]
     },
     "execution_count": 9,
     "metadata": {},
     "output_type": "execute_result"
    }
   ],
   "source": [
    "truth_table(\"a and b\")"
   ]
  },
  {
   "cell_type": "code",
   "execution_count": 12,
   "id": "5493d110-883d-4da1-9a6d-15dac2c0d646",
   "metadata": {},
   "outputs": [
    {
     "data": {
      "text/plain": [
       "[[True, True, True],\n",
       " [True, False, False],\n",
       " [False, True, False],\n",
       " [False, False, False]]"
      ]
     },
     "execution_count": 12,
     "metadata": {},
     "output_type": "execute_result"
    }
   ],
   "source": [
    "t1 = truth_table(\"a and b\")\n",
    "t2 = truth_table(\"a or b\")\n",
    "t1"
   ]
  },
  {
   "cell_type": "code",
   "execution_count": 13,
   "id": "d950d800-2bd1-4ada-a135-6d7058750842",
   "metadata": {},
   "outputs": [
    {
     "data": {
      "text/plain": [
       "[[True, True, True],\n",
       " [True, False, True],\n",
       " [False, True, True],\n",
       " [False, False, False]]"
      ]
     },
     "execution_count": 13,
     "metadata": {},
     "output_type": "execute_result"
    }
   ],
   "source": [
    "t2"
   ]
  },
  {
   "cell_type": "code",
   "execution_count": 14,
   "id": "41153ad3-0266-4431-b139-97b25abeeec7",
   "metadata": {},
   "outputs": [
    {
     "name": "stdout",
     "output_type": "stream",
     "text": [
      "tt1 [[True, True, False], [True, False, False], [False, True, True], [False, False, False]]\n",
      "tt2 [[True, True, True], [True, False, False], [False, True, True], [False, False, True]]\n",
      "\n",
      "The expressions 'not a and b' & 'a |implies| b' are NOT equivalent!\n",
      "\n",
      "tt1 [[True, True, True], [True, False, False], [False, True, True], [False, False, True]]\n",
      "tt2 [[True, True, True], [True, False, False], [False, True, True], [False, False, True]]\n",
      "\n",
      "The expressions 'not a or b' & 'a |implies| b' are equivalent!\n",
      "\n"
     ]
    }
   ],
   "source": [
    "def main():\n",
    "\n",
    "    # ทดสอบฟังก์ชันตรวจสอบความสมมูล\n",
    "    expr1 = 'not a and b'\n",
    "    expr2 = 'a |implies| b'\n",
    "    equivalent = are_equivalent(expr1, expr2)\n",
    "    if equivalent:\n",
    "        print('\\nThe expressions \\'' + expr1 + '\\' & \\'' + expr2 + '\\' are equivalent!'+\"\\n\")\n",
    "    else:\n",
    "        print('\\nThe expressions \\'' + expr1 + '\\' & \\'' + expr2 + '\\' are NOT equivalent!'+\"\\n\")\n",
    "    \n",
    "    expr3 = 'not a or b'\n",
    "    expr4 = 'a |implies| b'\n",
    "    equivalent = are_equivalent(expr3, expr4)\n",
    "    if equivalent:\n",
    "        print('\\nThe expressions \\'' + expr3 + '\\' & \\'' + expr4 + '\\' are equivalent!'+\"\\n\")\n",
    "    else:\n",
    "        print('\\nThe expressions \\'' + expr3 + '\\' & \\'' + expr4 + '\\' are NOT equivalent!'+\"\\n\")\n",
    "\n",
    "\n",
    "\n",
    "if __name__ == '__main__':\n",
    "    main()\n"
   ]
  },
  {
   "cell_type": "code",
   "execution_count": null,
   "id": "de902d06-061d-4102-9933-e8d64b448a38",
   "metadata": {},
   "outputs": [],
   "source": []
  }
 ],
 "metadata": {
  "kernelspec": {
   "display_name": "Python 3 (ipykernel)",
   "language": "python",
   "name": "python3"
  },
  "language_info": {
   "codemirror_mode": {
    "name": "ipython",
    "version": 3
   },
   "file_extension": ".py",
   "mimetype": "text/x-python",
   "name": "python",
   "nbconvert_exporter": "python",
   "pygments_lexer": "ipython3",
   "version": "3.9.12"
  }
 },
 "nbformat": 4,
 "nbformat_minor": 5
}
