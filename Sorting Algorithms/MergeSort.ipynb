{
 "cells": [
  {
   "cell_type": "code",
   "execution_count": 2,
   "id": "7019759e-d0c6-47bd-b464-f0e61a3eb294",
   "metadata": {},
   "outputs": [],
   "source": [
    "import matplotlib.pyplot as plt\n",
    "from matplotlib.animation import FuncAnimation\n",
    "from mpl_toolkits.mplot3d import axes3d\n",
    "import matplotlib as mpl\n",
    "import numpy as np\n",
    "import random"
   ]
  },
  {
   "cell_type": "code",
   "execution_count": null,
   "id": "18786afd-02fb-4e6e-a5f8-90b6a3ac7878",
   "metadata": {},
   "outputs": [],
   "source": [
    "def mergesort(A, start, end):\n",
    "    if end <= start:\n",
    "        return \n",
    "    mid = start + ((end - start + 1) // 2) - 1\n",
    "\n",
    "    yield from mergesort(A, start, mid)\n",
    "    yield from mergesort(A, mid+1, end)\n",
    "    yield from merge(A, start, mid, end)"
   ]
  }
 ],
 "metadata": {
  "kernelspec": {
   "display_name": "Python 3 (ipykernel)",
   "language": "python",
   "name": "python3"
  },
  "language_info": {
   "codemirror_mode": {
    "name": "ipython",
    "version": 3
   },
   "file_extension": ".py",
   "mimetype": "text/x-python",
   "name": "python",
   "nbconvert_exporter": "python",
   "pygments_lexer": "ipython3",
   "version": "3.9.12"
  }
 },
 "nbformat": 4,
 "nbformat_minor": 5
}
