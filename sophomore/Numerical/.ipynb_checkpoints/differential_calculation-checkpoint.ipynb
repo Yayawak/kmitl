{
 "cells": [
  {
   "cell_type": "code",
   "execution_count": 2,
   "id": "d331acc7-e60e-4511-a44b-b14909b534d4",
   "metadata": {},
   "outputs": [
    {
     "data": {
      "text/plain": [
       "central_diff (generic function with 1 method)"
      ]
     },
     "execution_count": 2,
     "metadata": {},
     "output_type": "execute_result"
    }
   ],
   "source": [
    "function fw_diff(f, x, dx)\n",
    "    fx = f(x)\n",
    "    fxph = f(x + dx)\n",
    "    return (fxph - fx) / dx\n",
    "end\n",
    "\n",
    "function bw_diff(f, x, dx)\n",
    "    fx = f(x)\n",
    "    fxnh = f(x - dx)\n",
    "    return (fx - fxnh) / dx\n",
    "end\n",
    "\n",
    "function central_diff(f, x, dx)\n",
    "    fxph = f(x + dx)\n",
    "    fxnh = f(x - dx)\n",
    "    return (fxph - fxnh) / (2 * dx)\n",
    "end\n",
    "    "
   ]
  },
  {
   "cell_type": "code",
   "execution_count": 3,
   "id": "f4ef2fcf-d7dc-4b3f-9501-801d24339ba6",
   "metadata": {},
   "outputs": [
    {
     "data": {
      "text/plain": [
       "27.91000000000004"
      ]
     },
     "execution_count": 3,
     "metadata": {},
     "output_type": "execute_result"
    }
   ],
   "source": [
    "function f(x)\n",
    "    # diff of x^3 of x=3 should be 3*(3)^2 = 18\n",
    "    return x^3\n",
    "end\n",
    "\n",
    "# central_diff(\n",
    "fw_diff(\n",
    "    f,\n",
    "    3,\n",
    "    0.1\n",
    ")"
   ]
  },
  {
   "cell_type": "code",
   "execution_count": 4,
   "id": "f4c048d9-4c49-4043-81d1-6e7d2b7ae52b",
   "metadata": {},
   "outputs": [
    {
     "data": {
      "text/plain": [
       "(27, 29.791000000000004)"
      ]
     },
     "execution_count": 4,
     "metadata": {},
     "output_type": "execute_result"
    }
   ],
   "source": [
    "f(3), f(3 + 0.1)"
   ]
  },
  {
   "cell_type": "code",
   "execution_count": 5,
   "id": "b6a7d42b-5e9f-495d-8cd9-531a6e98b978",
   "metadata": {},
   "outputs": [
    {
     "data": {
      "text/plain": [
       "2.791000000000004"
      ]
     },
     "execution_count": 5,
     "metadata": {},
     "output_type": "execute_result"
    }
   ],
   "source": [
    "f(3 + 0.1) - f(3)"
   ]
  },
  {
   "cell_type": "code",
   "execution_count": 6,
   "id": "1fcfe049-f8c2-4f4a-a920-8c71306eca45",
   "metadata": {},
   "outputs": [
    {
     "data": {
      "text/plain": [
       "27.91000000000004"
      ]
     },
     "execution_count": 6,
     "metadata": {},
     "output_type": "execute_result"
    }
   ],
   "source": [
    "dff = (f(3 + 0.1) - f(3)) / 0.1"
   ]
  },
  {
   "cell_type": "code",
   "execution_count": 7,
   "id": "db763086-3130-4861-87f8-cab2088c2f3a",
   "metadata": {},
   "outputs": [
    {
     "data": {
      "text/plain": [
       "27.090099999999495"
      ]
     },
     "execution_count": 7,
     "metadata": {},
     "output_type": "execute_result"
    }
   ],
   "source": [
    "fw_diff(f, 3, 0.01)"
   ]
  },
  {
   "cell_type": "code",
   "execution_count": 8,
   "id": "eb855f3d-c8ca-4d76-bdee-f09ad7e03206",
   "metadata": {},
   "outputs": [
    {
     "data": {
      "text/plain": [
       "27.009000999996147"
      ]
     },
     "execution_count": 8,
     "metadata": {},
     "output_type": "execute_result"
    }
   ],
   "source": [
    "fw_diff(f, 3, 0.001)"
   ]
  },
  {
   "cell_type": "code",
   "execution_count": 9,
   "id": "399ee224-d642-4fa4-ab3d-f0fb440e7024",
   "metadata": {},
   "outputs": [
    {
     "name": "stdout",
     "output_type": "stream",
     "text": [
      "37.0\n",
      "27.91000000000004\n",
      "27.090099999999495\n",
      "27.009000999996147\n",
      "27.00090001006572\n",
      "27.000089999873463\n",
      "27.00000900546229\n",
      "27.000000848431682\n",
      "26.999999747090442\n",
      "27.000002233990017\n",
      "27.00001999755841\n"
     ]
    }
   ],
   "source": [
    "X = 0:10\n",
    "Y = []\n",
    "for i in X \n",
    "    dx = 1 / (10^i)\n",
    "    slope = fw_diff(f, 3, dx)\n",
    "    print(slope)\n",
    "    print(\"\\n\")\n",
    "    append!(Y, slope)\n",
    "end"
   ]
  },
  {
   "cell_type": "code",
   "execution_count": 10,
   "id": "13d8efa5-23d6-458d-864e-6925740f9887",
   "metadata": {},
   "outputs": [],
   "source": [
    "using PyPlot\n",
    "# using Pkg\n",
    "# Pkg.add(\"Plots\")\n",
    "# using Plots"
   ]
  },
  {
   "cell_type": "code",
   "execution_count": 12,
   "id": "bbfa172d-c7ea-4d21-8716-d8fbabd04435",
   "metadata": {},
   "outputs": [
    {
     "data": {
      "image/png": "[encoded data removed]",
      "text/plain": [
       "Figure(PyObject <Figure size 640x480 with 1 Axes>)"
      ]
     },
     "metadata": {},
     "output_type": "display_data"
    },
    {
     "data": {
      "text/plain": [
       "1-element Vector{PyCall.PyObject}:\n",
       " PyObject <matplotlib.lines.Line2D object at 0x1393474c0>"
      ]
     },
     "execution_count": 12,
     "metadata": {},
     "output_type": "execute_result"
    }
   ],
   "source": [
    "plot(X, Y)"
   ]
  },
  {
   "cell_type": "code",
   "execution_count": 13,
   "id": "808e0973-c8ad-4a3e-9dda-fb5fdc8e3707",
   "metadata": {},
   "outputs": [
    {
     "data": {
      "text/plain": [
       "solve_problem (generic function with 1 method)"
      ]
     },
     "execution_count": 13,
     "metadata": {},
     "output_type": "execute_result"
    }
   ],
   "source": [
    "function solve_problem(x)\n",
    "    return -0.1*x^4 - 0.15*x^3 - 0.5*x^2 - 0.25*x + 1.2\n",
    "end"
   ]
  },
  {
   "cell_type": "code",
   "execution_count": 14,
   "id": "f98aba71-df46-409a-a9cf-7bd4d5a5785a",
   "metadata": {},
   "outputs": [
    {
     "data": {
      "text/plain": [
       "1.2"
      ]
     },
     "execution_count": 14,
     "metadata": {},
     "output_type": "execute_result"
    }
   ],
   "source": [
    "solve_problem(0)"
   ]
  },
  {
   "cell_type": "code",
   "execution_count": 50,
   "id": "c9b40ac3-a7f3-45be-b1f4-bf51797be321",
   "metadata": {},
   "outputs": [
    {
     "data": {
      "text/plain": [
       "solve_diff_problem (generic function with 1 method)"
      ]
     },
     "execution_count": 50,
     "metadata": {},
     "output_type": "execute_result"
    }
   ],
   "source": [
    "function solve_diff_problem(x)\n",
    "    return -0.4*x^3 - 0.45*x^2 -1.0*x - 0.25\n",
    "end\n"
   ]
  },
  {
   "cell_type": "code",
   "execution_count": 51,
   "id": "c392e858-61fb-4cac-a0cc-8266be6b0049",
   "metadata": {},
   "outputs": [],
   "source": [
    "# for x = 0.5, h = 0.5"
   ]
  },
  {
   "cell_type": "code",
   "execution_count": 52,
   "id": "9c7502af-e7cd-4da4-b7ad-85e1842f366c",
   "metadata": {},
   "outputs": [
    {
     "data": {
      "text/plain": [
       "-1.45"
      ]
     },
     "execution_count": 52,
     "metadata": {},
     "output_type": "execute_result"
    }
   ],
   "source": [
    "fd = fw_diff(solve_problem, 0.5, 0.5)"
   ]
  },
  {
   "cell_type": "code",
   "execution_count": 53,
   "id": "48e68453-891b-4b48-a151-d174612b5202",
   "metadata": {},
   "outputs": [
    {
     "data": {
      "text/plain": [
       "-1.0"
      ]
     },
     "execution_count": 53,
     "metadata": {},
     "output_type": "execute_result"
    }
   ],
   "source": [
    "cd = central_diff(solve_problem, 0.5, 0.5)"
   ]
  },
  {
   "cell_type": "code",
   "execution_count": 54,
   "id": "1884473f-3f17-4d69-9ebc-2f0c7cb79f10",
   "metadata": {},
   "outputs": [
    {
     "data": {
      "text/plain": [
       "-0.55"
      ]
     },
     "execution_count": 54,
     "metadata": {},
     "output_type": "execute_result"
    }
   ],
   "source": [
    "bw = bw_diff(solve_problem, 0.5, 0.5)"
   ]
  },
  {
   "cell_type": "code",
   "execution_count": 55,
   "id": "263e0ec5-1a15-4024-a4c8-6edceeb60872",
   "metadata": {},
   "outputs": [
    {
     "data": {
      "text/plain": [
       "-0.9125"
      ]
     },
     "execution_count": 55,
     "metadata": {},
     "output_type": "execute_result"
    }
   ],
   "source": [
    "exact_diff = solve_diff_problem(0.5)"
   ]
  },
  {
   "cell_type": "code",
   "execution_count": 56,
   "id": "55414552-8d7b-4651-991f-29713ec786a8",
   "metadata": {},
   "outputs": [],
   "source": [
    "using Printf"
   ]
  },
  {
   "cell_type": "code",
   "execution_count": 57,
   "id": "abd7c2e8-463c-4acc-bb7c-e4b8244af3f8",
   "metadata": {},
   "outputs": [
    {
     "name": "stdout",
     "output_type": "stream",
     "text": [
      "\tForward diff\t\t\t Central diff\t\t\t Backward diff\n",
      "     -1.45 (error=      0.54)\t        -1 (error=     0.088)\t     -0.55 (error=      0.36)"
     ]
    }
   ],
   "source": [
    "println(\"\\tForward diff\\t\\t\\t Central diff\\t\\t\\t Backward diff\")\n",
    "\n",
    "@printf(\"%10g (error=%10.2g)\\t%10g (error=%10.2g)\\t%10g (error=%10.2g)\",\n",
    "    fd, abs(fd - exact_diff),\n",
    "            cd, abs(cd - exact_diff),\n",
    "\n",
    "        bw, abs(bw - exact_diff),\n",
    "\n",
    ")"
   ]
  },
  {
   "cell_type": "code",
   "execution_count": 58,
   "id": "535ef033-d4e9-4e8c-bc2d-ecb2b916bb57",
   "metadata": {},
   "outputs": [
    {
     "data": {
      "text/plain": [
       "-0.9125"
      ]
     },
     "execution_count": 58,
     "metadata": {},
     "output_type": "execute_result"
    }
   ],
   "source": [
    "exact_diff"
   ]
  },
  {
   "cell_type": "code",
   "execution_count": 59,
   "id": "034a9dbb-274a-4c34-864e-06b312408f1d",
   "metadata": {},
   "outputs": [
    {
     "name": "stdout",
     "output_type": "stream",
     "text": [
      "\tForward diff\t\t\t Central diff\t\t\t Backward diff\n",
      "     -1.45 (error=      0.54)\t        -1 (error=     0.088)\t     -0.55 (error=      0.36)\n",
      "  -1.15469 (error=      0.24)\t -0.934375 (error=     0.022)\t -0.714063 (error=       0.2)\n",
      "  -1.02754 (error=      0.12)\t -0.917969 (error=    0.0055)\t -0.808398 (error=       0.1)\n",
      " -0.968579 (error=     0.056)\t -0.913867 (error=    0.0014)\t -0.859155 (error=     0.053)\n",
      " -0.940189 (error=     0.028)\t -0.912842 (error=   0.00034)\t -0.885495 (error=     0.027)\n",
      " -0.926258 (error=     0.014)\t -0.912585 (error=   8.5e-05)\t -0.898913 (error=     0.014)\n",
      " -0.919357 (error=    0.0069)\t -0.912521 (error=   2.1e-05)\t -0.905685 (error=    0.0068)\n",
      " -0.915923 (error=    0.0034)\t -0.912505 (error=   5.3e-06)\t -0.909087 (error=    0.0034)\n",
      "  -0.91421 (error=    0.0017)\t -0.912501 (error=   1.3e-06)\t -0.910792 (error=    0.0017)\n",
      " -0.913355 (error=   0.00085)\t   -0.9125 (error=   3.3e-07)\t -0.911646 (error=   0.00085)\n"
     ]
    }
   ],
   "source": [
    "println(\"\\tForward diff\\t\\t\\t Central diff\\t\\t\\t Backward diff\")\n",
    "\n",
    "fd_errs = []\n",
    "cd_errs = []\n",
    "bw_errs = []\n",
    "dx_all = []\n",
    "dx = 0.5\n",
    "x = 0.5\n",
    "exact_diff = solve_diff_problem(x)\n",
    "\n",
    "for i in 1:10\n",
    "\n",
    "    fd = fw_diff(solve_problem, x, dx)\n",
    "    bw = bw_diff(solve_problem, x, dx)\n",
    "    cd = central_diff(solve_problem, x, dx)\n",
    "\n",
    "    ef = abs(fd - exact_diff)\n",
    "    ec = abs(cd - exact_diff)\n",
    "    eb = abs(bw - exact_diff)\n",
    "@printf(\"%10g (error=%10.2g)\\t%10g (error=%10.2g)\\t%10g (error=%10.2g)\\n\",\n",
    "        fd, ef,\n",
    "        cd, ec,\n",
    "        bw, eb,\n",
    ")\n",
    "    append!(dx_all, dx)\n",
    "    append!(fd_errs, ef)\n",
    "    append!(bw_errs, eb)\n",
    "    append!(cd_errs, ec)\n",
    "    \n",
    "    dx /= 2\n",
    "\n",
    "end"
   ]
  },
  {
   "cell_type": "code",
   "execution_count": 62,
   "id": "280b0190-6cb4-42c1-b2c0-04dee5233d84",
   "metadata": {},
   "outputs": [
    {
     "data": {
      "image/png": "[encoded data removed]",
      "text/plain": [
       "Figure(PyObject <Figure size 640x480 with 1 Axes>)"
      ]
     },
     "metadata": {},
     "output_type": "display_data"
    }
   ],
   "source": [
    "using PyPlot\n",
    "\n",
    "n = length(dx_all)\n",
    "loglog(dx_all, fd_errs, \"b.--\", label=\"fw diff\")\n",
    "loglog(dx_all, cd_errs, \"k.--\", label=\"ct diff\")\n",
    "loglog(dx_all, bw_errs, \"r.--\", label=\"bw diff\")\n",
    "\n",
    "title(\"Convergence plot\")\n",
    "legend(loc=\"best\")\n",
    "grid(true)"
   ]
  },
  {
   "cell_type": "code",
   "execution_count": 74,
   "id": "c0ada918-c0a1-4ffa-92b1-307c33113ac9",
   "metadata": {},
   "outputs": [
    {
     "data": {
      "text/plain": [
       "-2.984375"
      ]
     },
     "execution_count": 74,
     "metadata": {},
     "output_type": "execute_result"
    }
   ],
   "source": [
    "x = 1.25\n",
    "dx = 1\n",
    "\n",
    "fwdf = fw_diff(f, x, dx)\n",
    "bwdf = bw_diff(f, x, dx)\n",
    "ctdf = central_diff(f, x, dx)\n",
    "\n",
    "exact = solve_diff_problem(x)\n",
    "\n"
   ]
  },
  {
   "cell_type": "code",
   "execution_count": 75,
   "id": "b062217b-5149-47a6-a8f7-ae3cb621dc36",
   "metadata": {},
   "outputs": [
    {
     "data": {
      "text/plain": [
       "8.671875"
      ]
     },
     "execution_count": 75,
     "metadata": {},
     "output_type": "execute_result"
    }
   ],
   "source": [
    "ef = abs(exact - fwdf)\n",
    "eb = abs(exact - bwdf)\n",
    "ec = abs(exact - ctdf)"
   ]
  },
  {
   "cell_type": "code",
   "execution_count": 76,
   "id": "30a49314-b53b-4e4d-b6dc-60461da86b9c",
   "metadata": {},
   "outputs": [
    {
     "name": "stdout",
     "output_type": "stream",
     "text": [
      "forward / backward / central differential values = ...\n",
      "        9.4,\t       1.9,\t       5.7\t\n",
      "Error of each methods ...\n",
      "forward / backward / central differential values = ...\n",
      "         12,\t       4.9,\t       8.7\t\n"
     ]
    }
   ],
   "source": [
    "@printf(\"forward / backward / central differential values = ...\\n %10.2g,\\t%10.2g,\\t%10.2g\\t\\n\",\n",
    "fwdf, bwdf, ctdf\n",
    ")\n",
    "println(\"Error of each methods ...\")\n",
    "@printf(\"forward / backward / central differential values = ...\\n %10.2g,\\t%10.2g,\\t%10.2g\\t\\n\",\n",
    "    ef, eb, ec\n",
    ")"
   ]
  },
  {
   "cell_type": "code",
   "execution_count": null,
   "id": "440adb16-b74a-48a4-b832-c491499c5d9c",
   "metadata": {},
   "outputs": [],
   "source": []
  },
  {
   "cell_type": "code",
   "execution_count": null,
   "id": "6dcdb7ec-2746-4e2d-9e60-f98ca9ca12cf",
   "metadata": {},
   "outputs": [],
   "source": []
  },
  {
   "cell_type": "code",
   "execution_count": null,
   "id": "abe94beb-3fbe-45d5-8830-44bd7755e116",
   "metadata": {},
   "outputs": [],
   "source": []
  }
 ],
 "metadata": {
  "kernelspec": {
   "display_name": "Julia 1.10.0",
   "language": "julia",
   "name": "julia-1.10"
  },
  "language_info": {
   "file_extension": ".jl",
   "mimetype": "application/julia",
   "name": "julia",
   "version": "1.10.0"
  }
 },
 "nbformat": 4,
 "nbformat_minor": 5
}
