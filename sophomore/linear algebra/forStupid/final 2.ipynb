{
 "cells": [
  {
   "cell_type": "code",
   "execution_count": 2,
   "id": "d9885a5a-60ca-4309-b756-2811f2bb5266",
   "metadata": {},
   "outputs": [
    {
     "data": {
      "text/plain": [
       "(array([3, 7]), array([0, 1]))"
      ]
     },
     "execution_count": 2,
     "metadata": {},
     "output_type": "execute_result"
    }
   ],
   "source": [
    "import numpy as np\n",
    "import matplotlib.pyplot as plt\n"
   ]
  },
  {
   "cell_type": "code",
   "execution_count": 3,
   "id": "f44bbeb5-ef32-4a11-bf92-ecc267ff137a",
   "metadata": {},
   "outputs": [
    {
     "data": {
      "text/plain": [
       "array([ 6, 18])"
      ]
     },
     "execution_count": 3,
     "metadata": {},
     "output_type": "execute_result"
    }
   ],
   "source": [
    "createVector(u, v, 2, 4)"
   ]
  },
  {
   "cell_type": "code",
   "execution_count": 11,
   "id": "b4214133-00ae-4dea-8e5a-d2192f17b468",
   "metadata": {},
   "outputs": [
    {
     "data": {
      "text/plain": [
       "<matplotlib.collections.PathCollection at 0x111c2d3d0>"
      ]
     },
     "execution_count": 11,
     "metadata": {},
     "output_type": "execute_result"
    },
    {
     "data": {
      "image/png": "[encoded data removed]",
      "text/plain": [
       "<Figure size 640x480 with 1 Axes>"
      ]
     },
     "metadata": {},
     "output_type": "display_data"
    }
   ],
   "source": [
    "\n",
    "u = np.array([\n",
    "    0, 0\n",
    "])\n",
    "\n",
    "v = np.array([\n",
    "    0, 1\n",
    "])\n",
    "\n",
    "\n",
    "# u.T\n",
    "# u, v\n",
    "def createVector(basisVec1, basisVec2, s1, s2):\n",
    "    # return s1 * basisVec1 + s2 * basisVec2\n",
    "    return s1 * basisVec1\n",
    "\n",
    "def createSpan():\n",
    "    Array = []\n",
    "    m = 100\n",
    "    for i in range(-m, m):\n",
    "        for j in range(-m, m):\n",
    "            Array.append(createVector (u, u, i, j))\n",
    "    return Array\n",
    "\n",
    "# x, y = zip(createSpan())\n",
    "vs = createSpan()\n",
    "\n",
    "vs[0]\n",
    "Xs = [vi[0] for vi in vs]\n",
    "Ys = [vi[1] for vi in vs]\n",
    "# Xs, Ys\n",
    "# vs\n",
    "# plt.plot(Xs, Ys)\n",
    "plt.scatter(Xs, Ys)\n",
    "# createVector(u, v, 0, 1)"
   ]
  },
  {
   "cell_type": "code",
   "execution_count": null,
   "id": "ec83393b-6c67-4fd0-a1d3-57c2d39a6f7e",
   "metadata": {},
   "outputs": [],
   "source": []
  }
 ],
 "metadata": {
  "kernelspec": {
   "display_name": "Python 3 (ipykernel)",
   "language": "python",
   "name": "python3"
  },
  "language_info": {
   "codemirror_mode": {
    "name": "ipython",
    "version": 3
   },
   "file_extension": ".py",
   "mimetype": "text/x-python",
   "name": "python",
   "nbconvert_exporter": "python",
   "pygments_lexer": "ipython3",
   "version": "3.11.4"
  }
 },
 "nbformat": 4,
 "nbformat_minor": 5
}
