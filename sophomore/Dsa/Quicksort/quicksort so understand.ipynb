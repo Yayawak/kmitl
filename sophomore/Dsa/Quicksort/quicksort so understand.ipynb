{
 "cells": [
  {
   "cell_type": "code",
   "execution_count": 1,
   "id": "921ed7ca-d51d-4182-a1d5-b816808d1945",
   "metadata": {},
   "outputs": [],
   "source": [
    "import numpy as np"
   ]
  },
  {
   "cell_type": "code",
   "execution_count": 2,
   "id": "f35ce164-1f97-4733-ae29-f3ff2d261b0d",
   "metadata": {},
   "outputs": [],
   "source": [
    "import matplotlib.pyplot as plt"
   ]
  },
  {
   "cell_type": "code",
   "execution_count": 3,
   "id": "632e2a5c-d8d8-40ca-aa43-af04a59ba49f",
   "metadata": {},
   "outputs": [],
   "source": [
    "import numpy.linalg as linalg"
   ]
  },
  {
   "cell_type": "code",
   "execution_count": 13,
   "id": "11785577-65b1-4e8d-a5fd-0b258b47e42d",
   "metadata": {},
   "outputs": [
    {
     "data": {
      "text/plain": [
       "array([0, 1])"
      ]
     },
     "execution_count": 13,
     "metadata": {},
     "output_type": "execute_result"
    }
   ],
   "source": [
    "u = np.array([1, 0])\n",
    "u.transpose()\n",
    "# vec1\n",
    "v = np.array([0, 1])\n",
    "v "
   ]
  },
  {
   "cell_type": "code",
   "execution_count": 15,
   "id": "175b1734-23be-45b2-bccf-7f988eeff767",
   "metadata": {},
   "outputs": [
    {
     "data": {
      "text/plain": [
       "array([1, 1])"
      ]
     },
     "execution_count": 15,
     "metadata": {},
     "output_type": "execute_result"
    }
   ],
   "source": [
    "u + v"
   ]
  },
  {
   "cell_type": "code",
   "execution_count": 18,
   "id": "d34519fd-8dc6-4fb5-9368-bafdb7b3a392",
   "metadata": {},
   "outputs": [
    {
     "data": {
      "text/plain": [
       "array([0, 1, 2, 3, 4, 5, 6, 7, 8, 9])"
      ]
     },
     "execution_count": 18,
     "metadata": {},
     "output_type": "execute_result"
    }
   ],
   "source": [
    "c1 = np.arange(0, 10)\n",
    "c1"
   ]
  },
  {
   "cell_type": "code",
   "execution_count": 38,
   "id": "e23d158e-94e0-4c0f-b097-f3528f6ccfe7",
   "metadata": {},
   "outputs": [
    {
     "name": "stdout",
     "output_type": "stream",
     "text": [
      "Swaped \n",
      "0  ->  [3, 7, 8, 5, 2, 1, 9, 5, 4]\n",
      "1  ->  [3, 7, 8, 5, 2, 1, 9, 5, 4]\n",
      "2  ->  [3, 7, 8, 5, 2, 1, 9, 5, 4]\n",
      "3  ->  [3, 7, 8, 5, 2, 1, 9, 5, 4]\n",
      "Swaped \n",
      "4  ->  [3, 2, 8, 5, 7, 1, 9, 5, 4]\n",
      "Swaped \n",
      "5  ->  [3, 2, 1, 5, 7, 8, 9, 5, 4]\n",
      "6  ->  [3, 2, 1, 5, 7, 8, 9, 5, 4]\n",
      "7  ->  [3, 2, 1, 5, 7, 8, 9, 5, 4]\n",
      "8  =>  [3, 2, 1, 4, 7, 8, 9, 5, 5]\n",
      "pivot after partitioning is A[3] = 1\n"
     ]
    },
    {
     "data": {
      "text/plain": [
       "[3, 2, 1, 4, 7, 8, 9, 5, 5]"
      ]
     },
     "execution_count": 38,
     "metadata": {},
     "output_type": "execute_result"
    }
   ],
   "source": [
    "def partition(A, l, h):\n",
    "    pv_index = h\n",
    "\n",
    "    pivot = A[pv_index]\n",
    "    i = l - 1\n",
    "    round = 0\n",
    "    # j = 0\n",
    "    for j in range(l, h):\n",
    "        if A[j] <= pivot:\n",
    "            # increase left pointer\n",
    "            i = i + 1\n",
    "            # Swap \n",
    "            (A[i], A[j]) = (A[j], A[i])\n",
    "\n",
    "            print(\"Swaped \")\n",
    "\n",
    "        print(round, \" -> \", A)\n",
    "        round += 1\n",
    "\n",
    "    (A[i + 1], A[pv_index]) = (A[pv_index], A[i + 1])\n",
    "    print(round, \" => \", A)\n",
    "    print(f\"pivot after partitioning is A[{i + 1}] = {A[i]}\")\n",
    "    return i + 1\n",
    "\n",
    "\n",
    "Arr = [3, 7, 8, 5, 2, 1, 9, 5, 4]\n",
    "partition(Arr, 0, len(Arr) - 1)\n",
    "Arr\n",
    "        # Swap "
   ]
  },
  {
   "cell_type": "code",
   "execution_count": 46,
   "id": "55353881-e6ce-4b2f-916f-2ea3c55b06a6",
   "metadata": {},
   "outputs": [
    {
     "name": "stdout",
     "output_type": "stream",
     "text": [
      "Swaped \n",
      "0  ->  [3, 7, 8, 5, 2, 1, 9, 5, 4]\n",
      "1  ->  [3, 7, 8, 5, 2, 1, 9, 5, 4]\n",
      "2  ->  [3, 7, 8, 5, 2, 1, 9, 5, 4]\n",
      "3  ->  [3, 7, 8, 5, 2, 1, 9, 5, 4]\n",
      "Swaped \n",
      "4  ->  [3, 2, 8, 5, 7, 1, 9, 5, 4]\n",
      "Swaped \n",
      "5  ->  [3, 2, 1, 5, 7, 8, 9, 5, 4]\n",
      "6  ->  [3, 2, 1, 5, 7, 8, 9, 5, 4]\n",
      "7  ->  [3, 2, 1, 5, 7, 8, 9, 5, 4]\n",
      "8  =>  [3, 2, 1, 4, 7, 8, 9, 5, 5]\n",
      "pivot after partitioning is A[3] = 1\n",
      "\n",
      "-----------------\n",
      "\n",
      "0  ->  [3, 2, 1, 4, 7, 8, 9, 5, 5]\n",
      "1  ->  [3, 2, 1, 4, 7, 8, 9, 5, 5]\n",
      "2  =>  [1, 2, 3, 4, 7, 8, 9, 5, 5]\n",
      "pivot after partitioning is A[0] = 5\n",
      "\n",
      "-----------------\n",
      "\n",
      "Swaped \n",
      "0  ->  [1, 2, 3, 4, 7, 8, 9, 5, 5]\n",
      "1  =>  [1, 2, 3, 4, 7, 8, 9, 5, 5]\n",
      "pivot after partitioning is A[2] = 2\n",
      "\n",
      "-----------------\n",
      "\n",
      "0  ->  [1, 2, 3, 4, 7, 8, 9, 5, 5]\n",
      "1  ->  [1, 2, 3, 4, 7, 8, 9, 5, 5]\n",
      "2  ->  [1, 2, 3, 4, 7, 8, 9, 5, 5]\n",
      "Swaped \n",
      "3  ->  [1, 2, 3, 4, 5, 8, 9, 7, 5]\n",
      "4  =>  [1, 2, 3, 4, 5, 5, 9, 7, 8]\n",
      "pivot after partitioning is A[5] = 5\n",
      "\n",
      "-----------------\n",
      "\n",
      "0  ->  [1, 2, 3, 4, 5, 5, 9, 7, 8]\n",
      "Swaped \n",
      "1  ->  [1, 2, 3, 4, 5, 5, 7, 9, 8]\n",
      "2  =>  [1, 2, 3, 4, 5, 5, 7, 8, 9]\n",
      "pivot after partitioning is A[7] = 7\n",
      "\n",
      "-----------------\n",
      "\n"
     ]
    },
    {
     "data": {
      "text/plain": [
       "[1, 2, 3, 4, 5, 5, 7, 8, 9]"
      ]
     },
     "execution_count": 46,
     "metadata": {},
     "output_type": "execute_result"
    }
   ],
   "source": [
    "def partition(A, l, h):\n",
    "    pv_index = h\n",
    "\n",
    "    pivot = A[pv_index]\n",
    "    i = l - 1\n",
    "    round = 0\n",
    "    # j = 0\n",
    "    for j in range(l, h):\n",
    "        if A[j] <= pivot:\n",
    "            # increase left pointer\n",
    "            i = i + 1\n",
    "            # Swap \n",
    "            (A[i], A[j]) = (A[j], A[i])\n",
    "\n",
    "            print(\"Swaped \")\n",
    "\n",
    "        print(round, \" -> \", A)\n",
    "        round += 1\n",
    "\n",
    "    (A[i + 1], A[pv_index]) = (A[pv_index], A[i + 1])\n",
    "    print(round, \" => \", A)\n",
    "    print(f\"pivot after partitioning is A[{i + 1}] = {A[i]}\")\n",
    "    return i + 1\n",
    "\n",
    "\n",
    "Arr = [3, 7, 8, 5, 2, 1, 9, 5, 4]\n",
    "# partition(Arr, 0, len(Arr) - 1)\n",
    "# Arr\n",
    "def quicksort(A, l, h):\n",
    "    if (l < h):\n",
    "        new_pivot = partition(A, l, h)\n",
    "        print(\"\\n-----------------\\n\")\n",
    "        quicksort(A, l, new_pivot - 1)\n",
    "        quicksort(A, new_pivot + 1, h)\n",
    "        # Swap \n",
    "quicksort(Arr, 0, len(Arr) - 1)\n",
    "Arr"
   ]
  },
  {
   "cell_type": "code",
   "execution_count": null,
   "id": "6b0b592f-478d-4905-b277-0e845b78c5e5",
   "metadata": {},
   "outputs": [],
   "source": []
  }
 ],
 "metadata": {
  "kernelspec": {
   "display_name": "Python 3 (ipykernel)",
   "language": "python",
   "name": "python3"
  },
  "language_info": {
   "codemirror_mode": {
    "name": "ipython",
    "version": 3
   },
   "file_extension": ".py",
   "mimetype": "text/x-python",
   "name": "python",
   "nbconvert_exporter": "python",
   "pygments_lexer": "ipython3",
   "version": "3.11.4"
  }
 },
 "nbformat": 4,
 "nbformat_minor": 5
}
