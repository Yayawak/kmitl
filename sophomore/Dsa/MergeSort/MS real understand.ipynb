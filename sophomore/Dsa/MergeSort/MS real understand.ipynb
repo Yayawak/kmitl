{
 "cells": [
  {
   "cell_type": "code",
   "execution_count": 2,
   "id": "6f9cff2d-38d0-49bf-bd26-7ff487cdd666",
   "metadata": {},
   "outputs": [],
   "source": [
    "def mergesort(A):\n",
    "    if len(A) <= 1:\n",
    "        return A\n",
    "\n",
    "    left = []\n",
    "    right = []\n",
    "\n",
    "    for i in range(len(A)):\n",
    "        if i < (len(m)) / 2:\n",
    "            left += [A[i]]\n",
    "        else:\n",
    "            right += [A[i]]\n",
    "\n",
    "    left = mergesort(left)\n",
    "    right = mergesort(right)\n",
    "    "
   ]
  },
  {
   "cell_type": "code",
   "execution_count": null,
   "id": "ebe9178e-5b02-41e2-aed8-8e7910153670",
   "metadata": {},
   "outputs": [],
   "source": [
    "\n",
    "def merge(left, right):\n",
    "    result = []\n",
    "    def add0Anddecrease(A):\n",
    "        result.append(A[0])\n",
    "        A = A[1:]\n",
    "    while len(left) != 0 and len(right) != 0:\n",
    "        if left[0] <= right[0]:\n",
    "            # result.append(left[0])\n",
    "            # left = left[1:] # rest\n",
    "            # decrease(left)\n",
    "            add0Anddecrease(left)\n",
    "        else:\n",
    "            # result.append(right[0])\n",
    "            # right = right[1:]\n",
    "            # decrease(right)\n",
    "            add0Anddecrease(righ)\n",
    "    while len(left/)\n",
    "        "
   ]
  }
 ],
 "metadata": {
  "kernelspec": {
   "display_name": "Python 3 (ipykernel)",
   "language": "python",
   "name": "python3"
  },
  "language_info": {
   "codemirror_mode": {
    "name": "ipython",
    "version": 3
   },
   "file_extension": ".py",
   "mimetype": "text/x-python",
   "name": "python",
   "nbconvert_exporter": "python",
   "pygments_lexer": "ipython3",
   "version": "3.11.4"
  }
 },
 "nbformat": 4,
 "nbformat_minor": 5
}
