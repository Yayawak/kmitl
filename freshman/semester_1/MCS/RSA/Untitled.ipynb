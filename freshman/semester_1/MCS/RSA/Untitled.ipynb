{
 "cells": [
  {
   "cell_type": "code",
   "execution_count": 1,
   "id": "4b7ce8c1-2487-4eee-a40d-dd07bf398276",
   "metadata": {},
   "outputs": [
    {
     "data": {
      "text/plain": [
       "10"
      ]
     },
     "execution_count": 1,
     "metadata": {},
     "output_type": "execute_result"
    }
   ],
   "source": [
    "9^3\n"
   ]
  },
  {
   "cell_type": "code",
   "execution_count": 2,
   "id": "18081776-18fa-48d0-82e1-4d8206a5c514",
   "metadata": {},
   "outputs": [
    {
     "data": {
      "text/plain": [
       "729"
      ]
     },
     "execution_count": 2,
     "metadata": {},
     "output_type": "execute_result"
    }
   ],
   "source": [
    "9**3"
   ]
  },
  {
   "cell_type": "code",
   "execution_count": 3,
   "id": "6cbf5876-e39c-4d37-b777-3e5cb15fdd56",
   "metadata": {},
   "outputs": [
    {
     "data": {
      "text/plain": [
       "243"
      ]
     },
     "execution_count": 3,
     "metadata": {},
     "output_type": "execute_result"
    }
   ],
   "source": [
    "27 * 9"
   ]
  },
  {
   "cell_type": "code",
   "execution_count": 6,
   "id": "8a3daca7-b8d5-4a90-b1e5-6770a6452f0a",
   "metadata": {},
   "outputs": [
    {
     "data": {
      "text/plain": [
       "1"
      ]
     },
     "execution_count": 6,
     "metadata": {},
     "output_type": "execute_result"
    }
   ],
   "source": [
    "x = 2**242 \n",
    "x % 3"
   ]
  },
  {
   "cell_type": "code",
   "execution_count": 8,
   "id": "bb2c967c-532a-40e7-bf30-f1c7d365263c",
   "metadata": {},
   "outputs": [
    {
     "data": {
      "text/plain": [
       "3"
      ]
     },
     "execution_count": 8,
     "metadata": {},
     "output_type": "execute_result"
    }
   ],
   "source": [
    "x = 3**245\n",
    "x % 5"
   ]
  },
  {
   "cell_type": "code",
   "execution_count": 10,
   "id": "787bf837-3f94-48c7-b9dd-cee500c2a7ac",
   "metadata": {},
   "outputs": [
    {
     "data": {
      "text/plain": [
       "119643398733024"
      ]
     },
     "execution_count": 10,
     "metadata": {},
     "output_type": "execute_result"
    }
   ],
   "source": [
    "x = 654**5\n",
    "x"
   ]
  },
  {
   "cell_type": "code",
   "execution_count": 1,
   "id": "48bc4ace-15df-4353-a34a-82e034bc823a",
   "metadata": {},
   "outputs": [
    {
     "ename": "NameError",
     "evalue": "name 'x' is not defined",
     "output_type": "error",
     "traceback": [
      "\u001b[0;31m---------------------------------------------------------------------------\u001b[0m",
      "\u001b[0;31mNameError\u001b[0m                                 Traceback (most recent call last)",
      "\u001b[0;32m/var/folders/tq/1dn18qvs46z75s3216p47sbm0000gn/T/ipykernel_2245/3269657748.py\u001b[0m in \u001b[0;36m<module>\u001b[0;34m\u001b[0m\n\u001b[0;32m----> 1\u001b[0;31m \u001b[0mx\u001b[0m \u001b[0;34m%\u001b[0m \u001b[0;36m12\u001b[0m\u001b[0;34m\u001b[0m\u001b[0;34m\u001b[0m\u001b[0m\n\u001b[0m",
      "\u001b[0;31mNameError\u001b[0m: name 'x' is not defined"
     ]
    }
   ],
   "source": [
    "x % 12"
   ]
  },
  {
   "cell_type": "code",
   "execution_count": 7,
   "id": "039cfdc9-0e05-4137-98b0-98cd0e58eb07",
   "metadata": {},
   "outputs": [],
   "source": [
    "n = 3233\n",
    "\n",
    "def enc(num):\n",
    "    E = 17\n",
    "    return (num**E) % n\n",
    "\n",
    "def dec(y):\n",
    "    D = 2753\n",
    "    x = (y ** D) % n\n",
    "    return x"
   ]
  },
  {
   "cell_type": "code",
   "execution_count": 8,
   "id": "f205a8d7-9528-4a83-8745-0c3740b88bd1",
   "metadata": {},
   "outputs": [
    {
     "data": {
      "text/plain": [
       "3023"
      ]
     },
     "execution_count": 8,
     "metadata": {},
     "output_type": "execute_result"
    }
   ],
   "source": [
    "enc(20)"
   ]
  },
  {
   "cell_type": "code",
   "execution_count": 9,
   "id": "6dd3bcf0-862f-4cdc-b21e-1adc1debf970",
   "metadata": {},
   "outputs": [
    {
     "name": "stdout",
     "output_type": "stream",
     "text": [
      "20\n",
      "15\n",
      "11\n",
      "14\n",
      "0\n",
      "3\n"
     ]
    }
   ],
   "source": [
    "for x in [20,15,11,14,0,3]:\n",
    "    # print(enc(x))\n",
    "    y = enc(x)\n",
    "    \n",
    "    dec_x = dec(y)\n",
    "    print(dec_x)"
   ]
  },
  {
   "cell_type": "code",
   "execution_count": 11,
   "id": "1d3bfedc-a265-40cb-99c8-975149aeca4b",
   "metadata": {},
   "outputs": [
    {
     "data": {
      "text/plain": [
       "2379"
      ]
     },
     "execution_count": 11,
     "metadata": {},
     "output_type": "execute_result"
    }
   ],
   "source": [
    "(9*(16**2)) + (4*16) + (11)"
   ]
  },
  {
   "cell_type": "code",
   "execution_count": 14,
   "id": "43f9d5eb-a39e-40e5-be27-bc79dc585b58",
   "metadata": {},
   "outputs": [
    {
     "data": {
      "text/plain": [
       "109505"
      ]
     },
     "execution_count": 14,
     "metadata": {},
     "output_type": "execute_result"
    }
   ],
   "source": [
    "(16**4) + (10*16**3) + (11*16**2)+ (12*16) + (1)"
   ]
  },
  {
   "cell_type": "code",
   "execution_count": 3,
   "id": "aaa44319-72b9-4bec-a4ea-a009f1a52a5b",
   "metadata": {},
   "outputs": [
    {
     "data": {
      "text/plain": [
       "113"
      ]
     },
     "execution_count": 3,
     "metadata": {},
     "output_type": "execute_result"
    }
   ],
   "source": [
    "1815 // 16"
   ]
  },
  {
   "cell_type": "code",
   "execution_count": 4,
   "id": "6f638e2d-6a61-423a-bada-ec13eff85396",
   "metadata": {},
   "outputs": [
    {
     "name": "stdout",
     "output_type": "stream",
     "text": [
      "0 : (q,r) = (113,7)\n",
      "1 : (q,r) = (7,1)\n",
      "2 : (q,r) = (0,7)\n",
      "3 : (q,r) = (0,0)\n"
     ]
    }
   ],
   "source": [
    "n = 1815\n",
    "i = 0\n",
    "while True:\n",
    "    q = n // 16\n",
    "    r = n % 16\n",
    "    \n",
    "    print(f\"{i} : (q,r) = ({q},{r})\")\n",
    "    \n",
    "    n = q\n",
    "    q = r\n",
    "    \n",
    "\n",
    "    i += 1\n",
    "    if (i > 10) or (q == 0):\n",
    "        break"
   ]
  },
  {
   "cell_type": "code",
   "execution_count": 5,
   "id": "8e62bb8e-caca-44c1-b2b1-5d049f85c645",
   "metadata": {},
   "outputs": [
    {
     "data": {
      "text/plain": [
       "1815"
      ]
     },
     "execution_count": 5,
     "metadata": {},
     "output_type": "execute_result"
    }
   ],
   "source": [
    "(7*16**2) + (1 * 16) + (7)"
   ]
  },
  {
   "cell_type": "code",
   "execution_count": 8,
   "id": "f69f0778-2c8f-4f62-a95a-c30040733b50",
   "metadata": {},
   "outputs": [
    {
     "ename": "ValueError",
     "evalue": "invalid literal for int() with base 2: '375'",
     "output_type": "error",
     "traceback": [
      "\u001b[0;31m---------------------------------------------------------------------------\u001b[0m",
      "\u001b[0;31mValueError\u001b[0m                                Traceback (most recent call last)",
      "\u001b[0;32m/var/folders/tq/1dn18qvs46z75s3216p47sbm0000gn/T/ipykernel_2511/3391936214.py\u001b[0m in \u001b[0;36m<module>\u001b[0;34m\u001b[0m\n\u001b[0;32m----> 1\u001b[0;31m \u001b[0mint\u001b[0m\u001b[0;34m(\u001b[0m\u001b[0;34m'375'\u001b[0m\u001b[0;34m,\u001b[0m \u001b[0;36m2\u001b[0m\u001b[0;34m)\u001b[0m\u001b[0;34m\u001b[0m\u001b[0;34m\u001b[0m\u001b[0m\n\u001b[0m",
      "\u001b[0;31mValueError\u001b[0m: invalid literal for int() with base 2: '375'"
     ]
    }
   ],
   "source": [
    "int('375', 2)"
   ]
  },
  {
   "cell_type": "code",
   "execution_count": 31,
   "id": "cdd8a8bc-4848-4776-9a93-24642685f3af",
   "metadata": {},
   "outputs": [],
   "source": [
    "# int('375', 2)\n",
    "def dec2Bin(n):\n",
    "    if n >= 1:\n",
    "        dec2Bin(n // 2)\n",
    "    print(n % 2, end='')\n",
    "    \n",
    "def dec2Bin2(n):\n",
    "    if n < 1:\n",
    "        # dec2Bin(n // 2)\n",
    "    print(n % 2, end='')\n",
    "    \n",
    "dec2Bin2(0.375)"
   ]
  },
  {
   "cell_type": "code",
   "execution_count": 32,
   "id": "724bf731-e1f9-43c9-bc0e-53b5618dc3de",
   "metadata": {},
   "outputs": [
    {
     "name": "stdout",
     "output_type": "stream",
     "text": [
      "0101110111"
     ]
    }
   ],
   "source": [
    "dec2Bin(375)"
   ]
  },
  {
   "cell_type": "code",
   "execution_count": 29,
   "id": "823cdf89-f5da-4063-b54b-f5b07b41bd5e",
   "metadata": {},
   "outputs": [
    {
     "name": "stdout",
     "output_type": "stream",
     "text": [
      "0.375"
     ]
    }
   ],
   "source": []
  },
  {
   "cell_type": "code",
   "execution_count": 18,
   "id": "20082cb5-0ef1-4281-a8b9-fc8165c22549",
   "metadata": {},
   "outputs": [
    {
     "name": "stdout",
     "output_type": "stream",
     "text": [
      "0100"
     ]
    }
   ],
   "source": [
    "dec2Bin(4)"
   ]
  },
  {
   "cell_type": "code",
   "execution_count": 33,
   "id": "32a8e9ff-9af3-4057-976d-225f136fea6b",
   "metadata": {},
   "outputs": [
    {
     "name": "stdout",
     "output_type": "stream",
     "text": [
      "0.0\n"
     ]
    },
    {
     "data": {
      "text/plain": [
       "[0.375]"
      ]
     },
     "execution_count": 33,
     "metadata": {},
     "output_type": "execute_result"
    }
   ],
   "source": [
    "# n = 375\n",
    "n = .375\n",
    "# n = 4\n",
    "arr = []\n",
    "while 1:\n",
    "    q = n // 2\n",
    "    r = n % 2\n",
    "    \n",
    "    print(q)\n",
    "    n = q\n",
    "    arr += [r]\n",
    "    if (q == 0):\n",
    "        break\n",
    "arr.reverse()\n",
    "\n",
    "\n",
    "arr"
   ]
  },
  {
   "cell_type": "code",
   "execution_count": 34,
   "id": "43b3ab6e-0780-4d59-ae03-22977c2c38fc",
   "metadata": {},
   "outputs": [
    {
     "name": "stdout",
     "output_type": "stream",
     "text": [
      "0.0\n",
      "0.0\n",
      "0.0\n",
      "1.0\n"
     ]
    },
    {
     "data": {
      "text/plain": [
       "[1.0, 1.5, 0.75, 0.375]"
      ]
     },
     "execution_count": 34,
     "metadata": {},
     "output_type": "execute_result"
    }
   ],
   "source": [
    "n = .375\n",
    "arr = []\n",
    "\n",
    "while 1:\n",
    "    q = n // 2\n",
    "    r = n % 2\n",
    "    \n",
    "    print(q)\n",
    "    # n = q\n",
    "    n *= 2\n",
    "    # print\n",
    "    arr += [r]\n",
    "    if (q > 0):\n",
    "        break\n",
    "arr.reverse()\n",
    "\n",
    "\n",
    "arr"
   ]
  },
  {
   "cell_type": "code",
   "execution_count": null,
   "id": "1dc50b63-0750-486c-876b-5b5cc99f8585",
   "metadata": {},
   "outputs": [],
   "source": []
  }
 ],
 "metadata": {
  "kernelspec": {
   "display_name": "Python 3 (ipykernel)",
   "language": "python",
   "name": "python3"
  },
  "language_info": {
   "codemirror_mode": {
    "name": "ipython",
    "version": 3
   },
   "file_extension": ".py",
   "mimetype": "text/x-python",
   "name": "python",
   "nbconvert_exporter": "python",
   "pygments_lexer": "ipython3",
   "version": "3.9.13"
  }
 },
 "nbformat": 4,
 "nbformat_minor": 5
}
