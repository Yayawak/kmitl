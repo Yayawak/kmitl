{
 "cells": [
  {
   "cell_type": "code",
   "execution_count": 1,
   "id": "6b5d3ab3-afb9-46ec-8b45-53f9e874bae0",
   "metadata": {},
   "outputs": [],
   "source": [
    "n = 173939"
   ]
  },
  {
   "cell_type": "code",
   "execution_count": 2,
   "id": "cb2205d4-225a-46b9-ba9a-0cc58bcd5ad6",
   "metadata": {},
   "outputs": [],
   "source": [
    "E = 419"
   ]
  },
  {
   "cell_type": "code",
   "execution_count": 3,
   "id": "88033706-31e5-4763-857f-bdb026a85466",
   "metadata": {},
   "outputs": [],
   "source": [
    "def is_prime(n):\n",
    "    if (n == 2): return True\n",
    "    if (n % 2 == 0): return False\n",
    "    for i in range(3, n, 2):\n",
    "        if (n % i == 0): return False\n",
    "    return True"
   ]
  },
  {
   "cell_type": "code",
   "execution_count": 4,
   "id": "aedb433a-c4e1-4fc7-904c-9502147b77dc",
   "metadata": {},
   "outputs": [
    {
     "name": "stdout",
     "output_type": "stream",
     "text": [
      "1 is prime\n",
      "2 is prime\n",
      "3 is prime\n",
      "5 is prime\n",
      "7 is prime\n",
      "11 is prime\n",
      "13 is prime\n",
      "17 is prime\n",
      "19 is prime\n",
      "23 is prime\n",
      "29 is prime\n"
     ]
    }
   ],
   "source": [
    "for i in range(30):\n",
    "    if is_prime(i):\n",
    "        print(f\"{i} is prime\")"
   ]
  },
  {
   "cell_type": "code",
   "execution_count": 5,
   "id": "b56f9966-9e25-4658-8582-6c421be52b67",
   "metadata": {},
   "outputs": [
    {
     "data": {
      "text/plain": [
       "'65'"
      ]
     },
     "execution_count": 5,
     "metadata": {},
     "output_type": "execute_result"
    }
   ],
   "source": [
    "ascii(65)"
   ]
  },
  {
   "cell_type": "code",
   "execution_count": 6,
   "id": "84f32e7f-de9d-4bdf-9324-87e5ed17d942",
   "metadata": {},
   "outputs": [
    {
     "data": {
      "text/plain": [
       "'65'"
      ]
     },
     "execution_count": 6,
     "metadata": {},
     "output_type": "execute_result"
    }
   ],
   "source": [
    "ascii(65)"
   ]
  },
  {
   "cell_type": "code",
   "execution_count": 7,
   "id": "69fd7c1c-2577-47ce-9142-b5be7cff89e7",
   "metadata": {},
   "outputs": [
    {
     "data": {
      "text/plain": [
       "\"'a'\""
      ]
     },
     "execution_count": 7,
     "metadata": {},
     "output_type": "execute_result"
    }
   ],
   "source": [
    "repr('a')"
   ]
  },
  {
   "cell_type": "code",
   "execution_count": 17,
   "id": "cd0d8f4e-6940-43ec-8d17-06e31072cd84",
   "metadata": {},
   "outputs": [],
   "source": [
    "def find_factor_special(n):\n",
    "        for i in range(2, n):\n",
    "            # if (n % i == 0 and is_prime(i) and is_prime(int(n / i))):\n",
    "            if (n % i == 0 and is_prime(i) and is_prime(n // i)):\n",
    "                return i"
   ]
  },
  {
   "cell_type": "code",
   "execution_count": 18,
   "id": "648e66cb-607e-41e5-89dc-890c28a37267",
   "metadata": {},
   "outputs": [
    {
     "name": "stdout",
     "output_type": "stream",
     "text": [
      "281\n"
     ]
    }
   ],
   "source": [
    "print(find_factor_special(n))"
   ]
  },
  {
   "cell_type": "code",
   "execution_count": 19,
   "id": "e34a88f8-225c-4fd2-a445-7868e791f0c6",
   "metadata": {},
   "outputs": [
    {
     "data": {
      "text/plain": [
       "281"
      ]
     },
     "execution_count": 19,
     "metadata": {},
     "output_type": "execute_result"
    }
   ],
   "source": [
    "p = find_factor_special(n)\n",
    "p"
   ]
  },
  {
   "cell_type": "code",
   "execution_count": 21,
   "id": "2ee2a94a-921c-493d-b514-9a81764edb52",
   "metadata": {},
   "outputs": [
    {
     "data": {
      "text/plain": [
       "619"
      ]
     },
     "execution_count": 21,
     "metadata": {},
     "output_type": "execute_result"
    }
   ],
   "source": [
    "n // p"
   ]
  },
  {
   "cell_type": "code",
   "execution_count": 22,
   "id": "c4a45f10-5ceb-4428-83b6-c93926c4f5a8",
   "metadata": {},
   "outputs": [
    {
     "data": {
      "text/plain": [
       "619"
      ]
     },
     "execution_count": 22,
     "metadata": {},
     "output_type": "execute_result"
    }
   ],
   "source": [
    "q = int(n / p)\n",
    "q"
   ]
  },
  {
   "cell_type": "code",
   "execution_count": 23,
   "id": "4a0495c2-fe90-4b9c-8805-8030d8390bed",
   "metadata": {},
   "outputs": [
    {
     "data": {
      "text/plain": [
       "173939"
      ]
     },
     "execution_count": 23,
     "metadata": {},
     "output_type": "execute_result"
    }
   ],
   "source": [
    "p * q"
   ]
  },
  {
   "cell_type": "code",
   "execution_count": 24,
   "id": "29f93e00-cab2-4d7b-8ac0-c4d809bb3e5c",
   "metadata": {},
   "outputs": [
    {
     "data": {
      "text/plain": [
       "173040"
      ]
     },
     "execution_count": 24,
     "metadata": {},
     "output_type": "execute_result"
    }
   ],
   "source": [
    "phi = (p - 1) * (q - 1)\n",
    "phi"
   ]
  },
  {
   "cell_type": "code",
   "execution_count": 28,
   "id": "1f21e980-a038-460a-8187-1fe9053abb37",
   "metadata": {},
   "outputs": [
    {
     "name": "stdout",
     "output_type": "stream",
     "text": [
      "Factor of 1 is None\n",
      "Factor of 2 is None\n",
      "Factor of 3 is None\n",
      "Factor of 5 is None\n",
      "Factor of 7 is None\n",
      "Factor of 11 is None\n",
      "Factor of 13 is None\n",
      "Factor of 17 is None\n",
      "Factor of 19 is None\n"
     ]
    }
   ],
   "source": [
    "for i in range(20):\n",
    "    if is_prime(i):\n",
    "        f = find_factor_special(i)\n",
    "        print(f\"Factor of {i} is {f}\")"
   ]
  },
  {
   "cell_type": "code",
   "execution_count": 29,
   "id": "8ea5de48-199d-435b-832d-3553ed73d259",
   "metadata": {},
   "outputs": [
    {
     "data": {
      "text/plain": [
       "(173040, 419)"
      ]
     },
     "execution_count": 29,
     "metadata": {},
     "output_type": "execute_result"
    }
   ],
   "source": [
    "phi, E"
   ]
  },
  {
   "cell_type": "code",
   "execution_count": 30,
   "id": "80705e46-84f3-4dcb-a5c9-b64faf049a6a",
   "metadata": {},
   "outputs": [],
   "source": [
    "def find_D(phi, E):\n",
    "    for i in range(1, phi):\n",
    "        # if (((i * E) - 1) % phi == 0):\n",
    "        if (((i * E)) % phi == 1):\n",
    "            return i"
   ]
  },
  {
   "cell_type": "code",
   "execution_count": 31,
   "id": "89da29d0-0fb7-4377-9677-851f0e79a409",
   "metadata": {},
   "outputs": [
    {
     "data": {
      "text/plain": [
       "24779"
      ]
     },
     "execution_count": 31,
     "metadata": {},
     "output_type": "execute_result"
    }
   ],
   "source": [
    "D = find_D(phi, E)\n",
    "D"
   ]
  },
  {
   "cell_type": "code",
   "execution_count": 34,
   "id": "dd00d548-01d7-4ecf-a558-12b5c05dcc68",
   "metadata": {},
   "outputs": [],
   "source": [
    "# gcd"
   ]
  },
  {
   "cell_type": "code",
   "execution_count": 40,
   "id": "2e257f0a-e6f9-4c21-a36b-72a1702bb8c6",
   "metadata": {},
   "outputs": [],
   "source": [
    "Cipher_string_number = [22015, 79396, 72281, 44319, 63140, 96864, 25396, 73635, 148871, 62908, 168859, 44319, 15713, 96864, 70703, 44319, 172672, 72281, 25396, 151324, 72281, 168793, 70703, 7670, 44319, 65711, 43567, 70703, 44319, 109499, 70703, 62908, 168859, 44319, 70703, 79396, 72281, 25396, 72281, 44319, 151324, 96864, 25396, 44319, 43567, 168859, 44319, 70703, 25396, 154341, 109499, 15713, 145588, 44319, 70703, 79396, 72281, 44319, 65711, 72281, 168859, 70703, 44319, 109499, 70703, 44319, 168793, 65557, 15713, 87617, 44319, 22015, 79396, 65557, 70703, 62908, 168859, 44319, 63140, 79396, 65557, 70703, 44319, 135326, 65557, 52568, 72281, 168859, 44319, 109499, 70703, 44319, 168859, 96864, 44319, 148871, 65557, 135326, 15713, 44319, 65711, 72281, 65557, 43567, 70703, 109499, 151324, 43567, 73635, 87617] #Ciphea_string_number"
   ]
  },
  {
   "cell_type": "code",
   "execution_count": null,
   "id": "66bb9909-2396-4b7c-a7d3-32de550f1464",
   "metadata": {},
   "outputs": [],
   "source": []
  },
  {
   "cell_type": "code",
   "execution_count": 41,
   "id": "7efe52cb-2087-40a5-a188-473c7dcbac24",
   "metadata": {},
   "outputs": [
    {
     "data": {
      "text/plain": [
       "(173939, 419)"
      ]
     },
     "execution_count": 41,
     "metadata": {},
     "output_type": "execute_result"
    }
   ],
   "source": [
    "n, E"
   ]
  },
  {
   "cell_type": "code",
   "execution_count": 42,
   "id": "6e40248b-ff0e-448e-bf01-8dc2dd60ef33",
   "metadata": {},
   "outputs": [
    {
     "data": {
      "text/plain": [
       "(24779, 281, 619)"
      ]
     },
     "execution_count": 42,
     "metadata": {},
     "output_type": "execute_result"
    }
   ],
   "source": [
    "D, p, q"
   ]
  },
  {
   "cell_type": "code",
   "execution_count": 43,
   "id": "41063444-4c65-4b3a-b9ee-b17bb29200e4",
   "metadata": {},
   "outputs": [
    {
     "data": {
      "text/plain": [
       "[22015, 79396, 72281, 44319, 63140]"
      ]
     },
     "execution_count": 43,
     "metadata": {},
     "output_type": "execute_result"
    }
   ],
   "source": [
    "# Message \n",
    "Cipher_string_number[:5]"
   ]
  },
  {
   "cell_type": "code",
   "execution_count": 44,
   "id": "1f5d156f-0b85-42e7-b41f-e4bdc5652493",
   "metadata": {},
   "outputs": [],
   "source": [
    "# this code is invalid (should pass real message string and convert to C_i)\n",
    "# for i, char_num in enumerate(Cipher_string_number[:10]):\n",
    " #   print((char_num ** E) % n)"
   ]
  },
  {
   "cell_type": "markdown",
   "id": "2d58a9a2-038c-4b0b-853f-c22e26c8f835",
   "metadata": {},
   "source": [
    "# Decrypt"
   ]
  },
  {
   "cell_type": "code",
   "execution_count": 45,
   "id": "98bcea96-4893-4d4f-8441-4fb36ec679a7",
   "metadata": {},
   "outputs": [
    {
     "data": {
      "text/plain": [
       "b'c'"
      ]
     },
     "execution_count": 45,
     "metadata": {},
     "output_type": "execute_result"
    }
   ],
   "source": [
    "'c'.encode()"
   ]
  },
  {
   "cell_type": "code",
   "execution_count": 46,
   "id": "b7b33a6f-7671-4ddd-be3d-23c37dd638c5",
   "metadata": {},
   "outputs": [
    {
     "data": {
      "text/plain": [
       "True"
      ]
     },
     "execution_count": 46,
     "metadata": {},
     "output_type": "execute_result"
    }
   ],
   "source": [
    "'c'.isascii()"
   ]
  },
  {
   "cell_type": "code",
   "execution_count": null,
   "id": "6b07e126-5d5a-4545-824a-57755b27fbe8",
   "metadata": {},
   "outputs": [],
   "source": []
  },
  {
   "cell_type": "code",
   "execution_count": 50,
   "id": "e5994e3c-4391-44a1-a74f-9bb559d349df",
   "metadata": {},
   "outputs": [
    {
     "data": {
      "text/plain": [
       "84"
      ]
     },
     "execution_count": 50,
     "metadata": {},
     "output_type": "execute_result"
    }
   ],
   "source": [
    "(Cipher_string_number[0] ** D) % n"
   ]
  },
  {
   "cell_type": "code",
   "execution_count": 51,
   "id": "fb22472a-a313-4bb0-980f-cdde9b96b351",
   "metadata": {},
   "outputs": [
    {
     "data": {
      "text/plain": [
       "22015"
      ]
     },
     "execution_count": 51,
     "metadata": {},
     "output_type": "execute_result"
    }
   ],
   "source": [
    "Cipher_string_number[0]"
   ]
  },
  {
   "cell_type": "code",
   "execution_count": 52,
   "id": "cbe2db04-752d-4a72-b10e-edf80137e94f",
   "metadata": {},
   "outputs": [],
   "source": [
    "Message_from_decrypt = []"
   ]
  },
  {
   "cell_type": "code",
   "execution_count": 53,
   "id": "a2854893-1a9f-406e-bc5c-c6904276839a",
   "metadata": {},
   "outputs": [
    {
     "data": {
      "text/plain": [
       "'A'"
      ]
     },
     "execution_count": 53,
     "metadata": {},
     "output_type": "execute_result"
    }
   ],
   "source": [
    "chr(65)\n",
    "# chr('A')"
   ]
  },
  {
   "cell_type": "code",
   "execution_count": 54,
   "id": "f2e4fd85-132d-4c49-9509-76552d2a9ae4",
   "metadata": {},
   "outputs": [],
   "source": [
    "def get_number_decrypt(C_arr):\n",
    "    Message_from_decrypt = []\n",
    "    for i, c in enumerate(Cipher_string_number):\n",
    "        Message_from_decrypt.append((c ** D) % n) \n",
    "    return Message_from_decrypt"
   ]
  },
  {
   "cell_type": "code",
   "execution_count": 55,
   "id": "510aef5f-7b8c-4a9b-89af-46d520b16c37",
   "metadata": {},
   "outputs": [],
   "source": [
    "# get_number_decrypt(Cipher_string_number)"
   ]
  },
  {
   "cell_type": "code",
   "execution_count": 56,
   "id": "0ca2bdf5-4524-4333-859e-2296415ac078",
   "metadata": {},
   "outputs": [],
   "source": [
    "# Message_from_decrypt"
   ]
  },
  {
   "cell_type": "code",
   "execution_count": 57,
   "id": "80fd39b3-5bce-4f9b-bff4-48a54ddd04f8",
   "metadata": {},
   "outputs": [],
   "source": [
    "def get_decrypted_print_msg():\n",
    "    real_msg = \"\"\n",
    "    for i, ascii_char in enumerate(get_number_decrypt(Cipher_string_number)):\n",
    "        # print(chr(ascii_char))\n",
    "        real_msg += chr(ascii_char)\n",
    "    return real_msg\n",
    "        \n",
    "        # print(ascii_char)\n",
    "        "
   ]
  },
  {
   "cell_type": "code",
   "execution_count": 58,
   "id": "d13abf35-a5ae-4b6b-b5da-1d07e3b3852e",
   "metadata": {},
   "outputs": [],
   "source": [
    "# decrypt_print_msg()"
   ]
  },
  {
   "cell_type": "code",
   "execution_count": 59,
   "id": "b8d2f1e6-177c-4b05-854a-6abb722b637f",
   "metadata": {},
   "outputs": [],
   "source": [
    "# get_number_decrypt(Cipher_string_number)"
   ]
  },
  {
   "cell_type": "code",
   "execution_count": 60,
   "id": "8b68f2b5-9247-4312-8d12-db2d2bdab593",
   "metadata": {},
   "outputs": [],
   "source": [
    "# for i, ascii_char in enumerate(get_number_decrypt(Cipher_string_number)):\n",
    "#     print(chr(ascii_char))\n",
    "    # print(ascii_char)"
   ]
  },
  {
   "cell_type": "code",
   "execution_count": 61,
   "id": "f4d582c3-d01b-4017-9e86-0f349d947c7f",
   "metadata": {},
   "outputs": [
    {
     "data": {
      "text/plain": [
       "\"The world's not perfect, but it's there for us trying the best it can. That's what makes it so damn beautiful.\""
      ]
     },
     "execution_count": 61,
     "metadata": {},
     "output_type": "execute_result"
    }
   ],
   "source": [
    "get_decrypted_print_msg()"
   ]
  },
  {
   "cell_type": "code",
   "execution_count": 63,
   "id": "4ce78f50-fb73-4a79-b121-4a3736da5723",
   "metadata": {},
   "outputs": [
    {
     "data": {
      "text/plain": [
       "\"The world's not perfect, but it's there for us trying the best it can. That's what makes it so damn beautiful.\""
      ]
     },
     "execution_count": 63,
     "metadata": {},
     "output_type": "execute_result"
    }
   ],
   "source": [
    "n = 173939\n",
    "E = 419\n",
    "\n",
    "def is_prime(n):\n",
    "    if (n == 2): return True\n",
    "    if (n % 2 == 0): return False\n",
    "    for i in range(3, n, 2):\n",
    "        if (n % i == 0): return False\n",
    "    return True\n",
    "\n",
    "def find_factor_special(n):\n",
    "        for i in range(2, n):\n",
    "            if (n % i == 0 and is_prime(i) and is_prime(n // i)):\n",
    "                return i\n",
    "            \n",
    "\n",
    "def find_D(phi, E):\n",
    "    for i in range(1, phi):\n",
    "        # if (((i * E) - 1) % phi == 0):\n",
    "        if (((i * E)) % phi == 1):\n",
    "            return i\n",
    "p = find_factor_special(n)\n",
    "q = n // p\n",
    "phi = (p - 1) * (q - 1)\n",
    "D = find_D(phi, E)\n",
    "\n",
    "# Message (encrypted as basic int)\n",
    "Cipher_string_number = [22015, 79396, 72281, 44319, 63140, 96864, 25396, 73635, 148871, 62908, 168859, 44319, 15713, 96864, 70703, 44319, 172672, 72281, 25396, 151324, 72281, 168793, 70703, 7670, 44319, 65711, 43567, 70703, 44319, 109499, 70703, 62908, 168859, 44319, 70703, 79396, 72281, 25396, 72281, 44319, 151324, 96864, 25396, 44319, 43567, 168859, 44319, 70703, 25396, 154341, 109499, 15713, 145588, 44319, 70703, 79396, 72281, 44319, 65711, 72281, 168859, 70703, 44319, 109499, 70703, 44319, 168793, 65557, 15713, 87617, 44319, 22015, 79396, 65557, 70703, 62908, 168859, 44319, 63140, 79396, 65557, 70703, 44319, 135326, 65557, 52568, 72281, 168859, 44319, 109499, 70703, 44319, 168859, 96864, 44319, 148871, 65557, 135326, 15713, 44319, 65711, 72281, 65557, 43567, 70703, 109499, 151324, 43567, 73635, 87617]\n",
    "# public\n",
    "# n, E\n",
    "# private\n",
    "# D, p, q\n",
    "\n",
    "\n",
    "\n",
    "# Decrypt\n",
    "\n",
    "def get_number_decrypt(C_arr):\n",
    "    Message_from_decrypt = []\n",
    "    for i, c in enumerate(Cipher_string_number):\n",
    "        Message_from_decrypt.append((c ** D) % n) \n",
    "    return Message_from_decrypt\n",
    "\n",
    "def get_decrypted_print_msg():\n",
    "    real_msg = \"\"\n",
    "    for i, ascii_char in enumerate(get_number_decrypt(Cipher_string_number)):\n",
    "        real_msg += chr(ascii_char)\n",
    "    return real_msg\n",
    "\n",
    "get_decrypted_print_msg()\n",
    "\n"
   ]
  },
  {
   "cell_type": "markdown",
   "id": "64316de7-beb7-4e28-ac3b-210ed39a08bc",
   "metadata": {},
   "source": [
    "# Real code"
   ]
  },
  {
   "cell_type": "code",
   "execution_count": 78,
   "id": "0c41e5ff-67c5-468c-aec6-ad19fa533814",
   "metadata": {},
   "outputs": [],
   "source": [
    "# ABSTRACTION\n",
    "def is_prime(n):\n",
    "    if (n == 2): return True\n",
    "    if (n % 2 == 0): return False\n",
    "    for i in range(3, n, 2):\n",
    "        if (n % i == 0): return False\n",
    "    return True\n",
    "\n",
    "def find_factor_special(n):\n",
    "        for i in range(2, n):\n",
    "            if (n % i == 0 and is_prime(i) and is_prime(n // i)):\n",
    "                return i\n",
    "            \n",
    "\n",
    "def find_D(phi, E):\n",
    "    for i in range(1, phi):\n",
    "        if (((i * E) - 1) % phi == 0):\n",
    "        # if (((i * E)) % phi == 1):\n",
    "            return i\n",
    "\n",
    "# Decrypt\n",
    "def get_number_decrypt(C_arr, D, n):\n",
    "    Message_from_decrypt = []\n",
    "    for i, c in enumerate(C_arr):\n",
    "        Message_from_decrypt.append((c ** D) % n) \n",
    "    return Message_from_decrypt\n",
    "\n",
    "def get_decrypted_print_msg(msg_num):\n",
    "    real_msg = \"\"\n",
    "    for i, ascii_char in enumerate(msg_num):\n",
    "        real_msg += chr(ascii_char)\n",
    "    return real_msg\n",
    "\n",
    "\n",
    "\n",
    "# IMPLEMENTATION\n",
    "def decode_rsa(n, E, cypher):\n",
    "    p = find_factor_special(n)\n",
    "    q = n // p\n",
    "    phi = (p - 1) * (q - 1)\n",
    "    D = find_D(phi, E)\n",
    "    print(\"p is \", p)\n",
    "    print(\"q is \", q)\n",
    "    print(\"phi is \", phi)\n",
    "    print(\"D is \", D)\n",
    "    msg_num = get_number_decrypt(cypher, D, n)\n",
    "    msg = get_decrypted_print_msg(msg_num)\n",
    "    # print(msg_num)\n",
    "    print(msg)\n",
    "    \n",
    "# if __name__ == '__main__':\n",
    "#     print(\"Enter n\")\n",
    "#     n = int(input())\n",
    "#     print(\"Enter E\")\n",
    "#     E = int(input())\n",
    "#     print(\"Enter cypher list\")\n",
    "#     cypher = list(input())\n",
    "#     decode_rsa(n, E, cypher)\n"
   ]
  },
  {
   "cell_type": "code",
   "execution_count": 80,
   "id": "8863fe65-825e-4451-b95b-5d9e87a139fb",
   "metadata": {},
   "outputs": [
    {
     "name": "stdout",
     "output_type": "stream",
     "text": [
      "p is  547\n",
      "q is  641\n",
      "phi is  349440\n",
      "D is  112607\n",
      "If you don't take risks, you can't create a future!\n"
     ]
    }
   ],
   "source": [
    "# Secrete Quote 1\n",
    "n = 350627\n",
    "E = 189983\n",
    "cypher = [290137,115668,206422,231298,70986,124596,206422,54735,70986,145791,246571,303979,206422,303979,66717,293299,274570,206422,151451,255202,142621,293299,142621,259674,206422,231298,70986,124596,206422,272374,66717,145791,246571,303979,206422,272374,151451,274570,66717,303979,274570,206422,66717,206422,115668,124596,303979,124596,151451,274570,281015]\n",
    "decode_rsa(n, E, cypher)"
   ]
  },
  {
   "cell_type": "code",
   "execution_count": 81,
   "id": "8b828069-9ffb-458b-9660-d56b5803c071",
   "metadata": {},
   "outputs": [
    {
     "name": "stdout",
     "output_type": "stream",
     "text": [
      "p is  401\n",
      "q is  631\n",
      "phi is  252000\n",
      "D is  249791\n",
      "When you give up, that's when the game ends.\n"
     ]
    }
   ],
   "source": [
    "# Secrete Quote 2\n",
    "n = 253031\n",
    "E = 33311\n",
    "cypher = [192718, 44207, 92345, 198194, 209885, 145673, 158195, 162891, 209885, 197432, 251143, 174163, 92345, 209885, 162891, 154788, 179792, 209885, 120588, 44207, 98836, 120588, 132369, 114740, 209885, 105496, 44207, 92345, 198194, 209885, 120588, 44207, 92345, 209885, 197432, 98836, 157424, 92345, 209885, 92345, 198194, 43326, 114740, 205085]\n",
    "decode_rsa(n, E, cypher)"
   ]
  },
  {
   "cell_type": "code",
   "execution_count": null,
   "id": "84a745e7-93a9-46b8-ae0d-ccdc5c37c44f",
   "metadata": {},
   "outputs": [],
   "source": [
    "\n",
    "n = 173939\n",
    "E = 419\n",
    "p = find_factor_special(n)\n",
    "q = n // p\n",
    "phi = (p - 1) * (q - 1)\n",
    "D = find_D(phi, E)\n",
    "Cipher_string_number = [22015, 79396, 72281, 44319, 63140, 96864, 25396, 73635, 148871, 62908, 168859, 44319, 15713, 96864, 70703, 44319, 172672, 72281, 25396, 151324, 72281, 168793, 70703, 7670, 44319, 65711, 43567, 70703, 44319, 109499, 70703, 62908, 168859, 44319, 70703, 79396, 72281, 25396, 72281, 44319, 151324, 96864, 25396, 44319, 43567, 168859, 44319, 70703, 25396, 154341, 109499, 15713, 145588, 44319, 70703, 79396, 72281, 44319, 65711, 72281, 168859, 70703, 44319, 109499, 70703, 44319, 168793, 65557, 15713, 87617, 44319, 22015, 79396, 65557, 70703, 62908, 168859, 44319, 63140, 79396, 65557, 70703, 44319, 135326, 65557, 52568, 72281, 168859, 44319, 109499, 70703, 44319, 168859, 96864, 44319, 148871, 65557, 135326, 15713, 44319, 65711, 72281, 65557, 43567, 70703, 109499, 151324, 43567, 73635, 87617]\n",
    "\n",
    "get_decrypted_print_msg()"
   ]
  },
  {
   "cell_type": "code",
   "execution_count": null,
   "id": "60271ab9-89e3-4d46-b5f0-86ae30197558",
   "metadata": {},
   "outputs": [],
   "source": [
    "import string\n",
    "string.ascii_lowercase"
   ]
  },
  {
   "cell_type": "code",
   "execution_count": null,
   "id": "9b39cb32-7569-43be-80d1-5f4658722de3",
   "metadata": {},
   "outputs": [],
   "source": [
    "# for i, s in enumerate(string.ascii_lowercase):\n",
    "# for i, s in enumerate(string.ascii_lowercase, string.ascii_uppercase):\n",
    "# for i, s in enumerate(map(string.ascii_lowercase, string.ascii_uppercase)):\n",
    "#     print([i, s])\n",
    "    "
   ]
  },
  {
   "cell_type": "code",
   "execution_count": null,
   "id": "0b2d9c9c-f315-4f4c-8dd8-47a921b14328",
   "metadata": {},
   "outputs": [],
   "source": [
    "# list(map(string.ascii_lowercase, string.ascii_uppercase))"
   ]
  },
  {
   "cell_type": "code",
   "execution_count": null,
   "id": "882f96ab-93cb-4973-83cf-e5d643d17567",
   "metadata": {},
   "outputs": [],
   "source": []
  }
 ],
 "metadata": {
  "kernelspec": {
   "display_name": "Python 3 (ipykernel)",
   "language": "python",
   "name": "python3"
  },
  "language_info": {
   "codemirror_mode": {
    "name": "ipython",
    "version": 3
   },
   "file_extension": ".py",
   "mimetype": "text/x-python",
   "name": "python",
   "nbconvert_exporter": "python",
   "pygments_lexer": "ipython3",
   "version": "3.9.12"
  }
 },
 "nbformat": 4,
 "nbformat_minor": 5
}
