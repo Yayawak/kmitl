{
 "cells": [
  {
   "cell_type": "code",
   "execution_count": 60,
   "id": "7bc1d702-690f-4745-bfea-704c4b649357",
   "metadata": {},
   "outputs": [],
   "source": [
    "import random\n",
    "from functools import partial"
   ]
  },
  {
   "cell_type": "code",
   "execution_count": 61,
   "id": "8bf03c5e-26e0-4ba0-8bc5-8d94627a0c69",
   "metadata": {},
   "outputs": [
    {
     "data": {
      "text/plain": [
       "2047"
      ]
     },
     "execution_count": 61,
     "metadata": {},
     "output_type": "execute_result"
    }
   ],
   "source": [
    "p = 11\n",
    "_prime = 2**p - 1\n",
    "_prime"
   ]
  },
  {
   "cell_type": "code",
   "execution_count": 62,
   "id": "2d30321f-4f75-4cc3-b24d-59e30dd7f306",
   "metadata": {},
   "outputs": [
    {
     "data": {
      "text/plain": [
       "3"
      ]
     },
     "execution_count": 62,
     "metadata": {},
     "output_type": "execute_result"
    }
   ],
   "source": [
    "random.randint(0, 5)"
   ]
  },
  {
   "cell_type": "code",
   "execution_count": 65,
   "id": "d4bc23bb-d425-4773-8792-eccb5436431c",
   "metadata": {},
   "outputs": [
    {
     "data": {
      "text/plain": [
       "0"
      ]
     },
     "execution_count": 65,
     "metadata": {},
     "output_type": "execute_result"
    }
   ],
   "source": [
    "random.SystemRandom().randint(0, 5)"
   ]
  },
  {
   "cell_type": "code",
   "execution_count": 68,
   "id": "c5b8325d-fcfe-4629-a8ab-00fd95c9917c",
   "metadata": {},
   "outputs": [
    {
     "data": {
      "text/plain": [
       "<bound method Random.randint of <random.SystemRandom object at 0x7f8fbc00b210>>"
      ]
     },
     "execution_count": 68,
     "metadata": {},
     "output_type": "execute_result"
    }
   ],
   "source": [
    "f = random.SystemRandom().randint\n",
    "f"
   ]
  },
  {
   "cell_type": "code",
   "execution_count": 109,
   "id": "213ae163-091f-451d-a269-c91beebc50d3",
   "metadata": {},
   "outputs": [
    {
     "data": {
      "text/plain": [
       "5"
      ]
     },
     "execution_count": 109,
     "metadata": {},
     "output_type": "execute_result"
    }
   ],
   "source": [
    "rand_betw_0_to_x = partial(f, 0)\n",
    "rand_betw_0_to_x(5)"
   ]
  },
  {
   "cell_type": "markdown",
   "id": "274d6c25-8007-47d9-acef-aacfdc784fce",
   "metadata": {},
   "source": [
    "# $$\n",
    "0 < r < A\n",
    "$$"
   ]
  },
  {
   "cell_type": "code",
   "execution_count": 108,
   "id": "aa1dac9b-f02f-4342-9002-ee2b2522ceda",
   "metadata": {},
   "outputs": [],
   "source": [
    "def make_random_shares(secret, minimum, shares, prime=_prime):\n",
    "    if shares < minimum:\n",
    "        raise ValueError(\"Pool secret must >= 3\")\n",
    "    poly = [secret] + [rand_betw_0_to_x(x) for x in range(minimum - 1)]\n",
    "    print(\"poly\", poly)"
   ]
  },
  {
   "cell_type": "code",
   "execution_count": 107,
   "id": "f03a4caf-635e-4cc2-bc35-af6565d9712c",
   "metadata": {},
   "outputs": [],
   "source": [
    "def main():\n",
    "    ...\n",
    "    secret = 1234\n",
    "    shares = make_random_shares(secret, minimum=3, shares=6)\n",
    "    \n",
    "\n",
    "if __name__ == '__main__':\n",
    "    main()\n"
   ]
  },
  {
   "cell_type": "code",
   "execution_count": 105,
   "id": "094b3975-ad88-4e93-be2a-e0e7d14a959d",
   "metadata": {},
   "outputs": [
    {
     "data": {
      "text/plain": [
       "'__main__'"
      ]
     },
     "execution_count": 105,
     "metadata": {},
     "output_type": "execute_result"
    }
   ],
   "source": [
    "__name__"
   ]
  },
  {
   "cell_type": "code",
   "execution_count": null,
   "id": "bed6360e-a249-45bd-aa72-5dc012625455",
   "metadata": {},
   "outputs": [],
   "source": []
  },
  {
   "cell_type": "code",
   "execution_count": null,
   "id": "fac2552a-0455-42f5-ab96-4ecfe6b2607e",
   "metadata": {},
   "outputs": [],
   "source": []
  }
 ],
 "metadata": {
  "kernelspec": {
   "display_name": "Python 3 (ipykernel)",
   "language": "python",
   "name": "python3"
  },
  "language_info": {
   "codemirror_mode": {
    "name": "ipython",
    "version": 3
   },
   "file_extension": ".py",
   "mimetype": "text/x-python",
   "name": "python",
   "nbconvert_exporter": "python",
   "pygments_lexer": "ipython3",
   "version": "3.9.13"
  }
 },
 "nbformat": 4,
 "nbformat_minor": 5
}
