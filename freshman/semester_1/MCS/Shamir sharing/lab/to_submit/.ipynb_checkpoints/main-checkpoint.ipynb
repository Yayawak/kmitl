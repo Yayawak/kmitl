{
 "cells": [
  {
   "cell_type": "code",
   "execution_count": 1,
   "id": "984ec303-e4a5-4dc4-948d-10788f60315d",
   "metadata": {},
   "outputs": [
    {
     "data": {
      "text/plain": [
       "8191"
      ]
     },
     "execution_count": 1,
     "metadata": {},
     "output_type": "execute_result"
    }
   ],
   "source": [
    "2 ** 13 - 1\n"
   ]
  },
  {
   "cell_type": "code",
   "execution_count": 2,
   "id": "59dd46ff-5a0c-400d-8668-b6f654b91f40",
   "metadata": {},
   "outputs": [],
   "source": [
    "from encrypt import make_random_shares\n",
    "from decrypt import *"
   ]
  },
  {
   "cell_type": "code",
   "execution_count": 3,
   "id": "2f126e99-0361-40b3-9715-5695a30fc2ba",
   "metadata": {},
   "outputs": [
    {
     "data": {
      "text/plain": [
       "([(1, 417), (2, 1015), (3, 3028), (4, 2361), (5, 3109), (6, 1177)],\n",
       " [1234, 523, 2755])"
      ]
     },
     "execution_count": 3,
     "metadata": {},
     "output_type": "execute_result"
    }
   ],
   "source": [
    "make_random_shares(1234, minimum=3, shares=6, prime=2**12-1)"
   ]
  },
  {
   "cell_type": "code",
   "execution_count": 4,
   "id": "cb3491d4-e536-4c7f-8f97-4865594f284b",
   "metadata": {},
   "outputs": [
    {
     "name": "stdout",
     "output_type": "stream",
     "text": [
      "Shares\n",
      "   (1, 1145)\n",
      "   (2, 2717)\n",
      "   (3, 504)\n",
      "   (4, 2675)\n",
      "   (5, 1061)\n",
      "   (6, 1108)\n",
      "Secret recovered from minimum subset of shares:              1234\n"
     ]
    }
   ],
   "source": [
    "\n",
    "\n",
    "def main():\n",
    "    \"\"\"Main function\"\"\"\n",
    "    secret = 1234\n",
    "    p = 2723\n",
    "\n",
    "    # receive_secret()\n",
    "    \n",
    "    shares, _ = make_random_shares(1234, minimum=3, shares=6, prime=p)\n",
    "    print(\"Shares\")\n",
    "    if shares:\n",
    "        for share in shares:\n",
    "            print('  ', share)\n",
    "\n",
    "    print('Secret recovered from minimum subset of shares:             ',\n",
    "          recover_secret(shares[:3], p))\n",
    "    # print('Secret recovered from a different minimum subset of shares: ',\n",
    "          # recover_secret(shares[-3:]))\n",
    "\n",
    "if __name__ == '__main__':\n",
    "    main()"
   ]
  },
  {
   "cell_type": "code",
   "execution_count": null,
   "id": "ddcae79e-d0f4-4450-96fc-fb638c19a359",
   "metadata": {},
   "outputs": [],
   "source": [
    "# ENCODER\n",
    "import os\n",
    "\n",
    "def receive_secret():\n",
    "    S = int(input(\"Enter you secret\"))\n",
    "    # p = int(input(\"Enter you prime\"))\n",
    "    p = 2 ** 13 - 1\n",
    "    shares, poly = make_random_shares(S, minimum=3,\n",
    "                                shares=6,\n",
    "                               prime=p)\n",
    "    path = \"Output/EncoderOutput.txt\"\n",
    "    if not os.path.exists(\"Output\"):\n",
    "        os.makedirs(\"Output\")\n",
    "    with open(path, 'w', encoding='utf-8') as f:\n",
    "        f.write(\"Secret is : \" + str(S) + \"\\n\")\n",
    "        f.write(\"Shares from encryption are : \\t\")\n",
    "        f.write(\" \".join([str(elem) for elem in shares]) + \"\\n\")\n",
    "        f.write(\"polynomial is : \\t\")\n",
    "        f.write(\" \".join([str(elem) for elem in poly]) + \"\\n\")\n",
    "        f.write(\"\\n\\n\")\n",
    "\n",
    "\n",
    "    # print('Secret:', secret)\n",
    "    print('Shares from encryption :', shares)"
   ]
  },
  {
   "cell_type": "code",
   "execution_count": null,
   "id": "79dbac39-8fab-45ea-a98e-9f940661e15f",
   "metadata": {},
   "outputs": [],
   "source": [
    "# DECODER\n",
    "\n",
    "shares = []\n",
    "def recieve_shares_from_keyboard(min_share):\n",
    "    x = []\n",
    "    y = []\n",
    "    for i in range(min_share):\n",
    "        share = input(\"Enter you coordination : \").split()\n",
    "        share = [int(share[0]), (share[1])] # x, y => int\n",
    "        shares.append(share)\n",
    "        \n",
    "        x.append(int(share[0]))\n",
    "        y.append(int(share[1]))\n",
    "        \n",
    "    print(shares)\n",
    "recieve_shares_from_keyboard(3)"
   ]
  },
  {
   "cell_type": "code",
   "execution_count": null,
   "id": "97215d50-08d9-41b0-a3da-ea263818c7dd",
   "metadata": {},
   "outputs": [],
   "source": [
    "from scipy.interpolate import lagrange\n",
    "from numpy.polynomial.polynomial import Polynomial"
   ]
  },
  {
   "cell_type": "code",
   "execution_count": null,
   "id": "c85f23be-672b-4b7a-a880-2113a26a2303",
   "metadata": {},
   "outputs": [],
   "source": [
    "# Polynomial([1, 2, 3], [50, 200, 100])\n",
    "x = [1, 2, 3]\n",
    "y = [50, 200, 100]\n",
    "poly = lagrange(x, y)\n",
    "poly"
   ]
  },
  {
   "cell_type": "code",
   "execution_count": null,
   "id": "9261aaea-b75b-4017-ae7e-84985009aa4f",
   "metadata": {},
   "outputs": [],
   "source": [
    "Polynomial(poly)"
   ]
  },
  {
   "cell_type": "code",
   "execution_count": null,
   "id": "ce81020e-73a2-4430-a0f8-0318feffff08",
   "metadata": {},
   "outputs": [],
   "source": [
    "P_coeff = Polynomial(poly).coef\n",
    "P_coeff"
   ]
  },
  {
   "cell_type": "code",
   "execution_count": null,
   "id": "cc7eca6a-8ec7-45c5-b665-f81b75a3ac8d",
   "metadata": {},
   "outputs": [],
   "source": []
  },
  {
   "cell_type": "code",
   "execution_count": null,
   "id": "a4c8b860-5d82-4ef2-ae35-35da0dfee652",
   "metadata": {},
   "outputs": [],
   "source": [
    "l = [scipy.interpolate, 100], [3, 200]]\n",
    "l"
   ]
  },
  {
   "cell_type": "code",
   "execution_count": null,
   "id": "b9fb7a06-d611-4556-93f8-6f6a2a11c7c0",
   "metadata": {},
   "outputs": [],
   "source": [
    "\" \".join([str(elem) for elem in l])"
   ]
  },
  {
   "cell_type": "code",
   "execution_count": null,
   "id": "18991165-8254-4e74-94e7-e7d4a65181d2",
   "metadata": {},
   "outputs": [],
   "source": [
    "x_s = []\n",
    "for l_i in l:\n",
    "    x_s.append(l_i[0])\n",
    "x_s"
   ]
  },
  {
   "cell_type": "code",
   "execution_count": null,
   "id": "d2ee22f2-4bea-48dc-93a8-6ba6a3f965f9",
   "metadata": {},
   "outputs": [],
   "source": [
    "[l_i[1] for l_i in l]"
   ]
  },
  {
   "cell_type": "code",
   "execution_count": null,
   "id": "6c1da8e6-3aef-4305-ad19-993ef6e41721",
   "metadata": {},
   "outputs": [],
   "source": [
    "x_s = list(map(lambda l_i: l_i[0], l))\n",
    "y_s = list(map(lambda l_i: l_i[1], l))\n",
    "print(x_s)\n",
    "print(y_s)"
   ]
  },
  {
   "cell_type": "code",
   "execution_count": null,
   "id": "c61fee20-5c71-4326-bf2e-8338976b1a34",
   "metadata": {},
   "outputs": [],
   "source": [
    "def func(l_i):\n",
    "    print(l_i[0], l_i[1])\n",
    "    return (l_i[1])\n",
    "list(map(func, l))"
   ]
  },
  {
   "cell_type": "code",
   "execution_count": null,
   "id": "894c98bd-f067-4fdd-95a8-e7f052bb477e",
   "metadata": {},
   "outputs": [],
   "source": []
  }
 ],
 "metadata": {
  "kernelspec": {
   "display_name": "Python 3 (ipykernel)",
   "language": "python",
   "name": "python3"
  },
  "language_info": {
   "codemirror_mode": {
    "name": "ipython",
    "version": 3
   },
   "file_extension": ".py",
   "mimetype": "text/x-python",
   "name": "python",
   "nbconvert_exporter": "python",
   "pygments_lexer": "ipython3",
   "version": "3.9.13"
  }
 },
 "nbformat": 4,
 "nbformat_minor": 5
}
