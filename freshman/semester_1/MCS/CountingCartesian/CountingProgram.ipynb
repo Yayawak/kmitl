{
 "cells": [
  {
   "cell_type": "code",
   "execution_count": 40,
   "id": "09fb360c-3aff-4433-a104-4e248d8fd46a",
   "metadata": {},
   "outputs": [],
   "source": [
    "def cartesian_product(lst, n):\n",
    "    if n == 1:\n",
    "        return [[x] for x in lst]\n",
    "    l = []\n",
    "    for x in lst:\n",
    "        for t in cartesian_product(lst, n - 1):\n",
    "            l += [[x] + t]\n",
    "    return l\n",
    "    # return [  [x] + t for t in cartesian_product(lst, n - 1)  for x in ['l', 'm', 'h']]"
   ]
  },
  {
   "cell_type": "code",
   "execution_count": 41,
   "id": "f7965ea7-80de-44b9-9e72-532221ba9ab4",
   "metadata": {},
   "outputs": [],
   "source": [
    "# cartesian_product(['l', 'm', 'h'], 3)"
   ]
  },
  {
   "cell_type": "code",
   "execution_count": 42,
   "id": "1e593c95-26b4-416a-a17c-a1f8d79c943b",
   "metadata": {},
   "outputs": [
    {
     "data": {
      "text/plain": [
       "array([ 1, 35, 57])"
      ]
     },
     "execution_count": 42,
     "metadata": {},
     "output_type": "execute_result"
    }
   ],
   "source": [
    "import numpy as np\n",
    "\n",
    "k = 1\n",
    "n = 2*k + 1\n",
    "\n",
    "# np.random.seed(99)\n",
    "rand_arr_size_n = np.random.randint(0, 100, size=[n])\n",
    "rand_arr_size_n"
   ]
  },
  {
   "cell_type": "code",
   "execution_count": 43,
   "id": "0bd8e6b4-dc95-4258-b5fe-95fe6657b37e",
   "metadata": {},
   "outputs": [
    {
     "data": {
      "text/plain": [
       "[1, 35, 57]"
      ]
     },
     "execution_count": 43,
     "metadata": {},
     "output_type": "execute_result"
    }
   ],
   "source": [
    "rand_lst_size_n = rand_arr_size_n.tolist()\n",
    "rand_lst_size_n"
   ]
  },
  {
   "cell_type": "code",
   "execution_count": 44,
   "id": "f11412ef-1f2d-4375-8171-ce49d8c624dd",
   "metadata": {},
   "outputs": [],
   "source": [
    "def get_mid_idx(n):\n",
    "    return int((n+1) / 2) - 1"
   ]
  },
  {
   "cell_type": "code",
   "execution_count": 45,
   "id": "b4d7e41c-0afa-40b4-af2c-50570d9bc642",
   "metadata": {},
   "outputs": [
    {
     "data": {
      "text/plain": [
       "35"
      ]
     },
     "execution_count": 45,
     "metadata": {},
     "output_type": "execute_result"
    }
   ],
   "source": [
    "def get_mid(prim_list):\n",
    "    x = prim_list\n",
    "    mid_from_primitive_sorted = sorted(x)[get_mid_idx(len(x))]\n",
    "    return  mid_from_primitive_sorted\n",
    "get_mid(rand_lst_size_n)"
   ]
  },
  {
   "cell_type": "code",
   "execution_count": 47,
   "id": "b3913c2e-a71e-4bc0-beab-7297fe619468",
   "metadata": {},
   "outputs": [
    {
     "name": "stdout",
     "output_type": "stream",
     "text": [
      "[1, 1, 1, 1, 35, 35, 1, 35, 57, 1, 35, 35, 35, 35, 35, 35, 35, 57, 1, 35, 57, 35, 35, 57, 57, 57, 57]\n"
     ]
    }
   ],
   "source": [
    "def getMidFromSortedList(prim_list):\n",
    "    mid_by_sorted_lst = []\n",
    "    for row in cartesian_product(prim_list, n=len(prim_list)):\n",
    "        idx = get_mid_idx(n)\n",
    "        # print(\"Us : \", row, '\\t\\t', \"S : \", sorted(row), '\\t\\t', \"m = \", sorted(row)[idx])\n",
    "\n",
    "        m = sorted(row)[idx]\n",
    "        mid_by_sorted_lst += [m]\n",
    "        # print(f\"us : {row}\\t  s : {sorted(row)} m = {row[1]}\")\n",
    "    return mid_by_sorted_lst\n",
    "    # print(mid_by_sorted_lst[:20])\n",
    "mid_by_sorted_lst = getMidFromSortedList(rand_lst_size_n)\n",
    "print(mid_by_sorted_lst)"
   ]
  },
  {
   "cell_type": "code",
   "execution_count": 32,
   "id": "10b03034-5751-42d4-9bab-0e8af03624cb",
   "metadata": {},
   "outputs": [
    {
     "data": {
      "text/plain": [
       "13"
      ]
     },
     "execution_count": 32,
     "metadata": {},
     "output_type": "execute_result"
    }
   ],
   "source": [
    "def countMid(arr, mid):\n",
    "    count_m = 0\n",
    "    for x in arr:\n",
    "        if x == mid:\n",
    "            count_m += 1\n",
    "    # count_m\n",
    "    return count_m\n",
    "countMid(mid_by_sorted_lst, get_mid(rand_lst_size_n))"
   ]
  },
  {
   "cell_type": "code",
   "execution_count": 36,
   "id": "e553d0b8-63e2-44e8-964c-a9c3d308ee46",
   "metadata": {},
   "outputs": [],
   "source": [
    "def getProbOfMid(mid_by_sorted_lst, prim_list):\n",
    "    return countMid(mid_by_sorted_lst, get_mid(prim_list))  \\\n",
    "        / len(mid_by_sorted_lst)"
   ]
  },
  {
   "cell_type": "code",
   "execution_count": 39,
   "id": "567fc96f-d291-4deb-9ca0-2cbad442af1a",
   "metadata": {},
   "outputs": [
    {
     "data": {
      "text/plain": [
       "0.48148148148148145"
      ]
     },
     "execution_count": 39,
     "metadata": {},
     "output_type": "execute_result"
    }
   ],
   "source": [
    "getProbOfMid(mid_by_sorted_lst, rand_lst_size_n)"
   ]
  },
  {
   "cell_type": "markdown",
   "id": "3db6d5ff-9fb4-449c-aea2-c9bc4ed24980",
   "metadata": {},
   "source": [
    "# Chain Functions\n",
    "P <= countMid / all_l_m_h <= ...\n",
    "     countMid  <= mid_by_sorted_lst[...], get_mid() # 35\n",
    "     all_l_m_h <= getMidFromSortedList\n",
    "                  getMidFromSortedList <= get_idx_mid(), product()"
   ]
  },
  {
   "cell_type": "code",
   "execution_count": 1,
   "id": "c3e718c7-bfaa-4f22-afb9-8d6f898caac9",
   "metadata": {},
   "outputs": [
    {
     "name": "stdout",
     "output_type": "stream",
     "text": [
      "Enter k\n"
     ]
    },
    {
     "name": "stdin",
     "output_type": "stream",
     "text": [
      " 1\n"
     ]
    },
    {
     "name": "stdout",
     "output_type": "stream",
     "text": [
      "k =  1\n",
      "n =  3\n",
      "N(E) =  13\n",
      "N(S) =  27\n",
      "Number of mid cases appears on middle range :  13\n",
      "Probabibility of getting pivot from middle range 48.15 %\n"
     ]
    }
   ],
   "source": [
    "import numpy as np\n",
    "\n",
    "print(\"Enter k\")\n",
    "k = int(input())\n",
    "print(\"k = \", k)\n",
    "# k = 1\n",
    "n = 2*k + 1\n",
    "print(\"n = \", n)\n",
    "\n",
    "# np.random.seed(9)\n",
    "# np.random.set_state()\n",
    "rand_arr_size_n = np.random.randint(0, 100, size=[n])\n",
    "rand_lst_size_n = rand_arr_size_n.tolist()\n",
    "\n",
    "def cartesian_product(lst, n):\n",
    "    if n == 1:\n",
    "        return [[x] for x in lst]\n",
    "    l = []\n",
    "    for x in lst:\n",
    "        for t in cartesian_product(lst, n - 1):\n",
    "            l += [[x] + t]\n",
    "    return l\n",
    "\n",
    "def get_mid_idx(n):\n",
    "    return int((n+1) / 2) - 1\n",
    "\n",
    "def get_mid(prim_list):\n",
    "    x = prim_list\n",
    "    mid_from_primitive_sorted = sorted(x)[get_mid_idx(len(x))]\n",
    "    return  mid_from_primitive_sorted\n",
    "\n",
    "def getMidFromSortedList(prim_list):\n",
    "    mid_by_sorted_lst = []\n",
    "    for row in cartesian_product(prim_list, n=len(prim_list)):\n",
    "        idx = get_mid_idx(n)\n",
    "        # print(\"Us : \", row, '\\t\\t', \"S : \", sorted(row), '\\t\\t', \"m = \", sorted(row)[idx])\n",
    "\n",
    "        m = sorted(row)[idx]\n",
    "        mid_by_sorted_lst += [m]\n",
    "        # print(f\"us : {row}\\t  s : {sorted(row)} m = {row[1]}\")\n",
    "    return mid_by_sorted_lst\n",
    "\n",
    "def countMid(arr, mid):\n",
    "    count_m = 0\n",
    "    for x in arr:\n",
    "        if x == mid:\n",
    "            count_m += 1\n",
    "    return count_m\n",
    "\n",
    "def getAmountAllCases(mid_by_sorted_lst):\n",
    "       return len(mid_by_sorted_lst) \n",
    "    \n",
    "def getProbOfMid(mid_by_sorted_lst, prim_list):\n",
    "    ne = countMid(mid_by_sorted_lst, get_mid(prim_list))\n",
    "    print(\"N(E) = \", ne)\n",
    "    ns = getAmountAllCases(mid_by_sorted_lst)\n",
    "    print(\"N(S) = \", ns)\n",
    "    return ne / ns \n",
    "\n",
    "\n",
    "rlsn = rand_lst_size_n\n",
    "\n",
    "mid_by_sorted_lst = getMidFromSortedList(rlsn)\n",
    "mbsl = mid_by_sorted_lst\n",
    "\n",
    "number_of_mid_case = countMid(mbsl, get_mid(rlsn))\n",
    "\n",
    "prob_mid = getProbOfMid(mbsl, rlsn)\n",
    "\n",
    "print(\"Number of mid cases appears on middle range : \", number_of_mid_case)\n",
    "print(\"Probabibility of getting pivot from middle range {} %\".format(round(prob_mid * 100, 2)) )"
   ]
  },
  {
   "cell_type": "code",
   "execution_count": null,
   "id": "65f2958a-3e26-4035-a7c0-2444093b3de2",
   "metadata": {},
   "outputs": [],
   "source": [
    "print(\"Enter k\")\n",
    "k = int(input())\n",
    "n = 2*k + 1\n",
    "\n",
    "print(\"k = \", k)\n",
    "print(\"n = \", n)\n",
    "\n",
    "# np.random.seed(9)\n",
    "rand_arr_size_n = np.random.randint(0, 100, size=[n])\n",
    "rand_lst_size_n = rand_arr_size_n.tolist()\n",
    "\n",
    "\n",
    "rlsn = rand_lst_size_n\n",
    "\n",
    "mid_by_sorted_lst = getMidFromSortedList(rlsn)\n",
    "mbsl = mid_by_sorted_lst\n",
    "\n",
    "number_of_mid_case = countMid(mbsl, get_mid(rlsn))\n",
    "\n",
    "prob_mid = getProbOfMid(mbsl, rlsn)\n",
    "\n",
    "print(\"Number of mid cases appears on middle range : \", number_of_mid_case)\n",
    "print(\"Probabibility of getting pivot from middle range {} %\".format(round(prob_mid * 100, 2)) )"
   ]
  },
  {
   "cell_type": "code",
   "execution_count": 27,
   "id": "7c1dcd4f-32aa-443c-9f43-2c4f1b383d96",
   "metadata": {},
   "outputs": [
    {
     "data": {
      "text/plain": [
       "35"
      ]
     },
     "execution_count": 27,
     "metadata": {},
     "output_type": "execute_result"
    }
   ],
   "source": []
  },
  {
   "cell_type": "code",
   "execution_count": 27,
   "id": "aa57931a-8040-49c9-b02f-97dd55fabed3",
   "metadata": {},
   "outputs": [
    {
     "data": {
      "text/plain": [
       "35"
      ]
     },
     "execution_count": 27,
     "metadata": {},
     "output_type": "execute_result"
    }
   ],
   "source": []
  }
 ],
 "metadata": {
  "kernelspec": {
   "display_name": "Python 3 (ipykernel)",
   "language": "python",
   "name": "python3"
  },
  "language_info": {
   "codemirror_mode": {
    "name": "ipython",
    "version": 3
   },
   "file_extension": ".py",
   "mimetype": "text/x-python",
   "name": "python",
   "nbconvert_exporter": "python",
   "pygments_lexer": "ipython3",
   "version": "3.9.12"
  }
 },
 "nbformat": 4,
 "nbformat_minor": 5
}
