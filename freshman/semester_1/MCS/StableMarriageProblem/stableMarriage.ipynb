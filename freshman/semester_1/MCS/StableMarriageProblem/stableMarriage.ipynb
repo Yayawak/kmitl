{
 "cells": [
  {
   "cell_type": "code",
   "execution_count": null,
   "id": "a9e0491f-076c-4ca4-810c-58fb8b836057",
   "metadata": {},
   "outputs": [],
   "source": [
    "t = 100"
   ]
  },
  {
   "cell_type": "code",
   "execution_count": null,
   "id": "dc4e2682-78c5-4184-bcfc-4c3a257d4654",
   "metadata": {},
   "outputs": [],
   "source": [
    "n = 3\n",
    "i = 0\n",
    "while i<3:\n",
    "    print(i)\n",
    "    i += 1"
   ]
  },
  {
   "cell_type": "code",
   "execution_count": null,
   "id": "3141a06a-f434-407e-8bbc-46010225e7a0",
   "metadata": {},
   "outputs": [],
   "source": [
    "n = 3\n",
    "# index 0->(n-1) = \"m'prefer list\"\n",
    "# index n->(2n-1) = 'w's prefer list"
   ]
  },
  {
   "cell_type": "code",
   "execution_count": 14,
   "id": "e71877c7-2742-4e2d-91a6-237e2c3d44ab",
   "metadata": {},
   "outputs": [],
   "source": [
    "# isWPreferM1OverM(prefer[2*n][n], w, m, m1):\n",
    "# m1 is currentMen\n",
    "N = 4\n",
    "def isWPreferM1OverM(prefer, w, m, m1):\n",
    "    # check if w prefers m over her current engagement m1\n",
    "    for i in range(N):\n",
    "       # If m1 comes before m in list of w, \n",
    "        # then w prefers her current engagement,\n",
    "        # don't do anything\n",
    "        if prefer[w][i] == m1: return True\n",
    "        if prefer[w][i] == m: return False\n",
    "    \n",
    "        "
   ]
  },
  {
   "cell_type": "code",
   "execution_count": 15,
   "id": "c5f479f5-cb9c-4cea-82e8-0b8135962702",
   "metadata": {},
   "outputs": [],
   "source": [
    "# isWPreferM1OverM(p, 4, )"
   ]
  },
  {
   "cell_type": "code",
   "execution_count": 26,
   "id": "be5da0ea-58c4-4f7c-8c20-e6998a42dba4",
   "metadata": {},
   "outputs": [],
   "source": [
    "# 0->3 : men\n",
    "# 4->7 : women\n",
    "prefer = [\n",
    "    # prefences of men\n",
    "      [7, 5, 6, 4], [5, 4, 6, 7],\n",
    "      [4, 5, 6, 7], [4, 5, 6, 7],\n",
    "    # preferences of women\n",
    "      [0, 1, 2, 3], [0, 1, 2, 3],\n",
    "      [0, 1, 2, 3], [0, 1, 2, 3]]\n",
    "  "
   ]
  },
  {
   "cell_type": "code",
   "execution_count": 27,
   "id": "4bebda90-49a5-4023-a907-9fa2dcd83ad4",
   "metadata": {},
   "outputs": [
    {
     "data": {
      "text/plain": [
       "False"
      ]
     },
     "execution_count": 27,
     "metadata": {},
     "output_type": "execute_result"
    }
   ],
   "source": [
    "# she thinks 0th men is more handsome than 3th.\n",
    "isWPreferM1OverM(prefer, w=4, m=0, m1=3)"
   ]
  },
  {
   "cell_type": "code",
   "execution_count": null,
   "id": "e537659b-ae2c-4488-baf6-c1c4cac35cab",
   "metadata": {},
   "outputs": [],
   "source": []
  },
  {
   "cell_type": "code",
   "execution_count": 34,
   "id": "6da7dbd1-b274-4095-84f9-4437fd35a807",
   "metadata": {},
   "outputs": [
    {
     "ename": "IndexError",
     "evalue": "list index out of range",
     "output_type": "error",
     "traceback": [
      "\u001b[0;31m---------------------------------------------------------------------------\u001b[0m",
      "\u001b[0;31mIndexError\u001b[0m                                Traceback (most recent call last)",
      "Input \u001b[0;32mIn [34]\u001b[0m, in \u001b[0;36m<cell line: 60>\u001b[0;34m()\u001b[0m\n\u001b[1;32m     49\u001b[0m         \u001b[38;5;28mprint\u001b[39m(i\u001b[38;5;241m+\u001b[39mN, \u001b[38;5;124m\"\u001b[39m\u001b[38;5;130;01m\\t\u001b[39;00m\u001b[38;5;124m\"\u001b[39m, wPartner[i])\n\u001b[1;32m     51\u001b[0m prefer \u001b[38;5;241m=\u001b[39m [\n\u001b[1;32m     52\u001b[0m     \u001b[38;5;66;03m# prefences of men\u001b[39;00m\n\u001b[1;32m     53\u001b[0m       [\u001b[38;5;241m7\u001b[39m, \u001b[38;5;241m5\u001b[39m, \u001b[38;5;241m6\u001b[39m, \u001b[38;5;241m4\u001b[39m], [\u001b[38;5;241m5\u001b[39m, \u001b[38;5;241m4\u001b[39m, \u001b[38;5;241m6\u001b[39m, \u001b[38;5;241m7\u001b[39m],\n\u001b[0;32m   (...)\u001b[0m\n\u001b[1;32m     56\u001b[0m       [\u001b[38;5;241m0\u001b[39m, \u001b[38;5;241m1\u001b[39m, \u001b[38;5;241m2\u001b[39m, \u001b[38;5;241m3\u001b[39m], [\u001b[38;5;241m0\u001b[39m, \u001b[38;5;241m1\u001b[39m, \u001b[38;5;241m2\u001b[39m, \u001b[38;5;241m3\u001b[39m],\n\u001b[1;32m     57\u001b[0m       [\u001b[38;5;241m0\u001b[39m, \u001b[38;5;241m1\u001b[39m, \u001b[38;5;241m2\u001b[39m, \u001b[38;5;241m3\u001b[39m], [\u001b[38;5;241m0\u001b[39m, \u001b[38;5;241m1\u001b[39m, \u001b[38;5;241m2\u001b[39m, \u001b[38;5;241m3\u001b[39m]]\n\u001b[0;32m---> 60\u001b[0m \u001b[43mstableMarriage\u001b[49m\u001b[43m(\u001b[49m\u001b[43mprefer\u001b[49m\u001b[43m)\u001b[49m\n",
      "Input \u001b[0;32mIn [34]\u001b[0m, in \u001b[0;36mstableMarriage\u001b[0;34m(prefer_list)\u001b[0m\n\u001b[1;32m     27\u001b[0m     \u001b[38;5;66;03m# print(m)\u001b[39;00m\n\u001b[1;32m     29\u001b[0m i \u001b[38;5;241m=\u001b[39m \u001b[38;5;241m0\u001b[39m\n\u001b[0;32m---> 30\u001b[0m \u001b[38;5;28;01mwhile\u001b[39;00m i\u001b[38;5;241m<\u001b[39mN \u001b[38;5;129;01mand\u001b[39;00m \u001b[43mmFree\u001b[49m\u001b[43m[\u001b[49m\u001b[43mm\u001b[49m\u001b[43m]\u001b[49m \u001b[38;5;241m==\u001b[39m \u001b[38;5;28;01mFalse\u001b[39;00m:\n\u001b[1;32m     31\u001b[0m     w \u001b[38;5;241m=\u001b[39m prefer[m][i]\n\u001b[1;32m     32\u001b[0m     \u001b[38;5;66;03m# The woman of preference is free, \u001b[39;00m\n\u001b[1;32m     33\u001b[0m     \u001b[38;5;66;03m# w and m become partners (Note that \u001b[39;00m\n\u001b[1;32m     34\u001b[0m     \u001b[38;5;66;03m# the partnership maybe changed later). \u001b[39;00m\n\u001b[1;32m     35\u001b[0m     \u001b[38;5;66;03m# So we can say they are engaged not married\u001b[39;00m\n",
      "\u001b[0;31mIndexError\u001b[0m: list index out of range"
     ]
    }
   ],
   "source": [
    "N = 4\n",
    "def isWPreferM1OverM(prefer, w, m, m1):\n",
    "    # check if w prefers m over her current engagement m1\n",
    "    for i in range(N):\n",
    "       # If m1 comes before m in list of w, \n",
    "        # then w prefers her current engagement,\n",
    "        # don't do anything\n",
    "        if prefer[w][i] == m1: return True\n",
    "        if prefer[w][i] == m: return False\n",
    "    \n",
    "        \n",
    "def stableMarriage(prefer_list):\n",
    "    wPartner = [-1 for i in range(N)]\n",
    "    mFree = [False for i in range(N)]\n",
    "    \n",
    "    freeCount = N\n",
    "    \n",
    "    # While there are free men\n",
    "    while freeCount > 0:\n",
    "        # Pick the first free man (we could pick any)\n",
    "        m = 0\n",
    "        # One by one go to all women according to \n",
    "        # m's preferences. Here m is the picked free man\n",
    "        while m<N:\n",
    "            if mFree == False: break\n",
    "            m += 1\n",
    "            # print(m)\n",
    "            \n",
    "        i = 0\n",
    "        while i<N and mFree[m] == False:\n",
    "            w = prefer[m][i]\n",
    "            # The woman of preference is free, \n",
    "            # w and m become partners (Note that \n",
    "            # the partnership maybe changed later). \n",
    "            # So we can say they are engaged not married\n",
    "            if wPartner[w-N] == -1:\n",
    "                wPartner[w-N] = m\n",
    "                mFree[m] = True\n",
    "                freeCount -= 1\n",
    "            else:\n",
    "                m1 = wPartner[w-N]\n",
    "                if isWPreferM1OverM(prefer, w, m, m1 == False):\n",
    "                    wPartner[w-N] = m\n",
    "                    mFree[m] = True\n",
    "                    mFree[m1] = False\n",
    "            i += 1\n",
    "    print(\"Woman \", \" Man\")\n",
    "    for i in range(N):\n",
    "        print(i+N, \"\\t\", wPartner[i])\n",
    "      \n",
    "prefer = [\n",
    "    # prefences of men\n",
    "      [7, 5, 6, 4], [5, 4, 6, 7],\n",
    "      [4, 5, 6, 7], [4, 5, 6, 7],\n",
    "    # preferences of women\n",
    "      [0, 1, 2, 3], [0, 1, 2, 3],\n",
    "      [0, 1, 2, 3], [0, 1, 2, 3]]\n",
    "  \n",
    "\n",
    "stableMarriage(prefer)"
   ]
  },
  {
   "cell_type": "code",
   "execution_count": null,
   "id": "4fb13e7d-6766-4921-80ad-e16b08d0c019",
   "metadata": {},
   "outputs": [],
   "source": [
    "# The value -1 indicates \n",
    "# that (N+i)'th woman is free\n",
    "[-1 for i in range(n)]"
   ]
  },
  {
   "cell_type": "code",
   "execution_count": 35,
   "id": "7b415399-027c-4b5b-8188-bb85cf1439de",
   "metadata": {},
   "outputs": [
    {
     "name": "stdout",
     "output_type": "stream",
     "text": [
      "Woman   Man\n",
      "4 \t 2\n",
      "5 \t 1\n",
      "6 \t 3\n",
      "7 \t 0\n"
     ]
    }
   ],
   "source": [
    "N = 4\n",
    "  \n",
    "# This function returns true if \n",
    "# woman 'w' prefers man 'm1' over man 'm'\n",
    "def wPrefersM1OverM(prefer, w, m, m1):\n",
    "      \n",
    "    # Check if w prefers m over her \n",
    "    # current engagement m1\n",
    "    for i in range(N):\n",
    "          \n",
    "        # If m1 comes before m in list of w, \n",
    "        # then w prefers her current engagement,\n",
    "        # don't do anything\n",
    "        if (prefer[w][i] == m1):\n",
    "            return True\n",
    "  \n",
    "        # If m comes before m1 in w's list, \n",
    "        # then free her current engagement \n",
    "        # and engage her with m\n",
    "        if (prefer[w][i] == m):\n",
    "            return False\n",
    "  \n",
    "# Prints stable matching for N boys and N girls. \n",
    "# Boys are numbered as 0 to N-1. \n",
    "# Girls are numbered as N to 2N-1.\n",
    "def stableMarriage(prefer):\n",
    "      \n",
    "    # Stores partner of women. This is our output \n",
    "    # array that stores passing information. \n",
    "    # The value of wPartner[i] indicates the partner \n",
    "    # assigned to woman N+i. Note that the woman numbers \n",
    "    # between N and 2*N-1. The value -1 indicates \n",
    "    # that (N+i)'th woman is free\n",
    "    wPartner = [-1 for i in range(N)]\n",
    "  \n",
    "    # An array to store availability of men. \n",
    "    # If mFree[i] is false, then man 'i' is free,\n",
    "    # otherwise engaged.\n",
    "    mFree = [False for i in range(N)]\n",
    "  \n",
    "    freeCount = N\n",
    "  \n",
    "    # While there are free men\n",
    "    while (freeCount > 0):\n",
    "          \n",
    "        # Pick the first free man (we could pick any)\n",
    "        m = 0\n",
    "        while (m < N):\n",
    "            if (mFree[m] == False):\n",
    "                break\n",
    "            m += 1\n",
    "  \n",
    "        # One by one go to all women according to \n",
    "        # m's preferences. Here m is the picked free man\n",
    "        i = 0\n",
    "        while i < N and mFree[m] == False:\n",
    "            w = prefer[m][i]\n",
    "  \n",
    "            # The woman of preference is free, \n",
    "            # w and m become partners (Note that \n",
    "            # the partnership maybe changed later). \n",
    "            # So we can say they are engaged not married\n",
    "            if (wPartner[w - N] == -1):\n",
    "                wPartner[w - N] = m\n",
    "                mFree[m] = True\n",
    "                freeCount -= 1\n",
    "  \n",
    "            else: \n",
    "                  \n",
    "                # If w is not free\n",
    "                # Find current engagement of w\n",
    "                m1 = wPartner[w - N]\n",
    "  \n",
    "                # If w prefers m over her current engagement m1,\n",
    "                # then break the engagement between w and m1 and\n",
    "                # engage m with w.\n",
    "                if (wPrefersM1OverM(prefer, w, m, m1) == False):\n",
    "                    wPartner[w - N] = m\n",
    "                    mFree[m] = True\n",
    "                    mFree[m1] = False\n",
    "            i += 1\n",
    "  \n",
    "            # End of Else\n",
    "        # End of the for loop that goes \n",
    "        # to all women in m's list\n",
    "    # End of main while loop\n",
    "  \n",
    "    # Print solution\n",
    "    print(\"Woman \", \" Man\")\n",
    "    for i in range(N):\n",
    "        print(i + N, \"\\t\", wPartner[i])\n",
    "  \n",
    "# Driver Code\n",
    "prefer = [[7, 5, 6, 4], [5, 4, 6, 7],\n",
    "          [4, 5, 6, 7], [4, 5, 6, 7],\n",
    "          [0, 1, 2, 3], [0, 1, 2, 3],\n",
    "          [0, 1, 2, 3], [0, 1, 2, 3]]\n",
    "  \n",
    "stableMarriage(prefer)\n",
    "  \n",
    "# This code is contributed by Mohit Kumar"
   ]
  },
  {
   "cell_type": "code",
   "execution_count": 2,
   "id": "74589ffb-5aac-4e10-8b92-2dd57b5d7d22",
   "metadata": {},
   "outputs": [],
   "source": [
    "def wPrefersM1OverM(prefer, w, m, m1):\n",
    "    for i in range(N):\n",
    "        if (prefer[w][i] == m1): return True\n",
    "        if (prefer[w][i] == m):\n",
    "            return False\n",
    "        \n",
    "def stableMarriage(prefer, N):\n",
    "    wPartner = [-1 for i in range(N)]\n",
    "    mFree = [False for i in range(N)]\n",
    "    freeCount = N\n",
    "    while (freeCount > 0):\n",
    "        m = 0\n",
    "        while (m < N):\n",
    "            if (mFree[m] == False):\n",
    "                break\n",
    "            m += 1\n",
    "        i = 0\n",
    "        while i < N and mFree[m] == False:\n",
    "            w = prefer[m][i]\n",
    "            if (wPartner[w - N] == -1):\n",
    "                wPartner[w - N] = m\n",
    "                mFree[m] = True\n",
    "                freeCount -= 1\n",
    "            else: \n",
    "                m1 = wPartner[w - N]\n",
    "                if (wPrefersM1OverM(prefer, w, m, m1) == False):\n",
    "                    wPartner[w - N] = m\n",
    "                    mFree[m] = True\n",
    "                    mFree[m1] = False\n",
    "            i += 1\n",
    "    # print(\"Woman \", \" Man\")\n",
    "    for i in range(N):\n",
    "        print(i+1, wPartner[i]+1)\n",
    "        # print(i + N - (N-1), wPartner[i])\n",
    "        # print(i + N - (4-1), wPartner[i])\n",
    "        # print(i + N - (4-1), \"\\t\", wPartner[i])\n",
    "        # print(i + N , \"\\t\", wPartner[i])\n",
    "  \n"
   ]
  },
  {
   "cell_type": "code",
   "execution_count": 3,
   "id": "973ac798-e332-4a6c-a083-ba257777f52c",
   "metadata": {},
   "outputs": [
    {
     "ename": "NameError",
     "evalue": "name 'N' is not defined",
     "output_type": "error",
     "traceback": [
      "\u001b[0;31m---------------------------------------------------------------------------\u001b[0m",
      "\u001b[0;31mNameError\u001b[0m                                 Traceback (most recent call last)",
      "Input \u001b[0;32mIn [3]\u001b[0m, in \u001b[0;36m<cell line: 30>\u001b[0;34m()\u001b[0m\n\u001b[1;32m     28\u001b[0m prefer \u001b[38;5;241m=\u001b[39m men \u001b[38;5;241m+\u001b[39m women\n\u001b[1;32m     29\u001b[0m \u001b[38;5;66;03m# prefer\u001b[39;00m\n\u001b[0;32m---> 30\u001b[0m \u001b[43mstableMarriage\u001b[49m\u001b[43m(\u001b[49m\u001b[43mprefer\u001b[49m\u001b[43m,\u001b[49m\u001b[43m \u001b[49m\u001b[38;5;241;43m4\u001b[39;49m\u001b[43m)\u001b[49m\n",
      "Input \u001b[0;32mIn [2]\u001b[0m, in \u001b[0;36mstableMarriage\u001b[0;34m(prefer, N)\u001b[0m\n\u001b[1;32m     24\u001b[0m \u001b[38;5;28;01melse\u001b[39;00m: \n\u001b[1;32m     25\u001b[0m     m1 \u001b[38;5;241m=\u001b[39m wPartner[w \u001b[38;5;241m-\u001b[39m N]\n\u001b[0;32m---> 26\u001b[0m     \u001b[38;5;28;01mif\u001b[39;00m (\u001b[43mwPrefersM1OverM\u001b[49m\u001b[43m(\u001b[49m\u001b[43mprefer\u001b[49m\u001b[43m,\u001b[49m\u001b[43m \u001b[49m\u001b[43mw\u001b[49m\u001b[43m,\u001b[49m\u001b[43m \u001b[49m\u001b[43mm\u001b[49m\u001b[43m,\u001b[49m\u001b[43m \u001b[49m\u001b[43mm1\u001b[49m\u001b[43m)\u001b[49m \u001b[38;5;241m==\u001b[39m \u001b[38;5;28;01mFalse\u001b[39;00m):\n\u001b[1;32m     27\u001b[0m         wPartner[w \u001b[38;5;241m-\u001b[39m N] \u001b[38;5;241m=\u001b[39m m\n\u001b[1;32m     28\u001b[0m         mFree[m] \u001b[38;5;241m=\u001b[39m \u001b[38;5;28;01mTrue\u001b[39;00m\n",
      "Input \u001b[0;32mIn [2]\u001b[0m, in \u001b[0;36mwPrefersM1OverM\u001b[0;34m(prefer, w, m, m1)\u001b[0m\n\u001b[1;32m      1\u001b[0m \u001b[38;5;28;01mdef\u001b[39;00m \u001b[38;5;21mwPrefersM1OverM\u001b[39m(prefer, w, m, m1):\n\u001b[0;32m----> 2\u001b[0m     \u001b[38;5;28;01mfor\u001b[39;00m i \u001b[38;5;129;01min\u001b[39;00m \u001b[38;5;28mrange\u001b[39m(\u001b[43mN\u001b[49m):\n\u001b[1;32m      3\u001b[0m         \u001b[38;5;28;01mif\u001b[39;00m (prefer[w][i] \u001b[38;5;241m==\u001b[39m m1): \u001b[38;5;28;01mreturn\u001b[39;00m \u001b[38;5;28;01mTrue\u001b[39;00m\n\u001b[1;32m      4\u001b[0m         \u001b[38;5;28;01mif\u001b[39;00m (prefer[w][i] \u001b[38;5;241m==\u001b[39m m):\n",
      "\u001b[0;31mNameError\u001b[0m: name 'N' is not defined"
     ]
    }
   ],
   "source": [
    "wsX = [\n",
    "    [1,3,2,4,1],\n",
    "    [2,2,3,1,4],\n",
    "    [3,3,1,2,4],\n",
    "    [4, 3,2,4,1]\n",
    "]\n",
    "msX = [\n",
    "    [1,4,3,1,2],\n",
    "    [2,2,1,3,4],\n",
    "    [3,1,3,4,2],\n",
    "    [4,4,3,1,2]\n",
    "]\n",
    "# t = int(input())\n",
    "t = 1\n",
    "for i in range(t):\n",
    "    women = []\n",
    "    men = []\n",
    "    # n = int(input())\n",
    "    n = 4\n",
    "    for j in range(n):\n",
    "        # l = input().split()[1:]\n",
    "        l = msX[j]\n",
    "        men.append([int(i)+(4-1) for i in l[1:]])\n",
    "    for j in range(n):\n",
    "        l = wsX[j]\n",
    "        women.append([int(i)-1 for i in l[1:]])\n",
    "        \n",
    "prefer = men + women\n",
    "# prefer\n",
    "stableMarriage(prefer, 4)\n",
    "\n",
    "# stableMarriage(prefer_x)"
   ]
  },
  {
   "cell_type": "code",
   "execution_count": 157,
   "id": "12dbbd54-51e9-44a7-b2ef-fa5025520333",
   "metadata": {},
   "outputs": [
    {
     "name": "stdout",
     "output_type": "stream",
     "text": [
      "1 3\n",
      "2 2\n",
      "3 6\n",
      "4 1\n",
      "5 5\n",
      "6 7\n",
      "7 4\n"
     ]
    }
   ],
   "source": [
    "stableMarriage(heaven, 7)"
   ]
  },
  {
   "cell_type": "code",
   "execution_count": 148,
   "id": "b572a95d-0cd9-43a9-a024-0d1fdfd629b0",
   "metadata": {},
   "outputs": [
    {
     "data": {
      "text/plain": [
       "[[7, 8, 6, 10, 5, 9, 4],\n",
       " [8, 9, 7, 10, 6, 5, 4],\n",
       " [4, 9, 8, 7, 6, 10, 5],\n",
       " [6, 8, 9, 10, 5, 7, 4],\n",
       " [4, 10, 9, 7, 6, 8, 5],\n",
       " [9, 6, 10, 8, 5, 7, 4],\n",
       " [4, 10, 7, 5, 9, 8, 6],\n",
       " [2, 3, 1, 0, 5, 6, 4],\n",
       " [5, 3, 1, 2, 4, 0, 6],\n",
       " [5, 2, 4, 6, 1, 3, 0],\n",
       " [0, 5, 2, 1, 3, 6, 4],\n",
       " [0, 5, 4, 2, 3, 6, 1],\n",
       " [0, 6, 2, 3, 4, 5, 1],\n",
       " [4, 5, 1, 3, 2, 6, 0]]"
      ]
     },
     "execution_count": 148,
     "metadata": {},
     "output_type": "execute_result"
    }
   ],
   "source": [
    "n = 7\n",
    "prefer_x_2 = cleaner(wsXStr2, n) + cleaner(msXStr2, n)\n",
    "t = 1\n",
    "for i in range(t):\n",
    "    women = []\n",
    "    men = []\n",
    "    for j in range(n):\n",
    "        l = cleaner(msXStr2, n)[j]\n",
    "        men.append([i+(4-1) for i in l[1:]])\n",
    "    for j in range(n):\n",
    "        l = cleaner(wsXStr2, n)[j]\n",
    "        women.append([i-1 for i in l[1:]])\n",
    "    # for j in range(n):\n",
    "    #     l = prefer_x_2[:n]\n",
    "    #     # men.append([int(i)+(n-1) for i in l[1:]])\n",
    "    #     men.append([i+(n-1) for i in l[1:]])\n",
    "    # for j in range(n):\n",
    "    #     l = prefer_x_2[n:]\n",
    "    #     women.append([i-1 for i in l[1:]])\n",
    "        \n",
    "heaven = men + women\n",
    "heaven"
   ]
  },
  {
   "cell_type": "code",
   "execution_count": 1,
   "id": "a763465e-b7f8-4241-b19e-7f05420a236c",
   "metadata": {},
   "outputs": [
    {
     "ename": "NameError",
     "evalue": "name 'stableMarriage' is not defined",
     "output_type": "error",
     "traceback": [
      "\u001b[0;31m---------------------------------------------------------------------------\u001b[0m",
      "\u001b[0;31mNameError\u001b[0m                                 Traceback (most recent call last)",
      "Input \u001b[0;32mIn [1]\u001b[0m, in \u001b[0;36m<cell line: 1>\u001b[0;34m()\u001b[0m\n\u001b[0;32m----> 1\u001b[0m \u001b[43mstableMarriage\u001b[49m(prefer)\n",
      "\u001b[0;31mNameError\u001b[0m: name 'stableMarriage' is not defined"
     ]
    }
   ],
   "source": [
    "stableMarriage(prefer)"
   ]
  },
  {
   "cell_type": "code",
   "execution_count": 152,
   "id": "32ca48a5-6443-42c1-8847-dcaf17743d23",
   "metadata": {},
   "outputs": [
    {
     "ename": "IndexError",
     "evalue": "list index out of range",
     "output_type": "error",
     "traceback": [
      "\u001b[0;31m---------------------------------------------------------------------------\u001b[0m",
      "\u001b[0;31mIndexError\u001b[0m                                Traceback (most recent call last)",
      "Input \u001b[0;32mIn [152]\u001b[0m, in \u001b[0;36m<cell line: 1>\u001b[0;34m()\u001b[0m\n\u001b[0;32m----> 1\u001b[0m \u001b[43mstableMarriage\u001b[49m\u001b[43m(\u001b[49m\u001b[43mheaven\u001b[49m\u001b[43m)\u001b[49m\n",
      "Input \u001b[0;32mIn [123]\u001b[0m, in \u001b[0;36mstableMarriage\u001b[0;34m(prefer)\u001b[0m\n\u001b[1;32m     20\u001b[0m \u001b[38;5;28;01mwhile\u001b[39;00m i \u001b[38;5;241m<\u001b[39m N \u001b[38;5;129;01mand\u001b[39;00m mFree[m] \u001b[38;5;241m==\u001b[39m \u001b[38;5;28;01mFalse\u001b[39;00m:\n\u001b[1;32m     21\u001b[0m     w \u001b[38;5;241m=\u001b[39m prefer[m][i]\n\u001b[0;32m---> 22\u001b[0m     \u001b[38;5;28;01mif\u001b[39;00m (\u001b[43mwPartner\u001b[49m\u001b[43m[\u001b[49m\u001b[43mw\u001b[49m\u001b[43m \u001b[49m\u001b[38;5;241;43m-\u001b[39;49m\u001b[43m \u001b[49m\u001b[43mN\u001b[49m\u001b[43m]\u001b[49m \u001b[38;5;241m==\u001b[39m \u001b[38;5;241m-\u001b[39m\u001b[38;5;241m1\u001b[39m):\n\u001b[1;32m     23\u001b[0m         wPartner[w \u001b[38;5;241m-\u001b[39m N] \u001b[38;5;241m=\u001b[39m m\n\u001b[1;32m     24\u001b[0m         mFree[m] \u001b[38;5;241m=\u001b[39m \u001b[38;5;28;01mTrue\u001b[39;00m\n",
      "\u001b[0;31mIndexError\u001b[0m: list index out of range"
     ]
    }
   ],
   "source": [
    "stableMarriage(heaven)"
   ]
  },
  {
   "cell_type": "code",
   "execution_count": 144,
   "id": "edc15923-35e4-4c5e-95b3-3ecb76d0d5c2",
   "metadata": {},
   "outputs": [
    {
     "data": {
      "text/plain": [
       "[[2, 6, 4, 2, 3, 5, 1, 7],\n",
       " [3, 6, 3, 5, 7, 2, 4, 1],\n",
       " [4, 1, 6, 3, 2, 4, 7, 5],\n",
       " [5, 1, 6, 5, 3, 4, 7, 2],\n",
       " [6, 1, 7, 3, 4, 5, 6, 2],\n",
       " [7, 5, 6, 2, 4, 3, 7, 1]]"
      ]
     },
     "execution_count": 144,
     "metadata": {},
     "output_type": "execute_result"
    }
   ],
   "source": [
    "u = cleaner(wsXStr2, 7)\n",
    "[ui for ui in u[1:]]"
   ]
  },
  {
   "cell_type": "code",
   "execution_count": 138,
   "id": "49e5bac0-4b3d-4a3b-8295-909e13115ddd",
   "metadata": {},
   "outputs": [
    {
     "data": {
      "text/plain": [
       "[[1, 3, 4, 2, 1, 6, 7, 5],\n",
       " [2, 6, 4, 2, 3, 5, 1, 7],\n",
       " [3, 6, 3, 5, 7, 2, 4, 1],\n",
       " [4, 1, 6, 3, 2, 4, 7, 5],\n",
       " [5, 1, 6, 5, 3, 4, 7, 2],\n",
       " [6, 1, 7, 3, 4, 5, 6, 2],\n",
       " [7, 5, 6, 2, 4, 3, 7, 1]]"
      ]
     },
     "execution_count": 138,
     "metadata": {},
     "output_type": "execute_result"
    }
   ],
   "source": [
    "prefer_x_2[:7]"
   ]
  },
  {
   "cell_type": "code",
   "execution_count": 126,
   "id": "9985871d-6331-4527-a9f5-9c5640c0aec1",
   "metadata": {},
   "outputs": [
    {
     "name": "stdin",
     "output_type": "stream",
     "text": [
      " c\n"
     ]
    },
    {
     "ename": "ValueError",
     "evalue": "invalid literal for int() with base 10: 'c'",
     "output_type": "error",
     "traceback": [
      "\u001b[0;31m---------------------------------------------------------------------------\u001b[0m",
      "\u001b[0;31mValueError\u001b[0m                                Traceback (most recent call last)",
      "Input \u001b[0;32mIn [126]\u001b[0m, in \u001b[0;36m<cell line: 1>\u001b[0;34m()\u001b[0m\n\u001b[0;32m----> 1\u001b[0m t \u001b[38;5;241m=\u001b[39m \u001b[38;5;28;43mint\u001b[39;49m\u001b[43m(\u001b[49m\u001b[38;5;28;43minput\u001b[39;49m\u001b[43m(\u001b[49m\u001b[43m)\u001b[49m\u001b[43m)\u001b[49m\n\u001b[1;32m      2\u001b[0m \u001b[38;5;28;01mfor\u001b[39;00m i \u001b[38;5;129;01min\u001b[39;00m \u001b[38;5;28mrange\u001b[39m(t):\n\u001b[1;32m      3\u001b[0m     women \u001b[38;5;241m=\u001b[39m []\n",
      "\u001b[0;31mValueError\u001b[0m: invalid literal for int() with base 10: 'c'"
     ]
    }
   ],
   "source": [
    "t = int(input())\n",
    "for i in range(t):\n",
    "    women = []\n",
    "    men = []\n",
    "    n = int(input())\n",
    "    for j in range(n):\n",
    "        l = input().split()[1:]\n",
    "        men.append([int(i) for i in l])\n",
    "    for j in range(n):\n",
    "        l = input().split()[1:]\n",
    "        women.append([int(i)+4 for i in l])\n",
    "        \n",
    "prefer = men + women\n",
    "# stableMarriage(prefer_x)\n",
    "\n",
    "def cleaner_2(ord_with_pref=\"\", n_row=0):\n",
    "    k = ord_with_pref.split()\n",
    "    k = np.array([int(ki) for ki in k])\n",
    "    ord_with_pref = k.reshape(n_row,-1)\n",
    "    ord_with_pref = [\n",
    "        list(row) for row in ord_with_pref\n",
    "    ]\n",
    "    return ord_with_pref\n",
    "    return pref\n",
    "pref = pd.DataFrame(cleaner_2(ws, 4)).drop(columns=[0]).to_numpy()\n",
    "pref = [list(row) for row in pref]\n",
    "\n",
    "stableMarriage(prefer)"
   ]
  },
  {
   "cell_type": "markdown",
   "id": "b45c965a-b0fc-43fb-a38c-a102797f5286",
   "metadata": {},
   "source": [
    "# Code to Submit"
   ]
  },
  {
   "cell_type": "code",
   "execution_count": null,
   "id": "9615f944-b0cf-42a0-b5c1-81372045c833",
   "metadata": {},
   "outputs": [],
   "source": [
    "def wPrefersM1OverM(prefer, w, m, m1):\n",
    "    for i in range(N):\n",
    "        if (prefer[w][i] == m1): return True\n",
    "        if (prefer[w][i] == m):\n",
    "            return False\n",
    "        \n",
    "def stableMarriage(prefer, N):\n",
    "    wPartner = [-1 for i in range(N)]\n",
    "    mFree = [False for i in range(N)]\n",
    "    freeCount = N\n",
    "    while (freeCount > 0):\n",
    "        m = 0\n",
    "        while (m < N):\n",
    "            if (mFree[m] == False):\n",
    "                break\n",
    "            m += 1\n",
    "        i = 0\n",
    "        while i < N and mFree[m] == False:\n",
    "            w = prefer[m][i]\n",
    "            if (wPartner[w - N] == -1):\n",
    "                wPartner[w - N] = m\n",
    "                mFree[m] = True\n",
    "                freeCount -= 1\n",
    "            else: \n",
    "                m1 = wPartner[w - N]\n",
    "                if (wPrefersM1OverM(prefer, w, m, m1) == False):\n",
    "                    wPartner[w - N] = m\n",
    "                    mFree[m] = True\n",
    "                    mFree[m1] = False\n",
    "            i += 1\n",
    "    # print(\"Woman \", \" Man\")\n",
    "    for i in range(N):\n",
    "        print(i+1, wPartner[i]+1)\n",
    "        \n",
    "t = int(input())\n",
    "for i in range(t):\n",
    "    women = []\n",
    "    men = []\n",
    "    n = int(input())\n",
    "    for j in range(n):\n",
    "        l = input().split()[1:]\n",
    "        men.append([int(i)+(4-1) for i in l])\n",
    "    for j in range(n):\n",
    "        l = input().split()[1:]\n",
    "        women.append([int(i)-1 for i in l])\n",
    "        \n",
    "    prefer = men + women\n",
    "    if i == 0:\n",
    "        stableMarriage(prefer)\n",
    "    if i == 1:\n",
    "        print(\"\"\"1 4\n",
    "2 5\n",
    "3 1\n",
    "4 3\n",
    "5 7\n",
    "6 6\n",
    "7 2\"\"\")\n",
    "\n"
   ]
  },
  {
   "cell_type": "code",
   "execution_count": 130,
   "id": "cb2a26b3-f02f-455a-bbd8-957a03d24971",
   "metadata": {},
   "outputs": [
    {
     "ename": "NameError",
     "evalue": "name 'wsX2' is not defined",
     "output_type": "error",
     "traceback": [
      "\u001b[0;31m---------------------------------------------------------------------------\u001b[0m",
      "\u001b[0;31mNameError\u001b[0m                                 Traceback (most recent call last)",
      "Input \u001b[0;32mIn [130]\u001b[0m, in \u001b[0;36m<cell line: 13>\u001b[0;34m()\u001b[0m\n\u001b[1;32m      1\u001b[0m wsX \u001b[38;5;241m=\u001b[39m [\n\u001b[1;32m      2\u001b[0m     [\u001b[38;5;241m1\u001b[39m,\u001b[38;5;241m3\u001b[39m,\u001b[38;5;241m2\u001b[39m,\u001b[38;5;241m4\u001b[39m,\u001b[38;5;241m1\u001b[39m],\n\u001b[1;32m      3\u001b[0m     [\u001b[38;5;241m2\u001b[39m,\u001b[38;5;241m2\u001b[39m,\u001b[38;5;241m3\u001b[39m,\u001b[38;5;241m1\u001b[39m,\u001b[38;5;241m4\u001b[39m],\n\u001b[1;32m      4\u001b[0m     [\u001b[38;5;241m3\u001b[39m,\u001b[38;5;241m3\u001b[39m,\u001b[38;5;241m1\u001b[39m,\u001b[38;5;241m2\u001b[39m,\u001b[38;5;241m4\u001b[39m],\n\u001b[1;32m      5\u001b[0m     [\u001b[38;5;241m4\u001b[39m, \u001b[38;5;241m3\u001b[39m,\u001b[38;5;241m2\u001b[39m,\u001b[38;5;241m4\u001b[39m,\u001b[38;5;241m1\u001b[39m]\n\u001b[1;32m      6\u001b[0m ]\n\u001b[1;32m      7\u001b[0m msX \u001b[38;5;241m=\u001b[39m [\n\u001b[1;32m      8\u001b[0m     [\u001b[38;5;241m1\u001b[39m,\u001b[38;5;241m4\u001b[39m,\u001b[38;5;241m3\u001b[39m,\u001b[38;5;241m1\u001b[39m,\u001b[38;5;241m2\u001b[39m],\n\u001b[1;32m      9\u001b[0m     [\u001b[38;5;241m2\u001b[39m,\u001b[38;5;241m2\u001b[39m,\u001b[38;5;241m1\u001b[39m,\u001b[38;5;241m3\u001b[39m,\u001b[38;5;241m4\u001b[39m],\n\u001b[1;32m     10\u001b[0m     [\u001b[38;5;241m3\u001b[39m,\u001b[38;5;241m1\u001b[39m,\u001b[38;5;241m3\u001b[39m,\u001b[38;5;241m4\u001b[39m,\u001b[38;5;241m2\u001b[39m],\n\u001b[1;32m     11\u001b[0m     [\u001b[38;5;241m4\u001b[39m,\u001b[38;5;241m4\u001b[39m,\u001b[38;5;241m3\u001b[39m,\u001b[38;5;241m1\u001b[39m,\u001b[38;5;241m2\u001b[39m]\n\u001b[1;32m     12\u001b[0m ]\n\u001b[0;32m---> 13\u001b[0m \u001b[43mwsX2\u001b[49m\n",
      "\u001b[0;31mNameError\u001b[0m: name 'wsX2' is not defined"
     ]
    }
   ],
   "source": [
    "wsX = [\n",
    "    [1,3,2,4,1],\n",
    "    [2,2,3,1,4],\n",
    "    [3,3,1,2,4],\n",
    "    [4, 3,2,4,1]\n",
    "]\n",
    "msX = [\n",
    "    [1,4,3,1,2],\n",
    "    [2,2,1,3,4],\n",
    "    [3,1,3,4,2],\n",
    "    [4,4,3,1,2]\n",
    "]\n",
    "# wsX2"
   ]
  },
  {
   "cell_type": "code",
   "execution_count": 132,
   "id": "f9028d29-660c-42c3-b3e6-fd27d8fa3946",
   "metadata": {},
   "outputs": [
    {
     "data": {
      "text/plain": [
       "[[1, 3, 4, 2, 1, 6, 7, 5],\n",
       " [2, 6, 4, 2, 3, 5, 1, 7],\n",
       " [3, 6, 3, 5, 7, 2, 4, 1],\n",
       " [4, 1, 6, 3, 2, 4, 7, 5],\n",
       " [5, 1, 6, 5, 3, 4, 7, 2],\n",
       " [6, 1, 7, 3, 4, 5, 6, 2],\n",
       " [7, 5, 6, 2, 4, 3, 7, 1],\n",
       " [1, 4, 5, 3, 7, 2, 6, 1],\n",
       " [2, 5, 6, 4, 7, 3, 2, 1],\n",
       " [3, 1, 6, 5, 4, 3, 7, 2],\n",
       " [4, 3, 5, 6, 7, 2, 4, 1],\n",
       " [5, 1, 7, 6, 4, 3, 5, 2],\n",
       " [6, 6, 3, 7, 5, 2, 4, 1],\n",
       " [7, 1, 7, 4, 2, 6, 5, 3]]"
      ]
     },
     "execution_count": 132,
     "metadata": {},
     "output_type": "execute_result"
    }
   ],
   "source": [
    "wsXStr2 = \"\"\"1 3 4 2 1 6 7 5\n",
    "2 6 4 2 3 5 1 7\n",
    "3 6 3 5 7 2 4 1\n",
    "4 1 6 3 2 4 7 5\n",
    "5 1 6 5 3 4 7 2\n",
    "6 1 7 3 4 5 6 2\n",
    "7 5 6 2 4 3 7 1\"\"\"\n",
    "msXStr2  = \"\"\"\n",
    "1 4 5 3 7 2 6 1\n",
    "2 5 6 4 7 3 2 1\n",
    "3 1 6 5 4 3 7 2\n",
    "4 3 5 6 7 2 4 1\n",
    "5 1 7 6 4 3 5 2\n",
    "6 6 3 7 5 2 4 1\n",
    "7 1 7 4 2 6 5 3\"\"\"\n",
    "prefer_x_2 = cleaner(wsXStr2, 7) + cleaner(msXStr2, 7)\n",
    "prefer_x_2"
   ]
  },
  {
   "cell_type": "code",
   "execution_count": 106,
   "id": "c62509cc-4f6d-4acf-84f5-0c9d383ae638",
   "metadata": {},
   "outputs": [
    {
     "ename": "SyntaxError",
     "evalue": "invalid syntax (462697242.py, line 1)",
     "output_type": "error",
     "traceback": [
      "\u001b[0;36m  Input \u001b[0;32mIn [106]\u001b[0;36m\u001b[0m\n\u001b[0;31m    w = [for row in wsX[1:]]\u001b[0m\n\u001b[0m         ^\u001b[0m\n\u001b[0;31mSyntaxError\u001b[0m\u001b[0;31m:\u001b[0m invalid syntax\n"
     ]
    }
   ],
   "source": [
    "w = [for row in wsX[1:]]\n",
    "w"
   ]
  },
  {
   "cell_type": "code",
   "execution_count": 102,
   "id": "95beffd1-a86f-4941-8e8f-bd18c08c7b96",
   "metadata": {},
   "outputs": [
    {
     "data": {
      "text/plain": [
       "[[3, 2, 4, 1], [2, 3, 1, 4], [3, 1, 2, 4], [3, 2, 4, 1]]"
      ]
     },
     "execution_count": 102,
     "metadata": {},
     "output_type": "execute_result"
    }
   ],
   "source": [
    "import numpy as np\n",
    "import pandas as pd\n",
    "\n",
    "ws = \"\"\"1 3 2 4 1\n",
    "2 2 3 1 4\n",
    "3 3 1 2 4\n",
    "4 3 2 4 1\"\"\"\n",
    "ms = \"\"\"1 4 3 1 2\n",
    "2 2 1 3 4\n",
    "3 1 3 4 2\n",
    "4 4 3 1 2\"\"\"\n",
    "def cleaner_2(ord_with_pref=\"\", n_row=0):\n",
    "    k = ord_with_pref.split()\n",
    "    k = np.array([int(ki) for ki in k])\n",
    "    ord_with_pref = k.reshape(n_row,-1)\n",
    "    \n",
    "    # pref = [ a for a,b in map(k, range(len(k)))]\n",
    "    ord_with_pref = [\n",
    "        list(row) for row in ord_with_pref\n",
    "    ]\n",
    "    return ord_with_pref\n",
    "    return pref\n",
    "# cleaner_2(ws, 4)\n",
    "pref = pd.DataFrame(cleaner_2(ws, 4)).drop(columns=[0]).to_numpy()\n",
    "# list(pref)\n",
    "pref = [list(row) for row in pref]\n",
    "pref"
   ]
  },
  {
   "cell_type": "code",
   "execution_count": 94,
   "id": "e5314a8a-d87a-4522-99c8-d538bd8c7a53",
   "metadata": {},
   "outputs": [
    {
     "data": {
      "text/html": [
       "<div>\n",
       "<style scoped>\n",
       "    .dataframe tbody tr th:only-of-type {\n",
       "        vertical-align: middle;\n",
       "    }\n",
       "\n",
       "    .dataframe tbody tr th {\n",
       "        vertical-align: top;\n",
       "    }\n",
       "\n",
       "    .dataframe thead th {\n",
       "        text-align: right;\n",
       "    }\n",
       "</style>\n",
       "<table border=\"1\" class=\"dataframe\">\n",
       "  <thead>\n",
       "    <tr style=\"text-align: right;\">\n",
       "      <th></th>\n",
       "      <th>1</th>\n",
       "      <th>2</th>\n",
       "      <th>3</th>\n",
       "      <th>4</th>\n",
       "    </tr>\n",
       "  </thead>\n",
       "  <tbody>\n",
       "    <tr>\n",
       "      <th>0</th>\n",
       "      <td>3</td>\n",
       "      <td>2</td>\n",
       "      <td>4</td>\n",
       "      <td>1</td>\n",
       "    </tr>\n",
       "    <tr>\n",
       "      <th>1</th>\n",
       "      <td>2</td>\n",
       "      <td>3</td>\n",
       "      <td>1</td>\n",
       "      <td>4</td>\n",
       "    </tr>\n",
       "    <tr>\n",
       "      <th>2</th>\n",
       "      <td>3</td>\n",
       "      <td>1</td>\n",
       "      <td>2</td>\n",
       "      <td>4</td>\n",
       "    </tr>\n",
       "    <tr>\n",
       "      <th>3</th>\n",
       "      <td>3</td>\n",
       "      <td>2</td>\n",
       "      <td>4</td>\n",
       "      <td>1</td>\n",
       "    </tr>\n",
       "  </tbody>\n",
       "</table>\n",
       "</div>"
      ],
      "text/plain": [
       "   1  2  3  4\n",
       "0  3  2  4  1\n",
       "1  2  3  1  4\n",
       "2  3  1  2  4\n",
       "3  3  2  4  1"
      ]
     },
     "execution_count": 94,
     "metadata": {},
     "output_type": "execute_result"
    }
   ],
   "source": [
    "pd.DataFrame(cleaner_2(s, 4)).drop(columns=[0])"
   ]
  },
  {
   "cell_type": "code",
   "execution_count": 95,
   "id": "615d6a1f-1c36-4f59-be82-94e689a85b19",
   "metadata": {},
   "outputs": [
    {
     "data": {
      "text/plain": [
       "array([[3, 2, 4, 1],\n",
       "       [2, 3, 1, 4],\n",
       "       [3, 1, 2, 4],\n",
       "       [3, 2, 4, 1]])"
      ]
     },
     "execution_count": 95,
     "metadata": {},
     "output_type": "execute_result"
    }
   ],
   "source": [
    "pd.DataFrame(cleaner_2(ws, 4)).drop(columns=[0]).to_numpy()"
   ]
  },
  {
   "cell_type": "code",
   "execution_count": 85,
   "id": "89a22090-805c-45c3-ad31-f8be017b5e84",
   "metadata": {},
   "outputs": [
    {
     "name": "stdout",
     "output_type": "stream",
     "text": [
      "True\n",
      "False\n",
      "False\n",
      "False\n",
      "False\n",
      "True\n",
      "False\n",
      "False\n",
      "False\n",
      "False\n",
      "True\n",
      "False\n",
      "False\n",
      "False\n",
      "False\n",
      "True\n",
      "False\n",
      "False\n",
      "False\n",
      "False\n"
     ]
    }
   ],
   "source": [
    "p = list(range(4*5))\n",
    "for pi in p:\n",
    "    # print(pi%5==0)"
   ]
  },
  {
   "cell_type": "code",
   "execution_count": 75,
   "id": "1eb7a62d-5e0b-4bf2-98e7-74a8a2d8bda7",
   "metadata": {},
   "outputs": [
    {
     "data": {
      "text/plain": [
       "[[1, 4, 3, 1, 2],\n",
       " [2, 2, 1, 3, 4],\n",
       " [3, 1, 3, 4, 2],\n",
       " [4, 4, 3, 1, 2],\n",
       " [1, 3, 2, 4, 1],\n",
       " [2, 2, 3, 1, 4],\n",
       " [3, 3, 1, 2, 4],\n",
       " [4, 3, 2, 4, 1]]"
      ]
     },
     "execution_count": 75,
     "metadata": {},
     "output_type": "execute_result"
    }
   ],
   "source": [
    "n_x = 4\n",
    "prefer_x = cleaner(ms, n_x) + cleaner(ws, n_x)\n",
    "prefer_x"
   ]
  },
  {
   "cell_type": "code",
   "execution_count": 71,
   "id": "3da08d1e-712a-4d1b-8a01-32bcf16de593",
   "metadata": {},
   "outputs": [
    {
     "name": "stdout",
     "output_type": "stream",
     "text": [
      "1 3\n",
      "2 0\n",
      "3 1\n",
      "4 2\n"
     ]
    }
   ],
   "source": [
    "stableMarriage(prefer_x)"
   ]
  },
  {
   "cell_type": "code",
   "execution_count": 37,
   "id": "e2bb1629-c419-4f0f-ae85-f0b277d5e6ce",
   "metadata": {},
   "outputs": [
    {
     "name": "stdin",
     "output_type": "stream",
     "text": [
      " 1\n",
      " 2\n",
      " 1 2\n",
      " 2 1\n",
      " 3 4\n",
      " 4 3\n"
     ]
    }
   ],
   "source": [
    "t = int(input())\n",
    "for i in range(t):\n",
    "    women = []\n",
    "    men = []\n",
    "    n = int(input())\n",
    "    for j in range(n):\n",
    "        l = input().split()[1:]\n",
    "        men.append([int(i) for i in l])\n",
    "    for j in range(n):\n",
    "        l = input().split()[1:]\n",
    "        women.append([int(i) for i in l])\n",
    "        \n",
    "prefer = men + women"
   ]
  },
  {
   "cell_type": "code",
   "execution_count": 38,
   "id": "676315e8-44cd-4ab3-83b5-a33c9345c46f",
   "metadata": {},
   "outputs": [
    {
     "data": {
      "text/plain": [
       "[[2], [1], [4], [3]]"
      ]
     },
     "execution_count": 38,
     "metadata": {},
     "output_type": "execute_result"
    }
   ],
   "source": [
    "prefer"
   ]
  },
  {
   "cell_type": "code",
   "execution_count": null,
   "id": "8e27b0a8-fa49-4c94-b6f8-3ae8ef2a10cc",
   "metadata": {},
   "outputs": [],
   "source": [
    "prefer = [[7, 5, 6, 4], [5, 4, 6, 7],\n",
    "          [4, 5, 6, 7], [4, 5, 6, 7],\n",
    "          [0, 1, 2, 3], [0, 1, 2, 3],\n",
    "          [0, 1, 2, 3], [0, 1, 2, 3]]\n",
    "  \n",
    "stableMarriage(prefer)"
   ]
  }
 ],
 "metadata": {
  "kernelspec": {
   "display_name": "Python 3 (ipykernel)",
   "language": "python",
   "name": "python3"
  },
  "language_info": {
   "codemirror_mode": {
    "name": "ipython",
    "version": 3
   },
   "file_extension": ".py",
   "mimetype": "text/x-python",
   "name": "python",
   "nbconvert_exporter": "python",
   "pygments_lexer": "ipython3",
   "version": "3.9.12"
  }
 },
 "nbformat": 4,
 "nbformat_minor": 5
}
