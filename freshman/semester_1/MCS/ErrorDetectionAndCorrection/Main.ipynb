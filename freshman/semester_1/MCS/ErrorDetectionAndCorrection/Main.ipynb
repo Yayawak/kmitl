{
 "cells": [
  {
   "cell_type": "raw",
   "id": "c7d4fa9d-0d74-444d-85e2-ce93036c2a5f",
   "metadata": {},
   "source": [
    "Frequency\n",
    "\n",
    "1 3 7 10 21\n",
    "a b c d  e \n",
    "\n",
    "4   7 10 21\n",
    "   11 10 21\n",
    "     21  21\n",
    "        42"
   ]
  },
  {
   "cell_type": "markdown",
   "id": "18115df1-3fc9-4204-a872-07b585ca4a50",
   "metadata": {},
   "source": [
    "$$\n",
    "\\text{Error recorrection}\n",
    "$$"
   ]
  },
  {
   "cell_type": "code",
   "execution_count": null,
   "id": "6a1f154d-e5b0-4ee7-86a7-83683c0eda6d",
   "metadata": {},
   "outputs": [],
   "source": []
  }
 ],
 "metadata": {
  "kernelspec": {
   "display_name": "Python 3 (ipykernel)",
   "language": "python",
   "name": "python3"
  },
  "language_info": {
   "codemirror_mode": {
    "name": "ipython",
    "version": 3
   },
   "file_extension": ".py",
   "mimetype": "text/x-python",
   "name": "python",
   "nbconvert_exporter": "python",
   "pygments_lexer": "ipython3",
   "version": "3.9.13"
  }
 },
 "nbformat": 4,
 "nbformat_minor": 5
}
