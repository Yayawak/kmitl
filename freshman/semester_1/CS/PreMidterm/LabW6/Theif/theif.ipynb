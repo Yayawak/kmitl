{
 "cells": [
  {
   "cell_type": "code",
   "execution_count": 2,
   "id": "7e100611-e336-4093-8813-de3ac57880fb",
   "metadata": {},
   "outputs": [],
   "source": [
    "import numpy as np\n",
    "import matplotlib.pyplot as plt\n",
    "import pandas as pd"
   ]
  },
  {
   "cell_type": "code",
   "execution_count": 6,
   "id": "e664d789-6ca6-4858-942f-4a59017f2e18",
   "metadata": {},
   "outputs": [
    {
     "data": {
      "text/plain": [
       "[(1, 2, 20), (2, 10, 50), (3, 5, 30), (4, 5, 10)]"
      ]
     },
     "execution_count": 6,
     "metadata": {},
     "output_type": "execute_result"
    }
   ],
   "source": [
    "# arr = numpy.array([\n",
    "    \n",
    "# ])\n",
    "item = [1,2,3,4]\n",
    "weight = [2,10,5,5]\n",
    "value = [20,50,30,10]\n",
    "arr = list(zip(item, weight, value))\n",
    "\n",
    "C = 16\n",
    "\n",
    "arr"
   ]
  },
  {
   "cell_type": "code",
   "execution_count": 14,
   "id": "4263d8f4-f6ca-4c80-a9f6-57579c39e097",
   "metadata": {},
   "outputs": [
    {
     "name": "stdout",
     "output_type": "stream",
     "text": [
      "(1, 2, 20)\n",
      "(1, 20, 2)\n",
      "(2, 1, 20)\n",
      "(2, 20, 1)\n",
      "(20, 1, 2)\n",
      "(20, 2, 1)\n"
     ]
    }
   ],
   "source": [
    "# from itertools import permutations\n",
    "from itertools import permutations\n",
    "# for x in arr:\n",
    "    # perm = permutations(x)\n",
    "    # print(x)\n",
    " \n",
    "for p in permutations(arr[0]):\n",
    "    print(p)\n",
    "# permutations"
   ]
  },
  {
   "cell_type": "code",
   "execution_count": null,
   "id": "71f69c0d-a982-4b21-87cd-1b60c0cc9ecb",
   "metadata": {},
   "outputs": [],
   "source": []
  }
 ],
 "metadata": {
  "kernelspec": {
   "display_name": "Python 3 (ipykernel)",
   "language": "python",
   "name": "python3"
  },
  "language_info": {
   "codemirror_mode": {
    "name": "ipython",
    "version": 3
   },
   "file_extension": ".py",
   "mimetype": "text/x-python",
   "name": "python",
   "nbconvert_exporter": "python",
   "pygments_lexer": "ipython3",
   "version": "3.9.12"
  }
 },
 "nbformat": 4,
 "nbformat_minor": 5
}
