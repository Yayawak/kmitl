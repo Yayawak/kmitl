{
 "cells": [
  {
   "cell_type": "code",
   "execution_count": 1,
   "id": "ccd7b99f-6272-4a3e-afb9-9c9af667e932",
   "metadata": {},
   "outputs": [],
   "source": [
    "import numpy as np"
   ]
  },
  {
   "cell_type": "code",
   "execution_count": 2,
   "id": "cb76e35c-6f7f-46e1-95e3-6b1eaeefb7a2",
   "metadata": {},
   "outputs": [
    {
     "data": {
      "text/plain": [
       "array([[0, 1, 1, 0, 1, 1],\n",
       "       [1, 1, 1, 1, 1, 0],\n",
       "       [0, 1, 0, 0, 0, 0],\n",
       "       [0, 1, 0, 1, 1, 0],\n",
       "       [0, 1, 1, 1, 1, 0],\n",
       "       [1, 0, 1, 0, 1, 1]])"
      ]
     },
     "execution_count": 2,
     "metadata": {},
     "output_type": "execute_result"
    }
   ],
   "source": [
    "n_city = 6\n",
    "np.random.seed(0)\n",
    "maze = np.random.choice([0,1], size=[n_city, n_city])\n",
    "maze"
   ]
  },
  {
   "cell_type": "code",
   "execution_count": 3,
   "id": "76a12841-9855-48e3-930d-dce6b3c122ae",
   "metadata": {},
   "outputs": [
    {
     "data": {
      "text/plain": [
       "97"
      ]
     },
     "execution_count": 3,
     "metadata": {},
     "output_type": "execute_result"
    }
   ],
   "source": [
    "ord('a')"
   ]
  },
  {
   "cell_type": "code",
   "execution_count": 4,
   "id": "9612521d-92df-40f3-ad43-e9f994ed4e4e",
   "metadata": {},
   "outputs": [
    {
     "data": {
      "text/plain": [
       "'a'"
      ]
     },
     "execution_count": 4,
     "metadata": {},
     "output_type": "execute_result"
    }
   ],
   "source": [
    "chr(97)"
   ]
  },
  {
   "cell_type": "code",
   "execution_count": 5,
   "id": "ebea7b8e-7b35-4c5c-a740-aa1c61b3a19d",
   "metadata": {},
   "outputs": [
    {
     "name": "stdout",
     "output_type": "stream",
     "text": [
      "[97, 98, 99, 100, 101, 102, 103, 104, 105, 106, 107, 108, 109, 110, 111, 112, 113, 114, 115, 116, 117, 118, 119, 120, 121, 122]\n"
     ]
    }
   ],
   "source": [
    "# list(range(ord('a') + 26))\n",
    "print(list(range(ord('a'), ord('a') + 26)))"
   ]
  },
  {
   "cell_type": "code",
   "execution_count": 6,
   "id": "96ee7cd3-e1f1-4262-a08a-1d178623699e",
   "metadata": {},
   "outputs": [
    {
     "name": "stdout",
     "output_type": "stream",
     "text": [
      "['a', 'b', 'c', 'd', 'e', 'f', 'g', 'h', 'i', 'j', 'k', 'l', 'm', 'n', 'o', 'p', 'q', 'r', 's', 't', 'u', 'v', 'w', 'x', 'y', 'z']\n"
     ]
    }
   ],
   "source": [
    "alp = [chr(a) for a in range(ord('a'), ord('z') + 1)]\n",
    "# alp\n",
    "print(alp)"
   ]
  },
  {
   "cell_type": "code",
   "execution_count": 7,
   "id": "1b97ed2e-3eae-43a0-8e35-7cebfce89529",
   "metadata": {},
   "outputs": [
    {
     "data": {
      "text/plain": [
       "'a'"
      ]
     },
     "execution_count": 7,
     "metadata": {},
     "output_type": "execute_result"
    }
   ],
   "source": [
    "alp[0]"
   ]
  },
  {
   "cell_type": "code",
   "execution_count": 8,
   "id": "5bd7f5db-034f-4987-a678-779566c3e844",
   "metadata": {},
   "outputs": [],
   "source": [
    "# # dist_x_city_to_f = np.random.randint(0, 50, size=n_city)\n",
    "\n",
    "# _dist = np.random.randint(20, 50, size=n_city - 1)\n",
    "# # p = np.random.rand(len(_dist))\n",
    "# dist_x_city_to_f = np.random.choice([0, *_dist], size=n_city, \n",
    "#                                    # p=[]\n",
    "#                                    )\n",
    "# dist_x_city_to_f"
   ]
  },
  {
   "cell_type": "code",
   "execution_count": 9,
   "id": "a21d2a06-6c67-4ad2-b46b-c93cb26e85c8",
   "metadata": {},
   "outputs": [
    {
     "data": {
      "text/plain": [
       "array([[0, 1, 1, 0, 1, 1],\n",
       "       [1, 1, 1, 1, 1, 0],\n",
       "       [0, 1, 0, 0, 0, 0],\n",
       "       [0, 1, 0, 1, 1, 0],\n",
       "       [0, 1, 1, 1, 1, 0],\n",
       "       [1, 0, 1, 0, 1, 1]])"
      ]
     },
     "execution_count": 9,
     "metadata": {},
     "output_type": "execute_result"
    }
   ],
   "source": [
    "maze"
   ]
  },
  {
   "cell_type": "code",
   "execution_count": 10,
   "id": "8ea87463-16d4-4f2c-afc6-76aaba3153a7",
   "metadata": {},
   "outputs": [],
   "source": [
    "dist_x_city_to_f = []"
   ]
  },
  {
   "cell_type": "code",
   "execution_count": 11,
   "id": "342516bd-e163-4eae-a0b9-9db8edb46216",
   "metadata": {},
   "outputs": [
    {
     "data": {
      "text/plain": [
       "array([[ 0,  8,  0, 19],\n",
       "       [15,  0,  0, 32],\n",
       "       [ 0,  0,  0,  4],\n",
       "       [ 6, 55,  0,  0]])"
      ]
     },
     "execution_count": 11,
     "metadata": {},
     "output_type": "execute_result"
    }
   ],
   "source": [
    "# a -> d\n",
    "maze = [\n",
    "    [0, 1, 0, 1],\n",
    "    [1, 0, 0, 1],\n",
    "    [0, 0, 0, 1],\n",
    "    [1, 1, 0, 0]\n",
    "]\n",
    "\n",
    "maze = [\n",
    "    [0, 8, 0, 19],\n",
    "    [15, 0, 0, 32],\n",
    "    [0, 0, 0, 4],\n",
    "    [6, 55, 0, 0]\n",
    "]\n",
    "maze = np.array(maze)\n",
    "maze"
   ]
  },
  {
   "cell_type": "code",
   "execution_count": 12,
   "id": "652187c1-314d-4276-adeb-f5f1e3e2d63c",
   "metadata": {},
   "outputs": [],
   "source": [
    "displacement_to_d = [15, 30, 2, 0]"
   ]
  },
  {
   "cell_type": "code",
   "execution_count": 13,
   "id": "478612fd-2c13-468e-bf89-c2eece945e0f",
   "metadata": {},
   "outputs": [],
   "source": [
    "\n",
    "def f(g, h):\n",
    "    return 5"
   ]
  },
  {
   "cell_type": "code",
   "execution_count": 14,
   "id": "8cf0f777-118e-4af8-a77c-4f0baca8a8b1",
   "metadata": {},
   "outputs": [],
   "source": [
    "# def search():\n",
    "    "
   ]
  },
  {
   "cell_type": "code",
   "execution_count": 15,
   "id": "728650ef-5cd7-4f93-a9b6-f3780f255b9f",
   "metadata": {},
   "outputs": [
    {
     "name": "stdout",
     "output_type": "stream",
     "text": [
      "Requirement already satisfied: pygame in /Users/rio/opt/anaconda3/lib/python3.9/site-packages (2.1.2)\n"
     ]
    }
   ],
   "source": [
    "!python3 -m pip install -U pygame"
   ]
  },
  {
   "cell_type": "code",
   "execution_count": 16,
   "id": "e007ba65-1aa7-450b-b879-fa4d33d02eae",
   "metadata": {},
   "outputs": [],
   "source": [
    "import heapq"
   ]
  },
  {
   "cell_type": "code",
   "execution_count": 17,
   "id": "557714a4-9e06-4e27-930e-902b8a84d3a2",
   "metadata": {},
   "outputs": [],
   "source": [
    "grid = np.array([\n",
    "\n",
    "    [0, 0, 0, 0, 0, 0, 1, 1, 1, 0, 0, 0, 0, 0, 0, 0, 0, 0, 0, 0],\n",
    "\n",
    "    [0, 0, 0, 0, 0, 0, 1, 1, 1, 0, 0, 0, 0, 0, 0, 0, 0, 0, 0, 0],\n",
    "\n",
    "    [0, 0, 0, 0, 0, 0, 1, 0, 1, 0, 0, 0, 0, 0, 0, 0, 0, 0, 0, 0],\n",
    "\n",
    "    [0, 0, 0, 0, 0, 0, 0, 0, 1, 0, 0, 0, 0, 0, 0, 0, 0, 0, 0, 0],\n",
    "\n",
    "    [0, 0, 0, 0, 0, 0, 0, 0, 1, 0, 0, 0, 0, 0, 0, 0, 0, 0, 0, 0],\n",
    "\n",
    "    [0, 0, 0, 1, 1, 1, 0, 0, 1, 0, 0, 0, 0, 0, 0, 0, 0, 0, 0, 0],\n",
    "\n",
    "    [0, 0, 0, 0, 0, 0, 0, 0, 1, 0, 0, 0, 0, 1, 1, 1, 1, 1, 0, 1],\n",
    "\n",
    "    [0, 0, 0, 0, 0, 0, 0, 0, 1, 0, 0, 0, 0, 1, 1, 1, 0, 0, 0, 0],\n",
    "\n",
    "    [0, 0, 0, 0, 0, 0, 0, 0, 1, 0, 0, 0, 0, 1, 1, 1, 0, 0, 0, 0],\n",
    "\n",
    "    [0, 0, 0, 0, 0, 0, 0, 0, 1, 1, 1, 1, 1, 1, 0, 0, 0, 0, 0, 0],\n",
    "\n",
    "    [0, 0, 0, 0, 0, 0, 0, 0, 1, 0, 0, 0, 0, 0, 0, 0, 0, 0, 0, 0],\n",
    "\n",
    "    [1, 1, 1, 1, 1, 0, 0, 0, 1, 0, 0, 0, 0, 0, 0, 0, 1, 1, 1, 1],\n",
    "\n",
    "    [0, 0, 0, 0, 0, 0, 0, 0, 1, 0, 0, 1, 1, 1, 1, 1, 1, 1, 1, 0],\n",
    "\n",
    "    [0, 0, 0, 0, 0, 0, 0, 0, 1, 0, 0, 0, 0, 0, 0, 0, 0, 0, 0, 0],\n",
    "\n",
    "    [0, 0, 0, 0, 0, 0, 0, 0, 1, 1, 1, 1, 1, 1, 0, 1, 1, 1, 0, 0],\n",
    "\n",
    "    [0, 0, 1, 1, 1, 1, 1, 1, 1, 0, 0, 0, 0, 1, 0, 0, 0, 0, 0, 0],\n",
    "\n",
    "    [0, 0, 1, 0, 0, 0, 0, 0, 0, 0, 0, 0, 0, 1, 0, 0, 0, 0, 0, 0],\n",
    "\n",
    "    [0, 0, 1, 0, 0, 0, 0, 0, 0, 0, 0, 0, 0, 0, 0, 0, 0, 0, 0, 0],\n",
    "\n",
    "    [0, 0, 0, 0, 0, 0, 0, 0, 0, 0, 0, 0, 0, 1, 0, 0, 0, 0, 0, 0],\n",
    "\n",
    "    [0, 0, 0, 0, 0, 0, 0, 0, 0, 0, 0, 0, 0, 0, 0, 0, 0, 0, 0, 0]])\n",
    " "
   ]
  },
  {
   "cell_type": "code",
   "execution_count": 99,
   "id": "721b599f-f7ef-4c1a-8900-6ade867d81c4",
   "metadata": {},
   "outputs": [
    {
     "data": {
      "text/plain": [
       "array([[0, 0, 0, 0, 0, 0, 1, 1, 1, 0, 0, 0, 0, 0, 0, 0, 0, 0, 0, 0],\n",
       "       [0, 0, 0, 0, 0, 0, 1, 1, 1, 0, 0, 0, 0, 0, 0, 0, 0, 0, 0, 0],\n",
       "       [0, 0, 0, 0, 0, 0, 1, 0, 1, 0, 0, 0, 0, 0, 0, 0, 0, 0, 0, 0],\n",
       "       [0, 0, 0, 0, 0, 0, 0, 0, 1, 0, 0, 0, 0, 0, 0, 0, 0, 0, 0, 0],\n",
       "       [0, 0, 0, 0, 0, 0, 0, 0, 1, 0, 0, 0, 0, 0, 0, 0, 0, 0, 0, 0],\n",
       "       [0, 0, 0, 1, 1, 1, 0, 0, 1, 0, 0, 0, 0, 0, 0, 0, 0, 0, 0, 0],\n",
       "       [0, 0, 0, 0, 0, 0, 0, 0, 1, 0, 0, 0, 0, 1, 1, 1, 1, 1, 0, 1],\n",
       "       [0, 0, 0, 0, 0, 0, 0, 0, 1, 0, 0, 0, 0, 1, 1, 1, 0, 0, 0, 0],\n",
       "       [0, 0, 0, 0, 0, 0, 0, 0, 1, 0, 0, 0, 0, 1, 1, 1, 0, 0, 0, 0],\n",
       "       [0, 0, 0, 0, 0, 0, 0, 0, 1, 1, 1, 1, 1, 1, 0, 0, 0, 0, 0, 0],\n",
       "       [0, 0, 0, 0, 0, 0, 0, 0, 1, 0, 0, 0, 0, 0, 0, 0, 0, 0, 0, 0],\n",
       "       [1, 1, 1, 1, 1, 0, 0, 0, 1, 0, 0, 0, 0, 0, 0, 0, 1, 1, 1, 1],\n",
       "       [0, 0, 0, 0, 0, 0, 0, 0, 1, 0, 0, 1, 1, 1, 1, 1, 1, 1, 1, 0],\n",
       "       [0, 0, 0, 0, 0, 0, 0, 0, 1, 0, 0, 0, 0, 0, 0, 0, 0, 0, 0, 0],\n",
       "       [0, 0, 0, 0, 0, 0, 0, 0, 1, 1, 1, 1, 1, 1, 0, 1, 1, 1, 0, 0],\n",
       "       [0, 0, 1, 1, 1, 1, 1, 1, 1, 0, 0, 0, 0, 1, 0, 0, 0, 0, 0, 0],\n",
       "       [0, 0, 1, 0, 0, 0, 0, 0, 0, 0, 0, 0, 0, 1, 0, 0, 0, 0, 0, 0],\n",
       "       [0, 0, 1, 0, 0, 0, 0, 0, 0, 0, 0, 0, 0, 0, 0, 0, 0, 0, 0, 0],\n",
       "       [0, 0, 0, 0, 0, 0, 0, 0, 0, 0, 0, 0, 0, 1, 0, 0, 0, 0, 0, 0],\n",
       "       [0, 0, 0, 0, 0, 0, 0, 0, 0, 0, 0, 0, 0, 0, 0, 0, 0, 0, 0, 0]])"
      ]
     },
     "execution_count": 99,
     "metadata": {},
     "output_type": "execute_result"
    }
   ],
   "source": [
    "grid"
   ]
  },
  {
   "cell_type": "code",
   "execution_count": 18,
   "id": "8872a00b-734a-4668-975d-06a6a06952a3",
   "metadata": {},
   "outputs": [],
   "source": [
    "start = (0, 0)\n",
    "goal = (0, 19)"
   ]
  },
  {
   "cell_type": "code",
   "execution_count": 19,
   "id": "7c7c5edc-92c2-4198-b7f5-f9ce5f6f4749",
   "metadata": {},
   "outputs": [],
   "source": [
    "import matplotlib.pyplot as plt"
   ]
  },
  {
   "cell_type": "code",
   "execution_count": 20,
   "id": "df5ab285-08df-41bb-aeed-5e4172ba5acb",
   "metadata": {},
   "outputs": [
    {
     "data": {
      "image/png": "[encoded data removed]",
      "text/plain": [
       "<Figure size 1200x1200 with 1 Axes>"
      ]
     },
     "metadata": {},
     "output_type": "display_data"
    }
   ],
   "source": [
    "fig, ax = plt.subplots(figsize=(12, 12))\n",
    "# ax.imshow(grid)\n",
    "ax.imshow(grid, cmap=plt.cm.tab10_r)\n",
    "ax.scatter(goal[1], goal[0], \n",
    "          marker='*', color='r', s=500)\n",
    "ax.scatter(start[1], start[0], \n",
    "          marker='*', color='yellow', s=500)\n",
    "plt.show()"
   ]
  },
  {
   "cell_type": "code",
   "execution_count": 21,
   "id": "86ab3f38-1753-46d6-9275-2b76e830ae87",
   "metadata": {},
   "outputs": [],
   "source": [
    "def heuristic(a, b):\n",
    "    return np.sqrt((b[0] - a[0])**2\n",
    "                  +\n",
    "                  (b[1] - a[1])**2\n",
    ")"
   ]
  },
  {
   "cell_type": "code",
   "execution_count": 22,
   "id": "925c3125-7588-4681-9ace-2b5019ce9240",
   "metadata": {},
   "outputs": [
    {
     "data": {
      "text/plain": [
       "13.416407864998739"
      ]
     },
     "execution_count": 22,
     "metadata": {},
     "output_type": "execute_result"
    }
   ],
   "source": [
    "heuristic([6,7], goal)"
   ]
  },
  {
   "cell_type": "code",
   "execution_count": 131,
   "id": "b3f2b45d-b9f0-42e9-825f-a97747019b21",
   "metadata": {},
   "outputs": [],
   "source": [
    "def astar(array, start, goal):\n",
    "    neighbors = [(0,1), (0,-1), (1,0), (-1,0),\n",
    "                [1,1], (1,-1), (-1,1), (-1,-1)]\n",
    "    close_set = set()\n",
    "    \n",
    "    came_from = {}\n",
    "    \n",
    "    gscore = {start: 0}\n",
    "    fscore = {start: heuristic(start, goal)}\n",
    "    \n",
    "    oheap = []\n",
    "    heapq.heappush(oheap, (fscore[start], start))"
   ]
  },
  {
   "cell_type": "code",
   "execution_count": 143,
   "id": "a2de74c4-2d03-4038-b7ef-8ff79b7d628f",
   "metadata": {},
   "outputs": [
    {
     "data": {
      "text/plain": [
       "99"
      ]
     },
     "execution_count": 143,
     "metadata": {},
     "output_type": "execute_result"
    }
   ],
   "source": [
    "heapq.heappush([5], 5)\n",
    "heapq.heappop([99, 5, 9, 11, -1])\n",
    "# heapq.heappushpop()"
   ]
  },
  {
   "cell_type": "code",
   "execution_count": 130,
   "id": "1fd8631a-7a92-4924-8077-df906833fadd",
   "metadata": {},
   "outputs": [
    {
     "data": {
      "text/plain": [
       "{(0, 0): 0}"
      ]
     },
     "execution_count": 130,
     "metadata": {},
     "output_type": "execute_result"
    }
   ],
   "source": [
    "# {[0,0]: 0}\n",
    "{(0,0): 0}"
   ]
  },
  {
   "cell_type": "code",
   "execution_count": null,
   "id": "8fa0f0a6-8019-4382-bffc-c43a16cf8ec6",
   "metadata": {},
   "outputs": [],
   "source": []
  }
 ],
 "metadata": {
  "kernelspec": {
   "display_name": "Python 3 (ipykernel)",
   "language": "python",
   "name": "python3"
  },
  "language_info": {
   "codemirror_mode": {
    "name": "ipython",
    "version": 3
   },
   "file_extension": ".py",
   "mimetype": "text/x-python",
   "name": "python",
   "nbconvert_exporter": "python",
   "pygments_lexer": "ipython3",
   "version": "3.9.13"
  }
 },
 "nbformat": 4,
 "nbformat_minor": 5
}
