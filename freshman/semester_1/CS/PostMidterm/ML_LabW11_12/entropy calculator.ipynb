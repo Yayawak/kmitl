{
 "cells": [
  {
   "cell_type": "code",
   "execution_count": 50,
   "id": "d8d52828-a3c6-415b-8781-bae3ff1fc839",
   "metadata": {},
   "outputs": [],
   "source": [
    "import math\n",
    "def partial_ent(p, q):\n",
    "    if 0 in [p, q]:\n",
    "        return 0\n",
    "    a = (p * (math.log(p)/math.log(2))) + (q * (math.log(q)/math.log(2)))\n",
    "    return round(-a, 4)"
   ]
  },
  {
   "cell_type": "code",
   "execution_count": 51,
   "id": "ff8853c3-e797-4cd0-8af2-3c22d80ab68b",
   "metadata": {},
   "outputs": [
    {
     "data": {
      "text/plain": [
       "0.9183"
      ]
     },
     "execution_count": 51,
     "metadata": {},
     "output_type": "execute_result"
    }
   ],
   "source": [
    "partial_ent(1/3, 2/3)"
   ]
  },
  {
   "cell_type": "code",
   "execution_count": 52,
   "id": "9f047d5c-ec74-4231-8389-842934729596",
   "metadata": {},
   "outputs": [
    {
     "data": {
      "text/plain": [
       "1.0"
      ]
     },
     "execution_count": 52,
     "metadata": {},
     "output_type": "execute_result"
    }
   ],
   "source": [
    "partial_ent(1/2, 1/2)"
   ]
  },
  {
   "cell_type": "code",
   "execution_count": 53,
   "id": "ad37263a-0836-4c7d-925e-87e17b170684",
   "metadata": {},
   "outputs": [
    {
     "data": {
      "text/plain": [
       "0"
      ]
     },
     "execution_count": 53,
     "metadata": {},
     "output_type": "execute_result"
    }
   ],
   "source": [
    "# partial_ent(3/3, 0/3)\n",
    "partial_ent(1, 0)"
   ]
  },
  {
   "cell_type": "code",
   "execution_count": 56,
   "id": "3df19de8-cced-40b4-8499-84ae6375e876",
   "metadata": {},
   "outputs": [],
   "source": [
    "def big_ent(partial_ents, prob):\n",
    "    big_sum = 0\n",
    "    for i in range(len(partial_ents)):\n",
    "        big_sum += prob[i] * partial_ents[i]\n",
    "    return big_sum"
   ]
  },
  {
   "cell_type": "code",
   "execution_count": 68,
   "id": "289e13f3-aab6-48a9-9607-67c99302f60b",
   "metadata": {},
   "outputs": [
    {
     "data": {
      "text/plain": [
       "0.5943625"
      ]
     },
     "execution_count": 68,
     "metadata": {},
     "output_type": "execute_result"
    }
   ],
   "source": [
    "# big_ent([5, 20, 3], [.5, .3, .3])\n",
    "big_ent([\n",
    "    partial_ent(1/3, 2/3),\n",
    "    partial_ent(3/3, 0/3),\n",
    "    partial_ent(1/2, 1/2),\n",
    "],\n",
    "       [3/8, 3/8, 2/8])"
   ]
  },
  {
   "cell_type": "code",
   "execution_count": 70,
   "id": "f353db9b-4e88-491c-96ae-81a8d6345823",
   "metadata": {},
   "outputs": [
    {
     "data": {
      "text/plain": [
       "0.5943625"
      ]
     },
     "execution_count": 70,
     "metadata": {},
     "output_type": "execute_result"
    }
   ],
   "source": [
    "def big_ent2(ent_and_probs):\n",
    "    big_sum = 0\n",
    "    for duo in ent_and_probs:\n",
    "        big_sum += duo[0] * duo[1]\n",
    "    return big_sum\n",
    "        \n",
    "big_ent2([\n",
    "    [partial_ent(1/3, 2/3), 3/8],\n",
    "    [partial_ent(3/3, 0/3), 3/8],\n",
    "    [partial_ent(1/2, 1/2), 2/8],\n",
    "]\n",
    ")"
   ]
  },
  {
   "cell_type": "code",
   "execution_count": 72,
   "id": "ad7312e1-f814-4291-adba-9bad033acc71",
   "metadata": {},
   "outputs": [
    {
     "data": {
      "text/plain": [
       "0.8113"
      ]
     },
     "execution_count": 72,
     "metadata": {},
     "output_type": "execute_result"
    }
   ],
   "source": [
    "partial_ent(3/4, 1/4)"
   ]
  },
  {
   "cell_type": "code",
   "execution_count": 73,
   "id": "44bf8b59-7964-4103-a037-0a3bd292a9d8",
   "metadata": {},
   "outputs": [
    {
     "data": {
      "text/plain": [
       "0.40565"
      ]
     },
     "execution_count": 73,
     "metadata": {},
     "output_type": "execute_result"
    }
   ],
   "source": [
    ".8113 / 2"
   ]
  },
  {
   "cell_type": "code",
   "execution_count": 74,
   "id": "75f658f4-05c5-4b55-9416-4f84baef38b3",
   "metadata": {},
   "outputs": [
    {
     "data": {
      "text/plain": [
       "0.8113"
      ]
     },
     "execution_count": 74,
     "metadata": {},
     "output_type": "execute_result"
    }
   ],
   "source": []
  },
  {
   "cell_type": "code",
   "execution_count": 82,
   "id": "8f17a0df-b65c-4092-8bfc-990173322b5e",
   "metadata": {},
   "outputs": [
    {
     "data": {
      "text/plain": [
       "(0.8113, 0.7219)"
      ]
     },
     "execution_count": 82,
     "metadata": {},
     "output_type": "execute_result"
    }
   ],
   "source": [
    "a1 = partial_ent(3/4, 1/4), partial_ent(1/5, 4/5)\n",
    "a1"
   ]
  },
  {
   "cell_type": "code",
   "execution_count": 84,
   "id": "6fadce02-0cb0-4cea-b1a1-55d7bb4dccb3",
   "metadata": {},
   "outputs": [],
   "source": [
    "pe = partial_ent"
   ]
  },
  {
   "cell_type": "code",
   "execution_count": 86,
   "id": "2b96b7ca-7a6f-41d4-af34-46bdd2fe8979",
   "metadata": {},
   "outputs": [
    {
     "data": {
      "text/plain": [
       "(0.971, 0.9183)"
      ]
     },
     "execution_count": 86,
     "metadata": {},
     "output_type": "execute_result"
    }
   ],
   "source": [
    "a2 = pe(2/5, 3/5), pe(2/3, 1/3)\n",
    "a2"
   ]
  },
  {
   "cell_type": "code",
   "execution_count": 87,
   "id": "9f883f11-6b70-48c6-ac53-8c8da49543bc",
   "metadata": {},
   "outputs": [
    {
     "data": {
      "text/plain": [
       "(1.0, 0.971)"
      ]
     },
     "execution_count": 87,
     "metadata": {},
     "output_type": "execute_result"
    }
   ],
   "source": [
    "a3 = pe(2/4, 2/4), pe(2/5, 3/5)\n",
    "a3"
   ]
  },
  {
   "cell_type": "code",
   "execution_count": 91,
   "id": "5dd61fcd-ae15-4ef3-94af-5ede647f9ba8",
   "metadata": {},
   "outputs": [
    {
     "data": {
      "text/plain": [
       "0.7616333333333334"
      ]
     },
     "execution_count": 91,
     "metadata": {},
     "output_type": "execute_result"
    }
   ],
   "source": [
    "big_ent(a1, [4/9, 5/9])"
   ]
  },
  {
   "cell_type": "code",
   "execution_count": 92,
   "id": "f06faf54-d22d-48d7-84d3-af7a6ad878c6",
   "metadata": {},
   "outputs": [
    {
     "data": {
      "text/plain": [
       "0.9475777777777779"
      ]
     },
     "execution_count": 92,
     "metadata": {},
     "output_type": "execute_result"
    }
   ],
   "source": [
    "big_ent(a2, [5/9, 4/9])"
   ]
  },
  {
   "cell_type": "code",
   "execution_count": 93,
   "id": "8aab3ce5-8222-4e1a-a8e9-c8f5d77d0fad",
   "metadata": {},
   "outputs": [
    {
     "data": {
      "text/plain": [
       "0.9838888888888889"
      ]
     },
     "execution_count": 93,
     "metadata": {},
     "output_type": "execute_result"
    }
   ],
   "source": [
    "big_ent(a3, [4/9, 5/9])"
   ]
  },
  {
   "cell_type": "code",
   "execution_count": 94,
   "id": "25f2ce20-cae4-4f3a-acb3-9ac6ea77a889",
   "metadata": {},
   "outputs": [],
   "source": [
    "import numpy as np"
   ]
  },
  {
   "cell_type": "code",
   "execution_count": 95,
   "id": "f7461428-6bff-463a-a436-5a2f699e2922",
   "metadata": {},
   "outputs": [],
   "source": [
    "import matplotlib.pyplot as plt"
   ]
  },
  {
   "cell_type": "code",
   "execution_count": 110,
   "id": "d73b451b-67e5-4f58-b49b-8b9718ec6bf0",
   "metadata": {},
   "outputs": [
    {
     "name": "stderr",
     "output_type": "stream",
     "text": [
      "/var/folders/tq/1dn18qvs46z75s3216p47sbm0000gn/T/ipykernel_2376/2471243550.py:2: RuntimeWarning: divide by zero encountered in log2\n",
      "  ent = - (p * np.log2(p))\n",
      "/var/folders/tq/1dn18qvs46z75s3216p47sbm0000gn/T/ipykernel_2376/2471243550.py:2: RuntimeWarning: invalid value encountered in multiply\n",
      "  ent = - (p * np.log2(p))\n"
     ]
    },
    {
     "data": {
      "image/png": "[encoded data removed]",
      "text/plain": [
       "<Figure size 640x480 with 1 Axes>"
      ]
     },
     "metadata": {},
     "output_type": "display_data"
    }
   ],
   "source": [
    "p = np.linspace(0, 1, 100)\n",
    "ent = - (p * np.log2(p))\n",
    "\n",
    "plt.plot(p, ent)\n",
    "plt.show()"
   ]
  },
  {
   "cell_type": "code",
   "execution_count": null,
   "id": "859723bd-8fbf-441b-b83a-c1d733e3db03",
   "metadata": {},
   "outputs": [],
   "source": []
  }
 ],
 "metadata": {
  "kernelspec": {
   "display_name": "Python 3 (ipykernel)",
   "language": "python",
   "name": "python3"
  },
  "language_info": {
   "codemirror_mode": {
    "name": "ipython",
    "version": 3
   },
   "file_extension": ".py",
   "mimetype": "text/x-python",
   "name": "python",
   "nbconvert_exporter": "python",
   "pygments_lexer": "ipython3",
   "version": "3.9.13"
  }
 },
 "nbformat": 4,
 "nbformat_minor": 5
}
