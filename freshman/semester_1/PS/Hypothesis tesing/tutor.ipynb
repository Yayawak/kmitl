{
 "cells": [
  {
   "cell_type": "markdown",
   "id": "1a54a94f-7b53-4e1e-9db8-ff5e0e2c3a5d",
   "metadata": {},
   "source": [
    "# $$\n",
    "\\text{Statmodels :: proportions_ztest }\n",
    "$$\n",
    "## :: Deodorant"
   ]
  },
  {
   "cell_type": "code",
   "execution_count": 46,
   "id": "63c0c5cc-ceca-4ef7-bdaa-16fd177324d4",
   "metadata": {},
   "outputs": [],
   "source": [
    "from statsmodels.stats.proportion import proportions_ztest\n",
    "import numpy as np"
   ]
  },
  {
   "cell_type": "code",
   "execution_count": 17,
   "id": "26b39ee5-fb77-4039-846c-d7301c97552e",
   "metadata": {},
   "outputs": [],
   "source": [
    "sig = .05\n",
    "successes = np.array([320, 300])\n",
    "samples = np.array([400, 425])\n"
   ]
  },
  {
   "cell_type": "code",
   "execution_count": 18,
   "id": "0ec85cca-c8e6-45dd-b8f2-3ccaeffe541d",
   "metadata": {},
   "outputs": [
    {
     "data": {
      "text/plain": [
       "(3.126437282285804, 0.0017693824065252598)"
      ]
     },
     "execution_count": 18,
     "metadata": {},
     "output_type": "execute_result"
    }
   ],
   "source": [
    "proportions_ztest(\n",
    "    count=successes, \n",
    "    nobs=samples,\n",
    "                 alternative='two-sided')\n",
    "# staticmethod def x():\n",
    "    # print('h')"
   ]
  },
  {
   "cell_type": "code",
   "execution_count": 24,
   "id": "5c153461-16d4-45ff-9aa2-577d068e6f8b",
   "metadata": {},
   "outputs": [],
   "source": [
    "z, p_val = proportions_ztest(\n",
    "    count=successes, \n",
    "    nobs=samples,\n",
    "                 alternative='two-sided')"
   ]
  },
  {
   "cell_type": "code",
   "execution_count": 27,
   "id": "914b8821-0c2d-4eb9-ae6d-a2303e218eb2",
   "metadata": {},
   "outputs": [
    {
     "name": "stdout",
     "output_type": "stream",
     "text": [
      "z_test : 3.12644, p_value : 0.00177\n"
     ]
    }
   ],
   "source": [
    "print('z_test : %.5f, p_value : %.5f' % (z, p_val))"
   ]
  },
  {
   "cell_type": "code",
   "execution_count": 28,
   "id": "5374ade9-645c-4806-afc0-12327725ccb3",
   "metadata": {},
   "outputs": [
    {
     "data": {
      "text/plain": [
       "3.126437282285804"
      ]
     },
     "execution_count": 28,
     "metadata": {},
     "output_type": "execute_result"
    }
   ],
   "source": [
    "z"
   ]
  },
  {
   "cell_type": "code",
   "execution_count": 30,
   "id": "306b631a-a09e-4dc9-b317-3cfe065dc1ae",
   "metadata": {},
   "outputs": [
    {
     "name": "stdout",
     "output_type": "stream",
     "text": [
      "Reject the null hypothesis\n"
     ]
    }
   ],
   "source": [
    "# if sig > p_val:\n",
    "# if p_val < sig:\n",
    "if sig > p_val:\n",
    "    print(\"Reject the null hypothesis\")\n",
    "else:\n",
    "    print(\"Accept H_0\")\n",
    "    "
   ]
  },
  {
   "cell_type": "markdown",
   "id": "0f904cc0-e384-4907-baa6-9271d61cfaff",
   "metadata": {},
   "source": [
    "# $$\\text{T-test}$$\n",
    "## : ttest_ind"
   ]
  },
  {
   "cell_type": "code",
   "execution_count": 41,
   "id": "100ec46c-0b35-4f53-8935-af2d8f7ea5d4",
   "metadata": {},
   "outputs": [],
   "source": [
    "sig = .05\n",
    "# A = np.array([43, 53, 65, 49, 55, 60, 47, 50, 60, 55])\n",
    "A = np.array([43, 53, 65, 49, 55, 60, 147, 50, 60, 55])\n",
    "B = np.array([62, 43, 54, 67, 59, 45, 46, 63, 65, 45])"
   ]
  },
  {
   "cell_type": "code",
   "execution_count": 42,
   "id": "47e8ff91-5410-4c6d-8074-ec3287a3bfab",
   "metadata": {},
   "outputs": [],
   "source": [
    "import scipy.stats as stats"
   ]
  },
  {
   "cell_type": "code",
   "execution_count": 43,
   "id": "20e91377-6bc6-4167-8515-ff3fadaefa07",
   "metadata": {},
   "outputs": [
    {
     "data": {
      "text/plain": [
       "(0.8866751904733864, 0.39463008299181235)"
      ]
     },
     "execution_count": 43,
     "metadata": {},
     "output_type": "execute_result"
    }
   ],
   "source": [
    "# z, p_val = stats.ttest_ind(a=A, b=B, equal_var=True)\n",
    "z, p_val = stats.ttest_ind(a=A, b=B, equal_var=False)\n",
    "z, p_val"
   ]
  },
  {
   "cell_type": "code",
   "execution_count": 44,
   "id": "efdfc69c-2253-4b7f-bcad-a04c17aa30a9",
   "metadata": {},
   "outputs": [
    {
     "name": "stdout",
     "output_type": "stream",
     "text": [
      "Accept H0\n"
     ]
    }
   ],
   "source": [
    "if sig > p_val:\n",
    "    s = \"Reject H0\"\n",
    "else:\n",
    "    s = 'Accept H0'\n",
    "print(s)"
   ]
  },
  {
   "cell_type": "markdown",
   "id": "397b65aa-d4ea-453b-8f83-2e5363389e50",
   "metadata": {},
   "source": [
    "# Pretest Posttest : ttest_rel : Paired t-Test"
   ]
  },
  {
   "cell_type": "code",
   "execution_count": 47,
   "id": "60cfcaf1-51c2-4a1a-bf18-960291c6fda7",
   "metadata": {},
   "outputs": [],
   "source": [
    "significance = 0.01\n",
    "group1 = np.array([60, 45, 80, 87, 79, 75, 60, 30, 45])\n",
    "group2 = np.array([75, 65, 90, 80, 89, 95, 85, 69, 40])"
   ]
  },
  {
   "cell_type": "code",
   "execution_count": 50,
   "id": "c40ccf75-bab5-4ea0-9628-5b1492cf5f55",
   "metadata": {},
   "outputs": [
    {
     "data": {
      "text/plain": [
       "(0.018563188104661878, -2.945137866547376)"
      ]
     },
     "execution_count": 50,
     "metadata": {},
     "output_type": "execute_result"
    }
   ],
   "source": [
    "t, p_v = stats.ttest_rel(group1, group2)\n",
    "p_v, t"
   ]
  },
  {
   "cell_type": "code",
   "execution_count": 49,
   "id": "088f6eec-a74f-49b1-869a-5b689556b5ef",
   "metadata": {},
   "outputs": [
    {
     "name": "stdout",
     "output_type": "stream",
     "text": [
      "Accept H0\n"
     ]
    }
   ],
   "source": [
    "if sig > p_val:\n",
    "    s = \"Reject H0\"\n",
    "else:\n",
    "    s = 'Accept H0'\n",
    "print(s)"
   ]
  },
  {
   "cell_type": "markdown",
   "id": "c0415a83-43d9-4b11-b9cb-be94d6c02292",
   "metadata": {},
   "source": [
    "# Chisquare"
   ]
  },
  {
   "cell_type": "code",
   "execution_count": 51,
   "id": "1541f62e-f78a-49f2-8770-3992f501b4dd",
   "metadata": {},
   "outputs": [],
   "source": [
    "import pandas as pd"
   ]
  },
  {
   "cell_type": "code",
   "execution_count": 52,
   "id": "83b2c6b1-e9dd-473e-b45f-5f4613bd094b",
   "metadata": {},
   "outputs": [
    {
     "data": {
      "text/html": [
       "<div>\n",
       "<style scoped>\n",
       "    .dataframe tbody tr th:only-of-type {\n",
       "        vertical-align: middle;\n",
       "    }\n",
       "\n",
       "    .dataframe tbody tr th {\n",
       "        vertical-align: top;\n",
       "    }\n",
       "\n",
       "    .dataframe thead th {\n",
       "        text-align: right;\n",
       "    }\n",
       "</style>\n",
       "<table border=\"1\" class=\"dataframe\">\n",
       "  <thead>\n",
       "    <tr style=\"text-align: right;\">\n",
       "      <th></th>\n",
       "      <th>Male</th>\n",
       "      <th>Female</th>\n",
       "    </tr>\n",
       "  </thead>\n",
       "  <tbody>\n",
       "    <tr>\n",
       "      <th>Marriage</th>\n",
       "      <td>25</td>\n",
       "      <td>15</td>\n",
       "    </tr>\n",
       "    <tr>\n",
       "      <th>Single</th>\n",
       "      <td>35</td>\n",
       "      <td>25</td>\n",
       "    </tr>\n",
       "  </tbody>\n",
       "</table>\n",
       "</div>"
      ],
      "text/plain": [
       "          Male  Female\n",
       "Marriage    25      15\n",
       "Single      35      25"
      ]
     },
     "execution_count": 52,
     "metadata": {},
     "output_type": "execute_result"
    }
   ],
   "source": [
    "df = pd.DataFrame(index=['Marriage', 'Single'],\n",
    "                 data={'Male': [25, 35],\n",
    "                      'Female': [15, 25]})\n",
    "df"
   ]
  },
  {
   "cell_type": "code",
   "execution_count": 53,
   "id": "8216328e-3440-4cd1-ac53-6d67c5cec88b",
   "metadata": {},
   "outputs": [
    {
     "name": "stdout",
     "output_type": "stream",
     "text": [
      "chi2 statistic: 0.17361\n",
      "p-value: 0.67692\n",
      "degrees of freedom: 1\n",
      "expected frequencies:\n",
      "[[24. 16.]\n",
      " [36. 24.]]\n"
     ]
    }
   ],
   "source": [
    "chi2, p, dof, expected = stats.chi2_contingency(\n",
    "    df, correction=False\n",
    ")\n",
    "\n",
    "print(f\"chi2 statistic: {chi2:.5g}\")\n",
    "print(f\"p-value: {p:.5g}\")\n",
    "print(f\"degrees of freedom: {dof}\")\n",
    "print(\"expected frequencies:\")\n",
    "print(expected)"
   ]
  },
  {
   "cell_type": "code",
   "execution_count": 55,
   "id": "f811293a-17ae-4c42-9660-1327a62e1406",
   "metadata": {},
   "outputs": [
    {
     "name": "stdout",
     "output_type": "stream",
     "text": [
      "chi2 statistic: 87.136\n",
      "p-value: 5.3406e-18\n",
      "degrees of freedom: 4\n",
      "expected frequencies:\n",
      "[[502.17917676 149.83050847  27.99031477]\n",
      " [461.56174334 137.71186441  25.72639225]\n",
      " [561.2590799  167.45762712  31.28329298]]\n"
     ]
    }
   ],
   "source": [
    "row1 = [525,105,50]\n",
    "row2 = [400,200,25]\n",
    "row3 = [600,150,10]\n",
    "data=[row1,row2,row3]\n",
    "chi2, p, dof, expected = stats.chi2_contingency(data)\n",
    "print(f\"chi2 statistic: {chi2:.5g}\")\n",
    "print(f\"p-value: {p:.5g}\")\n",
    "print(f\"degrees of freedom: {dof}\")\n",
    "print(\"expected frequencies:\")\n",
    "print(expected)"
   ]
  },
  {
   "cell_type": "code",
   "execution_count": null,
   "id": "9dd3e5cf-a8ee-401b-a75d-7f9189d6959e",
   "metadata": {},
   "outputs": [],
   "source": []
  }
 ],
 "metadata": {
  "kernelspec": {
   "display_name": "Python 3 (ipykernel)",
   "language": "python",
   "name": "python3"
  },
  "language_info": {
   "codemirror_mode": {
    "name": "ipython",
    "version": 3
   },
   "file_extension": ".py",
   "mimetype": "text/x-python",
   "name": "python",
   "nbconvert_exporter": "python",
   "pygments_lexer": "ipython3",
   "version": "3.9.13"
  }
 },
 "nbformat": 4,
 "nbformat_minor": 5
}
