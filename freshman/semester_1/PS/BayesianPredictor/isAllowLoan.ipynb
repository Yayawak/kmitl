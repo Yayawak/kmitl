{
 "cells": [
  {
   "cell_type": "code",
   "execution_count": 2,
   "id": "04bfc114-0aef-4d1d-b416-7de404dc2a69",
   "metadata": {},
   "outputs": [],
   "source": [
    "import numpy as np\n",
    "import pandas as pd\n"
   ]
  },
  {
   "cell_type": "code",
   "execution_count": 72,
   "id": "5756ebf8-aa09-423f-add5-dc1e6950e3dd",
   "metadata": {},
   "outputs": [],
   "source": [
    "# df = pd.read_csv(\"/Users/rio/Downloads/simple_loan.csv\")\n",
    "df = pd.read_csv(\"/Users/rio/Documents/data_science/datasets_for_analysis/csv/simple_loan.csv\")"
   ]
  },
  {
   "cell_type": "code",
   "execution_count": 8,
   "id": "9e2c4bcd-667a-4fc8-8e7d-d547e81b3365",
   "metadata": {},
   "outputs": [
    {
     "data": {
      "text/html": [
       "<div>\n",
       "<style scoped>\n",
       "    .dataframe tbody tr th:only-of-type {\n",
       "        vertical-align: middle;\n",
       "    }\n",
       "\n",
       "    .dataframe tbody tr th {\n",
       "        vertical-align: top;\n",
       "    }\n",
       "\n",
       "    .dataframe thead th {\n",
       "        text-align: right;\n",
       "    }\n",
       "</style>\n",
       "<table border=\"1\" class=\"dataframe\">\n",
       "  <thead>\n",
       "    <tr style=\"text-align: right;\">\n",
       "      <th></th>\n",
       "      <th>age</th>\n",
       "      <th>employed</th>\n",
       "      <th>own_house</th>\n",
       "      <th>credit</th>\n",
       "    </tr>\n",
       "  </thead>\n",
       "  <tbody>\n",
       "    <tr>\n",
       "      <th>0</th>\n",
       "      <td>young</td>\n",
       "      <td>False</td>\n",
       "      <td>n</td>\n",
       "      <td>fair</td>\n",
       "    </tr>\n",
       "    <tr>\n",
       "      <th>1</th>\n",
       "      <td>young</td>\n",
       "      <td>False</td>\n",
       "      <td>n</td>\n",
       "      <td>good</td>\n",
       "    </tr>\n",
       "    <tr>\n",
       "      <th>2</th>\n",
       "      <td>young</td>\n",
       "      <td>True</td>\n",
       "      <td>n</td>\n",
       "      <td>good</td>\n",
       "    </tr>\n",
       "    <tr>\n",
       "      <th>3</th>\n",
       "      <td>young</td>\n",
       "      <td>True</td>\n",
       "      <td>y</td>\n",
       "      <td>fair</td>\n",
       "    </tr>\n",
       "    <tr>\n",
       "      <th>4</th>\n",
       "      <td>young</td>\n",
       "      <td>False</td>\n",
       "      <td>n</td>\n",
       "      <td>fair</td>\n",
       "    </tr>\n",
       "    <tr>\n",
       "      <th>5</th>\n",
       "      <td>middle</td>\n",
       "      <td>False</td>\n",
       "      <td>n</td>\n",
       "      <td>fair</td>\n",
       "    </tr>\n",
       "    <tr>\n",
       "      <th>6</th>\n",
       "      <td>middle</td>\n",
       "      <td>False</td>\n",
       "      <td>n</td>\n",
       "      <td>good</td>\n",
       "    </tr>\n",
       "    <tr>\n",
       "      <th>7</th>\n",
       "      <td>middle</td>\n",
       "      <td>True</td>\n",
       "      <td>y</td>\n",
       "      <td>good</td>\n",
       "    </tr>\n",
       "    <tr>\n",
       "      <th>8</th>\n",
       "      <td>middle</td>\n",
       "      <td>False</td>\n",
       "      <td>y</td>\n",
       "      <td>excellent</td>\n",
       "    </tr>\n",
       "    <tr>\n",
       "      <th>9</th>\n",
       "      <td>middle</td>\n",
       "      <td>False</td>\n",
       "      <td>y</td>\n",
       "      <td>excellent</td>\n",
       "    </tr>\n",
       "    <tr>\n",
       "      <th>10</th>\n",
       "      <td>old</td>\n",
       "      <td>False</td>\n",
       "      <td>y</td>\n",
       "      <td>excellent</td>\n",
       "    </tr>\n",
       "    <tr>\n",
       "      <th>11</th>\n",
       "      <td>old</td>\n",
       "      <td>False</td>\n",
       "      <td>y</td>\n",
       "      <td>good</td>\n",
       "    </tr>\n",
       "    <tr>\n",
       "      <th>12</th>\n",
       "      <td>old</td>\n",
       "      <td>True</td>\n",
       "      <td>n</td>\n",
       "      <td>good</td>\n",
       "    </tr>\n",
       "    <tr>\n",
       "      <th>13</th>\n",
       "      <td>old</td>\n",
       "      <td>True</td>\n",
       "      <td>n</td>\n",
       "      <td>excellent</td>\n",
       "    </tr>\n",
       "    <tr>\n",
       "      <th>14</th>\n",
       "      <td>old</td>\n",
       "      <td>False</td>\n",
       "      <td>n</td>\n",
       "      <td>fair</td>\n",
       "    </tr>\n",
       "    <tr>\n",
       "      <th>15</th>\n",
       "      <td>old</td>\n",
       "      <td>False</td>\n",
       "      <td>n</td>\n",
       "      <td>excellent</td>\n",
       "    </tr>\n",
       "    <tr>\n",
       "      <th>16</th>\n",
       "      <td>young</td>\n",
       "      <td>True</td>\n",
       "      <td>y</td>\n",
       "      <td>fair</td>\n",
       "    </tr>\n",
       "  </tbody>\n",
       "</table>\n",
       "</div>"
      ],
      "text/plain": [
       "       age  employed own_house     credit\n",
       "0    young     False         n       fair\n",
       "1    young     False         n       good\n",
       "2    young      True         n       good\n",
       "3    young      True         y       fair\n",
       "4    young     False         n       fair\n",
       "5   middle     False         n       fair\n",
       "6   middle     False         n       good\n",
       "7   middle      True         y       good\n",
       "8   middle     False         y  excellent\n",
       "9   middle     False         y  excellent\n",
       "10     old     False         y  excellent\n",
       "11     old     False         y       good\n",
       "12     old      True         n       good\n",
       "13     old      True         n  excellent\n",
       "14     old     False         n       fair\n",
       "15     old     False         n  excellent\n",
       "16   young      True         y       fair"
      ]
     },
     "execution_count": 8,
     "metadata": {},
     "output_type": "execute_result"
    }
   ],
   "source": [
    "X = df.drop(['target'], axis=1)\n",
    "X"
   ]
  },
  {
   "cell_type": "code",
   "execution_count": 10,
   "id": "9ef2c325-9574-4bda-9b79-bf5abaf4e60f",
   "metadata": {},
   "outputs": [
    {
     "data": {
      "text/plain": [
       "0      no\n",
       "1      no\n",
       "2     yes\n",
       "3     yes\n",
       "4      no\n",
       "5      no\n",
       "6      no\n",
       "7     yes\n",
       "8     yes\n",
       "9     yes\n",
       "10    yes\n",
       "11    yes\n",
       "12    yes\n",
       "13    yes\n",
       "14     no\n",
       "15    yes\n",
       "16    yes\n",
       "Name: target, dtype: object"
      ]
     },
     "execution_count": 10,
     "metadata": {},
     "output_type": "execute_result"
    }
   ],
   "source": [
    "y = df['target']\n",
    "y"
   ]
  },
  {
   "cell_type": "code",
   "execution_count": 19,
   "id": "de1a490b-f478-47f1-8b9c-b772328480a2",
   "metadata": {},
   "outputs": [],
   "source": [
    "from sklearn.preprocessing import LabelEncoder\n",
    "def labelEncode(data,columns):\n",
    "    for i in columns:\n",
    "        lb = LabelEncoder().fit_transform(data[i])\n",
    "        data[i+'_'] = lb"
   ]
  },
  {
   "cell_type": "code",
   "execution_count": 20,
   "id": "01012cb6-c5f8-48b5-861c-da4b6fd5e217",
   "metadata": {},
   "outputs": [],
   "source": [
    "f_cols = ['age', 'employed', 'own_house', 'credit']\n",
    "labelEncode(X, f_cols)"
   ]
  },
  {
   "cell_type": "code",
   "execution_count": 21,
   "id": "61acbcee-ec24-451d-8842-2ee156ac431e",
   "metadata": {},
   "outputs": [
    {
     "data": {
      "text/plain": [
       "array([0, 0, 1, 1, 0, 0, 0, 1, 1, 1, 1, 1, 1, 1, 0, 1, 1])"
      ]
     },
     "execution_count": 21,
     "metadata": {},
     "output_type": "execute_result"
    }
   ],
   "source": [
    "y_le = LabelEncoder()\n",
    "y1 = y_le.fit_transform(y)\n",
    "y1"
   ]
  },
  {
   "cell_type": "code",
   "execution_count": 22,
   "id": "f5378d20-c245-4161-87b5-b574108f33f9",
   "metadata": {},
   "outputs": [
    {
     "data": {
      "text/html": [
       "<div>\n",
       "<style scoped>\n",
       "    .dataframe tbody tr th:only-of-type {\n",
       "        vertical-align: middle;\n",
       "    }\n",
       "\n",
       "    .dataframe tbody tr th {\n",
       "        vertical-align: top;\n",
       "    }\n",
       "\n",
       "    .dataframe thead th {\n",
       "        text-align: right;\n",
       "    }\n",
       "</style>\n",
       "<table border=\"1\" class=\"dataframe\">\n",
       "  <thead>\n",
       "    <tr style=\"text-align: right;\">\n",
       "      <th></th>\n",
       "      <th>age</th>\n",
       "      <th>employed</th>\n",
       "      <th>own_house</th>\n",
       "      <th>credit</th>\n",
       "      <th>age_</th>\n",
       "      <th>employed_</th>\n",
       "      <th>own_house_</th>\n",
       "      <th>credit_</th>\n",
       "    </tr>\n",
       "  </thead>\n",
       "  <tbody>\n",
       "    <tr>\n",
       "      <th>0</th>\n",
       "      <td>young</td>\n",
       "      <td>False</td>\n",
       "      <td>n</td>\n",
       "      <td>fair</td>\n",
       "      <td>2</td>\n",
       "      <td>0</td>\n",
       "      <td>0</td>\n",
       "      <td>1</td>\n",
       "    </tr>\n",
       "    <tr>\n",
       "      <th>1</th>\n",
       "      <td>young</td>\n",
       "      <td>False</td>\n",
       "      <td>n</td>\n",
       "      <td>good</td>\n",
       "      <td>2</td>\n",
       "      <td>0</td>\n",
       "      <td>0</td>\n",
       "      <td>2</td>\n",
       "    </tr>\n",
       "    <tr>\n",
       "      <th>2</th>\n",
       "      <td>young</td>\n",
       "      <td>True</td>\n",
       "      <td>n</td>\n",
       "      <td>good</td>\n",
       "      <td>2</td>\n",
       "      <td>1</td>\n",
       "      <td>0</td>\n",
       "      <td>2</td>\n",
       "    </tr>\n",
       "    <tr>\n",
       "      <th>3</th>\n",
       "      <td>young</td>\n",
       "      <td>True</td>\n",
       "      <td>y</td>\n",
       "      <td>fair</td>\n",
       "      <td>2</td>\n",
       "      <td>1</td>\n",
       "      <td>1</td>\n",
       "      <td>1</td>\n",
       "    </tr>\n",
       "    <tr>\n",
       "      <th>4</th>\n",
       "      <td>young</td>\n",
       "      <td>False</td>\n",
       "      <td>n</td>\n",
       "      <td>fair</td>\n",
       "      <td>2</td>\n",
       "      <td>0</td>\n",
       "      <td>0</td>\n",
       "      <td>1</td>\n",
       "    </tr>\n",
       "    <tr>\n",
       "      <th>5</th>\n",
       "      <td>middle</td>\n",
       "      <td>False</td>\n",
       "      <td>n</td>\n",
       "      <td>fair</td>\n",
       "      <td>0</td>\n",
       "      <td>0</td>\n",
       "      <td>0</td>\n",
       "      <td>1</td>\n",
       "    </tr>\n",
       "    <tr>\n",
       "      <th>6</th>\n",
       "      <td>middle</td>\n",
       "      <td>False</td>\n",
       "      <td>n</td>\n",
       "      <td>good</td>\n",
       "      <td>0</td>\n",
       "      <td>0</td>\n",
       "      <td>0</td>\n",
       "      <td>2</td>\n",
       "    </tr>\n",
       "    <tr>\n",
       "      <th>7</th>\n",
       "      <td>middle</td>\n",
       "      <td>True</td>\n",
       "      <td>y</td>\n",
       "      <td>good</td>\n",
       "      <td>0</td>\n",
       "      <td>1</td>\n",
       "      <td>1</td>\n",
       "      <td>2</td>\n",
       "    </tr>\n",
       "    <tr>\n",
       "      <th>8</th>\n",
       "      <td>middle</td>\n",
       "      <td>False</td>\n",
       "      <td>y</td>\n",
       "      <td>excellent</td>\n",
       "      <td>0</td>\n",
       "      <td>0</td>\n",
       "      <td>1</td>\n",
       "      <td>0</td>\n",
       "    </tr>\n",
       "    <tr>\n",
       "      <th>9</th>\n",
       "      <td>middle</td>\n",
       "      <td>False</td>\n",
       "      <td>y</td>\n",
       "      <td>excellent</td>\n",
       "      <td>0</td>\n",
       "      <td>0</td>\n",
       "      <td>1</td>\n",
       "      <td>0</td>\n",
       "    </tr>\n",
       "    <tr>\n",
       "      <th>10</th>\n",
       "      <td>old</td>\n",
       "      <td>False</td>\n",
       "      <td>y</td>\n",
       "      <td>excellent</td>\n",
       "      <td>1</td>\n",
       "      <td>0</td>\n",
       "      <td>1</td>\n",
       "      <td>0</td>\n",
       "    </tr>\n",
       "    <tr>\n",
       "      <th>11</th>\n",
       "      <td>old</td>\n",
       "      <td>False</td>\n",
       "      <td>y</td>\n",
       "      <td>good</td>\n",
       "      <td>1</td>\n",
       "      <td>0</td>\n",
       "      <td>1</td>\n",
       "      <td>2</td>\n",
       "    </tr>\n",
       "    <tr>\n",
       "      <th>12</th>\n",
       "      <td>old</td>\n",
       "      <td>True</td>\n",
       "      <td>n</td>\n",
       "      <td>good</td>\n",
       "      <td>1</td>\n",
       "      <td>1</td>\n",
       "      <td>0</td>\n",
       "      <td>2</td>\n",
       "    </tr>\n",
       "    <tr>\n",
       "      <th>13</th>\n",
       "      <td>old</td>\n",
       "      <td>True</td>\n",
       "      <td>n</td>\n",
       "      <td>excellent</td>\n",
       "      <td>1</td>\n",
       "      <td>1</td>\n",
       "      <td>0</td>\n",
       "      <td>0</td>\n",
       "    </tr>\n",
       "    <tr>\n",
       "      <th>14</th>\n",
       "      <td>old</td>\n",
       "      <td>False</td>\n",
       "      <td>n</td>\n",
       "      <td>fair</td>\n",
       "      <td>1</td>\n",
       "      <td>0</td>\n",
       "      <td>0</td>\n",
       "      <td>1</td>\n",
       "    </tr>\n",
       "    <tr>\n",
       "      <th>15</th>\n",
       "      <td>old</td>\n",
       "      <td>False</td>\n",
       "      <td>n</td>\n",
       "      <td>excellent</td>\n",
       "      <td>1</td>\n",
       "      <td>0</td>\n",
       "      <td>0</td>\n",
       "      <td>0</td>\n",
       "    </tr>\n",
       "    <tr>\n",
       "      <th>16</th>\n",
       "      <td>young</td>\n",
       "      <td>True</td>\n",
       "      <td>y</td>\n",
       "      <td>fair</td>\n",
       "      <td>2</td>\n",
       "      <td>1</td>\n",
       "      <td>1</td>\n",
       "      <td>1</td>\n",
       "    </tr>\n",
       "  </tbody>\n",
       "</table>\n",
       "</div>"
      ],
      "text/plain": [
       "       age  employed own_house     credit  age_  employed_  own_house_  \\\n",
       "0    young     False         n       fair     2          0           0   \n",
       "1    young     False         n       good     2          0           0   \n",
       "2    young      True         n       good     2          1           0   \n",
       "3    young      True         y       fair     2          1           1   \n",
       "4    young     False         n       fair     2          0           0   \n",
       "5   middle     False         n       fair     0          0           0   \n",
       "6   middle     False         n       good     0          0           0   \n",
       "7   middle      True         y       good     0          1           1   \n",
       "8   middle     False         y  excellent     0          0           1   \n",
       "9   middle     False         y  excellent     0          0           1   \n",
       "10     old     False         y  excellent     1          0           1   \n",
       "11     old     False         y       good     1          0           1   \n",
       "12     old      True         n       good     1          1           0   \n",
       "13     old      True         n  excellent     1          1           0   \n",
       "14     old     False         n       fair     1          0           0   \n",
       "15     old     False         n  excellent     1          0           0   \n",
       "16   young      True         y       fair     2          1           1   \n",
       "\n",
       "    credit_  \n",
       "0         1  \n",
       "1         2  \n",
       "2         2  \n",
       "3         1  \n",
       "4         1  \n",
       "5         1  \n",
       "6         2  \n",
       "7         2  \n",
       "8         0  \n",
       "9         0  \n",
       "10        0  \n",
       "11        2  \n",
       "12        2  \n",
       "13        0  \n",
       "14        1  \n",
       "15        0  \n",
       "16        1  "
      ]
     },
     "execution_count": 22,
     "metadata": {},
     "output_type": "execute_result"
    }
   ],
   "source": [
    "# f < e < g : fair < ex < good : 0 < 1 < 2\n",
    "X"
   ]
  },
  {
   "cell_type": "code",
   "execution_count": 23,
   "id": "05fe1c45-fd32-49c7-b2fe-0d1997bdffe3",
   "metadata": {},
   "outputs": [],
   "source": [
    "from sklearn.naive_bayes import CategoricalNB"
   ]
  },
  {
   "cell_type": "code",
   "execution_count": 27,
   "id": "fb46fd60-6b2f-4081-b611-41ec019ecfa3",
   "metadata": {},
   "outputs": [
    {
     "data": {
      "text/plain": [
       "CategoricalNB()"
      ]
     },
     "execution_count": 27,
     "metadata": {},
     "output_type": "execute_result"
    }
   ],
   "source": [
    "model = CategoricalNB()\n",
    "model"
   ]
  },
  {
   "cell_type": "code",
   "execution_count": 28,
   "id": "505790d7-189b-429c-9310-11c1d8a380f7",
   "metadata": {},
   "outputs": [
    {
     "data": {
      "text/html": [
       "<div>\n",
       "<style scoped>\n",
       "    .dataframe tbody tr th:only-of-type {\n",
       "        vertical-align: middle;\n",
       "    }\n",
       "\n",
       "    .dataframe tbody tr th {\n",
       "        vertical-align: top;\n",
       "    }\n",
       "\n",
       "    .dataframe thead th {\n",
       "        text-align: right;\n",
       "    }\n",
       "</style>\n",
       "<table border=\"1\" class=\"dataframe\">\n",
       "  <thead>\n",
       "    <tr style=\"text-align: right;\">\n",
       "      <th></th>\n",
       "      <th>age_</th>\n",
       "      <th>employed_</th>\n",
       "      <th>own_house_</th>\n",
       "      <th>credit_</th>\n",
       "    </tr>\n",
       "  </thead>\n",
       "  <tbody>\n",
       "    <tr>\n",
       "      <th>0</th>\n",
       "      <td>2</td>\n",
       "      <td>0</td>\n",
       "      <td>0</td>\n",
       "      <td>1</td>\n",
       "    </tr>\n",
       "    <tr>\n",
       "      <th>1</th>\n",
       "      <td>2</td>\n",
       "      <td>0</td>\n",
       "      <td>0</td>\n",
       "      <td>2</td>\n",
       "    </tr>\n",
       "    <tr>\n",
       "      <th>2</th>\n",
       "      <td>2</td>\n",
       "      <td>1</td>\n",
       "      <td>0</td>\n",
       "      <td>2</td>\n",
       "    </tr>\n",
       "    <tr>\n",
       "      <th>3</th>\n",
       "      <td>2</td>\n",
       "      <td>1</td>\n",
       "      <td>1</td>\n",
       "      <td>1</td>\n",
       "    </tr>\n",
       "    <tr>\n",
       "      <th>4</th>\n",
       "      <td>2</td>\n",
       "      <td>0</td>\n",
       "      <td>0</td>\n",
       "      <td>1</td>\n",
       "    </tr>\n",
       "    <tr>\n",
       "      <th>5</th>\n",
       "      <td>0</td>\n",
       "      <td>0</td>\n",
       "      <td>0</td>\n",
       "      <td>1</td>\n",
       "    </tr>\n",
       "    <tr>\n",
       "      <th>6</th>\n",
       "      <td>0</td>\n",
       "      <td>0</td>\n",
       "      <td>0</td>\n",
       "      <td>2</td>\n",
       "    </tr>\n",
       "    <tr>\n",
       "      <th>7</th>\n",
       "      <td>0</td>\n",
       "      <td>1</td>\n",
       "      <td>1</td>\n",
       "      <td>2</td>\n",
       "    </tr>\n",
       "    <tr>\n",
       "      <th>8</th>\n",
       "      <td>0</td>\n",
       "      <td>0</td>\n",
       "      <td>1</td>\n",
       "      <td>0</td>\n",
       "    </tr>\n",
       "    <tr>\n",
       "      <th>9</th>\n",
       "      <td>0</td>\n",
       "      <td>0</td>\n",
       "      <td>1</td>\n",
       "      <td>0</td>\n",
       "    </tr>\n",
       "    <tr>\n",
       "      <th>10</th>\n",
       "      <td>1</td>\n",
       "      <td>0</td>\n",
       "      <td>1</td>\n",
       "      <td>0</td>\n",
       "    </tr>\n",
       "    <tr>\n",
       "      <th>11</th>\n",
       "      <td>1</td>\n",
       "      <td>0</td>\n",
       "      <td>1</td>\n",
       "      <td>2</td>\n",
       "    </tr>\n",
       "    <tr>\n",
       "      <th>12</th>\n",
       "      <td>1</td>\n",
       "      <td>1</td>\n",
       "      <td>0</td>\n",
       "      <td>2</td>\n",
       "    </tr>\n",
       "    <tr>\n",
       "      <th>13</th>\n",
       "      <td>1</td>\n",
       "      <td>1</td>\n",
       "      <td>0</td>\n",
       "      <td>0</td>\n",
       "    </tr>\n",
       "    <tr>\n",
       "      <th>14</th>\n",
       "      <td>1</td>\n",
       "      <td>0</td>\n",
       "      <td>0</td>\n",
       "      <td>1</td>\n",
       "    </tr>\n",
       "    <tr>\n",
       "      <th>15</th>\n",
       "      <td>1</td>\n",
       "      <td>0</td>\n",
       "      <td>0</td>\n",
       "      <td>0</td>\n",
       "    </tr>\n",
       "    <tr>\n",
       "      <th>16</th>\n",
       "      <td>2</td>\n",
       "      <td>1</td>\n",
       "      <td>1</td>\n",
       "      <td>1</td>\n",
       "    </tr>\n",
       "  </tbody>\n",
       "</table>\n",
       "</div>"
      ],
      "text/plain": [
       "    age_  employed_  own_house_  credit_\n",
       "0      2          0           0        1\n",
       "1      2          0           0        2\n",
       "2      2          1           0        2\n",
       "3      2          1           1        1\n",
       "4      2          0           0        1\n",
       "5      0          0           0        1\n",
       "6      0          0           0        2\n",
       "7      0          1           1        2\n",
       "8      0          0           1        0\n",
       "9      0          0           1        0\n",
       "10     1          0           1        0\n",
       "11     1          0           1        2\n",
       "12     1          1           0        2\n",
       "13     1          1           0        0\n",
       "14     1          0           0        1\n",
       "15     1          0           0        0\n",
       "16     2          1           1        1"
      ]
     },
     "execution_count": 28,
     "metadata": {},
     "output_type": "execute_result"
    }
   ],
   "source": [
    "X1 = X.drop(columns=f_cols)\n",
    "X1"
   ]
  },
  {
   "cell_type": "code",
   "execution_count": 29,
   "id": "950ef3f8-54fb-4dad-91ae-0e7367a9cd28",
   "metadata": {},
   "outputs": [
    {
     "data": {
      "text/plain": [
       "CategoricalNB()"
      ]
     },
     "execution_count": 29,
     "metadata": {},
     "output_type": "execute_result"
    }
   ],
   "source": [
    "model.fit(X1, y1)"
   ]
  },
  {
   "cell_type": "code",
   "execution_count": 34,
   "id": "9f794d4d-cfca-4314-9797-c51d9411c8fb",
   "metadata": {},
   "outputs": [
    {
     "data": {
      "text/plain": [
       "[array([[-1.09861229, -1.5040774 , -0.81093022],\n",
       "        [-1.25276297, -0.84729786, -1.25276297]]),\n",
       " array([[-0.13353139, -2.07944154],\n",
       "        [-0.77318989, -0.61903921]]),\n",
       " array([[-0.13353139, -2.07944154],\n",
       "        [-0.95551145, -0.48550782]]),\n",
       " array([[-2.19722458, -0.58778666, -1.09861229],\n",
       "        [-0.84729786, -1.54044504, -1.02961942]])]"
      ]
     },
     "execution_count": 34,
     "metadata": {},
     "output_type": "execute_result"
    }
   ],
   "source": [
    "# Log base e of (P) == Ln(P)\n",
    "model.feature_log_prob_"
   ]
  },
  {
   "cell_type": "code",
   "execution_count": 35,
   "id": "1842712c-297f-4663-bd74-9e30e41435c1",
   "metadata": {},
   "outputs": [
    {
     "data": {
      "text/plain": [
       "array(['age_', 'employed_', 'own_house_', 'credit_'], dtype=object)"
      ]
     },
     "execution_count": 35,
     "metadata": {},
     "output_type": "execute_result"
    }
   ],
   "source": [
    "model.feature_names_in_"
   ]
  },
  {
   "cell_type": "code",
   "execution_count": 36,
   "id": "2db7237d-7e85-4819-b383-97d5aedc9283",
   "metadata": {},
   "outputs": [
    {
     "data": {
      "text/plain": [
       "1.0"
      ]
     },
     "execution_count": 36,
     "metadata": {},
     "output_type": "execute_result"
    }
   ],
   "source": [
    "model.alpha"
   ]
  },
  {
   "cell_type": "code",
   "execution_count": 40,
   "id": "b2aa49a8-4f71-41a8-b27c-214389827f0c",
   "metadata": {},
   "outputs": [
    {
     "data": {
      "text/plain": [
       "1.0"
      ]
     },
     "execution_count": 40,
     "metadata": {},
     "output_type": "execute_result"
    }
   ],
   "source": [
    "model.score(X1, y1)"
   ]
  },
  {
   "cell_type": "code",
   "execution_count": 47,
   "id": "c3c2e673-d3ad-4402-9027-c7347e497067",
   "metadata": {},
   "outputs": [
    {
     "data": {
      "text/plain": [
       "[array([[2., 1., 3.],\n",
       "        [3., 5., 3.]]),\n",
       " array([[6., 0.],\n",
       "        [5., 6.]]),\n",
       " array([[6., 0.],\n",
       "        [4., 7.]]),\n",
       " array([[0., 4., 2.],\n",
       "        [5., 2., 4.]])]"
      ]
     },
     "execution_count": 47,
     "metadata": {},
     "output_type": "execute_result"
    }
   ],
   "source": [
    "# first array is age : middle, old, young \n",
    "#                target : yes, no\n",
    "#                3 * 2 = 6 = all posible outcome\n",
    "# second array is employed\n",
    "# third array is own_house\n",
    "# last array is credit\n",
    "model.category_count_"
   ]
  },
  {
   "cell_type": "code",
   "execution_count": 63,
   "id": "7c0fd5ba-1657-431b-bbe6-fe6fc4a91200",
   "metadata": {},
   "outputs": [
    {
     "data": {
      "text/plain": [
       "array(['age_', 'employed_', 'own_house_', 'credit_'], dtype=object)"
      ]
     },
     "execution_count": 63,
     "metadata": {},
     "output_type": "execute_result"
    }
   ],
   "source": [
    "model.feature_names_in_"
   ]
  },
  {
   "cell_type": "code",
   "execution_count": 65,
   "id": "f82885bf-5b01-4515-9a1e-d17b8d275366",
   "metadata": {},
   "outputs": [
    {
     "data": {
      "text/html": [
       "<div>\n",
       "<style scoped>\n",
       "    .dataframe tbody tr th:only-of-type {\n",
       "        vertical-align: middle;\n",
       "    }\n",
       "\n",
       "    .dataframe tbody tr th {\n",
       "        vertical-align: top;\n",
       "    }\n",
       "\n",
       "    .dataframe thead th {\n",
       "        text-align: right;\n",
       "    }\n",
       "</style>\n",
       "<table border=\"1\" class=\"dataframe\">\n",
       "  <thead>\n",
       "    <tr style=\"text-align: right;\">\n",
       "      <th></th>\n",
       "      <th>age</th>\n",
       "      <th>employed</th>\n",
       "      <th>own_house</th>\n",
       "      <th>credit</th>\n",
       "      <th>age_</th>\n",
       "      <th>employed_</th>\n",
       "      <th>own_house_</th>\n",
       "      <th>credit_</th>\n",
       "    </tr>\n",
       "  </thead>\n",
       "  <tbody>\n",
       "    <tr>\n",
       "      <th>0</th>\n",
       "      <td>young</td>\n",
       "      <td>False</td>\n",
       "      <td>n</td>\n",
       "      <td>fair</td>\n",
       "      <td>2</td>\n",
       "      <td>0</td>\n",
       "      <td>0</td>\n",
       "      <td>1</td>\n",
       "    </tr>\n",
       "    <tr>\n",
       "      <th>1</th>\n",
       "      <td>young</td>\n",
       "      <td>False</td>\n",
       "      <td>n</td>\n",
       "      <td>good</td>\n",
       "      <td>2</td>\n",
       "      <td>0</td>\n",
       "      <td>0</td>\n",
       "      <td>2</td>\n",
       "    </tr>\n",
       "    <tr>\n",
       "      <th>2</th>\n",
       "      <td>young</td>\n",
       "      <td>True</td>\n",
       "      <td>n</td>\n",
       "      <td>good</td>\n",
       "      <td>2</td>\n",
       "      <td>1</td>\n",
       "      <td>0</td>\n",
       "      <td>2</td>\n",
       "    </tr>\n",
       "    <tr>\n",
       "      <th>3</th>\n",
       "      <td>young</td>\n",
       "      <td>True</td>\n",
       "      <td>y</td>\n",
       "      <td>fair</td>\n",
       "      <td>2</td>\n",
       "      <td>1</td>\n",
       "      <td>1</td>\n",
       "      <td>1</td>\n",
       "    </tr>\n",
       "    <tr>\n",
       "      <th>4</th>\n",
       "      <td>young</td>\n",
       "      <td>False</td>\n",
       "      <td>n</td>\n",
       "      <td>fair</td>\n",
       "      <td>2</td>\n",
       "      <td>0</td>\n",
       "      <td>0</td>\n",
       "      <td>1</td>\n",
       "    </tr>\n",
       "  </tbody>\n",
       "</table>\n",
       "</div>"
      ],
      "text/plain": [
       "     age  employed own_house credit  age_  employed_  own_house_  credit_\n",
       "0  young     False         n   fair     2          0           0        1\n",
       "1  young     False         n   good     2          0           0        2\n",
       "2  young      True         n   good     2          1           0        2\n",
       "3  young      True         y   fair     2          1           1        1\n",
       "4  young     False         n   fair     2          0           0        1"
      ]
     },
     "execution_count": 65,
     "metadata": {},
     "output_type": "execute_result"
    }
   ],
   "source": [
    "X.head()"
   ]
  },
  {
   "cell_type": "markdown",
   "id": "f5dc305a-5a3d-4c6a-8259-3722f2533e1c",
   "metadata": {},
   "source": [
    "# $$\n",
    "Log(x) = Log_e(x) \\: \\text{or} \\: Ln(X)\n",
    "$$"
   ]
  },
  {
   "cell_type": "code",
   "execution_count": 66,
   "id": "54b76d87-9016-424f-88f9-ea170da3b470",
   "metadata": {},
   "outputs": [
    {
     "name": "stderr",
     "output_type": "stream",
     "text": [
      "/Users/rio/anaconda3/lib/python3.9/site-packages/sklearn/base.py:450: UserWarning: X does not have valid feature names, but CategoricalNB was fitted with feature names\n",
      "  warnings.warn(\n"
     ]
    },
    {
     "data": {
      "text/plain": [
       "array([[0.0721808 , 0.9278192 ],\n",
       "       [0.53238717, 0.46761283]])"
      ]
     },
     "execution_count": 66,
     "metadata": {},
     "output_type": "execute_result"
    }
   ],
   "source": [
    "new_input = [\n",
    "    [0,1,1,1],\n",
    "    [1,0,0,2]\n",
    "]\n",
    "y_prob_pred = model.predict_proba(new_input)\n",
    "# first col : No( not allowed )\n",
    "# second col : Yes( not allowed )\n",
    "\n",
    "y_prob_pred"
   ]
  },
  {
   "cell_type": "code",
   "execution_count": 55,
   "id": "8ab1b00a-b90e-442a-88e5-7832bf43cb2d",
   "metadata": {},
   "outputs": [
    {
     "name": "stdout",
     "output_type": "stream",
     "text": [
      "Customer 1 =>:  yes\n",
      "Customer 2 =>:  no\n"
     ]
    },
    {
     "name": "stderr",
     "output_type": "stream",
     "text": [
      "/Users/rio/anaconda3/lib/python3.9/site-packages/sklearn/base.py:450: UserWarning: X does not have valid feature names, but CategoricalNB was fitted with feature names\n",
      "  warnings.warn(\n"
     ]
    }
   ],
   "source": [
    "y_new_predict = model.predict(new_input)\n",
    "n = 1\n",
    "for i in y_new_predict:\n",
    "    print( 'Customer', n, '=>: ', y_le.classes_[i])\n",
    "    n += 1"
   ]
  },
  {
   "cell_type": "code",
   "execution_count": 57,
   "id": "43677091-61b4-4d1d-8933-491566f3f785",
   "metadata": {},
   "outputs": [
    {
     "data": {
      "text/plain": [
       "array([1, 0])"
      ]
     },
     "execution_count": 57,
     "metadata": {},
     "output_type": "execute_result"
    }
   ],
   "source": [
    "y_new_predict"
   ]
  },
  {
   "cell_type": "code",
   "execution_count": 59,
   "id": "e85aa0c4-6124-4af5-a6f0-7b87af9e28af",
   "metadata": {},
   "outputs": [
    {
     "data": {
      "text/plain": [
       "array(['no', 'yes'], dtype=object)"
      ]
     },
     "execution_count": 59,
     "metadata": {},
     "output_type": "execute_result"
    }
   ],
   "source": [
    "y_le.classes_"
   ]
  },
  {
   "cell_type": "code",
   "execution_count": 62,
   "id": "2818f88f-b54f-4b68-95ba-61b9d77b8c22",
   "metadata": {},
   "outputs": [
    {
     "data": {
      "text/plain": [
       "('yes', 'no')"
      ]
     },
     "execution_count": 62,
     "metadata": {},
     "output_type": "execute_result"
    }
   ],
   "source": [
    "y_le.classes_[1],  y_le.classes_[0]"
   ]
  },
  {
   "cell_type": "markdown",
   "id": "b3b6144d-9379-443e-97b1-d92d846be70d",
   "metadata": {},
   "source": [
    "# ถ้าอยากคำนวณเองอ่ะ ลองใช้ excel เท่ๆ"
   ]
  },
  {
   "cell_type": "code",
   "execution_count": 68,
   "id": "3edcee4c-0d24-41a3-8d1f-15be1a9ff279",
   "metadata": {},
   "outputs": [],
   "source": [
    "# assignment ส่งเป็น .ipynb และส่ง คำตอบใน assignment ด้วยเด้อ\n"
   ]
  },
  {
   "cell_type": "code",
   "execution_count": null,
   "id": "047f5e84-dac5-4637-89bd-ff811fd1344d",
   "metadata": {},
   "outputs": [],
   "source": []
  }
 ],
 "metadata": {
  "kernelspec": {
   "display_name": "Python 3 (ipykernel)",
   "language": "python",
   "name": "python3"
  },
  "language_info": {
   "codemirror_mode": {
    "name": "ipython",
    "version": 3
   },
   "file_extension": ".py",
   "mimetype": "text/x-python",
   "name": "python",
   "nbconvert_exporter": "python",
   "pygments_lexer": "ipython3",
   "version": "3.9.13"
  }
 },
 "nbformat": 4,
 "nbformat_minor": 5
}
