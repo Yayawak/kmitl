{
 "cells": [
  {
   "cell_type": "markdown",
   "id": "7676f9bb-9610-4083-9c1e-c12e55792633",
   "metadata": {},
   "source": [
    "# PI Estimation"
   ]
  },
  {
   "cell_type": "code",
   "execution_count": 1,
   "id": "12e3bdfc-7511-4e60-92f8-c489137b6318",
   "metadata": {},
   "outputs": [],
   "source": [
    "import pandas as pd\n",
    "import random \n",
    "import math\n",
    "import numpy as np\n",
    "import seaborn as sns\n",
    "import matplotlib.pyplot as plt"
   ]
  },
  {
   "cell_type": "code",
   "execution_count": 95,
   "id": "7ee89d78-0f56-47b5-beb2-8895ff0ec7f8",
   "metadata": {},
   "outputs": [
    {
     "data": {
      "text/html": [
       "<div>\n",
       "<style scoped>\n",
       "    .dataframe tbody tr th:only-of-type {\n",
       "        vertical-align: middle;\n",
       "    }\n",
       "\n",
       "    .dataframe tbody tr th {\n",
       "        vertical-align: top;\n",
       "    }\n",
       "\n",
       "    .dataframe thead th {\n",
       "        text-align: right;\n",
       "    }\n",
       "</style>\n",
       "<table border=\"1\" class=\"dataframe\">\n",
       "  <thead>\n",
       "    <tr style=\"text-align: right;\">\n",
       "      <th></th>\n",
       "      <th>Trials</th>\n",
       "      <th>PI</th>\n",
       "    </tr>\n",
       "  </thead>\n",
       "  <tbody>\n",
       "  </tbody>\n",
       "</table>\n",
       "</div>"
      ],
      "text/plain": [
       "Empty DataFrame\n",
       "Columns: [Trials, PI]\n",
       "Index: []"
      ]
     },
     "execution_count": 95,
     "metadata": {},
     "output_type": "execute_result"
    }
   ],
   "source": [
    "r = 1\n",
    "N = 1001\n",
    "d = {'Trials': [], \"PI\": []}\n",
    "\n",
    "\n",
    "df = pd.DataFrame(data=d)\n",
    "df"
   ]
  },
  {
   "cell_type": "code",
   "execution_count": null,
   "id": "388d1bed-3a84-4b45-8b24-0c1f308e1602",
   "metadata": {},
   "outputs": [],
   "source": []
  },
  {
   "cell_type": "code",
   "execution_count": 15,
   "id": "3cfe931a-93b1-43e3-8521-667c645ae2e5",
   "metadata": {},
   "outputs": [],
   "source": [
    "# random.uniform(-1.0, +1.0)"
   ]
  },
  {
   "cell_type": "code",
   "execution_count": 30,
   "id": "81eeadab-a69c-4d76-ad62-f01650e1ba00",
   "metadata": {},
   "outputs": [
    {
     "name": "stdout",
     "output_type": "stream",
     "text": [
      "777\n"
     ]
    }
   ],
   "source": [
    "circle_p = 0\n",
    "for i in range(1000):\n",
    "    x = random.uniform(-1.0, 1.0)\n",
    "    y = random.uniform(-1.0, 1.0)\n",
    "    \n",
    "    if math.sqrt(x**2 + y**2) <= r:\n",
    "        circle_p += 1\n",
    "print(circle_p)"
   ]
  },
  {
   "cell_type": "code",
   "execution_count": 45,
   "id": "c169723b-338c-43fb-8414-99f58e25c303",
   "metadata": {},
   "outputs": [],
   "source": [
    "r = 1\n",
    "N = 1001\n",
    "d = {'Trials': [], \"PI\": []}\n",
    "\n",
    "\n",
    "df = pd.DataFrame(data=d)\n",
    "\n",
    "\n",
    "# for T in range(1, 10):\n",
    "for T in range(1, N):\n",
    "    circle_p = 0\n",
    "    for i in range(T):\n",
    "        x = random.uniform(-1.0, 1.0)\n",
    "        y = random.uniform(-1.0, 1.0)\n",
    "\n",
    "        if math.sqrt(x**2 + y**2) <= r:\n",
    "            circle_p += 1\n",
    "    circle_p = 0\n",
    "    for i in range(T):\n",
    "        x = random.uniform(-1.0, 1.0)\n",
    "        y = random.uniform(-1.0, 1.0)\n",
    "\n",
    "        if math.sqrt(x**2 + y**2) <= r:\n",
    "            circle_p += 1\n",
    "    # print(circle_p)\n",
    "    \n",
    "    p_hit = 4 * (circle_p / T)\n",
    "    \n",
    "    d['Trials'].append(T)\n",
    "    d['PI'].append(p_hit)\n",
    "\n",
    "# d\n",
    "# d\n",
    "# print(d['Trials'])\n",
    "# d['PI']\n",
    "    "
   ]
  },
  {
   "cell_type": "code",
   "execution_count": 49,
   "id": "fd6ba414-cd5c-4972-850f-8c6fdde09c01",
   "metadata": {},
   "outputs": [
    {
     "data": {
      "text/html": [
       "<div>\n",
       "<style scoped>\n",
       "    .dataframe tbody tr th:only-of-type {\n",
       "        vertical-align: middle;\n",
       "    }\n",
       "\n",
       "    .dataframe tbody tr th {\n",
       "        vertical-align: top;\n",
       "    }\n",
       "\n",
       "    .dataframe thead th {\n",
       "        text-align: right;\n",
       "    }\n",
       "</style>\n",
       "<table border=\"1\" class=\"dataframe\">\n",
       "  <thead>\n",
       "    <tr style=\"text-align: right;\">\n",
       "      <th></th>\n",
       "      <th>Trials</th>\n",
       "      <th>PI</th>\n",
       "    </tr>\n",
       "  </thead>\n",
       "  <tbody>\n",
       "    <tr>\n",
       "      <th>995</th>\n",
       "      <td>996</td>\n",
       "      <td>3.048193</td>\n",
       "    </tr>\n",
       "    <tr>\n",
       "      <th>996</th>\n",
       "      <td>997</td>\n",
       "      <td>3.141424</td>\n",
       "    </tr>\n",
       "    <tr>\n",
       "      <th>997</th>\n",
       "      <td>998</td>\n",
       "      <td>3.150301</td>\n",
       "    </tr>\n",
       "    <tr>\n",
       "      <th>998</th>\n",
       "      <td>999</td>\n",
       "      <td>3.107107</td>\n",
       "    </tr>\n",
       "    <tr>\n",
       "      <th>999</th>\n",
       "      <td>1000</td>\n",
       "      <td>3.144000</td>\n",
       "    </tr>\n",
       "  </tbody>\n",
       "</table>\n",
       "</div>"
      ],
      "text/plain": [
       "     Trials        PI\n",
       "995     996  3.048193\n",
       "996     997  3.141424\n",
       "997     998  3.150301\n",
       "998     999  3.107107\n",
       "999    1000  3.144000"
      ]
     },
     "execution_count": 49,
     "metadata": {},
     "output_type": "execute_result"
    }
   ],
   "source": [
    "pi_es_df = pd.DataFrame(data=d)\n",
    "# pi_es_df.head()\n",
    "pi_es_df.tail()"
   ]
  },
  {
   "cell_type": "code",
   "execution_count": 66,
   "id": "25c28185-6833-4a1e-ac88-53d206842390",
   "metadata": {},
   "outputs": [
    {
     "data": {
      "image/png": "[encoded data removed]",
      "text/plain": [
       "<Figure size 1000x700 with 1 Axes>"
      ]
     },
     "metadata": {},
     "output_type": "display_data"
    }
   ],
   "source": [
    "plt.figure(figsize=(10, 7))\n",
    "# sns.scatterplot(x='Trials', y='PI', s=30,\n",
    "#                       marker='o', data=pi_es_df[:])\n",
    "plot = sns.scatterplot(x='Trials', y='PI', s=30,\n",
    "                      marker='o', data=pi_es_df[:])\n",
    "plot.set_title(\"Monte\")\n",
    "# plot.set_xlabel(u\"ลูกดอก\")\n",
    "plot.set(xlabel='Trials', ylabel=\"PI estimation\")\n",
    "# pl\n",
    "\n",
    "plt.axhline(y=math.pi, color='r', linestyle='--')\n",
    "\n",
    "plt.show()\n",
    "# plot.set()"
   ]
  },
  {
   "cell_type": "code",
   "execution_count": 97,
   "id": "3105402c-5cda-467c-bef2-fd6ad385bdaa",
   "metadata": {},
   "outputs": [],
   "source": [
    "avg = 1\n",
    "std_dev = .1\n",
    "num_reps = 500\n",
    "# pct_to_target = np.r"
   ]
  },
  {
   "cell_type": "code",
   "execution_count": 110,
   "id": "c19a4614-11d7-4b9d-a576-e7825e5a145a",
   "metadata": {},
   "outputs": [],
   "source": [
    "pct_to_target = np.random.normal(avg, std_dev, num_reps).round(2)\n",
    "# pct_to_target "
   ]
  },
  {
   "cell_type": "code",
   "execution_count": 111,
   "id": "d9cfe90c-eef6-4fbf-a150-f6a02f62a9f8",
   "metadata": {},
   "outputs": [
    {
     "data": {
      "image/png": "[encoded data removed]",
      "text/plain": [
       "<Figure size 640x480 with 1 Axes>"
      ]
     },
     "metadata": {},
     "output_type": "display_data"
    }
   ],
   "source": [
    "x = np.random.normal(170, 10, 1000).round(2)\n",
    "# plt.hist(x)\n",
    "# plt.plot(x)\n",
    "plt.hist(x,bins=500)\n",
    "\n",
    "plt.show()"
   ]
  },
  {
   "cell_type": "code",
   "execution_count": 112,
   "id": "49f6cf15-dded-4cf7-95c7-b26f00181de2",
   "metadata": {},
   "outputs": [],
   "source": [
    "sales_target_values = [75_000, 100_000, 200_000, 300_000, 400_000, 500_000]\n",
    "sales_target_prob = [.3, .3, .2, .1, .05, .05]\n",
    "\n",
    "sales_target = np.random.choice(sales_target_values, num_reps, p=sales_target_prob)\n",
    "\n",
    "# sales_target"
   ]
  },
  {
   "cell_type": "code",
   "execution_count": 113,
   "id": "576cf1ab-31ba-4009-a9ff-8165bd26cefe",
   "metadata": {},
   "outputs": [
    {
     "data": {
      "text/html": [
       "<div>\n",
       "<style scoped>\n",
       "    .dataframe tbody tr th:only-of-type {\n",
       "        vertical-align: middle;\n",
       "    }\n",
       "\n",
       "    .dataframe tbody tr th {\n",
       "        vertical-align: top;\n",
       "    }\n",
       "\n",
       "    .dataframe thead th {\n",
       "        text-align: right;\n",
       "    }\n",
       "</style>\n",
       "<table border=\"1\" class=\"dataframe\">\n",
       "  <thead>\n",
       "    <tr style=\"text-align: right;\">\n",
       "      <th></th>\n",
       "      <th>Pct_To_target</th>\n",
       "      <th>Sales_Target</th>\n",
       "    </tr>\n",
       "  </thead>\n",
       "  <tbody>\n",
       "    <tr>\n",
       "      <th>0</th>\n",
       "      <td>1.06</td>\n",
       "      <td>500000</td>\n",
       "    </tr>\n",
       "    <tr>\n",
       "      <th>1</th>\n",
       "      <td>1.08</td>\n",
       "      <td>100000</td>\n",
       "    </tr>\n",
       "    <tr>\n",
       "      <th>2</th>\n",
       "      <td>1.08</td>\n",
       "      <td>75000</td>\n",
       "    </tr>\n",
       "    <tr>\n",
       "      <th>3</th>\n",
       "      <td>1.13</td>\n",
       "      <td>75000</td>\n",
       "    </tr>\n",
       "    <tr>\n",
       "      <th>4</th>\n",
       "      <td>0.93</td>\n",
       "      <td>300000</td>\n",
       "    </tr>\n",
       "  </tbody>\n",
       "</table>\n",
       "</div>"
      ],
      "text/plain": [
       "   Pct_To_target  Sales_Target\n",
       "0           1.06        500000\n",
       "1           1.08        100000\n",
       "2           1.08         75000\n",
       "3           1.13         75000\n",
       "4           0.93        300000"
      ]
     },
     "execution_count": 113,
     "metadata": {},
     "output_type": "execute_result"
    }
   ],
   "source": [
    "df = pd.DataFrame(index=range(num_reps),\n",
    "                 data={'Pct_To_target': pct_to_target,\n",
    "                      'Sales_Target': sales_target})\n",
    "df.head()"
   ]
  },
  {
   "cell_type": "code",
   "execution_count": 114,
   "id": "41fd0d60-8964-4ec6-8b14-778cf4cce8a0",
   "metadata": {},
   "outputs": [
    {
     "data": {
      "text/html": [
       "<div>\n",
       "<style scoped>\n",
       "    .dataframe tbody tr th:only-of-type {\n",
       "        vertical-align: middle;\n",
       "    }\n",
       "\n",
       "    .dataframe tbody tr th {\n",
       "        vertical-align: top;\n",
       "    }\n",
       "\n",
       "    .dataframe thead th {\n",
       "        text-align: right;\n",
       "    }\n",
       "</style>\n",
       "<table border=\"1\" class=\"dataframe\">\n",
       "  <thead>\n",
       "    <tr style=\"text-align: right;\">\n",
       "      <th></th>\n",
       "      <th>Pct_To_target</th>\n",
       "      <th>Sales_Target</th>\n",
       "      <th>Sales</th>\n",
       "    </tr>\n",
       "  </thead>\n",
       "  <tbody>\n",
       "    <tr>\n",
       "      <th>0</th>\n",
       "      <td>1.06</td>\n",
       "      <td>500000</td>\n",
       "      <td>530000.0</td>\n",
       "    </tr>\n",
       "    <tr>\n",
       "      <th>1</th>\n",
       "      <td>1.08</td>\n",
       "      <td>100000</td>\n",
       "      <td>108000.0</td>\n",
       "    </tr>\n",
       "    <tr>\n",
       "      <th>2</th>\n",
       "      <td>1.08</td>\n",
       "      <td>75000</td>\n",
       "      <td>81000.0</td>\n",
       "    </tr>\n",
       "    <tr>\n",
       "      <th>3</th>\n",
       "      <td>1.13</td>\n",
       "      <td>75000</td>\n",
       "      <td>84750.0</td>\n",
       "    </tr>\n",
       "    <tr>\n",
       "      <th>4</th>\n",
       "      <td>0.93</td>\n",
       "      <td>300000</td>\n",
       "      <td>279000.0</td>\n",
       "    </tr>\n",
       "  </tbody>\n",
       "</table>\n",
       "</div>"
      ],
      "text/plain": [
       "   Pct_To_target  Sales_Target     Sales\n",
       "0           1.06        500000  530000.0\n",
       "1           1.08        100000  108000.0\n",
       "2           1.08         75000   81000.0\n",
       "3           1.13         75000   84750.0\n",
       "4           0.93        300000  279000.0"
      ]
     },
     "execution_count": 114,
     "metadata": {},
     "output_type": "execute_result"
    }
   ],
   "source": [
    "df['Sales'] = df.Pct_To_target * df.Sales_Target\n",
    "df.head()"
   ]
  },
  {
   "cell_type": "code",
   "execution_count": 115,
   "id": "bd64b732-67cf-435f-b224-2f7e1820928f",
   "metadata": {},
   "outputs": [
    {
     "data": {
      "text/plain": [
       "<AxesSubplot:title={'center':'Percent to Traget Distribution'}, ylabel='Frequency'>"
      ]
     },
     "execution_count": 115,
     "metadata": {},
     "output_type": "execute_result"
    },
    {
     "data": {
      "image/png": "[encoded data removed]",
      "text/plain": [
       "<Figure size 640x480 with 1 Axes>"
      ]
     },
     "metadata": {},
     "output_type": "display_data"
    }
   ],
   "source": [
    "df.Pct_To_target.plot(kind='hist', title='Percent to Traget Distribution')"
   ]
  },
  {
   "cell_type": "code",
   "execution_count": 116,
   "id": "478a5926-e3c1-43b1-bd24-faf13b3f4914",
   "metadata": {},
   "outputs": [
    {
     "data": {
      "text/plain": [
       "<AxesSubplot:xlabel='Sales_Target', ylabel='count'>"
      ]
     },
     "execution_count": 116,
     "metadata": {},
     "output_type": "execute_result"
    },
    {
     "data": {
      "image/png": "[encoded data removed]",
      "text/plain": [
       "<Figure size 640x480 with 1 Axes>"
      ]
     },
     "metadata": {},
     "output_type": "display_data"
    }
   ],
   "source": [
    "sns.countplot(x=df.Sales_Target, palette='Set2')"
   ]
  },
  {
   "cell_type": "code",
   "execution_count": 118,
   "id": "3363a682-2927-48a9-a026-3240c9694f82",
   "metadata": {},
   "outputs": [],
   "source": [
    "def calc_cms_rate(x):\n",
    "    return .02 if x <= .9 else (\n",
    "        .3 if x <= .99 else .04\n",
    "    )"
   ]
  },
  {
   "cell_type": "code",
   "execution_count": 119,
   "id": "52bd2b3f-09b9-4764-a09f-7cf59c3b7ad6",
   "metadata": {},
   "outputs": [
    {
     "data": {
      "text/plain": [
       "0.02"
      ]
     },
     "execution_count": 119,
     "metadata": {},
     "output_type": "execute_result"
    }
   ],
   "source": [
    "calc_cms_rate(.5)"
   ]
  },
  {
   "cell_type": "code",
   "execution_count": 120,
   "id": "aafacb6c-0240-49ca-b919-a36b5c08140a",
   "metadata": {},
   "outputs": [
    {
     "data": {
      "text/plain": [
       "0.04"
      ]
     },
     "execution_count": 120,
     "metadata": {},
     "output_type": "execute_result"
    }
   ],
   "source": [
    "calc_cms_rate(5)"
   ]
  },
  {
   "cell_type": "code",
   "execution_count": 121,
   "id": "f7fe450e-6d9c-4446-a00d-bfd4d2fe3606",
   "metadata": {},
   "outputs": [],
   "source": [
    "df['Commission_Rate'] = df.Pct_To_target.apply(\n",
    "    calc_cms_rate\n",
    ")"
   ]
  },
  {
   "cell_type": "code",
   "execution_count": 122,
   "id": "fd111600-8e1c-4c87-beb6-1e1eb9c19db6",
   "metadata": {},
   "outputs": [
    {
     "data": {
      "text/html": [
       "<div>\n",
       "<style scoped>\n",
       "    .dataframe tbody tr th:only-of-type {\n",
       "        vertical-align: middle;\n",
       "    }\n",
       "\n",
       "    .dataframe tbody tr th {\n",
       "        vertical-align: top;\n",
       "    }\n",
       "\n",
       "    .dataframe thead th {\n",
       "        text-align: right;\n",
       "    }\n",
       "</style>\n",
       "<table border=\"1\" class=\"dataframe\">\n",
       "  <thead>\n",
       "    <tr style=\"text-align: right;\">\n",
       "      <th></th>\n",
       "      <th>Pct_To_target</th>\n",
       "      <th>Sales_Target</th>\n",
       "      <th>Sales</th>\n",
       "      <th>Commission_Rate</th>\n",
       "    </tr>\n",
       "  </thead>\n",
       "  <tbody>\n",
       "    <tr>\n",
       "      <th>0</th>\n",
       "      <td>1.06</td>\n",
       "      <td>500000</td>\n",
       "      <td>530000.0</td>\n",
       "      <td>0.04</td>\n",
       "    </tr>\n",
       "    <tr>\n",
       "      <th>1</th>\n",
       "      <td>1.08</td>\n",
       "      <td>100000</td>\n",
       "      <td>108000.0</td>\n",
       "      <td>0.04</td>\n",
       "    </tr>\n",
       "    <tr>\n",
       "      <th>2</th>\n",
       "      <td>1.08</td>\n",
       "      <td>75000</td>\n",
       "      <td>81000.0</td>\n",
       "      <td>0.04</td>\n",
       "    </tr>\n",
       "    <tr>\n",
       "      <th>3</th>\n",
       "      <td>1.13</td>\n",
       "      <td>75000</td>\n",
       "      <td>84750.0</td>\n",
       "      <td>0.04</td>\n",
       "    </tr>\n",
       "    <tr>\n",
       "      <th>4</th>\n",
       "      <td>0.93</td>\n",
       "      <td>300000</td>\n",
       "      <td>279000.0</td>\n",
       "      <td>0.30</td>\n",
       "    </tr>\n",
       "  </tbody>\n",
       "</table>\n",
       "</div>"
      ],
      "text/plain": [
       "   Pct_To_target  Sales_Target     Sales  Commission_Rate\n",
       "0           1.06        500000  530000.0             0.04\n",
       "1           1.08        100000  108000.0             0.04\n",
       "2           1.08         75000   81000.0             0.04\n",
       "3           1.13         75000   84750.0             0.04\n",
       "4           0.93        300000  279000.0             0.30"
      ]
     },
     "execution_count": 122,
     "metadata": {},
     "output_type": "execute_result"
    }
   ],
   "source": [
    "df.head()"
   ]
  },
  {
   "cell_type": "code",
   "execution_count": 125,
   "id": "fb826329-c957-49d4-a66e-261477b0c84a",
   "metadata": {},
   "outputs": [
    {
     "data": {
      "text/html": [
       "<div>\n",
       "<style scoped>\n",
       "    .dataframe tbody tr th:only-of-type {\n",
       "        vertical-align: middle;\n",
       "    }\n",
       "\n",
       "    .dataframe tbody tr th {\n",
       "        vertical-align: top;\n",
       "    }\n",
       "\n",
       "    .dataframe thead th {\n",
       "        text-align: right;\n",
       "    }\n",
       "</style>\n",
       "<table border=\"1\" class=\"dataframe\">\n",
       "  <thead>\n",
       "    <tr style=\"text-align: right;\">\n",
       "      <th></th>\n",
       "      <th>Pct_To_target</th>\n",
       "      <th>Sales_Target</th>\n",
       "      <th>Sales</th>\n",
       "      <th>Commission_Rate</th>\n",
       "      <th>Commission_Amount</th>\n",
       "    </tr>\n",
       "  </thead>\n",
       "  <tbody>\n",
       "    <tr>\n",
       "      <th>0</th>\n",
       "      <td>1.06</td>\n",
       "      <td>500000</td>\n",
       "      <td>530000.0</td>\n",
       "      <td>0.04</td>\n",
       "      <td>21200.0</td>\n",
       "    </tr>\n",
       "    <tr>\n",
       "      <th>1</th>\n",
       "      <td>1.08</td>\n",
       "      <td>100000</td>\n",
       "      <td>108000.0</td>\n",
       "      <td>0.04</td>\n",
       "      <td>4320.0</td>\n",
       "    </tr>\n",
       "    <tr>\n",
       "      <th>2</th>\n",
       "      <td>1.08</td>\n",
       "      <td>75000</td>\n",
       "      <td>81000.0</td>\n",
       "      <td>0.04</td>\n",
       "      <td>3240.0</td>\n",
       "    </tr>\n",
       "    <tr>\n",
       "      <th>3</th>\n",
       "      <td>1.13</td>\n",
       "      <td>75000</td>\n",
       "      <td>84750.0</td>\n",
       "      <td>0.04</td>\n",
       "      <td>3390.0</td>\n",
       "    </tr>\n",
       "    <tr>\n",
       "      <th>4</th>\n",
       "      <td>0.93</td>\n",
       "      <td>300000</td>\n",
       "      <td>279000.0</td>\n",
       "      <td>0.30</td>\n",
       "      <td>83700.0</td>\n",
       "    </tr>\n",
       "  </tbody>\n",
       "</table>\n",
       "</div>"
      ],
      "text/plain": [
       "   Pct_To_target  Sales_Target     Sales  Commission_Rate  Commission_Amount\n",
       "0           1.06        500000  530000.0             0.04            21200.0\n",
       "1           1.08        100000  108000.0             0.04             4320.0\n",
       "2           1.08         75000   81000.0             0.04             3240.0\n",
       "3           1.13         75000   84750.0             0.04             3390.0\n",
       "4           0.93        300000  279000.0             0.30            83700.0"
      ]
     },
     "execution_count": 125,
     "metadata": {},
     "output_type": "execute_result"
    }
   ],
   "source": [
    "df['Commission_Amount'] = df['Commission_Rate'] * df['Sales']\n",
    "df.head()"
   ]
  },
  {
   "cell_type": "code",
   "execution_count": 131,
   "id": "9295dc9c-231d-45b2-b9a6-4c9dbd652ade",
   "metadata": {},
   "outputs": [
    {
     "data": {
      "text/plain": [
       "[[87299000.0, 10573890.0, 87600000],\n",
       " [84747500.0, 9006415.0, 85075000],\n",
       " [83801250.0, 9324970.0, 82875000],\n",
       " [82684000.0, 9166250.0, 83475000],\n",
       " [84639250.0, 10657355.0, 84725000]]"
      ]
     },
     "execution_count": 131,
     "metadata": {},
     "output_type": "execute_result"
    }
   ],
   "source": [
    "num_simulations = 1000\n",
    "all_stats = []\n",
    "# Loop through many simulations\n",
    "for i in range(num_simulations):\n",
    "    # Choose random inputs for the sales targets and percent to target\n",
    "    sales_target = np.random.choice(sales_target_values, num_reps, p=sales_target_prob)\n",
    "    pct_to_target = np.random.normal(avg, std_dev, num_reps).round(2)\n",
    "    # Build the dataframe based on the inputs and number of reps\n",
    "    df = pd.DataFrame(index=range(num_reps), data={'Pct_To_Target': pct_to_target,\n",
    "                                                   'Sales_Target': sales_target})\n",
    "\n",
    "    # Back into the sales number using the percent to target rate\n",
    "    df['Sales'] = df['Pct_To_Target'] * df['Sales_Target']\n",
    "    # Determine the commissions rate and calculate it\n",
    "    df['Commission_Rate'] = df['Pct_To_Target'].apply(calc_cms_rate)\n",
    "    df['Commission_Amount'] = df['Commission_Rate'] * df['Sales']\n",
    "    # We want to track sales,commission amounts and sales targets over all the simulations\n",
    "    all_stats.append([df['Sales'].sum().round(0),\n",
    "\n",
    "  df['Commission_Amount'].sum().round(0),\n",
    "  df['Sales_Target'].sum().round(0)])\n",
    "\n",
    "all_stats[:5]"
   ]
  },
  {
   "cell_type": "code",
   "execution_count": 132,
   "id": "573d818c-b101-40b5-a28a-8b1f364356c4",
   "metadata": {},
   "outputs": [],
   "source": [
    "results_d = pd.DataFrame.from_records(all_stats, columns=[\n",
    "    'Sales', 'Commission_Amount', 'Sales_Target'\n",
    "])"
   ]
  },
  {
   "cell_type": "code",
   "execution_count": 133,
   "id": "bf4ab45f-865b-4c3f-994c-09e7199a030f",
   "metadata": {},
   "outputs": [
    {
     "data": {
      "text/html": [
       "<div>\n",
       "<style scoped>\n",
       "    .dataframe tbody tr th:only-of-type {\n",
       "        vertical-align: middle;\n",
       "    }\n",
       "\n",
       "    .dataframe tbody tr th {\n",
       "        vertical-align: top;\n",
       "    }\n",
       "\n",
       "    .dataframe thead th {\n",
       "        text-align: right;\n",
       "    }\n",
       "</style>\n",
       "<table border=\"1\" class=\"dataframe\">\n",
       "  <thead>\n",
       "    <tr style=\"text-align: right;\">\n",
       "      <th></th>\n",
       "      <th>Sales</th>\n",
       "      <th>Commission_Amount</th>\n",
       "      <th>Sales_Target</th>\n",
       "    </tr>\n",
       "  </thead>\n",
       "  <tbody>\n",
       "    <tr>\n",
       "      <th>0</th>\n",
       "      <td>87299000.0</td>\n",
       "      <td>10573890.0</td>\n",
       "      <td>87600000</td>\n",
       "    </tr>\n",
       "    <tr>\n",
       "      <th>1</th>\n",
       "      <td>84747500.0</td>\n",
       "      <td>9006415.0</td>\n",
       "      <td>85075000</td>\n",
       "    </tr>\n",
       "    <tr>\n",
       "      <th>2</th>\n",
       "      <td>83801250.0</td>\n",
       "      <td>9324970.0</td>\n",
       "      <td>82875000</td>\n",
       "    </tr>\n",
       "    <tr>\n",
       "      <th>3</th>\n",
       "      <td>82684000.0</td>\n",
       "      <td>9166250.0</td>\n",
       "      <td>83475000</td>\n",
       "    </tr>\n",
       "    <tr>\n",
       "      <th>4</th>\n",
       "      <td>84639250.0</td>\n",
       "      <td>10657355.0</td>\n",
       "      <td>84725000</td>\n",
       "    </tr>\n",
       "    <tr>\n",
       "      <th>...</th>\n",
       "      <td>...</td>\n",
       "      <td>...</td>\n",
       "      <td>...</td>\n",
       "    </tr>\n",
       "    <tr>\n",
       "      <th>995</th>\n",
       "      <td>86183250.0</td>\n",
       "      <td>10466380.0</td>\n",
       "      <td>85650000</td>\n",
       "    </tr>\n",
       "    <tr>\n",
       "      <th>996</th>\n",
       "      <td>84132500.0</td>\n",
       "      <td>10609610.0</td>\n",
       "      <td>84525000</td>\n",
       "    </tr>\n",
       "    <tr>\n",
       "      <th>997</th>\n",
       "      <td>83361000.0</td>\n",
       "      <td>9246355.0</td>\n",
       "      <td>83625000</td>\n",
       "    </tr>\n",
       "    <tr>\n",
       "      <th>998</th>\n",
       "      <td>80236500.0</td>\n",
       "      <td>9058340.0</td>\n",
       "      <td>80950000</td>\n",
       "    </tr>\n",
       "    <tr>\n",
       "      <th>999</th>\n",
       "      <td>83076750.0</td>\n",
       "      <td>7636135.0</td>\n",
       "      <td>82850000</td>\n",
       "    </tr>\n",
       "  </tbody>\n",
       "</table>\n",
       "<p>1000 rows × 3 columns</p>\n",
       "</div>"
      ],
      "text/plain": [
       "          Sales  Commission_Amount  Sales_Target\n",
       "0    87299000.0         10573890.0      87600000\n",
       "1    84747500.0          9006415.0      85075000\n",
       "2    83801250.0          9324970.0      82875000\n",
       "3    82684000.0          9166250.0      83475000\n",
       "4    84639250.0         10657355.0      84725000\n",
       "..          ...                ...           ...\n",
       "995  86183250.0         10466380.0      85650000\n",
       "996  84132500.0         10609610.0      84525000\n",
       "997  83361000.0          9246355.0      83625000\n",
       "998  80236500.0          9058340.0      80950000\n",
       "999  83076750.0          7636135.0      82850000\n",
       "\n",
       "[1000 rows x 3 columns]"
      ]
     },
     "execution_count": 133,
     "metadata": {},
     "output_type": "execute_result"
    }
   ],
   "source": [
    "results_d"
   ]
  },
  {
   "cell_type": "code",
   "execution_count": 134,
   "id": "91703004-82b7-41d1-850e-126979463bd1",
   "metadata": {},
   "outputs": [
    {
     "data": {
      "text/plain": [
       "<AxesSubplot:ylabel='Frequency'>"
      ]
     },
     "execution_count": 134,
     "metadata": {},
     "output_type": "execute_result"
    },
    {
     "data": {
      "image/png": "[encoded data removed]",
      "text/plain": [
       "<Figure size 640x480 with 1 Axes>"
      ]
     },
     "metadata": {},
     "output_type": "display_data"
    }
   ],
   "source": [
    "results_d.Commission_Amount.plot(kind='hist')"
   ]
  },
  {
   "cell_type": "code",
   "execution_count": null,
   "id": "c9ab115a-e333-4ba3-a660-27a2ca47bdd8",
   "metadata": {},
   "outputs": [],
   "source": []
  }
 ],
 "metadata": {
  "kernelspec": {
   "display_name": "Python 3 (ipykernel)",
   "language": "python",
   "name": "python3"
  },
  "language_info": {
   "codemirror_mode": {
    "name": "ipython",
    "version": 3
   },
   "file_extension": ".py",
   "mimetype": "text/x-python",
   "name": "python",
   "nbconvert_exporter": "python",
   "pygments_lexer": "ipython3",
   "version": "3.9.13"
  }
 },
 "nbformat": 4,
 "nbformat_minor": 5
}
