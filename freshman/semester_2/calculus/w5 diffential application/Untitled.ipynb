{
 "cells": [
  {
   "cell_type": "code",
   "execution_count": 2,
   "id": "1a2df61c-43ef-4e0d-b9de-b024aa81a174",
   "metadata": {},
   "outputs": [],
   "source": [
    "import numpy as np\n",
    "def f(x):\n",
    "    return (np.e**x) / (1 + x**2)"
   ]
  },
  {
   "cell_type": "code",
   "execution_count": 3,
   "id": "7a402e55-6440-4c5e-a271-f8600b39840f",
   "metadata": {},
   "outputs": [
    {
     "data": {
      "text/plain": [
       "0.027067056647322542"
      ]
     },
     "execution_count": 3,
     "metadata": {},
     "output_type": "execute_result"
    }
   ],
   "source": [
    "f(-2)"
   ]
  },
  {
   "cell_type": "code",
   "execution_count": 5,
   "id": "77b917e3-ae8e-4812-bd51-22d0c0bac472",
   "metadata": {},
   "outputs": [
    {
     "name": "stdout",
     "output_type": "stream",
     "text": [
      "0.027067056647322542\n",
      "1.3591409142295225\n",
      "1.0\n",
      "2.0085536923187663\n"
     ]
    }
   ],
   "source": [
    "for e in [-2, 1, 0, 3]:\n",
    "    print(f(e))"
   ]
  },
  {
   "cell_type": "code",
   "execution_count": null,
   "id": "e68b7869-0606-49a6-8220-34fcc1e2a2f4",
   "metadata": {},
   "outputs": [],
   "source": [
    "i"
   ]
  }
 ],
 "metadata": {
  "kernelspec": {
   "display_name": "Python 3 (ipykernel)",
   "language": "python",
   "name": "python3"
  },
  "language_info": {
   "codemirror_mode": {
    "name": "ipython",
    "version": 3
   },
   "file_extension": ".py",
   "mimetype": "text/x-python",
   "name": "python",
   "nbconvert_exporter": "python",
   "pygments_lexer": "ipython3",
   "version": "3.9.13"
  }
 },
 "nbformat": 4,
 "nbformat_minor": 5
}
