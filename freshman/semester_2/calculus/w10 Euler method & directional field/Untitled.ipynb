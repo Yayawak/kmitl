{
 "cells": [
  {
   "cell_type": "code",
   "execution_count": 2,
   "id": "7a5c46d4-6aed-42a9-bb67-09527179f2a7",
   "metadata": {},
   "outputs": [],
   "source": [
    "import numpy as np\n",
    "import matplotlib.pyplot as plt"
   ]
  },
  {
   "cell_type": "code",
   "execution_count": 79,
   "id": "27b6bd6f-bd86-44ff-8f09-fcb08c9dc15c",
   "metadata": {},
   "outputs": [],
   "source": [
    "# def slope_fn(x, y):\n",
    "#     return (3 * (x ** 2)) * (2 - y)\n",
    "# def slope_fn(vec):\n",
    "#     return (3 * (vec.x ** 2)) * (2 - vec.y)"
   ]
  },
  {
   "cell_type": "code",
   "execution_count": 80,
   "id": "3ab3a4b6-fcd6-4d96-be26-fde1158f18ec",
   "metadata": {},
   "outputs": [],
   "source": [
    "# slope_fn(Vector2(0, 2))"
   ]
  },
  {
   "cell_type": "code",
   "execution_count": 81,
   "id": "c7fca008-f5a1-4055-8325-9b9d1752a902",
   "metadata": {},
   "outputs": [],
   "source": [
    "# def getNextY(prevX, prevY, deltaX):\n",
    "#     return prevY + slope_fn(prevX, prevY) * deltaX\n",
    "def getNextVec(prevVec, deltaX):\n",
    "    y =  prevVec.y + slope_fn(prevVec) * deltaX\n",
    "    x = prevVec.x + deltaX\n",
    "    return Vector2(x, y)"
   ]
  },
  {
   "cell_type": "code",
   "execution_count": 82,
   "id": "1e19786f-dd68-4f78-9f63-db02a8371deb",
   "metadata": {},
   "outputs": [],
   "source": [
    "class Vector2:\n",
    "    def __init__(self, x, y):\n",
    "        self.x = x\n",
    "        self.y = y\n",
    "    # @staticmethod\n",
    "    # def \n",
    "    def __add__(self, v2):\n",
    "        v3 = Vector2(self.x + v2.x, self.y + v2.y)\n",
    "        return v3\n",
    "    def __repr__(self):\n",
    "        return f\"Vector2({self.x}, {self.y})\"\n",
    "    def copy(self):\n",
    "        return Vector2(self.x, self.y)\n",
    "    "
   ]
  },
  {
   "cell_type": "code",
   "execution_count": 83,
   "id": "02491acd-5cc5-4546-8bd1-399caa3b1680",
   "metadata": {},
   "outputs": [],
   "source": [
    "initXY = Vector2(0, 3)"
   ]
  },
  {
   "cell_type": "code",
   "execution_count": 84,
   "id": "c7be17ad-5582-42c9-ae67-845cc6dd750d",
   "metadata": {},
   "outputs": [
    {
     "data": {
      "text/plain": [
       "0"
      ]
     },
     "execution_count": 84,
     "metadata": {},
     "output_type": "execute_result"
    }
   ],
   "source": [
    "slope_fn(initXY)"
   ]
  },
  {
   "cell_type": "code",
   "execution_count": 85,
   "id": "e02bb8f9-6536-44cd-a40c-07b8124a3824",
   "metadata": {},
   "outputs": [
    {
     "data": {
      "text/plain": [
       "Vector2(1, 3)"
      ]
     },
     "execution_count": 85,
     "metadata": {},
     "output_type": "execute_result"
    }
   ],
   "source": [
    "h = 1\n",
    "getNextVec(initXY, h)"
   ]
  },
  {
   "cell_type": "code",
   "execution_count": 86,
   "id": "1e1ee1c8-43fc-4c5f-9c0e-75801aa0c7ff",
   "metadata": {},
   "outputs": [
    {
     "data": {
      "text/plain": [
       "Vector2(2, 0)"
      ]
     },
     "execution_count": 86,
     "metadata": {},
     "output_type": "execute_result"
    }
   ],
   "source": [
    "getNextVec(getNextVec(initXY, h), h)"
   ]
  },
  {
   "cell_type": "code",
   "execution_count": 87,
   "id": "4a3e938b-54c9-48ee-b544-3111673373fa",
   "metadata": {},
   "outputs": [
    {
     "data": {
      "text/plain": [
       "Vector2(3, 24)"
      ]
     },
     "execution_count": 87,
     "metadata": {},
     "output_type": "execute_result"
    }
   ],
   "source": [
    "getNextVec(initXY, h)\n",
    "getNextVec(getNextVec(getNextVec(initXY, h), h), h)"
   ]
  },
  {
   "cell_type": "code",
   "execution_count": 88,
   "id": "12ded6c2-df4a-4eb7-a7d7-2dcdb9e471fa",
   "metadata": {},
   "outputs": [
    {
     "data": {
      "text/plain": [
       "Vector2(1, 3)"
      ]
     },
     "execution_count": 88,
     "metadata": {},
     "output_type": "execute_result"
    }
   ],
   "source": [
    "wantedY = 0.6\n",
    "initXY = Vector2(0, 3)\n",
    "tempVec = initXY.copy()\n",
    "h = 1\n",
    "while (tempVec.x <= 0.6):\n",
    "    tempVec = getNextVec(tempVec, h)\n",
    "tempVec"
   ]
  },
  {
   "cell_type": "code",
   "execution_count": 105,
   "id": "e99e76c5-c1ae-4fce-906a-9681ba4dffe2",
   "metadata": {},
   "outputs": [
    {
     "data": {
      "image/png": "[encoded data removed]",
      "text/plain": [
       "<Figure size 600x200 with 1 Axes>"
      ]
     },
     "metadata": {},
     "output_type": "display_data"
    },
    {
     "name": "stdout",
     "output_type": "stream",
     "text": [
      "if x = 2 --> approximated y = 1.9999995290727688\n"
     ]
    }
   ],
   "source": [
    "import math, random\n",
    "import matplotlib.pyplot as plt\n",
    "import numpy as np\n",
    "import threading\n",
    "\n",
    "\n",
    "class Vector2:\n",
    "    def __init__(self, x, y):\n",
    "        self.x = x\n",
    "        self.y = y\n",
    "    def __add__(self, v2):\n",
    "        v3 = Vector2(self.x + v2.x, self.y + v2.y)\n",
    "        return v3\n",
    "    def __repr__(self):\n",
    "        return f\"Vector2({self.x}, {self.y})\"\n",
    "    def copy(self):\n",
    "        return Vector2(self.x, self.y)\n",
    "    \n",
    "\n",
    "class EulerMethod:\n",
    "    def __init__(self, slope_expression, init_value_vector):\n",
    "        self.slope_expression = slope_expression\n",
    "        self.init_value_vector = init_value_vector\n",
    "        \n",
    "    def slope_fn(self, prevVec):\n",
    "        # return (3 * (vec.x ** 2)) * (2 - vec.y)\n",
    "        # return eval(self.slope_expression)\n",
    "        return self.slope_expression(prevVec)\n",
    "    # (3 * (vec.x ** 2)) * (2 - vec.y)\n",
    "    \n",
    "    def __getNextVec(self, prevVec, deltaX):\n",
    "        y =  prevVec.y + self.slope_fn(prevVec) * deltaX\n",
    "        x = prevVec.x + deltaX\n",
    "        return Vector2(x, y)\n",
    "\n",
    "    def approximateY(self, x, deltaX, isPlot):\n",
    "        tempVec = self.init_value_vector.copy()\n",
    "        # p = plt.plot([tempVec.x], [tempVec.y])\n",
    "        xArr = [tempVec.x]\n",
    "        yArr = [tempVec.y]\n",
    "        while (tempVec.x < x):\n",
    "            tempVec = self.__getNextVec(tempVec, deltaX)\n",
    "            # p = plt.plot([tempVec.x], [tempVec.y])\n",
    "            xArr += [tempVec.x]\n",
    "            yArr += [tempVec.y]\n",
    "            # print(tempVec)\n",
    "        # plt.plot(xArr, yArr)\n",
    "        if isPlot:\n",
    "            plt.figure(figsize=(6,2))\n",
    "            c = random.choice(['g', 'orange', 'm', 'b', 'y', 'C9'])\n",
    "            plt.scatter(xArr, yArr, s=10, c=c)\n",
    "            plt.axhline(y=yArr[-1], color='r', linestyle='--')\n",
    "            plt.show()\n",
    "        \n",
    "        print(f\"if x = {x} --> approximated y = {tempVec.y}\")\n",
    "        return tempVec.y\n",
    "    \n",
    "if __name__ == \"__main__\":\n",
    "    # \"(3 * (vec.x ** 2)) * (2 - vec.y)\"\n",
    "    em = EulerMethod(\n",
    "        lambda vec: (3 * (vec.x ** 2)) * (2 - vec.y) , \n",
    "       Vector2(0, 3))\n",
    "    h = 0.1\n",
    "    x = 2\n",
    "    apxY = em.approximateY(x, h, isPlot=True)\n",
    "    # print(f\"if x = {x} --> approximated y = {apxY}\")"
   ]
  },
  {
   "cell_type": "code",
   "execution_count": 116,
   "id": "88852840-43d9-4665-9b57-b9ed11c9b971",
   "metadata": {},
   "outputs": [
    {
     "data": {
      "image/png": "[encoded data removed]",
      "text/plain": [
       "<Figure size 600x200 with 1 Axes>"
      ]
     },
     "metadata": {},
     "output_type": "display_data"
    },
    {
     "name": "stdout",
     "output_type": "stream",
     "text": [
      "if x = 2 --> approximated y = 0.0\n"
     ]
    },
    {
     "data": {
      "image/png": "[encoded data removed]",
      "text/plain": [
       "<Figure size 600x200 with 1 Axes>"
      ]
     },
     "metadata": {},
     "output_type": "display_data"
    },
    {
     "name": "stdout",
     "output_type": "stream",
     "text": [
      "if x = 2 --> approximated y = 1.9999995290727688\n"
     ]
    },
    {
     "data": {
      "image/png": "[encoded data removed]",
      "text/plain": [
       "<Figure size 600x200 with 1 Axes>"
      ]
     },
     "metadata": {},
     "output_type": "display_data"
    },
    {
     "name": "stdout",
     "output_type": "stream",
     "text": [
      "if x = 2 --> approximated y = 2.0002633820320095\n"
     ]
    },
    {
     "data": {
      "image/png": "[encoded data removed]",
      "text/plain": [
       "<Figure size 600x200 with 1 Axes>"
      ]
     },
     "metadata": {},
     "output_type": "display_data"
    },
    {
     "name": "stdout",
     "output_type": "stream",
     "text": [
      "if x = 2 --> approximated y = 2.0003239235472425\n"
     ]
    }
   ],
   "source": [
    "for i, h in enumerate(1 / (10 ** np.arange(0,4))):\n",
    "    em = EulerMethod(lambda vec: (3 * (vec.x ** 2)) * (2 - vec.y) , \n",
    "           Vector2(0, 3))\n",
    "    x = 2\n",
    "    apxY= em.approximateY(x, h, isPlot=True)\n",
    "    # print(f\"if x = {x} --> approximated y = {apxY}\")"
   ]
  },
  {
   "cell_type": "code",
   "execution_count": null,
   "id": "b79eb402-ae42-4da9-9212-5d8ffe137e0b",
   "metadata": {},
   "outputs": [],
   "source": []
  },
  {
   "cell_type": "code",
   "execution_count": null,
   "id": "8273664a-fd23-40dd-8d71-e19907347c4f",
   "metadata": {},
   "outputs": [],
   "source": []
  },
  {
   "cell_type": "code",
   "execution_count": null,
   "id": "f0d1ee8c-d9d6-4198-b270-8666211b76b2",
   "metadata": {},
   "outputs": [],
   "source": []
  },
  {
   "cell_type": "code",
   "execution_count": null,
   "id": "818515e1-2990-4f1c-ad90-e472af0d5a80",
   "metadata": {},
   "outputs": [],
   "source": []
  }
 ],
 "metadata": {
  "kernelspec": {
   "display_name": "Python 3 (ipykernel)",
   "language": "python",
   "name": "python3"
  },
  "language_info": {
   "codemirror_mode": {
    "name": "ipython",
    "version": 3
   },
   "file_extension": ".py",
   "mimetype": "text/x-python",
   "name": "python",
   "nbconvert_exporter": "python",
   "pygments_lexer": "ipython3",
   "version": "3.9.13"
  }
 },
 "nbformat": 4,
 "nbformat_minor": 5
}
