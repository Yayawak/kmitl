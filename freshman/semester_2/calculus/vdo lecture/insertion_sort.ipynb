{
 "cells": [
  {
   "cell_type": "code",
   "execution_count": 4,
   "id": "d67a06de-e2e8-4f6a-80b5-adf56cbc20e4",
   "metadata": {},
   "outputs": [
    {
     "data": {
      "text/plain": [
       "[1, 3, 4, 5, 7, 8]"
      ]
     },
     "execution_count": 4,
     "metadata": {},
     "output_type": "execute_result"
    }
   ],
   "source": [
    "def isert(arr):\n",
    "    n = len(arr)\n",
    "    for i in range(1, n):\n",
    "        # print(i)\n",
    "        d = arr[i] # remember\n",
    "        j = i\n",
    "        # inner loop for move element back to left place\n",
    "        while ((j > 0) and arr[j - 1] > d):\n",
    "            arr[j] = arr[j - 1]\n",
    "            j = j - 1 # step back to left\n",
    "        arr[j] = d\n",
    "    \n",
    "A = [5, 7, 4, 1, 8, 3]\n",
    "isert(A)\n",
    "A"
   ]
  },
  {
   "cell_type": "code",
   "execution_count": 7,
   "id": "364e229f-3011-491f-991d-c1756c08f5dc",
   "metadata": {},
   "outputs": [
    {
     "name": "stdout",
     "output_type": "stream",
     "text": [
      "[-5, 1, 2, 4, 5, 9]\n"
     ]
    }
   ],
   "source": [
    "A = [1, 5, 4, 2, -5, 9]\n",
    "def intSortMyself(arr):\n",
    "    n = len(arr)\n",
    "    for i in range(1, n):\n",
    "        memo = arr[i]\n",
    "        j = i\n",
    "        while (arr[j - 1] > memo and j > 0):\n",
    "            arr[j] = arr[j - 1] # copy previous element to replace current element\n",
    "            j -= 1\n",
    "        arr[j] = memo # remainder from last operation\n",
    "    print(arr)\n",
    "    \n",
    "intSortMyself(A)"
   ]
  },
  {
   "cell_type": "code",
   "execution_count": null,
   "id": "05ddced4-db41-445c-a55e-533dc98cd270",
   "metadata": {},
   "outputs": [],
   "source": []
  }
 ],
 "metadata": {
  "kernelspec": {
   "display_name": "Python 3 (ipykernel)",
   "language": "python",
   "name": "python3"
  },
  "language_info": {
   "codemirror_mode": {
    "name": "ipython",
    "version": 3
   },
   "file_extension": ".py",
   "mimetype": "text/x-python",
   "name": "python",
   "nbconvert_exporter": "python",
   "pygments_lexer": "ipython3",
   "version": "3.9.13"
  }
 },
 "nbformat": 4,
 "nbformat_minor": 5
}
