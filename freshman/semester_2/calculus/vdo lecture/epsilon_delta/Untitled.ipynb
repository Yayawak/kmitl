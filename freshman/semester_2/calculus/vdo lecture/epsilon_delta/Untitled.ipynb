{
 "cells": [
  {
   "cell_type": "markdown",
   "id": "3afc3150-1233-4226-a7a4-45694be80588",
   "metadata": {},
   "source": [
    "# $$\n",
    "    f(x) = x^3 \\\\\n",
    "    \\lim_{x \\to 2} x^3 = 8 ----> True \\\\\n",
    "    \\forall \\epsilon \\exists \\delta\n",
    "    \\big[\n",
    "        | x - a | < \\delta \n",
    "        \\to\n",
    "        | f(x) - L | < \\epsilon\n",
    "    \\big] \\\\\n",
    "    \\forall \\epsilon \\exists \\delta\n",
    "    \\big[\n",
    "        | x - 2 | < \\delta \n",
    "        \\to\n",
    "        | f(x) - 8 | < \\epsilon\n",
    "    \\big]\n",
    "    \\\\\n",
    "    \\forall \\epsilon \\exists \\delta\n",
    "    \\big[\n",
    "        | x - 2 | < \\delta \n",
    "        \\to\n",
    "        | f(x) - 8 | < 0.5\n",
    "    \\big]\n",
    "    \\\\\n",
    "    \\forall \\epsilon \\exists \\delta\n",
    "    \\big[\n",
    "        | x - 2 | < \\delta \n",
    "        \\to\n",
    "        | x^3 - 8 | < 0.5\n",
    "    \\big]\n",
    "    \\\\\n",
    "    \\forall \\epsilon \\exists \\delta\n",
    "    \\big[\n",
    "        | x - 2 | < \\delta \n",
    "        \\to\n",
    "        | (x - 2)(x^2 + 2x + 2^2) | < 0.5\n",
    "    \\big]\n",
    "    \\\\\n",
    "    \\forall \\epsilon \\exists \\delta\n",
    "    \\big[\n",
    "        | x - 2 | < \\delta \n",
    "        \\to\n",
    "        | (x - 2)(x^2 + 2x + 1^2 - 1^2 + 2^2) | < 0.5\n",
    "    \\big]\n",
    "    \\\\\n",
    "    \\forall \\epsilon \\exists \\delta\n",
    "    \\big[\n",
    "        | x - 2 | < \\delta \n",
    "        \\to\n",
    "        | (x - 2)((x^2 + 2x + 1^2) - 3) | < 0.5\n",
    "    \\big]\n",
    "    \\\\\n",
    "    \\forall \\epsilon \\exists \\delta\n",
    "    \\big[\n",
    "        | x - 2 | < \\delta \n",
    "        \\to\n",
    "        | (x - 2)((x + 2)^2 - 3) | < 0.5\n",
    "    \\big]\n",
    "    \\\\\n",
    "    $$"
   ]
  },
  {
   "cell_type": "markdown",
   "id": "94c1d444-ec3a-4a7b-b4bd-f967888759d6",
   "metadata": {},
   "source": [
    "# $$\n",
    "|f(x) - 8 | < \\epsilon \\\\\n",
    "|x^3 - 8 | < \\epsilon \\\\\n",
    "|(x-2)(x^2 + 2x + 4) | < \\epsilon \\\\\n",
    "\\\\ \n",
    "\\text{left hand side}\n",
    "\\\\ \n",
    "\\quad \\delta = [1, ?] \\\\ \n",
    "choose \\: \\delta = 1 \\\\\n",
    "0 < | x - a | < \\delta \\\\\n",
    "0 < | x - a | < 1 \\\\\n",
    "| x - a | < 1 \\\\\n",
    "| x - 2 | < 1 \\\\\n",
    "-1 < x - 2 < 1 \\\\\n",
    "1 < x < 3 \\\\\n",
    "x < 3 \\\\\n",
    "|x| < |3| \\\\\n",
    "|x| < 3\\\\ \\\\\n",
    "\\text{right hand side}\n",
    "\\\\\n",
    "|(x-2)(x^2 + 2x + 4) | < \\epsilon \\\\\n",
    "|(x-2)| |(x^2 + 2x + 4) | < \\epsilon \\\\\n",
    "|(x-2)|  < \\frac{\\epsilon}{|(x^2 + 2x + 4) |} \\\\\n",
    "\\text{triangular inequality} \\\\\n",
    "|(x^2 + 2x + 4) | \\leq |x^2| + 2|x| + 4 \\\\\n",
    "|x^2| + 2|x| + 4 < 3^2 + 2(3) + 4 \\\\\n",
    "|x^2| + 2|x| + 4 < 9 + 6 + 4 \\\\\n",
    "|x^2| + 2|x| + 4 < 19 \\\\\n",
    "|x-2|  < \\frac{\\epsilon}{19} \\\\\n",
    "|x-2|  < \\delta \\\\\n",
    "\\text{so} \\\\\n",
    "\\delta = \\frac{\\epsilon}{19} \\\\\n",
    "\\delta = \\frac{0.5}{19} \\\\\n",
    "\\delta = 1/(2 * 19) \\\\\n",
    "\\delta = 1/(38) \\\\\n",
    "\\delta = 0.0263 \\\\\n",
    "$$"
   ]
  },
  {
   "cell_type": "code",
   "execution_count": 3,
   "id": "97dd93c0-5216-4f27-9062-71753a4aaf46",
   "metadata": {},
   "outputs": [
    {
     "data": {
      "text/plain": [
       "0.02631578947368421"
      ]
     },
     "execution_count": 3,
     "metadata": {},
     "output_type": "execute_result"
    }
   ],
   "source": [
    "1/ 38"
   ]
  },
  {
   "cell_type": "code",
   "execution_count": null,
   "id": "58b6f4cf-62d2-437c-b6e0-e1ee9aa8aea3",
   "metadata": {},
   "outputs": [],
   "source": []
  }
 ],
 "metadata": {
  "kernelspec": {
   "display_name": "Python 3 (ipykernel)",
   "language": "python",
   "name": "python3"
  },
  "language_info": {
   "codemirror_mode": {
    "name": "ipython",
    "version": 3
   },
   "file_extension": ".py",
   "mimetype": "text/x-python",
   "name": "python",
   "nbconvert_exporter": "python",
   "pygments_lexer": "ipython3",
   "version": "3.9.13"
  }
 },
 "nbformat": 4,
 "nbformat_minor": 5
}
