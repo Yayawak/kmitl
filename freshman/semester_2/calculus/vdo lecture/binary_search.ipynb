{
 "cells": [
  {
   "cell_type": "code",
   "execution_count": 22,
   "id": "1e5094f9-0cdb-48c2-a8a2-f08686cfbf04",
   "metadata": {},
   "outputs": [
    {
     "name": "stdout",
     "output_type": "stream",
     "text": [
      "i:0 \tarr[i]:1\n",
      "i:1 \tarr[i]:2\n",
      "i:2 \tarr[i]:3\n",
      "i:3 \tarr[i]:4\n",
      "i:4 \tarr[i]:5\n",
      "i:5 \tarr[i]:6\n",
      "i:6 \tarr[i]:8\n"
     ]
    },
    {
     "data": {
      "text/plain": [
       "5"
      ]
     },
     "execution_count": 22,
     "metadata": {},
     "output_type": "execute_result"
    }
   ],
   "source": [
    "def bin_search(arr, find):\n",
    "    # print(arr)\n",
    "    for i in range(len(arr)):\n",
    "        # print(\"%-3d \\n%-3d\".format(i, arr[i]))\n",
    "        print(\"i:{} \\tarr[i]:{}\".format(i, arr[i]))\n",
    "    start = 0\n",
    "    stop = len(arr) - 1\n",
    "    mid = (int)((start + stop) / 2)\n",
    "    # mid = ((start + stop) / 2)\n",
    "    # print(mid)\n",
    "    while (1):\n",
    "        if (arr[mid] == find):\n",
    "            return mid\n",
    "        if (arr[mid] < find):\n",
    "            start = mid + 1\n",
    "        else:\n",
    "            stop = mid - 1\n",
    "        mid = (int)((start + stop) / 2)\n",
    "    return -1\n",
    "    \n",
    "A = [1,2,3,4,5,6,8]\n",
    "bin_search(A, 6)"
   ]
  },
  {
   "cell_type": "code",
   "execution_count": null,
   "id": "700a76a1-6e73-4e5c-96b3-f395244a8344",
   "metadata": {},
   "outputs": [],
   "source": []
  }
 ],
 "metadata": {
  "kernelspec": {
   "display_name": "Python 3 (ipykernel)",
   "language": "python",
   "name": "python3"
  },
  "language_info": {
   "codemirror_mode": {
    "name": "ipython",
    "version": 3
   },
   "file_extension": ".py",
   "mimetype": "text/x-python",
   "name": "python",
   "nbconvert_exporter": "python",
   "pygments_lexer": "ipython3",
   "version": "3.9.13"
  }
 },
 "nbformat": 4,
 "nbformat_minor": 5
}
