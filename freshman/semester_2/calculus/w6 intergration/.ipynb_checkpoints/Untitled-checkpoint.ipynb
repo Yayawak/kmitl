{
 "cells": [
  {
   "cell_type": "code",
   "execution_count": 1,
   "id": "7ee92c2c-274c-4992-800b-621e8cfe83ee",
   "metadata": {},
   "outputs": [],
   "source": [
    "def getX(a, i, deltaX):\n",
    "    return a + i * deltaX"
   ]
  },
  {
   "cell_type": "code",
   "execution_count": 9,
   "id": "3bb68e86-27f2-47bf-a019-cc9a4637c761",
   "metadata": {},
   "outputs": [
    {
     "name": "stdout",
     "output_type": "stream",
     "text": [
      "1\n",
      "2\n",
      "3\n",
      "4\n",
      "5\n",
      "6\n"
     ]
    }
   ],
   "source": [
    "n = rects = 6\n",
    "for i in range(n):\n",
    "    \n",
    "    print(i + 1)"
   ]
  },
  {
   "cell_type": "code",
   "execution_count": null,
   "id": "f10ddb8e-4d77-41ec-b6ba-dc73f262c19c",
   "metadata": {},
   "outputs": [],
   "source": []
  }
 ],
 "metadata": {
  "kernelspec": {
   "display_name": "Python 3 (ipykernel)",
   "language": "python",
   "name": "python3"
  },
  "language_info": {
   "codemirror_mode": {
    "name": "ipython",
    "version": 3
   },
   "file_extension": ".py",
   "mimetype": "text/x-python",
   "name": "python",
   "nbconvert_exporter": "python",
   "pygments_lexer": "ipython3",
   "version": "3.9.13"
  }
 },
 "nbformat": 4,
 "nbformat_minor": 5
}
