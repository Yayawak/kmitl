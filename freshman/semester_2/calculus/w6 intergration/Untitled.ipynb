{
 "cells": [
  {
   "cell_type": "code",
   "execution_count": 10,
   "id": "7ee92c2c-274c-4992-800b-621e8cfe83ee",
   "metadata": {},
   "outputs": [],
   "source": [
    "def getX(a, i, deltaX):\n",
    "    return a + i * deltaX"
   ]
  },
  {
   "cell_type": "code",
   "execution_count": 53,
   "id": "3bb68e86-27f2-47bf-a019-cc9a4637c761",
   "metadata": {},
   "outputs": [],
   "source": [
    "# def getArea(useRightEnd=True, n_rects=0, a=0, b=1, fn=lambda x:x):\n",
    "def getArea(useRightEnd, n_rects, a, b, fn):\n",
    "    n = n_rects\n",
    "    \n",
    "    X = []\n",
    "    deltaX = (b - a) / n_rects\n",
    "    for i in range(n):\n",
    "        i = i + 1 if useRightEnd else i\n",
    "        x_i = getX(a, i, deltaX)\n",
    "        X += [x_i]\n",
    "\n",
    "    Y = list(map(lambda x : 1 + x**2, X))\n",
    "    \n",
    "    A = deltaX * sum(Y)\n",
    "    return A"
   ]
  },
  {
   "cell_type": "code",
   "execution_count": 40,
   "id": "a90b0369-e977-4469-ae0d-85800786254b",
   "metadata": {},
   "outputs": [
    {
     "data": {
      "text/plain": [
       "6.875"
      ]
     },
     "execution_count": 40,
     "metadata": {},
     "output_type": "execute_result"
    }
   ],
   "source": [
    "getArea(True, 6, -1, 2, lambda x : x**2 + 1)"
   ]
  },
  {
   "cell_type": "code",
   "execution_count": 41,
   "id": "4fe09471-79c6-4f20-ae07-a09d491dbee6",
   "metadata": {},
   "outputs": [
    {
     "data": {
      "text/plain": [
       "5.375"
      ]
     },
     "execution_count": 41,
     "metadata": {},
     "output_type": "execute_result"
    }
   ],
   "source": [
    "getArea(False, 6, -1, 2, lambda x : x**2 + 1)"
   ]
  },
  {
   "cell_type": "code",
   "execution_count": 71,
   "id": "728085ff-4373-4412-aed3-0be0fa6ffdcb",
   "metadata": {},
   "outputs": [
    {
     "data": {
      "text/plain": [
       "5.375"
      ]
     },
     "execution_count": 71,
     "metadata": {},
     "output_type": "execute_result"
    }
   ],
   "source": [
    "A = deltaX * sum(Y)\n",
    "A # Area using left end point"
   ]
  },
  {
   "cell_type": "code",
   "execution_count": 72,
   "id": "f10ddb8e-4d77-41ec-b6ba-dc73f262c19c",
   "metadata": {},
   "outputs": [
    {
     "data": {
      "text/plain": [
       "5.375"
      ]
     },
     "execution_count": 72,
     "metadata": {},
     "output_type": "execute_result"
    }
   ],
   "source": [
    "# help(map)\n",
    "import numpy as np\n",
    "# Y = [ x for x in np.arange(-2/2, 3/2, 1/2,)]\n",
    "Y = [ x ** 2 + 1 for x in np.arange(-2/2, 4/2, 1/2,)]\n",
    "# Y\n",
    "# sum(Y)\n",
    "1/2 * sum(Y)"
   ]
  },
  {
   "cell_type": "code",
   "execution_count": 60,
   "id": "b5153edb",
   "metadata": {},
   "outputs": [
    {
     "name": "stdout",
     "output_type": "stream",
     "text": [
      "[-0.75, -1.5, -2.25, -3.0, -3.75, -4.5]\n"
     ]
    },
    {
     "data": {
      "text/plain": [
       "28.59375"
      ]
     },
     "execution_count": 60,
     "metadata": {},
     "output_type": "execute_result"
    }
   ],
   "source": [
    "def getAreaByMidPoint(n_rects, a, b, fn):\n",
    "    n = n_rects\n",
    "    \n",
    "    X = []\n",
    "    deltaX = (b - a) / n_rects\n",
    "    x_1 = a + deltaX / 2\n",
    "    # X = [x_1 * (i + 1) for i in range(n_rects)]\n",
    "    \n",
    "    def getRecX(x):\n",
    "        \n",
    "        if \n",
    "        return getRecX(x) + deltaX\n",
    "    print(X)\n",
    "#     for i in range(n):\n",
    "#         # x_i = getX(a, i, deltaX)\n",
    "        \n",
    "#         # X += [x_i]\n",
    "\n",
    "    Y = list(map(lambda x : 1 + x**2, X))\n",
    "    \n",
    "    A = deltaX * sum(Y)\n",
    "    return A\n",
    "getAreaByMidPoint(6, -1, 2, lambda x : x**2 + 1)"
   ]
  },
  {
   "cell_type": "code",
   "execution_count": 88,
   "id": "30c002f7-54c6-4e5b-b7fc-407a2804c7f5",
   "metadata": {},
   "outputs": [
    {
     "data": {
      "text/plain": [
       "(6.875, 5.375)"
      ]
     },
     "execution_count": 88,
     "metadata": {},
     "output_type": "execute_result"
    }
   ],
   "source": [
    "rightA = getArea(True, 6, -1, 2, lambda x : x**2 + 1)\n",
    "leftA = getArea(False, 6, -1, 2, lambda x : x**2 + 1)\n",
    "rightA, leftA"
   ]
  },
  {
   "cell_type": "code",
   "execution_count": 70,
   "id": "37f28f62-48d1-4412-a673-dc118c05c074",
   "metadata": {},
   "outputs": [
    {
     "ename": "RecursionError",
     "evalue": "maximum recursion depth exceeded in comparison",
     "output_type": "error",
     "traceback": [
      "\u001b[0;31m---------------------------------------------------------------------------\u001b[0m",
      "\u001b[0;31mRecursionError\u001b[0m                            Traceback (most recent call last)",
      "\u001b[0;32m/var/folders/tq/1dn18qvs46z75s3216p47sbm0000gn/T/ipykernel_3326/1477416116.py\u001b[0m in \u001b[0;36m<module>\u001b[0;34m\u001b[0m\n\u001b[1;32m      7\u001b[0m     \u001b[0mprint\u001b[0m\u001b[0;34m(\u001b[0m\u001b[0mret\u001b[0m\u001b[0;34m)\u001b[0m\u001b[0;34m\u001b[0m\u001b[0;34m\u001b[0m\u001b[0m\n\u001b[1;32m      8\u001b[0m     \u001b[0;32mreturn\u001b[0m \u001b[0mret\u001b[0m\u001b[0;34m\u001b[0m\u001b[0;34m\u001b[0m\u001b[0m\n\u001b[0;32m----> 9\u001b[0;31m \u001b[0mgetRecX\u001b[0m\u001b[0;34m(\u001b[0m\u001b[0;34m-\u001b[0m\u001b[0;36m3\u001b[0m\u001b[0;34m/\u001b[0m\u001b[0;36m4\u001b[0m\u001b[0;34m)\u001b[0m\u001b[0;34m\u001b[0m\u001b[0;34m\u001b[0m\u001b[0m\n\u001b[0m",
      "\u001b[0;32m/var/folders/tq/1dn18qvs46z75s3216p47sbm0000gn/T/ipykernel_3326/1477416116.py\u001b[0m in \u001b[0;36mgetRecX\u001b[0;34m(x)\u001b[0m\n\u001b[1;32m      4\u001b[0m     \u001b[0;31m# if x > (b - deltaX/2): return x\u001b[0m\u001b[0;34m\u001b[0m\u001b[0;34m\u001b[0m\u001b[0m\n\u001b[1;32m      5\u001b[0m     \u001b[0;32mif\u001b[0m \u001b[0mx\u001b[0m \u001b[0;34m>\u001b[0m \u001b[0;34m(\u001b[0m\u001b[0mb\u001b[0m \u001b[0;34m-\u001b[0m \u001b[0mdeltaX\u001b[0m\u001b[0;34m/\u001b[0m\u001b[0;36m2\u001b[0m\u001b[0;34m)\u001b[0m\u001b[0;34m:\u001b[0m \u001b[0;32mreturn\u001b[0m \u001b[0mret\u001b[0m\u001b[0;34m\u001b[0m\u001b[0;34m\u001b[0m\u001b[0m\n\u001b[0;32m----> 6\u001b[0;31m     \u001b[0mret\u001b[0m \u001b[0;34m=\u001b[0m \u001b[0mgetRecX\u001b[0m\u001b[0;34m(\u001b[0m\u001b[0mx\u001b[0m\u001b[0;34m)\u001b[0m \u001b[0;34m+\u001b[0m \u001b[0mdeltaX\u001b[0m\u001b[0;34m\u001b[0m\u001b[0;34m\u001b[0m\u001b[0m\n\u001b[0m\u001b[1;32m      7\u001b[0m     \u001b[0mprint\u001b[0m\u001b[0;34m(\u001b[0m\u001b[0mret\u001b[0m\u001b[0;34m)\u001b[0m\u001b[0;34m\u001b[0m\u001b[0;34m\u001b[0m\u001b[0m\n\u001b[1;32m      8\u001b[0m     \u001b[0;32mreturn\u001b[0m \u001b[0mret\u001b[0m\u001b[0;34m\u001b[0m\u001b[0;34m\u001b[0m\u001b[0m\n",
      "... last 1 frames repeated, from the frame below ...\n",
      "\u001b[0;32m/var/folders/tq/1dn18qvs46z75s3216p47sbm0000gn/T/ipykernel_3326/1477416116.py\u001b[0m in \u001b[0;36mgetRecX\u001b[0;34m(x)\u001b[0m\n\u001b[1;32m      4\u001b[0m     \u001b[0;31m# if x > (b - deltaX/2): return x\u001b[0m\u001b[0;34m\u001b[0m\u001b[0;34m\u001b[0m\u001b[0m\n\u001b[1;32m      5\u001b[0m     \u001b[0;32mif\u001b[0m \u001b[0mx\u001b[0m \u001b[0;34m>\u001b[0m \u001b[0;34m(\u001b[0m\u001b[0mb\u001b[0m \u001b[0;34m-\u001b[0m \u001b[0mdeltaX\u001b[0m\u001b[0;34m/\u001b[0m\u001b[0;36m2\u001b[0m\u001b[0;34m)\u001b[0m\u001b[0;34m:\u001b[0m \u001b[0;32mreturn\u001b[0m \u001b[0mret\u001b[0m\u001b[0;34m\u001b[0m\u001b[0;34m\u001b[0m\u001b[0m\n\u001b[0;32m----> 6\u001b[0;31m     \u001b[0mret\u001b[0m \u001b[0;34m=\u001b[0m \u001b[0mgetRecX\u001b[0m\u001b[0;34m(\u001b[0m\u001b[0mx\u001b[0m\u001b[0;34m)\u001b[0m \u001b[0;34m+\u001b[0m \u001b[0mdeltaX\u001b[0m\u001b[0;34m\u001b[0m\u001b[0;34m\u001b[0m\u001b[0m\n\u001b[0m\u001b[1;32m      7\u001b[0m     \u001b[0mprint\u001b[0m\u001b[0;34m(\u001b[0m\u001b[0mret\u001b[0m\u001b[0;34m)\u001b[0m\u001b[0;34m\u001b[0m\u001b[0;34m\u001b[0m\u001b[0m\n\u001b[1;32m      8\u001b[0m     \u001b[0;32mreturn\u001b[0m \u001b[0mret\u001b[0m\u001b[0;34m\u001b[0m\u001b[0;34m\u001b[0m\u001b[0m\n",
      "\u001b[0;31mRecursionError\u001b[0m: maximum recursion depth exceeded in comparison"
     ]
    }
   ],
   "source": [
    "b = 2\n",
    "deltaX = 1/2\n",
    "def getRecX(x):\n",
    "    # if x > (b - deltaX/2): return x\n",
    "    if x > (b - deltaX/2): return ret\n",
    "    ret = getRecX(x) + deltaX\n",
    "    print(ret)\n",
    "    return ret\n",
    "getRecX(-3/4)"
   ]
  },
  {
   "cell_type": "code",
   "execution_count": 89,
   "id": "2375b40e-c002-43a5-bc19-d9812c27c82b",
   "metadata": {},
   "outputs": [
    {
     "data": {
      "text/plain": [
       "5.999999999999999"
      ]
     },
     "execution_count": 89,
     "metadata": {},
     "output_type": "execute_result"
    }
   ],
   "source": [
    "(2+8/3) - (-1 -1/3)"
   ]
  },
  {
   "cell_type": "code",
   "execution_count": 60,
   "id": "161e3a34-5d38-41e5-9c42-b8b6d766da05",
   "metadata": {},
   "outputs": [
    {
     "name": "stdout",
     "output_type": "stream",
     "text": [
      "[-0.75, -1.5, -2.25, -3.0, -3.75, -4.5]\n"
     ]
    },
    {
     "data": {
      "text/plain": [
       "28.59375"
      ]
     },
     "execution_count": 60,
     "metadata": {},
     "output_type": "execute_result"
    }
   ],
   "source": []
  },
  {
   "cell_type": "code",
   "execution_count": 90,
   "id": "39ff505d-b95b-448e-81e0-a476f6a68121",
   "metadata": {},
   "outputs": [
    {
     "data": {
      "text/plain": [
       "2.666666666666668"
      ]
     },
     "execution_count": 90,
     "metadata": {},
     "output_type": "execute_result"
    }
   ],
   "source": [
    "24 - (4**3) / 3"
   ]
  },
  {
   "cell_type": "code",
   "execution_count": 92,
   "id": "72c1ec47-4fbe-44d1-a5c0-ff19057e5319",
   "metadata": {},
   "outputs": [
    {
     "data": {
      "text/plain": [
       "21.333333333333332"
      ]
     },
     "execution_count": 92,
     "metadata": {},
     "output_type": "execute_result"
    }
   ],
   "source": [
    "4**3 / 3"
   ]
  },
  {
   "cell_type": "code",
   "execution_count": null,
   "id": "509543c7-3f01-4166-8f54-85dc5265f15c",
   "metadata": {},
   "outputs": [],
   "source": []
  }
 ],
 "metadata": {
  "kernelspec": {
   "display_name": "Python 3 (ipykernel)",
   "language": "python",
   "name": "python3"
  },
  "language_info": {
   "codemirror_mode": {
    "name": "ipython",
    "version": 3
   },
   "file_extension": ".py",
   "mimetype": "text/x-python",
   "name": "python",
   "nbconvert_exporter": "python",
   "pygments_lexer": "ipython3",
   "version": "3.9.13"
  }
 },
 "nbformat": 4,
 "nbformat_minor": 5
}
