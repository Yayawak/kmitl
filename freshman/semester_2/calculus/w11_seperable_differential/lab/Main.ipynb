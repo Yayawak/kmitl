{
 "cells": [
  {
   "cell_type": "markdown",
   "id": "a684e57f-9bb1-4e5b-af15-df50cc3a667d",
   "metadata": {},
   "source": [
    "#  Tank / Brine / Intensity of Alcohol, Salt"
   ]
  },
  {
   "cell_type": "code",
   "execution_count": 4,
   "id": "d94afc8b-c036-4c18-b6cf-e2528e5f330f",
   "metadata": {},
   "outputs": [],
   "source": [
    "# def solution(t):\n",
    "    \n",
    "def getC(f, t):\n",
    "    C = -1/1000 - ((-1/15) * (math.log(\n",
    "        math.abs(400 - 15*f)\n",
    "    )))"
   ]
  },
  {
   "cell_type": "code",
   "execution_count": null,
   "id": "5578a4a0-b7fe-4727-9ea7-c051e72abaee",
   "metadata": {},
   "outputs": [],
   "source": []
  },
  {
   "cell_type": "code",
   "execution_count": 8,
   "id": "582478e5-d8f4-40c8-998f-6e66147c605f",
   "metadata": {},
   "outputs": [
    {
     "ename": "NameError",
     "evalue": "name 'f' is not defined",
     "output_type": "error",
     "traceback": [
      "\u001b[0;31m---------------------------------------------------------------------------\u001b[0m",
      "\u001b[0;31mNameError\u001b[0m                                 Traceback (most recent call last)",
      "\u001b[0;32m/var/folders/tq/1dn18qvs46z75s3216p47sbm0000gn/T/ipykernel_9218/1823514156.py\u001b[0m in \u001b[0;36m<module>\u001b[0;34m\u001b[0m\n\u001b[1;32m      1\u001b[0m C = -1/1000 - ((-1/15) * (math.log(\n\u001b[0;32m----> 2\u001b[0;31m     \u001b[0mabs\u001b[0m\u001b[0;34m(\u001b[0m\u001b[0;36m400\u001b[0m \u001b[0;34m-\u001b[0m \u001b[0;36m15\u001b[0m\u001b[0;34m*\u001b[0m\u001b[0mf\u001b[0m\u001b[0;34m)\u001b[0m\u001b[0;34m\u001b[0m\u001b[0;34m\u001b[0m\u001b[0m\n\u001b[0m\u001b[1;32m      3\u001b[0m )))\n\u001b[1;32m      4\u001b[0m \u001b[0mC\u001b[0m\u001b[0;34m\u001b[0m\u001b[0;34m\u001b[0m\u001b[0m\n",
      "\u001b[0;31mNameError\u001b[0m: name 'f' is not defined"
     ]
    }
   ],
   "source": [
    "f = \n",
    "C = -1/1000 - ((-1/15) * (math.log(\n",
    "    abs(400 - 15*f)\n",
    ")))\n",
    "C"
   ]
  },
  {
   "cell_type": "code",
   "execution_count": 2,
   "id": "0b2c10f0-e5c7-4f8f-a634-87842de6fe35",
   "metadata": {},
   "outputs": [],
   "source": [
    "import math"
   ]
  },
  {
   "cell_type": "code",
   "execution_count": 3,
   "id": "55b1035b-93b0-495f-8b26-6a806c287277",
   "metadata": {},
   "outputs": [
    {
     "data": {
      "text/plain": [
       "1.0"
      ]
     },
     "execution_count": 3,
     "metadata": {},
     "output_type": "execute_result"
    }
   ],
   "source": [
    "math.log(math.e)"
   ]
  },
  {
   "cell_type": "code",
   "execution_count": null,
   "id": "0fd5fab9-f0b2-4d76-9f8b-84b4fe6bcc11",
   "metadata": {},
   "outputs": [],
   "source": []
  }
 ],
 "metadata": {
  "kernelspec": {
   "display_name": "Python 3 (ipykernel)",
   "language": "python",
   "name": "python3"
  },
  "language_info": {
   "codemirror_mode": {
    "name": "ipython",
    "version": 3
   },
   "file_extension": ".py",
   "mimetype": "text/x-python",
   "name": "python",
   "nbconvert_exporter": "python",
   "pygments_lexer": "ipython3",
   "version": "3.9.13"
  }
 },
 "nbformat": 4,
 "nbformat_minor": 5
}
