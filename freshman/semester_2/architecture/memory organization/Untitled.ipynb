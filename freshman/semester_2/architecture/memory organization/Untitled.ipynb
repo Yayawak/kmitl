{
 "cells": [
  {
   "cell_type": "code",
   "execution_count": 1,
   "id": "4e5bdd82-92ea-4028-9bf7-dbae95a0c81e",
   "metadata": {},
   "outputs": [],
   "source": [
    "import numpy as np"
   ]
  },
  {
   "cell_type": "code",
   "execution_count": 2,
   "id": "2caa2aa8-b35d-4487-add0-649ff9bc670e",
   "metadata": {},
   "outputs": [
    {
     "data": {
      "text/plain": [
       "'0b10100'"
      ]
     },
     "execution_count": 2,
     "metadata": {},
     "output_type": "execute_result"
    }
   ],
   "source": [
    "bin(20)"
   ]
  },
  {
   "cell_type": "code",
   "execution_count": 7,
   "id": "7e34bf3d-cb3b-4ca4-8731-f595cabb41a9",
   "metadata": {},
   "outputs": [
    {
     "data": {
      "text/plain": [
       "[69, 117, 114, 111]"
      ]
     },
     "execution_count": 7,
     "metadata": {},
     "output_type": "execute_result"
    }
   ],
   "source": [
    "[ord(c) for c in \"Euro\"]\n"
   ]
  },
  {
   "cell_type": "code",
   "execution_count": 9,
   "id": "250945f6-f6f2-4243-9d68-0000cdd16b06",
   "metadata": {},
   "outputs": [
    {
     "data": {
      "text/plain": [
       "['0b1000101', '0b1110101', '0b1110010', '0b1101111']"
      ]
     },
     "execution_count": 9,
     "metadata": {},
     "output_type": "execute_result"
    }
   ],
   "source": [
    "[bin(ord(c)) for c in \"Euro\"]"
   ]
  },
  {
   "cell_type": "code",
   "execution_count": 12,
   "id": "df14b143-c280-4a3e-81a5-4396a299b30b",
   "metadata": {},
   "outputs": [
    {
     "data": {
      "text/plain": [
       "6"
      ]
     },
     "execution_count": 12,
     "metadata": {},
     "output_type": "execute_result"
    }
   ],
   "source": [
    "(42).bit_length()"
   ]
  },
  {
   "cell_type": "code",
   "execution_count": 17,
   "id": "13439aeb-a9bb-467f-898d-26bda2e0673f",
   "metadata": {},
   "outputs": [
    {
     "data": {
      "text/plain": [
       "b'*'"
      ]
     },
     "execution_count": 17,
     "metadata": {},
     "output_type": "execute_result"
    }
   ],
   "source": [
    "(42).to_bytes(1, 'little')"
   ]
  },
  {
   "cell_type": "code",
   "execution_count": 18,
   "id": "76e32f04-566c-4dd0-ad30-3933bd0e8f96",
   "metadata": {},
   "outputs": [
    {
     "data": {
      "text/plain": [
       "[b'E', b'u', b'r', b'o']"
      ]
     },
     "execution_count": 18,
     "metadata": {},
     "output_type": "execute_result"
    }
   ],
   "source": [
    "[c.encode(\"utf-8\") for c in \"Euro\"]"
   ]
  },
  {
   "cell_type": "code",
   "execution_count": 22,
   "id": "b826b6be-9c86-40b6-9f52-3f7496a9c64f",
   "metadata": {},
   "outputs": [
    {
     "data": {
      "text/plain": [
       "42"
      ]
     },
     "execution_count": 22,
     "metadata": {},
     "output_type": "execute_result"
    }
   ],
   "source": [
    "42 | 42"
   ]
  },
  {
   "cell_type": "code",
   "execution_count": 24,
   "id": "ccd8f3c8-7e46-4b92-af3b-ec366b51d507",
   "metadata": {},
   "outputs": [
    {
     "data": {
      "text/plain": [
       "1"
      ]
     },
     "execution_count": 24,
     "metadata": {},
     "output_type": "execute_result"
    }
   ],
   "source": [
    "3 ^ 2"
   ]
  },
  {
   "cell_type": "code",
   "execution_count": 26,
   "id": "f3bb970e-cd80-427c-86a1-3be483987bc1",
   "metadata": {},
   "outputs": [
    {
     "data": {
      "text/plain": [
       "-4"
      ]
     },
     "execution_count": 26,
     "metadata": {},
     "output_type": "execute_result"
    }
   ],
   "source": [
    "~3"
   ]
  },
  {
   "cell_type": "code",
   "execution_count": 27,
   "id": "12b5ef53-92c6-4b62-a80d-7289b23b2213",
   "metadata": {},
   "outputs": [
    {
     "data": {
      "text/plain": [
       "99"
      ]
     },
     "execution_count": 27,
     "metadata": {},
     "output_type": "execute_result"
    }
   ],
   "source": [
    "~156 & 255"
   ]
  },
  {
   "cell_type": "code",
   "execution_count": 29,
   "id": "5d6d67ff-c0ff-40ec-9c78-9d43a2b7ee48",
   "metadata": {},
   "outputs": [
    {
     "data": {
      "text/plain": [
       "198"
      ]
     },
     "execution_count": 29,
     "metadata": {},
     "output_type": "execute_result"
    }
   ],
   "source": [
    "99 << 1"
   ]
  },
  {
   "cell_type": "code",
   "execution_count": 30,
   "id": "2cfea72f-46fa-492b-8a99-fba3ccc8fa0a",
   "metadata": {},
   "outputs": [
    {
     "data": {
      "text/plain": [
       "'0b1000'"
      ]
     },
     "execution_count": 30,
     "metadata": {},
     "output_type": "execute_result"
    }
   ],
   "source": [
    "bin(8)"
   ]
  },
  {
   "cell_type": "code",
   "execution_count": 32,
   "id": "c89d0ea2-789b-4ad1-8d50-72e46dd5ca52",
   "metadata": {},
   "outputs": [
    {
     "data": {
      "text/plain": [
       "16"
      ]
     },
     "execution_count": 32,
     "metadata": {},
     "output_type": "execute_result"
    }
   ],
   "source": [
    "8 << 1"
   ]
  },
  {
   "cell_type": "code",
   "execution_count": 33,
   "id": "ba59b5aa-e1f5-4e50-a8b8-8fc2b833b1a7",
   "metadata": {},
   "outputs": [
    {
     "data": {
      "text/plain": [
       "4"
      ]
     },
     "execution_count": 33,
     "metadata": {},
     "output_type": "execute_result"
    }
   ],
   "source": [
    "8 >> 1"
   ]
  },
  {
   "cell_type": "code",
   "execution_count": 34,
   "id": "de146573-136d-475f-87d6-94cb6eee137b",
   "metadata": {},
   "outputs": [
    {
     "data": {
      "text/plain": [
       "0"
      ]
     },
     "execution_count": 34,
     "metadata": {},
     "output_type": "execute_result"
    }
   ],
   "source": [
    "0 >> 1"
   ]
  },
  {
   "cell_type": "code",
   "execution_count": 48,
   "id": "3836f2b0-ad5d-464b-b36d-24b2580b8cb6",
   "metadata": {},
   "outputs": [
    {
     "data": {
      "text/plain": [
       "['0b110',\n",
       " '0b1',\n",
       " '0b110',\n",
       " '0b111',\n",
       " '0b110',\n",
       " '0b1',\n",
       " '0b100',\n",
       " '0b101',\n",
       " '0b101',\n",
       " '0b1',\n",
       " '0b101',\n",
       " '0b111',\n",
       " '0b100',\n",
       " '0b0',\n",
       " '0b1']"
      ]
     },
     "execution_count": 48,
     "metadata": {},
     "output_type": "execute_result"
    }
   ],
   "source": [
    "# work in 8 bits data bus -> 1 byte\n",
    "m = 8\n",
    "max_mem = 2*m - 1\n",
    "mem = np.random.randint(0, 8, max_mem)\n",
    "mem = [bin(data) for data in mem]\n",
    "mem"
   ]
  },
  {
   "cell_type": "code",
   "execution_count": 47,
   "id": "09ef2a34-5059-4f9b-b6c6-252303cc05da",
   "metadata": {},
   "outputs": [
    {
     "data": {
      "text/plain": [
       "256"
      ]
     },
     "execution_count": 47,
     "metadata": {},
     "output_type": "execute_result"
    }
   ],
   "source": [
    "2**8"
   ]
  },
  {
   "cell_type": "code",
   "execution_count": 94,
   "id": "0f310d03-59a0-48ae-ae03-50638c86eea7",
   "metadata": {},
   "outputs": [],
   "source": [
    "from tabulate import tabulate\n",
    "\n",
    "bytes_per_word = 4\n",
    "table = np.zeros([2**m, bytes_per_word + 1],\n",
    "                # dtype=str)\n",
    "                dtype=object)\n",
    "                # )\n",
    "cols = [\"bs\" + str(c) for c in range(bytes_per_word)]\n",
    "cols.insert(0, \"word\")\n",
    "for i in range(2**m):\n",
    "    byte = i * bytes_per_word\n",
    "    # print(f\"word {i} -> byte {byte}\")\n",
    "    for j in range(bytes_per_word):\n",
    "        rand = np.random.randint(0, 4)\n",
    "        # table[i, j + 1] = bin(rand)\n",
    "        table[i, j + 1] = rand\n",
    "        \n",
    "# print(tabulate(table, headers=cols))"
   ]
  },
  {
   "cell_type": "code",
   "execution_count": 267,
   "id": "da62992b-bd79-47de-9a05-680c8941ab57",
   "metadata": {},
   "outputs": [
    {
     "data": {
      "text/plain": [
       "size 8\n",
       "word 4\n",
       "byte_section 4"
      ]
     },
     "execution_count": 267,
     "metadata": {},
     "output_type": "execute_result"
    }
   ],
   "source": [
    "# ram chip != ram -> ram chip is smaller unit\n",
    "class RamChip:\n",
    "    # size : byte\n",
    "    def __init__(self, size : int):\n",
    "        assert size % 2 == 0\n",
    "        self.size = size\n",
    "        self.word = (int)(size / 2)\n",
    "        self.byte_section = (int)(size / 2)\n",
    "        # self.data = np.zeros(shape=[self.word, self.byte_section])\n",
    "        self.data = np.random.randint(0, 10,\n",
    "            [self.word, self.byte_section])\n",
    "        \n",
    "    # def __str__(self):\n",
    "    def __repr__(self):\n",
    "        # print(f\"\"\"size {self.size}\n",
    "        return f\"\"\"size {self.size}\n",
    "word {self.word}\n",
    "byte_section {self.byte_section}\"\"\"\n",
    "        \n",
    "RamChip(2**3)"
   ]
  },
  {
   "cell_type": "code",
   "execution_count": 268,
   "id": "3586787a-d3fc-4613-930b-50b21ae9972c",
   "metadata": {},
   "outputs": [],
   "source": [
    "# class RamSys:\n",
    "# class MemBoard:\n",
    "#     def __init__(self, n_ram):\n",
    "#         # ramChip = RamChip()\n",
    "#         self.rams = [RamChip(2**3) for n in range(n_ram)]\n",
    "#     def __repr__(self):\n",
    "#         return str([rc for rc in self.rams])\n",
    "\n",
    "# # MemBoard(2)\n",
    "# MemBoard(2)"
   ]
  },
  {
   "cell_type": "code",
   "execution_count": 269,
   "id": "f48ec20f-8b62-4483-acf7-d501b0402188",
   "metadata": {},
   "outputs": [],
   "source": [
    "class MemBoard:\n",
    "    def __init__(self, n_data_bus, r_w_each):\n",
    "        self.chip_per_board = (int)(n_data_bus / r_w_each)\n",
    "        self.section_select = (int)(n_data_bus / 8)\n",
    "        self.rams = [RamChip(n_data_bus) for n in range(\n",
    "            self.chip_per_board\n",
    "        )]\n",
    "        # self.sections = np.array([\n",
    "        #     []\n",
    "        # ])\n",
    "        # self.sections = np.array([])\n",
    "        self.chips_per_sec = self.chip_per_board // self.section_select \n",
    "        self.sections = np.empty(\n",
    "            [self.section_select, self.chips_per_sec],\n",
    "            dtype=object)\n",
    "        it_ram = iter(self.rams)\n",
    "        for i in range(self.section_select):\n",
    "            for j in range(self.chips_per_sec):\n",
    "                # self.sections[i][j] = self.rams[k]\n",
    "                self.sections[i][j] = next(it_ram)\n",
    "                # k += 1\n",
    "                \n",
    "        # self.section_select = (int)(np.log2(r_w_each))\n",
    "        self.word_select = (int)(np.log2(n_data_bus))\n",
    "    def __repr__(self):\n",
    "        ramchips_str = str([rc for rc in self.rams])\n",
    "        return f\"\"\"chip_per_board {self.chip_per_board}\n",
    "section_select {self.section_select}\n",
    "word_select {self.word_select}\n",
    "\"\"\"\n",
    "    def select_word_from_addressing(self, word_sel, sec_sel):\n",
    "        return self.rams[sec_sel].data[word_sel]\n",
    "    def print_all(self):\n",
    "        for i in range(len(self.rams)):\n",
    "            print(\"ram chip \" + str(i))\n",
    "            print(self.rams[i].data)\n",
    "            print(\"--\" * 10)\n",
    "\n",
    "# MemBoard(2)\n",
    "# memBoard = MemBoard(32, 1)\n",
    "# memBoard = MemBoard(2**3, 1)\n",
    "# memBoard = MemBoard(2**1, 1)\n",
    "# memBoard = MemBoard(n_data_bus=2**3, r_w_each=4)\n",
    "# memBoard = MemBoard(n_data_bus=32, r_w_each=4)\n",
    "# memBoard = MemBoard(, 2)\n",
    "# print(memBoard.chip_per_board)\n",
    "# memBoard.__repr__()\n",
    "# memBoard\n",
    "# memBoard.print_all()"
   ]
  },
  {
   "cell_type": "code",
   "execution_count": 276,
   "id": "5ecf6b84-b948-459a-a750-f28d5563e4ed",
   "metadata": {},
   "outputs": [
    {
     "name": "stdout",
     "output_type": "stream",
     "text": [
      "chip_per_board 4\n",
      "section_select 2\n",
      "word_select 4\n",
      "\n",
      "ram chip 0\n",
      "[[9 1 0 9 9 4 8 3]\n",
      " [8 8 1 8 8 3 9 3]\n",
      " [1 2 6 6 1 9 0 1]\n",
      " [4 0 5 4 6 8 7 7]\n",
      " [5 1 5 6 8 7 7 1]\n",
      " [1 5 1 4 0 7 3 8]\n",
      " [4 1 1 8 7 3 0 0]\n",
      " [1 3 9 0 3 1 1 7]]\n",
      "--------------------\n",
      "ram chip 1\n",
      "[[1 8 2 7 3 3 4 2]\n",
      " [7 7 9 3 3 2 8 8]\n",
      " [7 3 5 6 9 0 0 6]\n",
      " [3 0 3 4 8 4 8 5]\n",
      " [8 1 7 3 5 7 9 1]\n",
      " [7 1 7 9 3 6 3 9]\n",
      " [8 9 4 7 4 8 5 2]\n",
      " [8 9 3 0 1 8 2 5]]\n",
      "--------------------\n",
      "ram chip 2\n",
      "[[2 8 1 5 4 5 0 8]\n",
      " [0 2 9 6 2 6 6 4]\n",
      " [2 4 7 4 5 7 3 4]\n",
      " [9 0 9 4 8 9 3 2]\n",
      " [8 8 6 8 0 4 0 3]\n",
      " [6 3 3 3 4 1 1 6]\n",
      " [4 9 5 4 5 9 8 6]\n",
      " [6 3 4 7 6 4 2 8]]\n",
      "--------------------\n",
      "ram chip 3\n",
      "[[9 1 8 7 1 1 3 3]\n",
      " [2 2 4 4 6 1 3 5]\n",
      " [0 6 2 5 5 6 3 1]\n",
      " [0 8 8 9 2 3 0 8]\n",
      " [4 2 4 9 2 5 4 0]\n",
      " [0 5 1 8 1 9 8 2]\n",
      " [1 3 4 1 6 5 5 8]\n",
      " [1 1 0 2 7 8 0 3]]\n",
      "--------------------\n"
     ]
    }
   ],
   "source": [
    "# data_bus = 2**6 * 2**10 # bits\n",
    "data_bus = 16 # bits\n",
    "rw_each = 4 # bits\n",
    "mmb = MemBoard(data_bus, rw_each)\n",
    "print(mmb.__repr__())\n",
    "mmb.print_all()\n",
    "# mmb.sections\n",
    "# mmb.section_select"
   ]
  },
  {
   "cell_type": "code",
   "execution_count": 280,
   "id": "57cf8b26-0f59-4b0e-b1b8-692d3d581ef4",
   "metadata": {},
   "outputs": [
    {
     "data": {
      "text/plain": [
       "array([1, 8, 2, 7, 3, 3, 4, 2])"
      ]
     },
     "execution_count": 280,
     "metadata": {},
     "output_type": "execute_result"
    }
   ],
   "source": [
    "mmb.select_word_from_addressing(0,1)"
   ]
  },
  {
   "cell_type": "code",
   "execution_count": 292,
   "id": "46c76df9-53db-49c4-93fc-8c35ebc9f609",
   "metadata": {},
   "outputs": [
    {
     "data": {
      "text/plain": [
       "wanted_mem_size 524288\n",
       "capacity_per_board 524288\n",
       "num_memboard 2"
      ]
     },
     "execution_count": 292,
     "metadata": {},
     "output_type": "execute_result"
    }
   ],
   "source": [
    "class MemMod:\n",
    "    def __init__(self, n_data_bus, rw_each, cap_per_chip,\n",
    "         wanted_mem_size):\n",
    "        self.wanted_mem_size = wanted_mem_size\n",
    "        self.chip_per_board = n_data_bus // rw_each\n",
    "        self.cap_per_board = (self.chip_per_board * cap_per_chip * rw_each) // 8\n",
    "        self.num_memboard = wanted_mem_size // self.cap_per_board\n",
    "    def __repr__(self):\n",
    "        return f\"\"\"wanted_mem_size {self.wanted_mem_size}\n",
    "capacity_per_board {self.wanted_mem_size}\n",
    "num_memboard {self.num_memboard}\n",
    "\"\"\"\n",
    "    # def select_word_from_addressing(self, word_sel, sec_sel):\n",
    "    def select_data_from_addressing(which_board,\n",
    "                                    word_sel,\n",
    "                                    sec_sel\n",
    "                                   ):\n",
    "        ...\n",
    "\n",
    "memMod = MemMod(32, 8, 64 * 2**10, (int)(0.5 * 1024*2**10))\n",
    "# memMod.cap_per_board // 2**10\n",
    "memMod"
   ]
  },
  {
   "cell_type": "code",
   "execution_count": null,
   "id": "4cfd5d51-fe73-4d9d-bc0b-5d88e8833c19",
   "metadata": {},
   "outputs": [],
   "source": [
    "\n"
   ]
  }
 ],
 "metadata": {
  "kernelspec": {
   "display_name": "Python 3 (ipykernel)",
   "language": "python",
   "name": "python3"
  },
  "language_info": {
   "codemirror_mode": {
    "name": "ipython",
    "version": 3
   },
   "file_extension": ".py",
   "mimetype": "text/x-python",
   "name": "python",
   "nbconvert_exporter": "python",
   "pygments_lexer": "ipython3",
   "version": "3.9.13"
  }
 },
 "nbformat": 4,
 "nbformat_minor": 5
}
