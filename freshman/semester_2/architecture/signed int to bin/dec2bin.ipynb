{
 "cells": [
  {
   "cell_type": "code",
   "execution_count": 1,
   "id": "530bfdb7-c291-4524-a1ad-1fd77dedd096",
   "metadata": {},
   "outputs": [
    {
     "ename": "NameError",
     "evalue": "name 'dec2bin' is not defined",
     "output_type": "error",
     "traceback": [
      "\u001b[0;31m---------------------------------------------------------------------------\u001b[0m",
      "\u001b[0;31mNameError\u001b[0m                                 Traceback (most recent call last)",
      "\u001b[0;32m/var/folders/tq/1dn18qvs46z75s3216p47sbm0000gn/T/ipykernel_86095/1280691868.py\u001b[0m in \u001b[0;36m<module>\u001b[0;34m\u001b[0m\n\u001b[0;32m----> 1\u001b[0;31m \u001b[0mdec2bin\u001b[0m\u001b[0;34m(\u001b[0m\u001b[0;36m126\u001b[0m\u001b[0;34m)\u001b[0m\u001b[0;34m\u001b[0m\u001b[0;34m\u001b[0m\u001b[0m\n\u001b[0m",
      "\u001b[0;31mNameError\u001b[0m: name 'dec2bin' is not defined"
     ]
    }
   ],
   "source": [
    "dec2bin(126)"
   ]
  },
  {
   "cell_type": "code",
   "execution_count": null,
   "id": "f8f6065c-8f7b-4432-8fec-44979c43ffa4",
   "metadata": {},
   "outputs": [],
   "source": []
  },
  {
   "cell_type": "code",
   "execution_count": 2,
   "id": "63316f0b-2d9c-4309-bf83-ad504fe29dbf",
   "metadata": {},
   "outputs": [
    {
     "ename": "NameError",
     "evalue": "name 'dec2bin' is not defined",
     "output_type": "error",
     "traceback": [
      "\u001b[0;31m---------------------------------------------------------------------------\u001b[0m",
      "\u001b[0;31mNameError\u001b[0m                                 Traceback (most recent call last)",
      "\u001b[0;32m/var/folders/tq/1dn18qvs46z75s3216p47sbm0000gn/T/ipykernel_86095/1854483762.py\u001b[0m in \u001b[0;36m<module>\u001b[0;34m\u001b[0m\n\u001b[0;32m----> 1\u001b[0;31m \u001b[0mdec2bin\u001b[0m\u001b[0;34m(\u001b[0m\u001b[0;36m20\u001b[0m\u001b[0;34m)\u001b[0m\u001b[0;34m\u001b[0m\u001b[0;34m\u001b[0m\u001b[0m\n\u001b[0m",
      "\u001b[0;31mNameError\u001b[0m: name 'dec2bin' is not defined"
     ]
    }
   ],
   "source": [
    "dec2bin(20)\n"
   ]
  },
  {
   "cell_type": "code",
   "execution_count": 3,
   "id": "d634b8a6",
   "metadata": {},
   "outputs": [
    {
     "ename": "NameError",
     "evalue": "name 'dec2bin' is not defined",
     "output_type": "error",
     "traceback": [
      "\u001b[0;31m---------------------------------------------------------------------------\u001b[0m",
      "\u001b[0;31mNameError\u001b[0m                                 Traceback (most recent call last)",
      "\u001b[0;32m/var/folders/tq/1dn18qvs46z75s3216p47sbm0000gn/T/ipykernel_86095/1280691868.py\u001b[0m in \u001b[0;36m<module>\u001b[0;34m\u001b[0m\n\u001b[0;32m----> 1\u001b[0;31m \u001b[0mdec2bin\u001b[0m\u001b[0;34m(\u001b[0m\u001b[0;36m126\u001b[0m\u001b[0;34m)\u001b[0m\u001b[0;34m\u001b[0m\u001b[0;34m\u001b[0m\u001b[0m\n\u001b[0m",
      "\u001b[0;31mNameError\u001b[0m: name 'dec2bin' is not defined"
     ]
    }
   ],
   "source": [
    "dec2bin(126)"
   ]
  },
  {
   "cell_type": "code",
   "execution_count": 4,
   "id": "377c5b70-84b2-4b0d-bafe-86a2d67c872a",
   "metadata": {},
   "outputs": [
    {
     "name": "stdout",
     "output_type": "stream",
     "text": [
      "2 ** 0 = 1\n",
      "2 ** 1 = 2\n",
      "2 ** 2 = 4\n",
      "2 ** 3 = 8\n",
      "2 ** 4 = 16\n",
      "2 ** 5 = 32\n",
      "2 ** 6 = 64\n",
      "2 ** 7 = 128\n",
      "6\n"
     ]
    }
   ],
   "source": [
    "top = 0\n",
    "j = 0\n",
    "while (1):\n",
    "    print(f\"2 ** {j} = {2**j}\")\n",
    "    if (2 ** j > 126):\n",
    "        top = (j - 1)\n",
    "        break\n",
    "    j += 1\n",
    "\n",
    "print(top)"
   ]
  },
  {
   "cell_type": "code",
   "execution_count": null,
   "id": "16892b3d-4128-406d-98f8-a723b53c419f",
   "metadata": {},
   "outputs": [],
   "source": []
  },
  {
   "cell_type": "code",
   "execution_count": 7,
   "id": "72e235f7-796a-4222-8719-031fed26c2b9",
   "metadata": {},
   "outputs": [],
   "source": [
    "# for i in range(10):\n",
    "#     print(i)\n"
   ]
  },
  {
   "cell_type": "code",
   "execution_count": 8,
   "id": "028eca5f-6cd3-4328-93ef-3e4fdc2527e9",
   "metadata": {},
   "outputs": [
    {
     "data": {
      "text/plain": [
       "256"
      ]
     },
     "execution_count": 8,
     "metadata": {},
     "output_type": "execute_result"
    }
   ],
   "source": [
    "16**2"
   ]
  },
  {
   "cell_type": "code",
   "execution_count": 9,
   "id": "44ac007c-85a4-441a-9f95-e2b3ab4a2582",
   "metadata": {},
   "outputs": [
    {
     "data": {
      "text/plain": [
       "65536"
      ]
     },
     "execution_count": 9,
     "metadata": {},
     "output_type": "execute_result"
    }
   ],
   "source": [
    "256**2"
   ]
  },
  {
   "cell_type": "code",
   "execution_count": null,
   "id": "68832339-e89d-4538-be29-26e798f8fe85",
   "metadata": {},
   "outputs": [],
   "source": []
  }
 ],
 "metadata": {
  "kernelspec": {
   "display_name": "Python 3 (ipykernel)",
   "language": "python",
   "name": "python3"
  },
  "language_info": {
   "codemirror_mode": {
    "name": "ipython",
    "version": 3
   },
   "file_extension": ".py",
   "mimetype": "text/x-python",
   "name": "python",
   "nbconvert_exporter": "python",
   "pygments_lexer": "ipython3",
   "version": "3.9.13"
  }
 },
 "nbformat": 4,
 "nbformat_minor": 5
}
