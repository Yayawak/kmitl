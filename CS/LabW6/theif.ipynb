{
 "cells": [
  {
   "cell_type": "code",
   "execution_count": 2,
   "id": "7e100611-e336-4093-8813-de3ac57880fb",
   "metadata": {},
   "outputs": [],
   "source": [
    "import numpy as np\n",
    "import matplotlib.pyplot as plt\n",
    "import pandas as pd"
   ]
  },
  {
   "cell_type": "code",
   "execution_count": 6,
   "id": "e664d789-6ca6-4858-942f-4a59017f2e18",
   "metadata": {},
   "outputs": [
    {
     "data": {
      "text/plain": [
       "[(1, 2, 20), (2, 10, 50), (3, 5, 30), (4, 5, 10)]"
      ]
     },
     "execution_count": 6,
     "metadata": {},
     "output_type": "execute_result"
    }
   ],
   "source": [
    "# arr = numpy.array([\n",
    "    \n",
    "# ])\n",
    "item = [1,2,3,4]\n",
    "weight = [2,10,5,5]\n",
    "value = [20,50,30,10]\n",
    "arr = list(zip(item, weight, value))\n",
    "\n",
    "C = 16\n",
    "\n",
    "arr"
   ]
  },
  {
   "cell_type": "code",
   "execution_count": 14,
   "id": "4263d8f4-f6ca-4c80-a9f6-57579c39e097",
   "metadata": {},
   "outputs": [
    {
     "name": "stdout",
     "output_type": "stream",
     "text": [
      "(1, 2, 20)\n",
      "(1, 20, 2)\n",
      "(2, 1, 20)\n",
      "(2, 20, 1)\n",
      "(20, 1, 2)\n",
      "(20, 2, 1)\n"
     ]
    }
   ],
   "source": [
    "# from itertools import permutations\n",
    "from itertools import permutations\n",
    "# for x in arr:\n",
    "    # perm = permutations(x)\n",
    "    # print(x)\n",
    " \n",
    "for p in permutations(arr[0]):\n",
    "    print(p)\n",
    "# permutations"
   ]
  },
  {
   "cell_type": "code",
   "execution_count": 15,
   "id": "71f69c0d-a982-4b21-87cd-1b60c0cc9ecb",
   "metadata": {},
   "outputs": [
    {
     "data": {
      "text/plain": [
       "[1, 2, 3, 4]"
      ]
     },
     "execution_count": 15,
     "metadata": {},
     "output_type": "execute_result"
    }
   ],
   "source": [
    "item"
   ]
  },
  {
   "cell_type": "code",
   "execution_count": 18,
   "id": "5814105d-4e66-437c-8cd5-89a1bcea6c38",
   "metadata": {},
   "outputs": [
    {
     "name": "stdout",
     "output_type": "stream",
     "text": [
      "(1, 2, 3)\n",
      "(1, 3, 2)\n",
      "(2, 1, 3)\n",
      "(2, 3, 1)\n",
      "(3, 1, 2)\n",
      "(3, 2, 1)\n"
     ]
    }
   ],
   "source": [
    "for x in permutations([1,2,3]):\n",
    "    print(x)"
   ]
  },
  {
   "cell_type": "code",
   "execution_count": 41,
   "id": "bc5ac193-798d-49e4-ae22-e0e3e892fedf",
   "metadata": {},
   "outputs": [
    {
     "name": "stdout",
     "output_type": "stream",
     "text": [
      "0 |O 0 \n",
      "5 |O 10 \n",
      "5 |O 30 \n",
      "10 |O 40 \n",
      "10 |O 50 \n",
      "15 |O 60 \n",
      "15 |O 80 \n",
      "20 |X \n",
      "2 |O 20 \n",
      "7 |O 30 \n",
      "7 |O 50 \n",
      "12 |O 60 \n",
      "12 |O 70 \n",
      "17 |X \n",
      "17 |X \n",
      "22 |X \n"
     ]
    }
   ],
   "source": [
    "gg = [0,1]\n",
    "arr_weight = np.array([2,10,5,5])\n",
    "arr_value = np.array([20,50,30,10])\n",
    "C = 16\n",
    "for i in gg:\n",
    "    for j in gg:\n",
    "        for k in gg:\n",
    "            for v in gg:\n",
    "                arr = np.array([i, j, k, v])\n",
    "                \n",
    "                # Sum of weight\n",
    "                sub_w_arr = arr * arr_weight\n",
    "                sum_w = np.sum(sub_w_arr)\n",
    "                # print(arr)\n",
    "                # print(hhhh)\n",
    "                print(sum_w, end=' ')\n",
    "                \n",
    "                # Sum of value\n",
    "                sub_val_arr = arr * arr_value\n",
    "                sum_v = np.sum(sub_val_arr)\n",
    "                # print(sum_v, end=' ')\n",
    "                \n",
    "                print(\"|\", end='')\n",
    "                # check sum_W > C\n",
    "                if (sum_w > C):\n",
    "                    print(\"X\", end=\" \")\n",
    "                else:\n",
    "                    print(\"O\", end=\" \")\n",
    "                    print(sum_v, end=\" \")\n",
    "                print()\n",
    "                    "
   ]
  },
  {
   "cell_type": "code",
   "execution_count": null,
   "id": "e01684ff-ce8c-40c4-8939-f415c827a944",
   "metadata": {},
   "outputs": [],
   "source": []
  }
 ],
 "metadata": {
  "kernelspec": {
   "display_name": "Python 3 (ipykernel)",
   "language": "python",
   "name": "python3"
  },
  "language_info": {
   "codemirror_mode": {
    "name": "ipython",
    "version": 3
   },
   "file_extension": ".py",
   "mimetype": "text/x-python",
   "name": "python",
   "nbconvert_exporter": "python",
   "pygments_lexer": "ipython3",
   "version": "3.9.12"
  }
 },
 "nbformat": 4,
 "nbformat_minor": 5
}
