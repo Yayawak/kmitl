{
 "cells": [
  {
   "cell_type": "code",
   "execution_count": 1,
   "id": "03eec972-6ccb-43a4-96ba-9fc673d7a65f",
   "metadata": {},
   "outputs": [],
   "source": [
    "def f(a,b,c,d):\n",
    "    return (x and y) and (c or d)"
   ]
  },
  {
   "cell_type": "code",
   "execution_count": 2,
   "id": "545ffb7c-0830-444c-9f83-538dd9bb0c5b",
   "metadata": {},
   "outputs": [],
   "source": [
    "import pandas as pd\n",
    "from itertools import product, permutations\n"
   ]
  },
  {
   "cell_type": "code",
   "execution_count": 3,
   "id": "36c0d0e2-3166-430e-8bac-06dce00d00c5",
   "metadata": {},
   "outputs": [],
   "source": [
    "def truth_table(f):\n",
    "    values = [list(x) + [f(*x) for x in product([True, False])]]"
   ]
  },
  {
   "cell_type": "code",
   "execution_count": 4,
   "id": "0c6e1ed0-518d-4714-a51c-895f5c695241",
   "metadata": {},
   "outputs": [],
   "source": [
    "# [x for x in product([True, False], repr=f.func_code.co_argcount)]"
   ]
  },
  {
   "cell_type": "code",
   "execution_count": 5,
   "id": "8c1fd954-a759-4c7e-b5aa-99a3e8bdf32c",
   "metadata": {},
   "outputs": [
    {
     "data": {
      "text/plain": [
       "[(1, 1), (1, 0), (0, 1), (0, 0)]"
      ]
     },
     "execution_count": 5,
     "metadata": {},
     "output_type": "execute_result"
    }
   ],
   "source": [
    "list(product([1,0], repeat=2))"
   ]
  },
  {
   "cell_type": "code",
   "execution_count": 6,
   "id": "c6b625e9-3282-4b82-8e08-18e9d8ab3212",
   "metadata": {},
   "outputs": [
    {
     "data": {
      "text/plain": [
       "[('l',), ('m',), ('h',)]"
      ]
     },
     "execution_count": 6,
     "metadata": {},
     "output_type": "execute_result"
    }
   ],
   "source": [
    "list(product(['l', 'm', 'h'], repeat=1))"
   ]
  },
  {
   "cell_type": "code",
   "execution_count": 7,
   "id": "20773f47-7cb3-4338-8ff8-e0b734bd21bb",
   "metadata": {},
   "outputs": [
    {
     "data": {
      "text/plain": [
       "[('l', 'l', 'l'),\n",
       " ('l', 'l', 'm'),\n",
       " ('l', 'l', 'h'),\n",
       " ('l', 'm', 'l'),\n",
       " ('l', 'm', 'm'),\n",
       " ('l', 'm', 'h'),\n",
       " ('l', 'h', 'l'),\n",
       " ('l', 'h', 'm'),\n",
       " ('l', 'h', 'h'),\n",
       " ('m', 'l', 'l'),\n",
       " ('m', 'l', 'm'),\n",
       " ('m', 'l', 'h'),\n",
       " ('m', 'm', 'l'),\n",
       " ('m', 'm', 'm'),\n",
       " ('m', 'm', 'h'),\n",
       " ('m', 'h', 'l'),\n",
       " ('m', 'h', 'm'),\n",
       " ('m', 'h', 'h'),\n",
       " ('h', 'l', 'l'),\n",
       " ('h', 'l', 'm'),\n",
       " ('h', 'l', 'h'),\n",
       " ('h', 'm', 'l'),\n",
       " ('h', 'm', 'm'),\n",
       " ('h', 'm', 'h'),\n",
       " ('h', 'h', 'l'),\n",
       " ('h', 'h', 'm'),\n",
       " ('h', 'h', 'h')]"
      ]
     },
     "execution_count": 7,
     "metadata": {},
     "output_type": "execute_result"
    }
   ],
   "source": [
    "list(product(['l', 'm', 'h'], repeat=3))"
   ]
  },
  {
   "cell_type": "code",
   "execution_count": 8,
   "id": "08313eb5-3078-4f4c-8b02-cce1619a250f",
   "metadata": {},
   "outputs": [
    {
     "name": "stdout",
     "output_type": "stream",
     "text": [
      "['l', 'l', 'l']\n",
      "['l', 'l', 'm']\n",
      "['l', 'l', 'h']\n",
      "['l', 'm', 'l']\n",
      "['l', 'm', 'm']\n",
      "['l', 'm', 'h']\n",
      "['l', 'h', 'l']\n",
      "['l', 'h', 'm']\n",
      "['l', 'h', 'h']\n",
      "['m', 'l', 'l']\n",
      "['m', 'l', 'm']\n",
      "['m', 'l', 'h']\n",
      "['m', 'm', 'l']\n",
      "['m', 'm', 'm']\n",
      "['m', 'm', 'h']\n",
      "['m', 'h', 'l']\n",
      "['m', 'h', 'm']\n",
      "['m', 'h', 'h']\n",
      "['h', 'l', 'l']\n",
      "['h', 'l', 'm']\n",
      "['h', 'l', 'h']\n",
      "['h', 'm', 'l']\n",
      "['h', 'm', 'm']\n",
      "['h', 'm', 'h']\n",
      "['h', 'h', 'l']\n",
      "['h', 'h', 'm']\n",
      "['h', 'h', 'h']\n"
     ]
    }
   ],
   "source": [
    "k_lst = ['l', 'm', 'h']\n",
    "for v1 in k_lst:\n",
    "    for v2 in k_lst:\n",
    "        for v3 in k_lst:\n",
    "            print([v1, v2, v3])\n"
   ]
  },
  {
   "cell_type": "code",
   "execution_count": 9,
   "id": "86d6d830-dadb-4c94-b775-d2d2b4747939",
   "metadata": {},
   "outputs": [
    {
     "data": {
      "text/plain": [
       "[1, 2, 3]"
      ]
     },
     "execution_count": 9,
     "metadata": {},
     "output_type": "execute_result"
    }
   ],
   "source": [
    "x_lst = [1, 2 ,3]\n",
    "x_lst"
   ]
  },
  {
   "cell_type": "code",
   "execution_count": 10,
   "id": "4f12f355-e49b-4374-b73f-2053f091e205",
   "metadata": {},
   "outputs": [
    {
     "ename": "NameError",
     "evalue": "name 'lst' is not defined",
     "output_type": "error",
     "traceback": [
      "\u001b[0;31m---------------------------------------------------------------------------\u001b[0m",
      "\u001b[0;31mNameError\u001b[0m                                 Traceback (most recent call last)",
      "Input \u001b[0;32mIn [10]\u001b[0m, in \u001b[0;36m<cell line: 1>\u001b[0;34m()\u001b[0m\n\u001b[0;32m----> 1\u001b[0m \u001b[43mlst\u001b[49m\n",
      "\u001b[0;31mNameError\u001b[0m: name 'lst' is not defined"
     ]
    }
   ],
   "source": [
    "lst"
   ]
  },
  {
   "cell_type": "code",
   "execution_count": null,
   "id": "5880e90e-ac39-4094-b37e-b0448fe79f7b",
   "metadata": {},
   "outputs": [],
   "source": [
    "[] + ['a', 'b'] + ['c']"
   ]
  },
  {
   "cell_type": "code",
   "execution_count": null,
   "id": "7a1e4ad6-c68f-4902-acca-ecfc1685df42",
   "metadata": {},
   "outputs": [],
   "source": [
    "# [].append(['a', 'b']).append('c')"
   ]
  },
  {
   "cell_type": "code",
   "execution_count": null,
   "id": "c148f382-f996-4e90-bede-01795ccc0cc1",
   "metadata": {},
   "outputs": [],
   "source": [
    "# for \n",
    "l = []\n",
    "for x in x_lst:\n",
    "    # l.append(x**2)\n",
    "    # l = l + [x**2]\n",
    "    l += [x**2]\n",
    "l"
   ]
  },
  {
   "cell_type": "code",
   "execution_count": null,
   "id": "4ba03d65-b1be-454a-9aa5-58bcd9db393f",
   "metadata": {},
   "outputs": [],
   "source": [
    "# list comprehension\n",
    "[x ** 2 for x in x_lst]"
   ]
  },
  {
   "cell_type": "code",
   "execution_count": null,
   "id": "d7acfc98-22be-4476-8a75-c0c2b0c376cf",
   "metadata": {},
   "outputs": [],
   "source": [
    "cartesian_product(lst, 1)"
   ]
  },
  {
   "cell_type": "code",
   "execution_count": 11,
   "id": "41fd7496-bc5a-45b9-8836-5cee15b1f7d7",
   "metadata": {},
   "outputs": [
    {
     "data": {
      "text/plain": [
       "[['l', 'l'],\n",
       " ['l', 'm'],\n",
       " ['l', 'h'],\n",
       " ['m', 'l'],\n",
       " ['m', 'm'],\n",
       " ['m', 'h'],\n",
       " ['h', 'l'],\n",
       " ['h', 'm'],\n",
       " ['h', 'h']]"
      ]
     },
     "execution_count": 11,
     "metadata": {},
     "output_type": "execute_result"
    }
   ],
   "source": [
    "def cartesian_product(lst, n):\n",
    "    if n == 1:\n",
    "        return [[x] for x in lst]\n",
    "    \n",
    "        # return [(x,) for x in lst]\n",
    "        # return [tuple() for x in lst]\n",
    "    # return [(x,) + t for t in cartesian_product(lst, n - 1) for x in lst]\n",
    "    \n",
    "    l = []\n",
    "    for x in lst:\n",
    "    # for x in ['l', 'm', 'h']:\n",
    "        for t in cartesian_product(lst, n - 1):\n",
    "        # for t in [['l'], ['m'], ['h']]:\n",
    "            # l += [['l'] + ['l']]\n",
    "            # l += [['l', 'l']]\n",
    "            l += [[x] + t]\n",
    "    return l\n",
    "    # return [  [x] + t for t in cartesian_product(lst, n - 1)  for x in ['l', 'm', 'h']]\n",
    "lst = ['l', 'm', 'h']\n",
    "# lst\n",
    "cartesian_product(lst, n=2)"
   ]
  },
  {
   "cell_type": "code",
   "execution_count": 12,
   "id": "49518c82-413c-43d9-a618-5d6292adee7a",
   "metadata": {},
   "outputs": [
    {
     "data": {
      "text/plain": [
       "[['l', 'l', 'l'],\n",
       " ['l', 'l', 'm'],\n",
       " ['l', 'l', 'h'],\n",
       " ['l', 'm', 'l'],\n",
       " ['l', 'm', 'm'],\n",
       " ['l', 'm', 'h'],\n",
       " ['l', 'h', 'l'],\n",
       " ['l', 'h', 'm'],\n",
       " ['l', 'h', 'h'],\n",
       " ['m', 'l', 'l'],\n",
       " ['m', 'l', 'm'],\n",
       " ['m', 'l', 'h'],\n",
       " ['m', 'm', 'l'],\n",
       " ['m', 'm', 'm'],\n",
       " ['m', 'm', 'h'],\n",
       " ['m', 'h', 'l'],\n",
       " ['m', 'h', 'm'],\n",
       " ['m', 'h', 'h'],\n",
       " ['h', 'l', 'l'],\n",
       " ['h', 'l', 'm'],\n",
       " ['h', 'l', 'h'],\n",
       " ['h', 'm', 'l'],\n",
       " ['h', 'm', 'm'],\n",
       " ['h', 'm', 'h'],\n",
       " ['h', 'h', 'l'],\n",
       " ['h', 'h', 'm'],\n",
       " ['h', 'h', 'h']]"
      ]
     },
     "execution_count": 12,
     "metadata": {},
     "output_type": "execute_result"
    }
   ],
   "source": [
    "cartesian_product(lst, n=3)"
   ]
  },
  {
   "cell_type": "code",
   "execution_count": 13,
   "id": "1c963956-4f12-4f9a-818b-f18596a30f7a",
   "metadata": {},
   "outputs": [
    {
     "data": {
      "text/plain": [
       "81"
      ]
     },
     "execution_count": 13,
     "metadata": {},
     "output_type": "execute_result"
    }
   ],
   "source": [
    "3**4"
   ]
  },
  {
   "cell_type": "code",
   "execution_count": 15,
   "id": "eb452cfb-f91f-4964-94b2-af871c1db24c",
   "metadata": {},
   "outputs": [
    {
     "data": {
      "text/plain": [
       "3"
      ]
     },
     "execution_count": 15,
     "metadata": {},
     "output_type": "execute_result"
    }
   ],
   "source": [
    "k = 1\n",
    "n = 2*k + 1\n",
    "n"
   ]
  },
  {
   "cell_type": "code",
   "execution_count": 52,
   "id": "75e5d523-e542-40aa-9af8-76e9c10f0669",
   "metadata": {},
   "outputs": [],
   "source": [
    "import numpy as np\n",
    "\n",
    "k = 1\n",
    "n = 2*k + 1\n",
    "\n",
    "np.random.seed(99)\n",
    "u_arr = np.random.randint(0, 100, size=[n])\n",
    "u_arr\n"
   ]
  },
  {
   "cell_type": "code",
   "execution_count": 53,
   "id": "f0cfe864-cc2f-4e66-96c6-ee8df298b365",
   "metadata": {},
   "outputs": [
    {
     "data": {
      "text/plain": [
       "[1, 35, 57]"
      ]
     },
     "execution_count": 53,
     "metadata": {},
     "output_type": "execute_result"
    }
   ],
   "source": [
    "u_list = list(u_arr)\n",
    "u_list"
   ]
  },
  {
   "cell_type": "code",
   "execution_count": 68,
   "id": "3e3dcc22-f217-49a3-ace3-b5895fc36ea0",
   "metadata": {},
   "outputs": [
    {
     "data": {
      "text/plain": [
       "35"
      ]
     },
     "execution_count": 68,
     "metadata": {},
     "output_type": "execute_result"
    }
   ],
   "source": [
    "mid_from_sorted = sorted(u_list)[get_mid_idx(len(u_list))]\n",
    "mid_from_sorted"
   ]
  },
  {
   "cell_type": "code",
   "execution_count": 69,
   "id": "0d89419b-5b2e-42f5-bcf4-524a6996b25e",
   "metadata": {},
   "outputs": [
    {
     "data": {
      "text/plain": [
       "27"
      ]
     },
     "execution_count": 69,
     "metadata": {},
     "output_type": "execute_result"
    }
   ],
   "source": [
    "# cartesian_product(u_list, n=5)\n",
    "len(cartesian_product(u_list, n=len(u_list)))"
   ]
  },
  {
   "cell_type": "code",
   "execution_count": 95,
   "id": "bbe43867-c70a-4bc3-94f4-b9dd228b7768",
   "metadata": {},
   "outputs": [],
   "source": [
    "def getMidFromSortedList(u_list):\n",
    "    mid_by_sorted_lst = []\n",
    "    # ran_mid = 0\n",
    "    for row in cartesian_product(u_list, n=len(u_list)):\n",
    "        idx = get_mid_idx(n)\n",
    "        # print(\"Us : \", row, '\\t\\t', \"S : \", sorted(row), '\\t\\t', \"m = \", sorted(row)[idx])\n",
    "\n",
    "        m = sorted(row)[idx]\n",
    "        mid_by_sorted_lst += [m]\n",
    "        # print(f\"us : {row}\\t  s : {sorted(row)} m = {row[1]}\")\n",
    "    return mid_by_sorted_lst\n",
    "    # print(mid_by_sorted_lst[:20])\n",
    "    # mid_by_sorted_lst"
   ]
  },
  {
   "cell_type": "code",
   "execution_count": 102,
   "id": "74214292-9529-44bf-b59f-39ef19449f95",
   "metadata": {},
   "outputs": [
    {
     "data": {
      "text/plain": [
       "13"
      ]
     },
     "execution_count": 102,
     "metadata": {},
     "output_type": "execute_result"
    }
   ],
   "source": [
    "def countMid(arr, mid):\n",
    "    count_m = 0\n",
    "    for x in arr:\n",
    "        # if x == get_mid(arr):\n",
    "        if x == mid:\n",
    "            count_m += 1\n",
    "    # count_m\n",
    "    return count_m\n",
    "countMid(mid_by_sorted_lst, get_mid(u_list))"
   ]
  },
  {
   "cell_type": "code",
   "execution_count": 106,
   "id": "2f6d1418-2f99-4e5e-b263-218bf86b8a36",
   "metadata": {},
   "outputs": [],
   "source": [
    "# def getProbOfMid(n_count_mid, n_mid_list):\n",
    "def getProbOfMid(mid_by_sorted_lst, primitive_random_n_list=u_list):\n",
    "    # return n_count_mid / n_mid_list\n",
    "    return countMid(mid_by_sorted_lst, get_mid(primitive_random_n_list)) / len(mid_by_sorted_lst)\n",
    "    "
   ]
  },
  {
   "cell_type": "code",
   "execution_count": 107,
   "id": "0a85d5ef-b841-48c4-8ddb-f8a05a6ed95c",
   "metadata": {},
   "outputs": [
    {
     "data": {
      "text/plain": [
       "0.48148148148148145"
      ]
     },
     "execution_count": 107,
     "metadata": {},
     "output_type": "execute_result"
    }
   ],
   "source": [
    "getProbOfMid(mid_by_sorted_lst, u_list)"
   ]
  },
  {
   "cell_type": "code",
   "execution_count": 103,
   "id": "120c9521-b5a2-4969-8ab3-2768d61025c7",
   "metadata": {},
   "outputs": [
    {
     "name": "stdout",
     "output_type": "stream",
     "text": [
      "[1, 1, 1, 1, 35, 35, 1, 35, 57, 1, 35, 35, 35, 35, 35, 35, 35, 57, 1, 35, 57, 35, 35, 57, 57, 57, 57]\n"
     ]
    }
   ],
   "source": [
    "mid_by_sorted_lst = getMidFromSortedList(u_list)\n",
    "print(mid_by_sorted_lst)"
   ]
  },
  {
   "cell_type": "code",
   "execution_count": 104,
   "id": "8bb685f8-a6fa-45c7-b3f7-8c0207d4d7ef",
   "metadata": {},
   "outputs": [
    {
     "data": {
      "text/plain": [
       "27"
      ]
     },
     "execution_count": 104,
     "metadata": {},
     "output_type": "execute_result"
    }
   ],
   "source": [
    "len(mid_by_sorted_lst)"
   ]
  },
  {
   "cell_type": "code",
   "execution_count": 72,
   "id": "88cb4dad-4d50-47ea-9d90-2d8266e041d9",
   "metadata": {},
   "outputs": [
    {
     "data": {
      "text/plain": [
       "[1, 35, 57]"
      ]
     },
     "execution_count": 72,
     "metadata": {},
     "output_type": "execute_result"
    }
   ],
   "source": [
    "u_list"
   ]
  },
  {
   "cell_type": "code",
   "execution_count": 73,
   "id": "b15cfaf9-f371-4aaa-9ce7-eaef988009a1",
   "metadata": {},
   "outputs": [],
   "source": [
    "# [row for row in cartesian_product(u_list, n=len(u_list))]"
   ]
  },
  {
   "cell_type": "code",
   "execution_count": 74,
   "id": "737e17b7-1857-4f5f-b4b4-ffc8d1bb7562",
   "metadata": {},
   "outputs": [],
   "source": [
    "# (5+1)/2"
   ]
  },
  {
   "cell_type": "code",
   "execution_count": 75,
   "id": "612041c4-c19a-4893-96e2-45739cdc7300",
   "metadata": {},
   "outputs": [
    {
     "data": {
      "text/plain": [
       "35"
      ]
     },
     "execution_count": 75,
     "metadata": {},
     "output_type": "execute_result"
    }
   ],
   "source": [
    "def get_mid(u_list):\n",
    "    mid_from_sorted = sorted(u_list)[get_mid_idx(len(u_list))]\n",
    "    return mid_from_sorted\n",
    "get_mid(u_list)"
   ]
  },
  {
   "cell_type": "code",
   "execution_count": 78,
   "id": "9f589ba2-a011-43b2-b8c1-c4ff7e4446e6",
   "metadata": {},
   "outputs": [
    {
     "data": {
      "text/plain": [
       "1.0"
      ]
     },
     "execution_count": 78,
     "metadata": {},
     "output_type": "execute_result"
    }
   ],
   "source": [
    "(3+1   )/ 2  - 1"
   ]
  },
  {
   "cell_type": "code",
   "execution_count": 84,
   "id": "2a286bd4-23e9-41fd-82c6-85bbf71163bc",
   "metadata": {},
   "outputs": [
    {
     "data": {
      "text/plain": [
       "35"
      ]
     },
     "execution_count": 84,
     "metadata": {},
     "output_type": "execute_result"
    }
   ],
   "source": [
    "def get_mid_idx(n):\n",
    "    return int((n+1) / 2) - 1\n",
    "mid_idx = get_mid_idx(n)\n",
    "ran_mid = u_list[mid_idx]\n",
    "ran_mid"
   ]
  },
  {
   "cell_type": "code",
   "execution_count": 86,
   "id": "7af540de-ef56-46f4-a2e2-2dcc59a30168",
   "metadata": {},
   "outputs": [
    {
     "data": {
      "text/plain": [
       "[1, 35, 57]"
      ]
     },
     "execution_count": 86,
     "metadata": {},
     "output_type": "execute_result"
    }
   ],
   "source": [
    "u_list"
   ]
  },
  {
   "cell_type": "code",
   "execution_count": 88,
   "id": "50099a38-9636-4439-9786-9ded279f5883",
   "metadata": {},
   "outputs": [
    {
     "name": "stdout",
     "output_type": "stream",
     "text": [
      "[1, 1, 1, 1, 35, 35, 1, 35, 57, 1, 35, 35, 35, 35, 35, 35, 35, 57, 1, 35, 57, 35, 35, 57, 57, 57, 57]\n"
     ]
    }
   ],
   "source": [
    "print(mid_by_sorted_lst)"
   ]
  },
  {
   "cell_type": "code",
   "execution_count": 83,
   "id": "a2630605-a879-4858-b3ec-0bc63d516c31",
   "metadata": {},
   "outputs": [
    {
     "data": {
      "text/plain": [
       "13"
      ]
     },
     "execution_count": 83,
     "metadata": {},
     "output_type": "execute_result"
    }
   ],
   "source": [
    "# mid_by_sorted_lst\n",
    "count_m = 0\n",
    "for x in mid_by_sorted_lst:\n",
    "    if x == get_mid(u_list):\n",
    "        count_m += 1\n",
    "count_m"
   ]
  },
  {
   "cell_type": "code",
   "execution_count": 49,
   "id": "75dc0244-89fd-4acf-8ef6-b0ba36833f06",
   "metadata": {},
   "outputs": [
    {
     "data": {
      "text/plain": [
       "3125"
      ]
     },
     "execution_count": 49,
     "metadata": {},
     "output_type": "execute_result"
    }
   ],
   "source": [
    "size_list = len(mid_by_sorted_lst)\n",
    "size_list"
   ]
  },
  {
   "cell_type": "code",
   "execution_count": 50,
   "id": "3ba9f494-6816-47e9-944b-36c02e059e78",
   "metadata": {},
   "outputs": [
    {
     "data": {
      "text/plain": [
       "0.40032"
      ]
     },
     "execution_count": 50,
     "metadata": {},
     "output_type": "execute_result"
    }
   ],
   "source": [
    "count_m / size_list"
   ]
  },
  {
   "cell_type": "code",
   "execution_count": 27,
   "id": "8b947378-7999-472e-baa9-c923def52862",
   "metadata": {},
   "outputs": [
    {
     "data": {
      "text/plain": [
       "0.48148148148148145"
      ]
     },
     "execution_count": 27,
     "metadata": {},
     "output_type": "execute_result"
    }
   ],
   "source": [
    "count_m / len(lst)"
   ]
  },
  {
   "cell_type": "code",
   "execution_count": 39,
   "id": "e2b7197d-3cb5-4fb1-bfe4-d9340d06ad97",
   "metadata": {},
   "outputs": [
    {
     "data": {
      "text/plain": [
       "81"
      ]
     },
     "execution_count": 39,
     "metadata": {},
     "output_type": "execute_result"
    }
   ],
   "source": [
    "# 3^4\n",
    "len(cartesian_product(lst, n=4))"
   ]
  },
  {
   "cell_type": "code",
   "execution_count": 40,
   "id": "4ede51bf-36eb-4eda-b81d-1a07416d1c94",
   "metadata": {},
   "outputs": [],
   "source": [
    "# for "
   ]
  },
  {
   "cell_type": "code",
   "execution_count": 41,
   "id": "13e8fa41-b6da-4719-8dda-58573352a928",
   "metadata": {},
   "outputs": [],
   "source": [
    "# if n == 1:\n",
    "#     return [(x,) for x in lst]\n",
    "# return [(x,) + t for t in cartesian_product(lst, n - 1) for x in lst]"
   ]
  },
  {
   "cell_type": "code",
   "execution_count": 42,
   "id": "a75a8c0b-520a-4b4a-8318-2e93ea69e167",
   "metadata": {},
   "outputs": [],
   "source": [
    "import numpy as np\n",
    "weight = np.array([2, 5, 10, 5])\n",
    "# list(product([True, False], repeat=4))\n",
    "base_list = list(product([1, 0], repeat=4))\n",
    "base_arr = np.array(base_list)"
   ]
  },
  {
   "cell_type": "code",
   "execution_count": 43,
   "id": "553d1e2a-92e5-49b0-8fe8-96f0ae4333a0",
   "metadata": {},
   "outputs": [
    {
     "data": {
      "text/plain": [
       "[(1, 1, 1, 1),\n",
       " (1, 1, 1, 0),\n",
       " (1, 1, 0, 1),\n",
       " (1, 1, 0, 0),\n",
       " (1, 0, 1, 1),\n",
       " (1, 0, 1, 0),\n",
       " (1, 0, 0, 1),\n",
       " (1, 0, 0, 0),\n",
       " (0, 1, 1, 1),\n",
       " (0, 1, 1, 0),\n",
       " (0, 1, 0, 1),\n",
       " (0, 1, 0, 0),\n",
       " (0, 0, 1, 1),\n",
       " (0, 0, 1, 0),\n",
       " (0, 0, 0, 1),\n",
       " (0, 0, 0, 0)]"
      ]
     },
     "execution_count": 43,
     "metadata": {},
     "output_type": "execute_result"
    }
   ],
   "source": [
    "base_list"
   ]
  },
  {
   "cell_type": "code",
   "execution_count": 44,
   "id": "0a2cdb03-3c50-41ae-9355-8f247cc09cc7",
   "metadata": {},
   "outputs": [
    {
     "data": {
      "text/plain": [
       "array([[ 2,  5, 10,  5],\n",
       "       [ 2,  5, 10,  0],\n",
       "       [ 2,  5,  0,  5],\n",
       "       [ 2,  5,  0,  0],\n",
       "       [ 2,  0, 10,  5],\n",
       "       [ 2,  0, 10,  0],\n",
       "       [ 2,  0,  0,  5],\n",
       "       [ 2,  0,  0,  0],\n",
       "       [ 0,  5, 10,  5],\n",
       "       [ 0,  5, 10,  0],\n",
       "       [ 0,  5,  0,  5],\n",
       "       [ 0,  5,  0,  0],\n",
       "       [ 0,  0, 10,  5],\n",
       "       [ 0,  0, 10,  0],\n",
       "       [ 0,  0,  0,  5],\n",
       "       [ 0,  0,  0,  0]])"
      ]
     },
     "execution_count": 44,
     "metadata": {},
     "output_type": "execute_result"
    }
   ],
   "source": [
    "weight * base_arr\n"
   ]
  },
  {
   "cell_type": "code",
   "execution_count": 45,
   "id": "6c073e12-8bbf-48a0-83a2-2d85807177a6",
   "metadata": {},
   "outputs": [
    {
     "data": {
      "text/plain": [
       "array([[ 2,  5, 10,  5],\n",
       "       [ 2,  5, 10,  0],\n",
       "       [ 2,  5,  0,  5],\n",
       "       [ 2,  5,  0,  0],\n",
       "       [ 2,  0, 10,  5],\n",
       "       [ 2,  0, 10,  0],\n",
       "       [ 2,  0,  0,  5],\n",
       "       [ 2,  0,  0,  0],\n",
       "       [ 0,  5, 10,  5],\n",
       "       [ 0,  5, 10,  0],\n",
       "       [ 0,  5,  0,  5],\n",
       "       [ 0,  5,  0,  0],\n",
       "       [ 0,  0, 10,  5],\n",
       "       [ 0,  0, 10,  0],\n",
       "       [ 0,  0,  0,  5],\n",
       "       [ 0,  0,  0,  0]])"
      ]
     },
     "execution_count": 45,
     "metadata": {},
     "output_type": "execute_result"
    }
   ],
   "source": [
    "allowedWeight = (weight * base_arr)\n",
    "allowedWeight"
   ]
  },
  {
   "cell_type": "code",
   "execution_count": 9,
   "id": "d2a3d34a-66a3-42f1-9c84-7654d9ddd961",
   "metadata": {},
   "outputs": [
    {
     "data": {
      "text/plain": [
       "array([22, 17, 12,  7, 17, 12,  7,  2, 20, 15, 10,  5, 15, 10,  5,  0])"
      ]
     },
     "execution_count": 9,
     "metadata": {},
     "output_type": "execute_result"
    }
   ],
   "source": [
    "np.sum(allowedWeight, axis=1)"
   ]
  },
  {
   "cell_type": "code",
   "execution_count": 10,
   "id": "8f83d7e0-98dd-4bc0-99af-26ddbde86f9f",
   "metadata": {},
   "outputs": [
    {
     "data": {
      "text/plain": [
       "0"
      ]
     },
     "execution_count": 10,
     "metadata": {},
     "output_type": "execute_result"
    }
   ],
   "source": [
    "sum_weight_arr = np.sum(allowedWeight, axis=1)\n",
    "np.argmax(sum_weight_arr)"
   ]
  },
  {
   "cell_type": "code",
   "execution_count": 11,
   "id": "dfae46af-95ad-403d-81e4-b065f94f7e13",
   "metadata": {},
   "outputs": [
    {
     "data": {
      "text/plain": [
       "array([0, 0, 1, 1, 0, 1, 1, 1, 0, 1, 1, 1, 1, 1, 1, 1])"
      ]
     },
     "execution_count": 11,
     "metadata": {},
     "output_type": "execute_result"
    }
   ],
   "source": [
    "C = 16\n",
    "(sum_weight_arr <= C) * 1"
   ]
  },
  {
   "cell_type": "code",
   "execution_count": 12,
   "id": "a5d8d418-cc31-4196-94de-3b81887d67a1",
   "metadata": {},
   "outputs": [],
   "source": [
    "fancy_idx_pass_16 = (sum_weight_arr <= C) * 1\n",
    "# allowedWeight[fancy_idx_pass_16]"
   ]
  },
  {
   "cell_type": "code",
   "execution_count": 13,
   "id": "4a370c61-d366-4fb1-95dc-ccba2764c51c",
   "metadata": {},
   "outputs": [
    {
     "data": {
      "text/plain": [
       "array([False, False,  True,  True, False,  True,  True,  True, False,\n",
       "        True,  True,  True,  True,  True,  True,  True])"
      ]
     },
     "execution_count": 13,
     "metadata": {},
     "output_type": "execute_result"
    }
   ],
   "source": [
    "fancy_idx_pass_16 = (sum_weight_arr <= C)\n",
    "fancy_idx_pass_16"
   ]
  },
  {
   "cell_type": "code",
   "execution_count": 14,
   "id": "037f7fe1-3cf6-47e4-8b43-45e4e8b66d63",
   "metadata": {},
   "outputs": [
    {
     "data": {
      "text/html": [
       "<div>\n",
       "<style scoped>\n",
       "    .dataframe tbody tr th:only-of-type {\n",
       "        vertical-align: middle;\n",
       "    }\n",
       "\n",
       "    .dataframe tbody tr th {\n",
       "        vertical-align: top;\n",
       "    }\n",
       "\n",
       "    .dataframe thead th {\n",
       "        text-align: right;\n",
       "    }\n",
       "</style>\n",
       "<table border=\"1\" class=\"dataframe\">\n",
       "  <thead>\n",
       "    <tr style=\"text-align: right;\">\n",
       "      <th></th>\n",
       "      <th>0</th>\n",
       "      <th>1</th>\n",
       "      <th>2</th>\n",
       "      <th>3</th>\n",
       "    </tr>\n",
       "  </thead>\n",
       "  <tbody>\n",
       "    <tr>\n",
       "      <th>2</th>\n",
       "      <td>2</td>\n",
       "      <td>5</td>\n",
       "      <td>0</td>\n",
       "      <td>5</td>\n",
       "    </tr>\n",
       "    <tr>\n",
       "      <th>3</th>\n",
       "      <td>2</td>\n",
       "      <td>5</td>\n",
       "      <td>0</td>\n",
       "      <td>0</td>\n",
       "    </tr>\n",
       "    <tr>\n",
       "      <th>5</th>\n",
       "      <td>2</td>\n",
       "      <td>0</td>\n",
       "      <td>10</td>\n",
       "      <td>0</td>\n",
       "    </tr>\n",
       "    <tr>\n",
       "      <th>6</th>\n",
       "      <td>2</td>\n",
       "      <td>0</td>\n",
       "      <td>0</td>\n",
       "      <td>5</td>\n",
       "    </tr>\n",
       "    <tr>\n",
       "      <th>7</th>\n",
       "      <td>2</td>\n",
       "      <td>0</td>\n",
       "      <td>0</td>\n",
       "      <td>0</td>\n",
       "    </tr>\n",
       "    <tr>\n",
       "      <th>9</th>\n",
       "      <td>0</td>\n",
       "      <td>5</td>\n",
       "      <td>10</td>\n",
       "      <td>0</td>\n",
       "    </tr>\n",
       "    <tr>\n",
       "      <th>10</th>\n",
       "      <td>0</td>\n",
       "      <td>5</td>\n",
       "      <td>0</td>\n",
       "      <td>5</td>\n",
       "    </tr>\n",
       "    <tr>\n",
       "      <th>11</th>\n",
       "      <td>0</td>\n",
       "      <td>5</td>\n",
       "      <td>0</td>\n",
       "      <td>0</td>\n",
       "    </tr>\n",
       "    <tr>\n",
       "      <th>12</th>\n",
       "      <td>0</td>\n",
       "      <td>0</td>\n",
       "      <td>10</td>\n",
       "      <td>5</td>\n",
       "    </tr>\n",
       "    <tr>\n",
       "      <th>13</th>\n",
       "      <td>0</td>\n",
       "      <td>0</td>\n",
       "      <td>10</td>\n",
       "      <td>0</td>\n",
       "    </tr>\n",
       "    <tr>\n",
       "      <th>14</th>\n",
       "      <td>0</td>\n",
       "      <td>0</td>\n",
       "      <td>0</td>\n",
       "      <td>5</td>\n",
       "    </tr>\n",
       "    <tr>\n",
       "      <th>15</th>\n",
       "      <td>0</td>\n",
       "      <td>0</td>\n",
       "      <td>0</td>\n",
       "      <td>0</td>\n",
       "    </tr>\n",
       "  </tbody>\n",
       "</table>\n",
       "</div>"
      ],
      "text/plain": [
       "    0  1   2  3\n",
       "2   2  5   0  5\n",
       "3   2  5   0  0\n",
       "5   2  0  10  0\n",
       "6   2  0   0  5\n",
       "7   2  0   0  0\n",
       "9   0  5  10  0\n",
       "10  0  5   0  5\n",
       "11  0  5   0  0\n",
       "12  0  0  10  5\n",
       "13  0  0  10  0\n",
       "14  0  0   0  5\n",
       "15  0  0   0  0"
      ]
     },
     "execution_count": 14,
     "metadata": {},
     "output_type": "execute_result"
    }
   ],
   "source": [
    "df = pd.DataFrame(allowedWeight)\n",
    "df[fancy_idx_pass_16]"
   ]
  },
  {
   "cell_type": "code",
   "execution_count": 15,
   "id": "c02994ad-6a1b-4356-ae3e-cac1c93c8693",
   "metadata": {},
   "outputs": [
    {
     "data": {
      "text/plain": [
       "2     12\n",
       "3      7\n",
       "5     12\n",
       "6      7\n",
       "7      2\n",
       "9     15\n",
       "10    10\n",
       "11     5\n",
       "12    15\n",
       "13    10\n",
       "14     5\n",
       "15     0\n",
       "dtype: int64"
      ]
     },
     "execution_count": 15,
     "metadata": {},
     "output_type": "execute_result"
    }
   ],
   "source": [
    "# sum weight \n",
    "df[fancy_idx_pass_16].sum(axis=1)"
   ]
  },
  {
   "cell_type": "code",
   "execution_count": 32,
   "id": "af160a18-081a-475f-9157-e89a506c5434",
   "metadata": {},
   "outputs": [
    {
     "data": {
      "text/html": [
       "<div>\n",
       "<style scoped>\n",
       "    .dataframe tbody tr th:only-of-type {\n",
       "        vertical-align: middle;\n",
       "    }\n",
       "\n",
       "    .dataframe tbody tr th {\n",
       "        vertical-align: top;\n",
       "    }\n",
       "\n",
       "    .dataframe thead th {\n",
       "        text-align: right;\n",
       "    }\n",
       "</style>\n",
       "<table border=\"1\" class=\"dataframe\">\n",
       "  <thead>\n",
       "    <tr style=\"text-align: right;\">\n",
       "      <th></th>\n",
       "      <th>0</th>\n",
       "      <th>1</th>\n",
       "      <th>2</th>\n",
       "      <th>3</th>\n",
       "      <th>sum_weight</th>\n",
       "    </tr>\n",
       "  </thead>\n",
       "  <tbody>\n",
       "    <tr>\n",
       "      <th>0</th>\n",
       "      <td>2</td>\n",
       "      <td>5</td>\n",
       "      <td>10</td>\n",
       "      <td>5</td>\n",
       "      <td>22</td>\n",
       "    </tr>\n",
       "    <tr>\n",
       "      <th>1</th>\n",
       "      <td>2</td>\n",
       "      <td>5</td>\n",
       "      <td>10</td>\n",
       "      <td>0</td>\n",
       "      <td>17</td>\n",
       "    </tr>\n",
       "    <tr>\n",
       "      <th>2</th>\n",
       "      <td>2</td>\n",
       "      <td>5</td>\n",
       "      <td>0</td>\n",
       "      <td>5</td>\n",
       "      <td>12</td>\n",
       "    </tr>\n",
       "    <tr>\n",
       "      <th>3</th>\n",
       "      <td>2</td>\n",
       "      <td>5</td>\n",
       "      <td>0</td>\n",
       "      <td>0</td>\n",
       "      <td>7</td>\n",
       "    </tr>\n",
       "    <tr>\n",
       "      <th>4</th>\n",
       "      <td>2</td>\n",
       "      <td>0</td>\n",
       "      <td>10</td>\n",
       "      <td>5</td>\n",
       "      <td>17</td>\n",
       "    </tr>\n",
       "    <tr>\n",
       "      <th>5</th>\n",
       "      <td>2</td>\n",
       "      <td>0</td>\n",
       "      <td>10</td>\n",
       "      <td>0</td>\n",
       "      <td>12</td>\n",
       "    </tr>\n",
       "    <tr>\n",
       "      <th>6</th>\n",
       "      <td>2</td>\n",
       "      <td>0</td>\n",
       "      <td>0</td>\n",
       "      <td>5</td>\n",
       "      <td>7</td>\n",
       "    </tr>\n",
       "    <tr>\n",
       "      <th>7</th>\n",
       "      <td>2</td>\n",
       "      <td>0</td>\n",
       "      <td>0</td>\n",
       "      <td>0</td>\n",
       "      <td>2</td>\n",
       "    </tr>\n",
       "    <tr>\n",
       "      <th>8</th>\n",
       "      <td>0</td>\n",
       "      <td>5</td>\n",
       "      <td>10</td>\n",
       "      <td>5</td>\n",
       "      <td>20</td>\n",
       "    </tr>\n",
       "    <tr>\n",
       "      <th>9</th>\n",
       "      <td>0</td>\n",
       "      <td>5</td>\n",
       "      <td>10</td>\n",
       "      <td>0</td>\n",
       "      <td>15</td>\n",
       "    </tr>\n",
       "    <tr>\n",
       "      <th>10</th>\n",
       "      <td>0</td>\n",
       "      <td>5</td>\n",
       "      <td>0</td>\n",
       "      <td>5</td>\n",
       "      <td>10</td>\n",
       "    </tr>\n",
       "    <tr>\n",
       "      <th>11</th>\n",
       "      <td>0</td>\n",
       "      <td>5</td>\n",
       "      <td>0</td>\n",
       "      <td>0</td>\n",
       "      <td>5</td>\n",
       "    </tr>\n",
       "    <tr>\n",
       "      <th>12</th>\n",
       "      <td>0</td>\n",
       "      <td>0</td>\n",
       "      <td>10</td>\n",
       "      <td>5</td>\n",
       "      <td>15</td>\n",
       "    </tr>\n",
       "    <tr>\n",
       "      <th>13</th>\n",
       "      <td>0</td>\n",
       "      <td>0</td>\n",
       "      <td>10</td>\n",
       "      <td>0</td>\n",
       "      <td>10</td>\n",
       "    </tr>\n",
       "    <tr>\n",
       "      <th>14</th>\n",
       "      <td>0</td>\n",
       "      <td>0</td>\n",
       "      <td>0</td>\n",
       "      <td>5</td>\n",
       "      <td>5</td>\n",
       "    </tr>\n",
       "    <tr>\n",
       "      <th>15</th>\n",
       "      <td>0</td>\n",
       "      <td>0</td>\n",
       "      <td>0</td>\n",
       "      <td>0</td>\n",
       "      <td>0</td>\n",
       "    </tr>\n",
       "  </tbody>\n",
       "</table>\n",
       "</div>"
      ],
      "text/plain": [
       "    0  1   2  3  sum_weight\n",
       "0   2  5  10  5          22\n",
       "1   2  5  10  0          17\n",
       "2   2  5   0  5          12\n",
       "3   2  5   0  0           7\n",
       "4   2  0  10  5          17\n",
       "5   2  0  10  0          12\n",
       "6   2  0   0  5           7\n",
       "7   2  0   0  0           2\n",
       "8   0  5  10  5          20\n",
       "9   0  5  10  0          15\n",
       "10  0  5   0  5          10\n",
       "11  0  5   0  0           5\n",
       "12  0  0  10  5          15\n",
       "13  0  0  10  0          10\n",
       "14  0  0   0  5           5\n",
       "15  0  0   0  0           0"
      ]
     },
     "execution_count": 32,
     "metadata": {},
     "output_type": "execute_result"
    }
   ],
   "source": [
    "df[fancy_idx_pass_16]\n",
    "df_2 = df.copy()\n",
    "df_2['sum_weight'] = df_2.sum(axis=1)\n",
    "df_2"
   ]
  },
  {
   "cell_type": "code",
   "execution_count": 33,
   "id": "49c97d95-1a93-499e-8630-1af5201599c7",
   "metadata": {},
   "outputs": [
    {
     "data": {
      "text/plain": [
       "array([[ 40, 150, 500,  50],\n",
       "       [ 40, 150, 500,   0],\n",
       "       [ 40, 150,   0,  50],\n",
       "       [ 40, 150,   0,   0],\n",
       "       [ 40,   0, 500,  50],\n",
       "       [ 40,   0, 500,   0],\n",
       "       [ 40,   0,   0,  50],\n",
       "       [ 40,   0,   0,   0],\n",
       "       [  0, 150, 500,  50],\n",
       "       [  0, 150, 500,   0],\n",
       "       [  0, 150,   0,  50],\n",
       "       [  0, 150,   0,   0],\n",
       "       [  0,   0, 500,  50],\n",
       "       [  0,   0, 500,   0],\n",
       "       [  0,   0,   0,  50],\n",
       "       [  0,   0,   0,   0]])"
      ]
     },
     "execution_count": 33,
     "metadata": {},
     "output_type": "execute_result"
    }
   ],
   "source": [
    "values = np.array([20,30,50,10])\n",
    "allowedWeight * values"
   ]
  },
  {
   "cell_type": "code",
   "execution_count": 35,
   "id": "10733090-4a0f-4483-b17b-42863467baf1",
   "metadata": {},
   "outputs": [
    {
     "data": {
      "text/html": [
       "<div>\n",
       "<style scoped>\n",
       "    .dataframe tbody tr th:only-of-type {\n",
       "        vertical-align: middle;\n",
       "    }\n",
       "\n",
       "    .dataframe tbody tr th {\n",
       "        vertical-align: top;\n",
       "    }\n",
       "\n",
       "    .dataframe thead th {\n",
       "        text-align: right;\n",
       "    }\n",
       "</style>\n",
       "<table border=\"1\" class=\"dataframe\">\n",
       "  <thead>\n",
       "    <tr style=\"text-align: right;\">\n",
       "      <th></th>\n",
       "      <th>0</th>\n",
       "      <th>1</th>\n",
       "      <th>2</th>\n",
       "      <th>3</th>\n",
       "      <th>sum_weight</th>\n",
       "      <th>sum_value</th>\n",
       "    </tr>\n",
       "  </thead>\n",
       "  <tbody>\n",
       "    <tr>\n",
       "      <th>0</th>\n",
       "      <td>2</td>\n",
       "      <td>5</td>\n",
       "      <td>10</td>\n",
       "      <td>5</td>\n",
       "      <td>22</td>\n",
       "      <td>740</td>\n",
       "    </tr>\n",
       "    <tr>\n",
       "      <th>1</th>\n",
       "      <td>2</td>\n",
       "      <td>5</td>\n",
       "      <td>10</td>\n",
       "      <td>0</td>\n",
       "      <td>17</td>\n",
       "      <td>690</td>\n",
       "    </tr>\n",
       "    <tr>\n",
       "      <th>2</th>\n",
       "      <td>2</td>\n",
       "      <td>5</td>\n",
       "      <td>0</td>\n",
       "      <td>5</td>\n",
       "      <td>12</td>\n",
       "      <td>240</td>\n",
       "    </tr>\n",
       "    <tr>\n",
       "      <th>3</th>\n",
       "      <td>2</td>\n",
       "      <td>5</td>\n",
       "      <td>0</td>\n",
       "      <td>0</td>\n",
       "      <td>7</td>\n",
       "      <td>190</td>\n",
       "    </tr>\n",
       "    <tr>\n",
       "      <th>4</th>\n",
       "      <td>2</td>\n",
       "      <td>0</td>\n",
       "      <td>10</td>\n",
       "      <td>5</td>\n",
       "      <td>17</td>\n",
       "      <td>590</td>\n",
       "    </tr>\n",
       "    <tr>\n",
       "      <th>5</th>\n",
       "      <td>2</td>\n",
       "      <td>0</td>\n",
       "      <td>10</td>\n",
       "      <td>0</td>\n",
       "      <td>12</td>\n",
       "      <td>540</td>\n",
       "    </tr>\n",
       "    <tr>\n",
       "      <th>6</th>\n",
       "      <td>2</td>\n",
       "      <td>0</td>\n",
       "      <td>0</td>\n",
       "      <td>5</td>\n",
       "      <td>7</td>\n",
       "      <td>90</td>\n",
       "    </tr>\n",
       "    <tr>\n",
       "      <th>7</th>\n",
       "      <td>2</td>\n",
       "      <td>0</td>\n",
       "      <td>0</td>\n",
       "      <td>0</td>\n",
       "      <td>2</td>\n",
       "      <td>40</td>\n",
       "    </tr>\n",
       "    <tr>\n",
       "      <th>8</th>\n",
       "      <td>0</td>\n",
       "      <td>5</td>\n",
       "      <td>10</td>\n",
       "      <td>5</td>\n",
       "      <td>20</td>\n",
       "      <td>700</td>\n",
       "    </tr>\n",
       "    <tr>\n",
       "      <th>9</th>\n",
       "      <td>0</td>\n",
       "      <td>5</td>\n",
       "      <td>10</td>\n",
       "      <td>0</td>\n",
       "      <td>15</td>\n",
       "      <td>650</td>\n",
       "    </tr>\n",
       "    <tr>\n",
       "      <th>10</th>\n",
       "      <td>0</td>\n",
       "      <td>5</td>\n",
       "      <td>0</td>\n",
       "      <td>5</td>\n",
       "      <td>10</td>\n",
       "      <td>200</td>\n",
       "    </tr>\n",
       "    <tr>\n",
       "      <th>11</th>\n",
       "      <td>0</td>\n",
       "      <td>5</td>\n",
       "      <td>0</td>\n",
       "      <td>0</td>\n",
       "      <td>5</td>\n",
       "      <td>150</td>\n",
       "    </tr>\n",
       "    <tr>\n",
       "      <th>12</th>\n",
       "      <td>0</td>\n",
       "      <td>0</td>\n",
       "      <td>10</td>\n",
       "      <td>5</td>\n",
       "      <td>15</td>\n",
       "      <td>550</td>\n",
       "    </tr>\n",
       "    <tr>\n",
       "      <th>13</th>\n",
       "      <td>0</td>\n",
       "      <td>0</td>\n",
       "      <td>10</td>\n",
       "      <td>0</td>\n",
       "      <td>10</td>\n",
       "      <td>500</td>\n",
       "    </tr>\n",
       "    <tr>\n",
       "      <th>14</th>\n",
       "      <td>0</td>\n",
       "      <td>0</td>\n",
       "      <td>0</td>\n",
       "      <td>5</td>\n",
       "      <td>5</td>\n",
       "      <td>50</td>\n",
       "    </tr>\n",
       "    <tr>\n",
       "      <th>15</th>\n",
       "      <td>0</td>\n",
       "      <td>0</td>\n",
       "      <td>0</td>\n",
       "      <td>0</td>\n",
       "      <td>0</td>\n",
       "      <td>0</td>\n",
       "    </tr>\n",
       "  </tbody>\n",
       "</table>\n",
       "</div>"
      ],
      "text/plain": [
       "    0  1   2  3  sum_weight  sum_value\n",
       "0   2  5  10  5          22        740\n",
       "1   2  5  10  0          17        690\n",
       "2   2  5   0  5          12        240\n",
       "3   2  5   0  0           7        190\n",
       "4   2  0  10  5          17        590\n",
       "5   2  0  10  0          12        540\n",
       "6   2  0   0  5           7         90\n",
       "7   2  0   0  0           2         40\n",
       "8   0  5  10  5          20        700\n",
       "9   0  5  10  0          15        650\n",
       "10  0  5   0  5          10        200\n",
       "11  0  5   0  0           5        150\n",
       "12  0  0  10  5          15        550\n",
       "13  0  0  10  0          10        500\n",
       "14  0  0   0  5           5         50\n",
       "15  0  0   0  0           0          0"
      ]
     },
     "execution_count": 35,
     "metadata": {},
     "output_type": "execute_result"
    }
   ],
   "source": [
    "df_2['sum_value'] = pd.DataFrame(allowedWeight*values).sum(axis=1)\n",
    "df_2"
   ]
  },
  {
   "cell_type": "code",
   "execution_count": 37,
   "id": "84738da1-1cd5-47ff-82ac-1eedb1e02635",
   "metadata": {},
   "outputs": [
    {
     "data": {
      "text/html": [
       "<div>\n",
       "<style scoped>\n",
       "    .dataframe tbody tr th:only-of-type {\n",
       "        vertical-align: middle;\n",
       "    }\n",
       "\n",
       "    .dataframe tbody tr th {\n",
       "        vertical-align: top;\n",
       "    }\n",
       "\n",
       "    .dataframe thead th {\n",
       "        text-align: right;\n",
       "    }\n",
       "</style>\n",
       "<table border=\"1\" class=\"dataframe\">\n",
       "  <thead>\n",
       "    <tr style=\"text-align: right;\">\n",
       "      <th></th>\n",
       "      <th>0</th>\n",
       "      <th>1</th>\n",
       "      <th>2</th>\n",
       "      <th>3</th>\n",
       "      <th>sum_weight</th>\n",
       "      <th>sum_value</th>\n",
       "    </tr>\n",
       "  </thead>\n",
       "  <tbody>\n",
       "    <tr>\n",
       "      <th>2</th>\n",
       "      <td>2</td>\n",
       "      <td>5</td>\n",
       "      <td>0</td>\n",
       "      <td>5</td>\n",
       "      <td>12</td>\n",
       "      <td>240</td>\n",
       "    </tr>\n",
       "    <tr>\n",
       "      <th>3</th>\n",
       "      <td>2</td>\n",
       "      <td>5</td>\n",
       "      <td>0</td>\n",
       "      <td>0</td>\n",
       "      <td>7</td>\n",
       "      <td>190</td>\n",
       "    </tr>\n",
       "    <tr>\n",
       "      <th>5</th>\n",
       "      <td>2</td>\n",
       "      <td>0</td>\n",
       "      <td>10</td>\n",
       "      <td>0</td>\n",
       "      <td>12</td>\n",
       "      <td>540</td>\n",
       "    </tr>\n",
       "    <tr>\n",
       "      <th>6</th>\n",
       "      <td>2</td>\n",
       "      <td>0</td>\n",
       "      <td>0</td>\n",
       "      <td>5</td>\n",
       "      <td>7</td>\n",
       "      <td>90</td>\n",
       "    </tr>\n",
       "    <tr>\n",
       "      <th>7</th>\n",
       "      <td>2</td>\n",
       "      <td>0</td>\n",
       "      <td>0</td>\n",
       "      <td>0</td>\n",
       "      <td>2</td>\n",
       "      <td>40</td>\n",
       "    </tr>\n",
       "    <tr>\n",
       "      <th>9</th>\n",
       "      <td>0</td>\n",
       "      <td>5</td>\n",
       "      <td>10</td>\n",
       "      <td>0</td>\n",
       "      <td>15</td>\n",
       "      <td>650</td>\n",
       "    </tr>\n",
       "    <tr>\n",
       "      <th>10</th>\n",
       "      <td>0</td>\n",
       "      <td>5</td>\n",
       "      <td>0</td>\n",
       "      <td>5</td>\n",
       "      <td>10</td>\n",
       "      <td>200</td>\n",
       "    </tr>\n",
       "    <tr>\n",
       "      <th>11</th>\n",
       "      <td>0</td>\n",
       "      <td>5</td>\n",
       "      <td>0</td>\n",
       "      <td>0</td>\n",
       "      <td>5</td>\n",
       "      <td>150</td>\n",
       "    </tr>\n",
       "    <tr>\n",
       "      <th>12</th>\n",
       "      <td>0</td>\n",
       "      <td>0</td>\n",
       "      <td>10</td>\n",
       "      <td>5</td>\n",
       "      <td>15</td>\n",
       "      <td>550</td>\n",
       "    </tr>\n",
       "    <tr>\n",
       "      <th>13</th>\n",
       "      <td>0</td>\n",
       "      <td>0</td>\n",
       "      <td>10</td>\n",
       "      <td>0</td>\n",
       "      <td>10</td>\n",
       "      <td>500</td>\n",
       "    </tr>\n",
       "    <tr>\n",
       "      <th>14</th>\n",
       "      <td>0</td>\n",
       "      <td>0</td>\n",
       "      <td>0</td>\n",
       "      <td>5</td>\n",
       "      <td>5</td>\n",
       "      <td>50</td>\n",
       "    </tr>\n",
       "    <tr>\n",
       "      <th>15</th>\n",
       "      <td>0</td>\n",
       "      <td>0</td>\n",
       "      <td>0</td>\n",
       "      <td>0</td>\n",
       "      <td>0</td>\n",
       "      <td>0</td>\n",
       "    </tr>\n",
       "  </tbody>\n",
       "</table>\n",
       "</div>"
      ],
      "text/plain": [
       "    0  1   2  3  sum_weight  sum_value\n",
       "2   2  5   0  5          12        240\n",
       "3   2  5   0  0           7        190\n",
       "5   2  0  10  0          12        540\n",
       "6   2  0   0  5           7         90\n",
       "7   2  0   0  0           2         40\n",
       "9   0  5  10  0          15        650\n",
       "10  0  5   0  5          10        200\n",
       "11  0  5   0  0           5        150\n",
       "12  0  0  10  5          15        550\n",
       "13  0  0  10  0          10        500\n",
       "14  0  0   0  5           5         50\n",
       "15  0  0   0  0           0          0"
      ]
     },
     "execution_count": 37,
     "metadata": {},
     "output_type": "execute_result"
    }
   ],
   "source": [
    "df_2[df_2[\"sum_weight\"] <= 16]"
   ]
  },
  {
   "cell_type": "code",
   "execution_count": 52,
   "id": "ad82f574-a0d9-43c3-8905-7c39981e996b",
   "metadata": {},
   "outputs": [
    {
     "data": {
      "text/plain": [
       "2     240\n",
       "3     190\n",
       "5     540\n",
       "6      90\n",
       "7      40\n",
       "9     650\n",
       "10    200\n",
       "11    150\n",
       "12    550\n",
       "13    500\n",
       "14     50\n",
       "15      0\n",
       "Name: sum_value, dtype: int64"
      ]
     },
     "execution_count": 52,
     "metadata": {},
     "output_type": "execute_result"
    }
   ],
   "source": [
    "value_and_less_than_16_df =  df_2[df_2[\"sum_weight\"] <= 16]['sum_value']\n",
    "value_and_less_than_16_df"
   ]
  },
  {
   "cell_type": "code",
   "execution_count": 53,
   "id": "e6f6130c-ae41-4305-86f0-95c2de0a3904",
   "metadata": {},
   "outputs": [
    {
     "data": {
      "text/plain": [
       "5"
      ]
     },
     "execution_count": 53,
     "metadata": {},
     "output_type": "execute_result"
    }
   ],
   "source": [
    "max_value_and_less_than_16_idx = df_2[df_2[\"sum_weight\"] <= 16]['sum_value'].argmax()\n",
    "max_value_and_less_than_16_idx"
   ]
  },
  {
   "cell_type": "code",
   "execution_count": 56,
   "id": "4a3c709b-38b2-4502-8e20-e63f4a80d7c2",
   "metadata": {},
   "outputs": [
    {
     "data": {
      "text/plain": [
       "0               0\n",
       "1               5\n",
       "2              10\n",
       "3               0\n",
       "sum_weight     15\n",
       "sum_value     650\n",
       "Name: 9, dtype: int64"
      ]
     },
     "execution_count": 56,
     "metadata": {},
     "output_type": "execute_result"
    }
   ],
   "source": [
    "# df_2.loc(max_value_and_less_than_16_idx)\n",
    "df_2[df_2[\"sum_weight\"] <= 16].iloc[max_value_and_less_than_16_idx]"
   ]
  },
  {
   "cell_type": "code",
   "execution_count": 57,
   "id": "a5b16fcb-58b2-4f65-b4c6-3052a4a56d1f",
   "metadata": {},
   "outputs": [
    {
     "data": {
      "text/html": [
       "<div>\n",
       "<style scoped>\n",
       "    .dataframe tbody tr th:only-of-type {\n",
       "        vertical-align: middle;\n",
       "    }\n",
       "\n",
       "    .dataframe tbody tr th {\n",
       "        vertical-align: top;\n",
       "    }\n",
       "\n",
       "    .dataframe thead th {\n",
       "        text-align: right;\n",
       "    }\n",
       "</style>\n",
       "<table border=\"1\" class=\"dataframe\">\n",
       "  <thead>\n",
       "    <tr style=\"text-align: right;\">\n",
       "      <th></th>\n",
       "      <th>0</th>\n",
       "      <th>1</th>\n",
       "      <th>2</th>\n",
       "      <th>3</th>\n",
       "      <th>sum_weight</th>\n",
       "      <th>sum_value</th>\n",
       "    </tr>\n",
       "  </thead>\n",
       "  <tbody>\n",
       "    <tr>\n",
       "      <th>2</th>\n",
       "      <td>2</td>\n",
       "      <td>5</td>\n",
       "      <td>0</td>\n",
       "      <td>5</td>\n",
       "      <td>12</td>\n",
       "      <td>240</td>\n",
       "    </tr>\n",
       "    <tr>\n",
       "      <th>3</th>\n",
       "      <td>2</td>\n",
       "      <td>5</td>\n",
       "      <td>0</td>\n",
       "      <td>0</td>\n",
       "      <td>7</td>\n",
       "      <td>190</td>\n",
       "    </tr>\n",
       "    <tr>\n",
       "      <th>5</th>\n",
       "      <td>2</td>\n",
       "      <td>0</td>\n",
       "      <td>10</td>\n",
       "      <td>0</td>\n",
       "      <td>12</td>\n",
       "      <td>540</td>\n",
       "    </tr>\n",
       "    <tr>\n",
       "      <th>6</th>\n",
       "      <td>2</td>\n",
       "      <td>0</td>\n",
       "      <td>0</td>\n",
       "      <td>5</td>\n",
       "      <td>7</td>\n",
       "      <td>90</td>\n",
       "    </tr>\n",
       "    <tr>\n",
       "      <th>7</th>\n",
       "      <td>2</td>\n",
       "      <td>0</td>\n",
       "      <td>0</td>\n",
       "      <td>0</td>\n",
       "      <td>2</td>\n",
       "      <td>40</td>\n",
       "    </tr>\n",
       "    <tr>\n",
       "      <th>9</th>\n",
       "      <td>0</td>\n",
       "      <td>5</td>\n",
       "      <td>10</td>\n",
       "      <td>0</td>\n",
       "      <td>15</td>\n",
       "      <td>650</td>\n",
       "    </tr>\n",
       "    <tr>\n",
       "      <th>10</th>\n",
       "      <td>0</td>\n",
       "      <td>5</td>\n",
       "      <td>0</td>\n",
       "      <td>5</td>\n",
       "      <td>10</td>\n",
       "      <td>200</td>\n",
       "    </tr>\n",
       "    <tr>\n",
       "      <th>11</th>\n",
       "      <td>0</td>\n",
       "      <td>5</td>\n",
       "      <td>0</td>\n",
       "      <td>0</td>\n",
       "      <td>5</td>\n",
       "      <td>150</td>\n",
       "    </tr>\n",
       "    <tr>\n",
       "      <th>12</th>\n",
       "      <td>0</td>\n",
       "      <td>0</td>\n",
       "      <td>10</td>\n",
       "      <td>5</td>\n",
       "      <td>15</td>\n",
       "      <td>550</td>\n",
       "    </tr>\n",
       "    <tr>\n",
       "      <th>13</th>\n",
       "      <td>0</td>\n",
       "      <td>0</td>\n",
       "      <td>10</td>\n",
       "      <td>0</td>\n",
       "      <td>10</td>\n",
       "      <td>500</td>\n",
       "    </tr>\n",
       "    <tr>\n",
       "      <th>14</th>\n",
       "      <td>0</td>\n",
       "      <td>0</td>\n",
       "      <td>0</td>\n",
       "      <td>5</td>\n",
       "      <td>5</td>\n",
       "      <td>50</td>\n",
       "    </tr>\n",
       "    <tr>\n",
       "      <th>15</th>\n",
       "      <td>0</td>\n",
       "      <td>0</td>\n",
       "      <td>0</td>\n",
       "      <td>0</td>\n",
       "      <td>0</td>\n",
       "      <td>0</td>\n",
       "    </tr>\n",
       "  </tbody>\n",
       "</table>\n",
       "</div>"
      ],
      "text/plain": [
       "    0  1   2  3  sum_weight  sum_value\n",
       "2   2  5   0  5          12        240\n",
       "3   2  5   0  0           7        190\n",
       "5   2  0  10  0          12        540\n",
       "6   2  0   0  5           7         90\n",
       "7   2  0   0  0           2         40\n",
       "9   0  5  10  0          15        650\n",
       "10  0  5   0  5          10        200\n",
       "11  0  5   0  0           5        150\n",
       "12  0  0  10  5          15        550\n",
       "13  0  0  10  0          10        500\n",
       "14  0  0   0  5           5         50\n",
       "15  0  0   0  0           0          0"
      ]
     },
     "execution_count": 57,
     "metadata": {},
     "output_type": "execute_result"
    }
   ],
   "source": [
    "df_2[df_2['sum_weight'] <= 16]"
   ]
  },
  {
   "cell_type": "code",
   "execution_count": 19,
   "id": "14baee09-9d3f-4d31-b154-c45664598ece",
   "metadata": {},
   "outputs": [
    {
     "data": {
      "text/html": [
       "<div>\n",
       "<style scoped>\n",
       "    .dataframe tbody tr th:only-of-type {\n",
       "        vertical-align: middle;\n",
       "    }\n",
       "\n",
       "    .dataframe tbody tr th {\n",
       "        vertical-align: top;\n",
       "    }\n",
       "\n",
       "    .dataframe thead th {\n",
       "        text-align: right;\n",
       "    }\n",
       "</style>\n",
       "<table border=\"1\" class=\"dataframe\">\n",
       "  <thead>\n",
       "    <tr style=\"text-align: right;\">\n",
       "      <th></th>\n",
       "      <th>0</th>\n",
       "      <th>1</th>\n",
       "      <th>2</th>\n",
       "      <th>3</th>\n",
       "    </tr>\n",
       "  </thead>\n",
       "  <tbody>\n",
       "    <tr>\n",
       "      <th>2</th>\n",
       "      <td>2</td>\n",
       "      <td>5</td>\n",
       "      <td>0</td>\n",
       "      <td>5</td>\n",
       "    </tr>\n",
       "    <tr>\n",
       "      <th>3</th>\n",
       "      <td>2</td>\n",
       "      <td>5</td>\n",
       "      <td>0</td>\n",
       "      <td>0</td>\n",
       "    </tr>\n",
       "    <tr>\n",
       "      <th>5</th>\n",
       "      <td>2</td>\n",
       "      <td>0</td>\n",
       "      <td>10</td>\n",
       "      <td>0</td>\n",
       "    </tr>\n",
       "    <tr>\n",
       "      <th>6</th>\n",
       "      <td>2</td>\n",
       "      <td>0</td>\n",
       "      <td>0</td>\n",
       "      <td>5</td>\n",
       "    </tr>\n",
       "    <tr>\n",
       "      <th>7</th>\n",
       "      <td>2</td>\n",
       "      <td>0</td>\n",
       "      <td>0</td>\n",
       "      <td>0</td>\n",
       "    </tr>\n",
       "    <tr>\n",
       "      <th>9</th>\n",
       "      <td>0</td>\n",
       "      <td>5</td>\n",
       "      <td>10</td>\n",
       "      <td>0</td>\n",
       "    </tr>\n",
       "    <tr>\n",
       "      <th>10</th>\n",
       "      <td>0</td>\n",
       "      <td>5</td>\n",
       "      <td>0</td>\n",
       "      <td>5</td>\n",
       "    </tr>\n",
       "    <tr>\n",
       "      <th>11</th>\n",
       "      <td>0</td>\n",
       "      <td>5</td>\n",
       "      <td>0</td>\n",
       "      <td>0</td>\n",
       "    </tr>\n",
       "    <tr>\n",
       "      <th>12</th>\n",
       "      <td>0</td>\n",
       "      <td>0</td>\n",
       "      <td>10</td>\n",
       "      <td>5</td>\n",
       "    </tr>\n",
       "    <tr>\n",
       "      <th>13</th>\n",
       "      <td>0</td>\n",
       "      <td>0</td>\n",
       "      <td>10</td>\n",
       "      <td>0</td>\n",
       "    </tr>\n",
       "    <tr>\n",
       "      <th>14</th>\n",
       "      <td>0</td>\n",
       "      <td>0</td>\n",
       "      <td>0</td>\n",
       "      <td>5</td>\n",
       "    </tr>\n",
       "    <tr>\n",
       "      <th>15</th>\n",
       "      <td>0</td>\n",
       "      <td>0</td>\n",
       "      <td>0</td>\n",
       "      <td>0</td>\n",
       "    </tr>\n",
       "  </tbody>\n",
       "</table>\n",
       "</div>"
      ],
      "text/plain": [
       "    0  1   2  3\n",
       "2   2  5   0  5\n",
       "3   2  5   0  0\n",
       "5   2  0  10  0\n",
       "6   2  0   0  5\n",
       "7   2  0   0  0\n",
       "9   0  5  10  0\n",
       "10  0  5   0  5\n",
       "11  0  5   0  0\n",
       "12  0  0  10  5\n",
       "13  0  0  10  0\n",
       "14  0  0   0  5\n",
       "15  0  0   0  0"
      ]
     },
     "execution_count": 19,
     "metadata": {},
     "output_type": "execute_result"
    }
   ],
   "source": [
    "\n",
    "df[fancy_idx_pass_16]"
   ]
  },
  {
   "cell_type": "code",
   "execution_count": 20,
   "id": "4a9fbfd0-4fc8-4676-827a-1df4c6c97ce6",
   "metadata": {},
   "outputs": [],
   "source": [
    "# df[fancy_idx_pass_16]"
   ]
  },
  {
   "cell_type": "code",
   "execution_count": null,
   "id": "acd079f3-8e88-41bf-8981-cbab6584f917",
   "metadata": {},
   "outputs": [],
   "source": []
  },
  {
   "cell_type": "code",
   "execution_count": null,
   "id": "759794b5-af71-4271-a6d7-f59dbc771ed4",
   "metadata": {},
   "outputs": [],
   "source": []
  },
  {
   "cell_type": "code",
   "execution_count": null,
   "id": "99f502cf-3f69-4926-9e7f-66172690bf75",
   "metadata": {},
   "outputs": [],
   "source": []
  }
 ],
 "metadata": {
  "kernelspec": {
   "display_name": "Python 3 (ipykernel)",
   "language": "python",
   "name": "python3"
  },
  "language_info": {
   "codemirror_mode": {
    "name": "ipython",
    "version": 3
   },
   "file_extension": ".py",
   "mimetype": "text/x-python",
   "name": "python",
   "nbconvert_exporter": "python",
   "pygments_lexer": "ipython3",
   "version": "3.9.12"
  }
 },
 "nbformat": 4,
 "nbformat_minor": 5
}
