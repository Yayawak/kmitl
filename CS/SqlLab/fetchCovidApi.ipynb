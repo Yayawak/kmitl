{
 "cells": [
  {
   "cell_type": "code",
   "execution_count": 1,
   "id": "af94b845-c6c0-45fb-837a-32c8b82b5776",
   "metadata": {},
   "outputs": [
    {
     "data": {
      "text/plain": [
       "3630000.0"
      ]
     },
     "execution_count": 1,
     "metadata": {},
     "output_type": "execute_result"
    }
   ],
   "source": [
    "yearly = 3630000.00\n",
    "yearly"
   ]
  },
  {
   "cell_type": "code",
   "execution_count": 2,
   "id": "dc33f344-c672-4f16-b6a0-a86a2fb8d1b8",
   "metadata": {},
   "outputs": [
    {
     "data": {
      "text/plain": [
       "302500.0"
      ]
     },
     "execution_count": 2,
     "metadata": {},
     "output_type": "execute_result"
    }
   ],
   "source": [
    "yearly / 12"
   ]
  },
  {
   "cell_type": "code",
   "execution_count": 3,
   "id": "0f9762c5-e96b-4190-b5fb-0d3d091125c9",
   "metadata": {},
   "outputs": [],
   "source": [
    "import json\n",
    "from urllib.request import Request, urlopen\n",
    "\n",
    "token = \"QSnyKZoHrMzlXHtbo5xd3BtBuM6l9Y04\"\n",
    "resource_id = \"1c2f6045-c600-410a-995c-a37a88594ab4\"\n",
    "url = \"https://opend.data.go.th/get-ckan/datastore_search?resource_id={}&limit=5\".format(resource_id)\n"
   ]
  },
  {
   "cell_type": "code",
   "execution_count": 4,
   "id": "1fccbff0-7123-4fa4-bde3-26d420a13630",
   "metadata": {},
   "outputs": [
    {
     "data": {
      "text/plain": [
       "'https://opend.data.go.th/get-ckan/datastore_search?resource_id=1c2f6045-c600-410a-995c-a37a88594ab4&limit=5'"
      ]
     },
     "execution_count": 4,
     "metadata": {},
     "output_type": "execute_result"
    }
   ],
   "source": [
    "url"
   ]
  },
  {
   "cell_type": "code",
   "execution_count": 5,
   "id": "f858d01c-5628-4a67-9eae-ca4f67706539",
   "metadata": {},
   "outputs": [
    {
     "data": {
      "text/plain": [
       "<urllib.request.Request at 0x7fa341ade370>"
      ]
     },
     "execution_count": 5,
     "metadata": {},
     "output_type": "execute_result"
    }
   ],
   "source": [
    "req = Request(url)\n",
    "req"
   ]
  },
  {
   "cell_type": "code",
   "execution_count": 6,
   "id": "f07fd0ca-1b38-4b03-9943-b3a1599215ea",
   "metadata": {},
   "outputs": [
    {
     "name": "stdout",
     "output_type": "stream",
     "text": [
      "None\n"
     ]
    }
   ],
   "source": [
    "print(req.data)"
   ]
  },
  {
   "cell_type": "code",
   "execution_count": 7,
   "id": "464f69fd-28e0-4811-adea-70864723ff06",
   "metadata": {},
   "outputs": [],
   "source": [
    "# req.get_header()"
   ]
  },
  {
   "cell_type": "code",
   "execution_count": 8,
   "id": "5c8187df-7057-4d22-afdb-ad9a214b087b",
   "metadata": {},
   "outputs": [],
   "source": [
    "req.add_header('api-key', token)"
   ]
  },
  {
   "cell_type": "code",
   "execution_count": 9,
   "id": "af596878-9d87-4e15-b6c5-c3236e9f27e7",
   "metadata": {},
   "outputs": [],
   "source": [
    "req.data"
   ]
  },
  {
   "cell_type": "code",
   "execution_count": 10,
   "id": "ea4fa900-9992-4dc4-a940-e082ba8cec4c",
   "metadata": {},
   "outputs": [
    {
     "data": {
      "text/plain": [
       "b'{\"help\": \"https://data.go.th/api/3/action/help_show?name=datastore_search\", \"success\": true, \"result\": {\"include_total\": true, \"resource_id\": \"1c2f6045-c600-410a-995c-a37a88594ab4\", \"fields\": [{\"type\": \"int\", \"id\": \"_id\"}, {\"type\": \"numeric\", \"id\": \"No.\"}, {\"type\": \"timestamp\", \"id\": \"announce_date\"}, {\"type\": \"timestamp\", \"id\": \"Notified date\"}, {\"type\": \"text\", \"id\": \"sex\"}, {\"type\": \"numeric\", \"id\": \"age\"}, {\"type\": \"text\", \"id\": \"Unit\"}, {\"type\": \"text\", \"id\": \"nationality\"}, {\"type\": \"text\", \"id\": \"province_of_isolation\"}, {\"type\": \"text\", \"id\": \"risk\"}, {\"type\": \"text\", \"id\": \"province_of_onset\"}, {\"type\": \"text\", \"id\": \"district_of_onset\"}], \"records_format\": \"objects\", \"records\": [{\"_id\":1,\"No.\":1859158,\"announce_date\":\"2021-10-26T00:00:00\",\"Notified date\":\"2021-10-25T00:00:00\",\"sex\":\"\\xe0\\xb8\\x8a\\xe0\\xb8\\xb2\\xe0\\xb8\\xa2\",\"age\":20,\"Unit\":\"\\xe0\\xb8\\x9b\\xe0\\xb8\\xb5\",\"nationality\":\"Thailand\",\"province_of_isolation\":\"\\xe0\\xb8\\xa5\\xe0\\xb8\\xb3\\xe0\\xb8\\x9b\\xe0\\xb8\\xb2\\xe0\\xb8\\x87\",\"risk\":\"\\xe0\\xb8\\xad\\xe0\\xb8\\xb7\\xe0\\xb9\\x88\\xe0\\xb8\\x99\\xe0\\xb9\\x86\",\"province_of_onset\":\"\\xe0\\xb8\\xa5\\xe0\\xb8\\xb3\\xe0\\xb8\\x9b\\xe0\\xb8\\xb2\\xe0\\xb8\\x87\",\"district_of_onset\":\"\\xe0\\xb9\\x80\\xe0\\xb8\\xa1\\xe0\\xb8\\xb7\\xe0\\xb8\\xad\\xe0\\xb8\\x87\\xe0\\xb8\\xa5\\xe0\\xb8\\xb3\\xe0\\xb8\\x9b\\xe0\\xb8\\xb2\\xe0\\xb8\\x87\"},{\"_id\":2,\"No.\":1859159,\"announce_date\":\"2021-10-26T00:00:00\",\"Notified date\":\"2021-10-25T00:00:00\",\"sex\":\"\\xe0\\xb8\\xab\\xe0\\xb8\\x8d\\xe0\\xb8\\xb4\\xe0\\xb8\\x87\",\"age\":42,\"Unit\":\"\\xe0\\xb8\\x9b\\xe0\\xb8\\xb5\",\"nationality\":\"Thailand\",\"province_of_isolation\":\"\\xe0\\xb8\\xa5\\xe0\\xb8\\xb3\\xe0\\xb8\\x9b\\xe0\\xb8\\xb2\\xe0\\xb8\\x87\",\"risk\":\"\\xe0\\xb8\\xad\\xe0\\xb8\\xb7\\xe0\\xb9\\x88\\xe0\\xb8\\x99\\xe0\\xb9\\x86\",\"province_of_onset\":\"\\xe0\\xb8\\xa5\\xe0\\xb8\\xb3\\xe0\\xb8\\x9b\\xe0\\xb8\\xb2\\xe0\\xb8\\x87\",\"district_of_onset\":\"\\xe0\\xb9\\x80\\xe0\\xb8\\xa1\\xe0\\xb8\\xb7\\xe0\\xb8\\xad\\xe0\\xb8\\x87\\xe0\\xb8\\xa5\\xe0\\xb8\\xb3\\xe0\\xb8\\x9b\\xe0\\xb8\\xb2\\xe0\\xb8\\x87\"},{\"_id\":3,\"No.\":1859160,\"announce_date\":\"2021-10-26T00:00:00\",\"Notified date\":\"2021-10-25T00:00:00\",\"sex\":\"\\xe0\\xb8\\xab\\xe0\\xb8\\x8d\\xe0\\xb8\\xb4\\xe0\\xb8\\x87\",\"age\":33,\"Unit\":\"\\xe0\\xb8\\x9b\\xe0\\xb8\\xb5\",\"nationality\":\"Thailand\",\"province_of_isolation\":\"\\xe0\\xb8\\xa5\\xe0\\xb8\\xb3\\xe0\\xb8\\x9b\\xe0\\xb8\\xb2\\xe0\\xb8\\x87\",\"risk\":\"\\xe0\\xb9\\x84\\xe0\\xb8\\x9b\\xe0\\xb8\\xaa\\xe0\\xb8\\x96\\xe0\\xb8\\xb2\\xe0\\xb8\\x99\\xe0\\xb8\\x97\\xe0\\xb8\\xb5\\xe0\\xb9\\x88\\xe0\\xb8\\x8a\\xe0\\xb8\\xb8\\xe0\\xb8\\xa1\\xe0\\xb8\\x8a\\xe0\\xb8\\x99 \\xe0\\xb9\\x80\\xe0\\xb8\\x8a\\xe0\\xb9\\x88\\xe0\\xb8\\x99 \\xe0\\xb8\\x95\\xe0\\xb8\\xa5\\xe0\\xb8\\xb2\\xe0\\xb8\\x94\\xe0\\xb8\\x99\\xe0\\xb8\\xb1\\xe0\\xb8\\x94 \\xe0\\xb8\\xaa\\xe0\\xb8\\x96\\xe0\\xb8\\xb2\\xe0\\xb8\\x99\\xe0\\xb8\\x97\\xe0\\xb8\\xb5\\xe0\\xb9\\x88\\xe0\\xb8\\x97\\xe0\\xb9\\x88\\xe0\\xb8\\xad\\xe0\\xb8\\x87\\xe0\\xb9\\x80\\xe0\\xb8\\x97\\xe0\\xb8\\xb5\\xe0\\xb9\\x88\\xe0\\xb8\\xa2\\xe0\\xb8\\xa7\",\"province_of_onset\":\"\\xe0\\xb8\\xa5\\xe0\\xb8\\xb3\\xe0\\xb8\\x9b\\xe0\\xb8\\xb2\\xe0\\xb8\\x87\",\"district_of_onset\":\"\\xe0\\xb8\\xab\\xe0\\xb9\\x89\\xe0\\xb8\\xb2\\xe0\\xb8\\x87\\xe0\\xb8\\x89\\xe0\\xb8\\xb1\\xe0\\xb8\\x95\\xe0\\xb8\\xa3\"},{\"_id\":4,\"No.\":1859161,\"announce_date\":\"2021-10-26T00:00:00\",\"Notified date\":\"2021-10-25T00:00:00\",\"sex\":\"\\xe0\\xb8\\xab\\xe0\\xb8\\x8d\\xe0\\xb8\\xb4\\xe0\\xb8\\x87\",\"age\":52,\"Unit\":\"\\xe0\\xb8\\x9b\\xe0\\xb8\\xb5\",\"nationality\":\"Thailand\",\"province_of_isolation\":\"\\xe0\\xb8\\xa5\\xe0\\xb8\\xb3\\xe0\\xb8\\x9b\\xe0\\xb8\\xb2\\xe0\\xb8\\x87\",\"risk\":\"\\xe0\\xb9\\x84\\xe0\\xb8\\x9b\\xe0\\xb8\\xaa\\xe0\\xb8\\x96\\xe0\\xb8\\xb2\\xe0\\xb8\\x99\\xe0\\xb8\\x97\\xe0\\xb8\\xb5\\xe0\\xb9\\x88\\xe0\\xb8\\x8a\\xe0\\xb8\\xb8\\xe0\\xb8\\xa1\\xe0\\xb8\\x8a\\xe0\\xb8\\x99 \\xe0\\xb9\\x80\\xe0\\xb8\\x8a\\xe0\\xb9\\x88\\xe0\\xb8\\x99 \\xe0\\xb8\\x95\\xe0\\xb8\\xa5\\xe0\\xb8\\xb2\\xe0\\xb8\\x94\\xe0\\xb8\\x99\\xe0\\xb8\\xb1\\xe0\\xb8\\x94 \\xe0\\xb8\\xaa\\xe0\\xb8\\x96\\xe0\\xb8\\xb2\\xe0\\xb8\\x99\\xe0\\xb8\\x97\\xe0\\xb8\\xb5\\xe0\\xb9\\x88\\xe0\\xb8\\x97\\xe0\\xb9\\x88\\xe0\\xb8\\xad\\xe0\\xb8\\x87\\xe0\\xb9\\x80\\xe0\\xb8\\x97\\xe0\\xb8\\xb5\\xe0\\xb9\\x88\\xe0\\xb8\\xa2\\xe0\\xb8\\xa7\",\"province_of_onset\":\"\\xe0\\xb8\\xa5\\xe0\\xb8\\xb3\\xe0\\xb8\\x9b\\xe0\\xb8\\xb2\\xe0\\xb8\\x87\",\"district_of_onset\":\"\\xe0\\xb8\\xab\\xe0\\xb9\\x89\\xe0\\xb8\\xb2\\xe0\\xb8\\x87\\xe0\\xb8\\x89\\xe0\\xb8\\xb1\\xe0\\xb8\\x95\\xe0\\xb8\\xa3\"},{\"_id\":5,\"No.\":1859162,\"announce_date\":\"2021-10-26T00:00:00\",\"Notified date\":\"2021-10-25T00:00:00\",\"sex\":\"\\xe0\\xb8\\xab\\xe0\\xb8\\x8d\\xe0\\xb8\\xb4\\xe0\\xb8\\x87\",\"age\":84,\"Unit\":\"\\xe0\\xb8\\x9b\\xe0\\xb8\\xb5\",\"nationality\":\"Thailand\",\"province_of_isolation\":\"\\xe0\\xb8\\xa5\\xe0\\xb8\\xb3\\xe0\\xb8\\x9b\\xe0\\xb8\\xb2\\xe0\\xb8\\x87\",\"risk\":\"\\xe0\\xb8\\xaa\\xe0\\xb8\\xb1\\xe0\\xb8\\xa1\\xe0\\xb8\\x9c\\xe0\\xb8\\xb1\\xe0\\xb8\\xaa\\xe0\\xb9\\x83\\xe0\\xb8\\x81\\xe0\\xb8\\xa5\\xe0\\xb9\\x89\\xe0\\xb8\\x8a\\xe0\\xb8\\xb4\\xe0\\xb8\\x94\\xe0\\xb8\\x81\\xe0\\xb8\\xb1\\xe0\\xb8\\x9a\\xe0\\xb8\\x9c\\xe0\\xb8\\xb9\\xe0\\xb9\\x89\\xe0\\xb8\\x9b\\xe0\\xb9\\x88\\xe0\\xb8\\xa7\\xe0\\xb8\\xa2\\xe0\\xb8\\xa2\\xe0\\xb8\\xb7\\xe0\\xb8\\x99\\xe0\\xb8\\xa2\\xe0\\xb8\\xb1\\xe0\\xb8\\x99\\xe0\\xb8\\xa3\\xe0\\xb8\\xb2\\xe0\\xb8\\xa2\\xe0\\xb8\\x81\\xe0\\xb9\\x88\\xe0\\xb8\\xad\\xe0\\xb8\\x99\\xe0\\xb8\\xab\\xe0\\xb8\\x99\\xe0\\xb9\\x89\\xe0\\xb8\\xb2\\xe0\\xb8\\x99\\xe0\\xb8\\xb5\\xe0\\xb9\\x89\",\"province_of_onset\":\"\\xe0\\xb8\\xa5\\xe0\\xb8\\xb3\\xe0\\xb8\\x9b\\xe0\\xb8\\xb2\\xe0\\xb8\\x87\",\"district_of_onset\":\"\\xe0\\xb9\\x80\\xe0\\xb8\\xa1\\xe0\\xb8\\xb7\\xe0\\xb8\\xad\\xe0\\xb8\\x87\\xe0\\xb8\\xa5\\xe0\\xb8\\xb3\\xe0\\xb8\\x9b\\xe0\\xb8\\xb2\\xe0\\xb8\\x87\"}], \"limit\": 5, \"_links\": {\"start\": \"/api/3/action/datastore_search?limit=5&resource_id=1c2f6045-c600-410a-995c-a37a88594ab4\", \"next\": \"/api/3/action/datastore_search?offset=5&limit=5&resource_id=1c2f6045-c600-410a-995c-a37a88594ab4\"}, \"total\": 738250}}'"
      ]
     },
     "execution_count": 10,
     "metadata": {},
     "output_type": "execute_result"
    }
   ],
   "source": [
    "content = urlopen(req).read()\n",
    "content"
   ]
  },
  {
   "cell_type": "code",
   "execution_count": 15,
   "id": "b8245f29-d651-49c5-94a9-6bbe19e3db99",
   "metadata": {},
   "outputs": [
    {
     "data": {
      "text/plain": [
       "'utf-8'"
      ]
     },
     "execution_count": 15,
     "metadata": {},
     "output_type": "execute_result"
    }
   ],
   "source": [
    "encoding = urlopen(req).info().get_content_charset('utf-8')\n",
    "encoding"
   ]
  },
  {
   "cell_type": "code",
   "execution_count": 16,
   "id": "c52a2724-7d61-4b92-a9cd-9f6bf18830fa",
   "metadata": {},
   "outputs": [
    {
     "data": {
      "text/plain": [
       "'utf-8'"
      ]
     },
     "execution_count": 16,
     "metadata": {},
     "output_type": "execute_result"
    }
   ],
   "source": [
    "encoding"
   ]
  },
  {
   "cell_type": "code",
   "execution_count": 17,
   "id": "1e298a87-a782-47c0-b92a-1a40cf6a89cc",
   "metadata": {},
   "outputs": [
    {
     "data": {
      "text/plain": [
       "{'help': 'https://data.go.th/api/3/action/help_show?name=datastore_search',\n",
       " 'success': True,\n",
       " 'result': {'include_total': True,\n",
       "  'resource_id': '1c2f6045-c600-410a-995c-a37a88594ab4',\n",
       "  'fields': [{'type': 'int', 'id': '_id'},\n",
       "   {'type': 'numeric', 'id': 'No.'},\n",
       "   {'type': 'timestamp', 'id': 'announce_date'},\n",
       "   {'type': 'timestamp', 'id': 'Notified date'},\n",
       "   {'type': 'text', 'id': 'sex'},\n",
       "   {'type': 'numeric', 'id': 'age'},\n",
       "   {'type': 'text', 'id': 'Unit'},\n",
       "   {'type': 'text', 'id': 'nationality'},\n",
       "   {'type': 'text', 'id': 'province_of_isolation'},\n",
       "   {'type': 'text', 'id': 'risk'},\n",
       "   {'type': 'text', 'id': 'province_of_onset'},\n",
       "   {'type': 'text', 'id': 'district_of_onset'}],\n",
       "  'records_format': 'objects',\n",
       "  'records': [{'_id': 1,\n",
       "    'No.': 1859158,\n",
       "    'announce_date': '2021-10-26T00:00:00',\n",
       "    'Notified date': '2021-10-25T00:00:00',\n",
       "    'sex': 'ชาย',\n",
       "    'age': 20,\n",
       "    'Unit': 'ปี',\n",
       "    'nationality': 'Thailand',\n",
       "    'province_of_isolation': 'ลำปาง',\n",
       "    'risk': 'อื่นๆ',\n",
       "    'province_of_onset': 'ลำปาง',\n",
       "    'district_of_onset': 'เมืองลำปาง'},\n",
       "   {'_id': 2,\n",
       "    'No.': 1859159,\n",
       "    'announce_date': '2021-10-26T00:00:00',\n",
       "    'Notified date': '2021-10-25T00:00:00',\n",
       "    'sex': 'หญิง',\n",
       "    'age': 42,\n",
       "    'Unit': 'ปี',\n",
       "    'nationality': 'Thailand',\n",
       "    'province_of_isolation': 'ลำปาง',\n",
       "    'risk': 'อื่นๆ',\n",
       "    'province_of_onset': 'ลำปาง',\n",
       "    'district_of_onset': 'เมืองลำปาง'},\n",
       "   {'_id': 3,\n",
       "    'No.': 1859160,\n",
       "    'announce_date': '2021-10-26T00:00:00',\n",
       "    'Notified date': '2021-10-25T00:00:00',\n",
       "    'sex': 'หญิง',\n",
       "    'age': 33,\n",
       "    'Unit': 'ปี',\n",
       "    'nationality': 'Thailand',\n",
       "    'province_of_isolation': 'ลำปาง',\n",
       "    'risk': 'ไปสถานที่ชุมชน เช่น ตลาดนัด สถานที่ท่องเที่ยว',\n",
       "    'province_of_onset': 'ลำปาง',\n",
       "    'district_of_onset': 'ห้างฉัตร'},\n",
       "   {'_id': 4,\n",
       "    'No.': 1859161,\n",
       "    'announce_date': '2021-10-26T00:00:00',\n",
       "    'Notified date': '2021-10-25T00:00:00',\n",
       "    'sex': 'หญิง',\n",
       "    'age': 52,\n",
       "    'Unit': 'ปี',\n",
       "    'nationality': 'Thailand',\n",
       "    'province_of_isolation': 'ลำปาง',\n",
       "    'risk': 'ไปสถานที่ชุมชน เช่น ตลาดนัด สถานที่ท่องเที่ยว',\n",
       "    'province_of_onset': 'ลำปาง',\n",
       "    'district_of_onset': 'ห้างฉัตร'},\n",
       "   {'_id': 5,\n",
       "    'No.': 1859162,\n",
       "    'announce_date': '2021-10-26T00:00:00',\n",
       "    'Notified date': '2021-10-25T00:00:00',\n",
       "    'sex': 'หญิง',\n",
       "    'age': 84,\n",
       "    'Unit': 'ปี',\n",
       "    'nationality': 'Thailand',\n",
       "    'province_of_isolation': 'ลำปาง',\n",
       "    'risk': 'สัมผัสใกล้ชิดกับผู้ป่วยยืนยันรายก่อนหน้านี้',\n",
       "    'province_of_onset': 'ลำปาง',\n",
       "    'district_of_onset': 'เมืองลำปาง'}],\n",
       "  'limit': 5,\n",
       "  '_links': {'start': '/api/3/action/datastore_search?limit=5&resource_id=1c2f6045-c600-410a-995c-a37a88594ab4',\n",
       "   'next': '/api/3/action/datastore_search?offset=5&limit=5&resource_id=1c2f6045-c600-410a-995c-a37a88594ab4'},\n",
       "  'total': 738250}}"
      ]
     },
     "execution_count": 17,
     "metadata": {},
     "output_type": "execute_result"
    }
   ],
   "source": [
    "JSON_object = json.loads(content.decode(encoding))\n",
    "JSON_object"
   ]
  },
  {
   "cell_type": "code",
   "execution_count": 18,
   "id": "20ea5a0b-2d7a-4559-91e0-5c3a7fa6b59c",
   "metadata": {},
   "outputs": [
    {
     "name": "stdout",
     "output_type": "stream",
     "text": [
      "{\n",
      "   \"help\": \"https://data.go.th/api/3/action/help_show?name=datastore_search\",\n",
      "   \"success\": true,\n",
      "   \"result\": {\n",
      "      \"include_total\": true,\n",
      "      \"resource_id\": \"1c2f6045-c600-410a-995c-a37a88594ab4\",\n",
      "      \"fields\": [\n",
      "         {\n",
      "            \"type\": \"int\",\n",
      "            \"id\": \"_id\"\n",
      "         },\n",
      "         {\n",
      "            \"type\": \"numeric\",\n",
      "            \"id\": \"No.\"\n",
      "         },\n",
      "         {\n",
      "            \"type\": \"timestamp\",\n",
      "            \"id\": \"announce_date\"\n",
      "         },\n",
      "         {\n",
      "            \"type\": \"timestamp\",\n",
      "            \"id\": \"Notified date\"\n",
      "         },\n",
      "         {\n",
      "            \"type\": \"text\",\n",
      "            \"id\": \"sex\"\n",
      "         },\n",
      "         {\n",
      "            \"type\": \"numeric\",\n",
      "            \"id\": \"age\"\n",
      "         },\n",
      "         {\n",
      "            \"type\": \"text\",\n",
      "            \"id\": \"Unit\"\n",
      "         },\n",
      "         {\n",
      "            \"type\": \"text\",\n",
      "            \"id\": \"nationality\"\n",
      "         },\n",
      "         {\n",
      "            \"type\": \"text\",\n",
      "            \"id\": \"province_of_isolation\"\n",
      "         },\n",
      "         {\n",
      "            \"type\": \"text\",\n",
      "            \"id\": \"risk\"\n",
      "         },\n",
      "         {\n",
      "            \"type\": \"text\",\n",
      "            \"id\": \"province_of_onset\"\n",
      "         },\n",
      "         {\n",
      "            \"type\": \"text\",\n",
      "            \"id\": \"district_of_onset\"\n",
      "         }\n",
      "      ],\n",
      "      \"records_format\": \"objects\",\n",
      "      \"records\": [\n",
      "         {\n",
      "            \"_id\": 1,\n",
      "            \"No.\": 1859158,\n",
      "            \"announce_date\": \"2021-10-26T00:00:00\",\n",
      "            \"Notified date\": \"2021-10-25T00:00:00\",\n",
      "            \"sex\": \"\\u0e0a\\u0e32\\u0e22\",\n",
      "            \"age\": 20,\n",
      "            \"Unit\": \"\\u0e1b\\u0e35\",\n",
      "            \"nationality\": \"Thailand\",\n",
      "            \"province_of_isolation\": \"\\u0e25\\u0e33\\u0e1b\\u0e32\\u0e07\",\n",
      "            \"risk\": \"\\u0e2d\\u0e37\\u0e48\\u0e19\\u0e46\",\n",
      "            \"province_of_onset\": \"\\u0e25\\u0e33\\u0e1b\\u0e32\\u0e07\",\n",
      "            \"district_of_onset\": \"\\u0e40\\u0e21\\u0e37\\u0e2d\\u0e07\\u0e25\\u0e33\\u0e1b\\u0e32\\u0e07\"\n",
      "         },\n",
      "         {\n",
      "            \"_id\": 2,\n",
      "            \"No.\": 1859159,\n",
      "            \"announce_date\": \"2021-10-26T00:00:00\",\n",
      "            \"Notified date\": \"2021-10-25T00:00:00\",\n",
      "            \"sex\": \"\\u0e2b\\u0e0d\\u0e34\\u0e07\",\n",
      "            \"age\": 42,\n",
      "            \"Unit\": \"\\u0e1b\\u0e35\",\n",
      "            \"nationality\": \"Thailand\",\n",
      "            \"province_of_isolation\": \"\\u0e25\\u0e33\\u0e1b\\u0e32\\u0e07\",\n",
      "            \"risk\": \"\\u0e2d\\u0e37\\u0e48\\u0e19\\u0e46\",\n",
      "            \"province_of_onset\": \"\\u0e25\\u0e33\\u0e1b\\u0e32\\u0e07\",\n",
      "            \"district_of_onset\": \"\\u0e40\\u0e21\\u0e37\\u0e2d\\u0e07\\u0e25\\u0e33\\u0e1b\\u0e32\\u0e07\"\n",
      "         },\n",
      "         {\n",
      "            \"_id\": 3,\n",
      "            \"No.\": 1859160,\n",
      "            \"announce_date\": \"2021-10-26T00:00:00\",\n",
      "            \"Notified date\": \"2021-10-25T00:00:00\",\n",
      "            \"sex\": \"\\u0e2b\\u0e0d\\u0e34\\u0e07\",\n",
      "            \"age\": 33,\n",
      "            \"Unit\": \"\\u0e1b\\u0e35\",\n",
      "            \"nationality\": \"Thailand\",\n",
      "            \"province_of_isolation\": \"\\u0e25\\u0e33\\u0e1b\\u0e32\\u0e07\",\n",
      "            \"risk\": \"\\u0e44\\u0e1b\\u0e2a\\u0e16\\u0e32\\u0e19\\u0e17\\u0e35\\u0e48\\u0e0a\\u0e38\\u0e21\\u0e0a\\u0e19 \\u0e40\\u0e0a\\u0e48\\u0e19 \\u0e15\\u0e25\\u0e32\\u0e14\\u0e19\\u0e31\\u0e14 \\u0e2a\\u0e16\\u0e32\\u0e19\\u0e17\\u0e35\\u0e48\\u0e17\\u0e48\\u0e2d\\u0e07\\u0e40\\u0e17\\u0e35\\u0e48\\u0e22\\u0e27\",\n",
      "            \"province_of_onset\": \"\\u0e25\\u0e33\\u0e1b\\u0e32\\u0e07\",\n",
      "            \"district_of_onset\": \"\\u0e2b\\u0e49\\u0e32\\u0e07\\u0e09\\u0e31\\u0e15\\u0e23\"\n",
      "         },\n",
      "         {\n",
      "            \"_id\": 4,\n",
      "            \"No.\": 1859161,\n",
      "            \"announce_date\": \"2021-10-26T00:00:00\",\n",
      "            \"Notified date\": \"2021-10-25T00:00:00\",\n",
      "            \"sex\": \"\\u0e2b\\u0e0d\\u0e34\\u0e07\",\n",
      "            \"age\": 52,\n",
      "            \"Unit\": \"\\u0e1b\\u0e35\",\n",
      "            \"nationality\": \"Thailand\",\n",
      "            \"province_of_isolation\": \"\\u0e25\\u0e33\\u0e1b\\u0e32\\u0e07\",\n",
      "            \"risk\": \"\\u0e44\\u0e1b\\u0e2a\\u0e16\\u0e32\\u0e19\\u0e17\\u0e35\\u0e48\\u0e0a\\u0e38\\u0e21\\u0e0a\\u0e19 \\u0e40\\u0e0a\\u0e48\\u0e19 \\u0e15\\u0e25\\u0e32\\u0e14\\u0e19\\u0e31\\u0e14 \\u0e2a\\u0e16\\u0e32\\u0e19\\u0e17\\u0e35\\u0e48\\u0e17\\u0e48\\u0e2d\\u0e07\\u0e40\\u0e17\\u0e35\\u0e48\\u0e22\\u0e27\",\n",
      "            \"province_of_onset\": \"\\u0e25\\u0e33\\u0e1b\\u0e32\\u0e07\",\n",
      "            \"district_of_onset\": \"\\u0e2b\\u0e49\\u0e32\\u0e07\\u0e09\\u0e31\\u0e15\\u0e23\"\n",
      "         },\n",
      "         {\n",
      "            \"_id\": 5,\n",
      "            \"No.\": 1859162,\n",
      "            \"announce_date\": \"2021-10-26T00:00:00\",\n",
      "            \"Notified date\": \"2021-10-25T00:00:00\",\n",
      "            \"sex\": \"\\u0e2b\\u0e0d\\u0e34\\u0e07\",\n",
      "            \"age\": 84,\n",
      "            \"Unit\": \"\\u0e1b\\u0e35\",\n",
      "            \"nationality\": \"Thailand\",\n",
      "            \"province_of_isolation\": \"\\u0e25\\u0e33\\u0e1b\\u0e32\\u0e07\",\n",
      "            \"risk\": \"\\u0e2a\\u0e31\\u0e21\\u0e1c\\u0e31\\u0e2a\\u0e43\\u0e01\\u0e25\\u0e49\\u0e0a\\u0e34\\u0e14\\u0e01\\u0e31\\u0e1a\\u0e1c\\u0e39\\u0e49\\u0e1b\\u0e48\\u0e27\\u0e22\\u0e22\\u0e37\\u0e19\\u0e22\\u0e31\\u0e19\\u0e23\\u0e32\\u0e22\\u0e01\\u0e48\\u0e2d\\u0e19\\u0e2b\\u0e19\\u0e49\\u0e32\\u0e19\\u0e35\\u0e49\",\n",
      "            \"province_of_onset\": \"\\u0e25\\u0e33\\u0e1b\\u0e32\\u0e07\",\n",
      "            \"district_of_onset\": \"\\u0e40\\u0e21\\u0e37\\u0e2d\\u0e07\\u0e25\\u0e33\\u0e1b\\u0e32\\u0e07\"\n",
      "         }\n",
      "      ],\n",
      "      \"limit\": 5,\n",
      "      \"_links\": {\n",
      "         \"start\": \"/api/3/action/datastore_search?limit=5&resource_id=1c2f6045-c600-410a-995c-a37a88594ab4\",\n",
      "         \"next\": \"/api/3/action/datastore_search?offset=5&limit=5&resource_id=1c2f6045-c600-410a-995c-a37a88594ab4\"\n",
      "      },\n",
      "      \"total\": 738250\n",
      "   }\n",
      "}\n"
     ]
    }
   ],
   "source": [
    "print(json.dumps(JSON_object, indent=3))"
   ]
  },
  {
   "cell_type": "code",
   "execution_count": 13,
   "id": "f97b5197-539f-4021-a6b3-a58e12433f79",
   "metadata": {},
   "outputs": [],
   "source": [
    "# url = \"https://opend.data.go.th/get-ckan/datastore_search?resource_id=1c2f6045-c600-410a-995c-a37a88594ab4&limit=5\"\n",
    "# req = Request(url)\n",
    "# req.add_header('api-key', token)\n",
    "\n",
    "\n",
    "# print(req.data)\n",
    "# content = urlopen(req).read()\n",
    "# urlopen(req)\n",
    "# fileobj = urlopen(url)\n",
    "# print(fileobj)\n",
    "# encoding = urlopen(req).info().get_content_charset('utf-8')\n",
    "\n",
    "\n",
    "# JSON_object = json.loads(content.decode(encoding))\n",
    "\n",
    "# print(JSON_object)\n"
   ]
  },
  {
   "cell_type": "code",
   "execution_count": null,
   "id": "a9a222de-77f6-42f6-9a96-bd40f98305c7",
   "metadata": {},
   "outputs": [],
   "source": []
  },
  {
   "cell_type": "code",
   "execution_count": 19,
   "id": "55809faf-4cb9-4572-af41-2a28ccb52268",
   "metadata": {},
   "outputs": [
    {
     "name": "stdout",
     "output_type": "stream",
     "text": [
      "{\n",
      "   \"help\": \"https://data.go.th/api/3/action/help_show?name=datastore_search\",\n",
      "   \"success\": true,\n",
      "   \"result\": {\n",
      "      \"include_total\": true,\n",
      "      \"resource_id\": \"1c2f6045-c600-410a-995c-a37a88594ab4\",\n",
      "      \"fields\": [\n",
      "         {\n",
      "            \"type\": \"int\",\n",
      "            \"id\": \"_id\"\n",
      "         },\n",
      "         {\n",
      "            \"type\": \"numeric\",\n",
      "            \"id\": \"No.\"\n",
      "         },\n",
      "         {\n",
      "            \"type\": \"timestamp\",\n",
      "            \"id\": \"announce_date\"\n",
      "         },\n",
      "         {\n",
      "            \"type\": \"timestamp\",\n",
      "            \"id\": \"Notified date\"\n",
      "         },\n",
      "         {\n",
      "            \"type\": \"text\",\n",
      "            \"id\": \"sex\"\n",
      "         },\n",
      "         {\n",
      "            \"type\": \"numeric\",\n",
      "            \"id\": \"age\"\n",
      "         },\n",
      "         {\n",
      "            \"type\": \"text\",\n",
      "            \"id\": \"Unit\"\n",
      "         },\n",
      "         {\n",
      "            \"type\": \"text\",\n",
      "            \"id\": \"nationality\"\n",
      "         },\n",
      "         {\n",
      "            \"type\": \"text\",\n",
      "            \"id\": \"province_of_isolation\"\n",
      "         },\n",
      "         {\n",
      "            \"type\": \"text\",\n",
      "            \"id\": \"risk\"\n",
      "         },\n",
      "         {\n",
      "            \"type\": \"text\",\n",
      "            \"id\": \"province_of_onset\"\n",
      "         },\n",
      "         {\n",
      "            \"type\": \"text\",\n",
      "            \"id\": \"district_of_onset\"\n",
      "         }\n",
      "      ],\n",
      "      \"records_format\": \"objects\",\n",
      "      \"records\": [\n",
      "         {\n",
      "            \"_id\": 1,\n",
      "            \"No.\": 1859158,\n",
      "            \"announce_date\": \"2021-10-26T00:00:00\",\n",
      "            \"Notified date\": \"2021-10-25T00:00:00\",\n",
      "            \"sex\": \"\\u0e0a\\u0e32\\u0e22\",\n",
      "            \"age\": 20,\n",
      "            \"Unit\": \"\\u0e1b\\u0e35\",\n",
      "            \"nationality\": \"Thailand\",\n",
      "            \"province_of_isolation\": \"\\u0e25\\u0e33\\u0e1b\\u0e32\\u0e07\",\n",
      "            \"risk\": \"\\u0e2d\\u0e37\\u0e48\\u0e19\\u0e46\",\n",
      "            \"province_of_onset\": \"\\u0e25\\u0e33\\u0e1b\\u0e32\\u0e07\",\n",
      "            \"district_of_onset\": \"\\u0e40\\u0e21\\u0e37\\u0e2d\\u0e07\\u0e25\\u0e33\\u0e1b\\u0e32\\u0e07\"\n",
      "         },\n",
      "         {\n",
      "            \"_id\": 2,\n",
      "            \"No.\": 1859159,\n",
      "            \"announce_date\": \"2021-10-26T00:00:00\",\n",
      "            \"Notified date\": \"2021-10-25T00:00:00\",\n",
      "            \"sex\": \"\\u0e2b\\u0e0d\\u0e34\\u0e07\",\n",
      "            \"age\": 42,\n",
      "            \"Unit\": \"\\u0e1b\\u0e35\",\n",
      "            \"nationality\": \"Thailand\",\n",
      "            \"province_of_isolation\": \"\\u0e25\\u0e33\\u0e1b\\u0e32\\u0e07\",\n",
      "            \"risk\": \"\\u0e2d\\u0e37\\u0e48\\u0e19\\u0e46\",\n",
      "            \"province_of_onset\": \"\\u0e25\\u0e33\\u0e1b\\u0e32\\u0e07\",\n",
      "            \"district_of_onset\": \"\\u0e40\\u0e21\\u0e37\\u0e2d\\u0e07\\u0e25\\u0e33\\u0e1b\\u0e32\\u0e07\"\n",
      "         },\n",
      "         {\n",
      "            \"_id\": 3,\n",
      "            \"No.\": 1859160,\n",
      "            \"announce_date\": \"2021-10-26T00:00:00\",\n",
      "            \"Notified date\": \"2021-10-25T00:00:00\",\n",
      "            \"sex\": \"\\u0e2b\\u0e0d\\u0e34\\u0e07\",\n",
      "            \"age\": 33,\n",
      "            \"Unit\": \"\\u0e1b\\u0e35\",\n",
      "            \"nationality\": \"Thailand\",\n",
      "            \"province_of_isolation\": \"\\u0e25\\u0e33\\u0e1b\\u0e32\\u0e07\",\n",
      "            \"risk\": \"\\u0e44\\u0e1b\\u0e2a\\u0e16\\u0e32\\u0e19\\u0e17\\u0e35\\u0e48\\u0e0a\\u0e38\\u0e21\\u0e0a\\u0e19 \\u0e40\\u0e0a\\u0e48\\u0e19 \\u0e15\\u0e25\\u0e32\\u0e14\\u0e19\\u0e31\\u0e14 \\u0e2a\\u0e16\\u0e32\\u0e19\\u0e17\\u0e35\\u0e48\\u0e17\\u0e48\\u0e2d\\u0e07\\u0e40\\u0e17\\u0e35\\u0e48\\u0e22\\u0e27\",\n",
      "            \"province_of_onset\": \"\\u0e25\\u0e33\\u0e1b\\u0e32\\u0e07\",\n",
      "            \"district_of_onset\": \"\\u0e2b\\u0e49\\u0e32\\u0e07\\u0e09\\u0e31\\u0e15\\u0e23\"\n",
      "         },\n",
      "         {\n",
      "            \"_id\": 4,\n",
      "            \"No.\": 1859161,\n",
      "            \"announce_date\": \"2021-10-26T00:00:00\",\n",
      "            \"Notified date\": \"2021-10-25T00:00:00\",\n",
      "            \"sex\": \"\\u0e2b\\u0e0d\\u0e34\\u0e07\",\n",
      "            \"age\": 52,\n",
      "            \"Unit\": \"\\u0e1b\\u0e35\",\n",
      "            \"nationality\": \"Thailand\",\n",
      "            \"province_of_isolation\": \"\\u0e25\\u0e33\\u0e1b\\u0e32\\u0e07\",\n",
      "            \"risk\": \"\\u0e44\\u0e1b\\u0e2a\\u0e16\\u0e32\\u0e19\\u0e17\\u0e35\\u0e48\\u0e0a\\u0e38\\u0e21\\u0e0a\\u0e19 \\u0e40\\u0e0a\\u0e48\\u0e19 \\u0e15\\u0e25\\u0e32\\u0e14\\u0e19\\u0e31\\u0e14 \\u0e2a\\u0e16\\u0e32\\u0e19\\u0e17\\u0e35\\u0e48\\u0e17\\u0e48\\u0e2d\\u0e07\\u0e40\\u0e17\\u0e35\\u0e48\\u0e22\\u0e27\",\n",
      "            \"province_of_onset\": \"\\u0e25\\u0e33\\u0e1b\\u0e32\\u0e07\",\n",
      "            \"district_of_onset\": \"\\u0e2b\\u0e49\\u0e32\\u0e07\\u0e09\\u0e31\\u0e15\\u0e23\"\n",
      "         },\n",
      "         {\n",
      "            \"_id\": 5,\n",
      "            \"No.\": 1859162,\n",
      "            \"announce_date\": \"2021-10-26T00:00:00\",\n",
      "            \"Notified date\": \"2021-10-25T00:00:00\",\n",
      "            \"sex\": \"\\u0e2b\\u0e0d\\u0e34\\u0e07\",\n",
      "            \"age\": 84,\n",
      "            \"Unit\": \"\\u0e1b\\u0e35\",\n",
      "            \"nationality\": \"Thailand\",\n",
      "            \"province_of_isolation\": \"\\u0e25\\u0e33\\u0e1b\\u0e32\\u0e07\",\n",
      "            \"risk\": \"\\u0e2a\\u0e31\\u0e21\\u0e1c\\u0e31\\u0e2a\\u0e43\\u0e01\\u0e25\\u0e49\\u0e0a\\u0e34\\u0e14\\u0e01\\u0e31\\u0e1a\\u0e1c\\u0e39\\u0e49\\u0e1b\\u0e48\\u0e27\\u0e22\\u0e22\\u0e37\\u0e19\\u0e22\\u0e31\\u0e19\\u0e23\\u0e32\\u0e22\\u0e01\\u0e48\\u0e2d\\u0e19\\u0e2b\\u0e19\\u0e49\\u0e32\\u0e19\\u0e35\\u0e49\",\n",
      "            \"province_of_onset\": \"\\u0e25\\u0e33\\u0e1b\\u0e32\\u0e07\",\n",
      "            \"district_of_onset\": \"\\u0e40\\u0e21\\u0e37\\u0e2d\\u0e07\\u0e25\\u0e33\\u0e1b\\u0e32\\u0e07\"\n",
      "         }\n",
      "      ],\n",
      "      \"limit\": 5,\n",
      "      \"_links\": {\n",
      "         \"start\": \"/api/3/action/datastore_search?limit=5&resource_id=1c2f6045-c600-410a-995c-a37a88594ab4\",\n",
      "         \"next\": \"/api/3/action/datastore_search?offset=5&limit=5&resource_id=1c2f6045-c600-410a-995c-a37a88594ab4\"\n",
      "      },\n",
      "      \"total\": 738250\n",
      "   }\n",
      "}\n"
     ]
    }
   ],
   "source": [
    "import json\n",
    "from urllib.request import Request, urlopen\n",
    "\n",
    "token = \"QSnyKZoHrMzlXHtbo5xd3BtBuM6l9Y04\"\n",
    "resource_id = \"1c2f6045-c600-410a-995c-a37a88594ab4\"\n",
    "url = \"https://opend.data.go.th/get-ckan/datastore_search?resource_id={}&limit=5\".format(resource_id)\n",
    "\n",
    "\n",
    "req = Request(url)\n",
    "req.add_header('api-key', token)\n",
    "\n",
    "\n",
    "content = urlopen(req).read()\n",
    "\n",
    "encoding = urlopen(req).info().get_content_charset('utf-8')\n",
    "\n",
    "JSON_object = json.loads(content.decode(encoding))\n",
    "\n",
    "print(json.dumps(JSON_object, indent=3))"
   ]
  },
  {
   "cell_type": "code",
   "execution_count": null,
   "id": "cd7785c3-654e-4e14-a94e-7a99e85c01ce",
   "metadata": {},
   "outputs": [],
   "source": []
  }
 ],
 "metadata": {
  "kernelspec": {
   "display_name": "Python 3 (ipykernel)",
   "language": "python",
   "name": "python3"
  },
  "language_info": {
   "codemirror_mode": {
    "name": "ipython",
    "version": 3
   },
   "file_extension": ".py",
   "mimetype": "text/x-python",
   "name": "python",
   "nbconvert_exporter": "python",
   "pygments_lexer": "ipython3",
   "version": "3.9.12"
  }
 },
 "nbformat": 4,
 "nbformat_minor": 5
}
